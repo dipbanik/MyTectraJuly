{
  "nbformat": 4,
  "nbformat_minor": 0,
  "metadata": {
    "colab": {
      "name": "Classification with SVM.ipynb",
      "version": "0.3.2",
      "provenance": [],
      "collapsed_sections": [],
      "include_colab_link": true
    },
    "kernelspec": {
      "name": "python3",
      "display_name": "Python 3"
    },
    "accelerator": "GPU"
  },
  "cells": [
    {
      "cell_type": "markdown",
      "metadata": {
        "id": "view-in-github",
        "colab_type": "text"
      },
      "source": [
        "<a href=\"https://colab.research.google.com/github/dipbanik/MyTectraJuly/blob/master/Classification/Classification_with_SVM.ipynb\" target=\"_parent\"><img src=\"https://colab.research.google.com/assets/colab-badge.svg\" alt=\"Open In Colab\"/></a>"
      ]
    },
    {
      "cell_type": "code",
      "metadata": {
        "id": "kc2z_HvidNVW",
        "colab_type": "code",
        "outputId": "cc948897-0ac4-49fd-eebe-db97c93aff2d",
        "colab": {
          "base_uri": "https://localhost:8080/",
          "height": 51
        }
      },
      "source": [
        "from sklearn.datasets import fetch_20newsgroups\n",
        "twenty_train = fetch_20newsgroups(subset='train', shuffle=True)"
      ],
      "execution_count": 0,
      "outputs": [
        {
          "output_type": "stream",
          "text": [
            "Downloading 20news dataset. This may take a few minutes.\n",
            "Downloading dataset from https://ndownloader.figshare.com/files/5975967 (14 MB)\n"
          ],
          "name": "stderr"
        }
      ]
    },
    {
      "cell_type": "code",
      "metadata": {
        "id": "H93ZdAO5dcQL",
        "colab_type": "code",
        "outputId": "c0484a86-acdb-4317-9ab7-b90f289298e3",
        "colab": {
          "base_uri": "https://localhost:8080/",
          "height": 34
        }
      },
      "source": [
        "twenty_train.keys()"
      ],
      "execution_count": 0,
      "outputs": [
        {
          "output_type": "execute_result",
          "data": {
            "text/plain": [
              "dict_keys(['data', 'filenames', 'target_names', 'target', 'DESCR', 'description'])"
            ]
          },
          "metadata": {
            "tags": []
          },
          "execution_count": 6
        }
      ]
    },
    {
      "cell_type": "code",
      "metadata": {
        "id": "ZFkMRNraeC1u",
        "colab_type": "code",
        "outputId": "261ac05c-ed7b-4e20-b5c7-739f6c03f80c",
        "colab": {
          "base_uri": "https://localhost:8080/",
          "height": 391
        }
      },
      "source": [
        "print(twenty_train.data[0])"
      ],
      "execution_count": 0,
      "outputs": [
        {
          "output_type": "stream",
          "text": [
            "From: lerxst@wam.umd.edu (where's my thing)\n",
            "Subject: WHAT car is this!?\n",
            "Nntp-Posting-Host: rac3.wam.umd.edu\n",
            "Organization: University of Maryland, College Park\n",
            "Lines: 15\n",
            "\n",
            " I was wondering if anyone out there could enlighten me on this car I saw\n",
            "the other day. It was a 2-door sports car, looked to be from the late 60s/\n",
            "early 70s. It was called a Bricklin. The doors were really small. In addition,\n",
            "the front bumper was separate from the rest of the body. This is \n",
            "all I know. If anyone can tellme a model name, engine specs, years\n",
            "of production, where this car is made, history, or whatever info you\n",
            "have on this funky looking car, please e-mail.\n",
            "\n",
            "Thanks,\n",
            "- IL\n",
            "   ---- brought to you by your neighborhood Lerxst ----\n",
            "\n",
            "\n",
            "\n",
            "\n",
            "\n"
          ],
          "name": "stdout"
        }
      ]
    },
    {
      "cell_type": "code",
      "metadata": {
        "id": "Blsr9_KOeNVt",
        "colab_type": "code",
        "outputId": "c5a0ede3-9d82-4b2b-908d-105cb64e6619",
        "colab": {
          "base_uri": "https://localhost:8080/",
          "height": 357
        }
      },
      "source": [
        "twenty_train.target_names"
      ],
      "execution_count": 0,
      "outputs": [
        {
          "output_type": "execute_result",
          "data": {
            "text/plain": [
              "['alt.atheism',\n",
              " 'comp.graphics',\n",
              " 'comp.os.ms-windows.misc',\n",
              " 'comp.sys.ibm.pc.hardware',\n",
              " 'comp.sys.mac.hardware',\n",
              " 'comp.windows.x',\n",
              " 'misc.forsale',\n",
              " 'rec.autos',\n",
              " 'rec.motorcycles',\n",
              " 'rec.sport.baseball',\n",
              " 'rec.sport.hockey',\n",
              " 'sci.crypt',\n",
              " 'sci.electronics',\n",
              " 'sci.med',\n",
              " 'sci.space',\n",
              " 'soc.religion.christian',\n",
              " 'talk.politics.guns',\n",
              " 'talk.politics.mideast',\n",
              " 'talk.politics.misc',\n",
              " 'talk.religion.misc']"
            ]
          },
          "metadata": {
            "tags": []
          },
          "execution_count": 8
        }
      ]
    },
    {
      "cell_type": "code",
      "metadata": {
        "id": "sq0KGMN6eVue",
        "colab_type": "code",
        "outputId": "4e2a53b7-b52c-45d8-ee0a-187f12b0d268",
        "colab": {
          "base_uri": "https://localhost:8080/",
          "height": 34
        }
      },
      "source": [
        "twenty_train.target"
      ],
      "execution_count": 0,
      "outputs": [
        {
          "output_type": "execute_result",
          "data": {
            "text/plain": [
              "array([7, 4, 4, ..., 3, 1, 8])"
            ]
          },
          "metadata": {
            "tags": []
          },
          "execution_count": 9
        }
      ]
    },
    {
      "cell_type": "code",
      "metadata": {
        "id": "RysUfn7Iehwp",
        "colab_type": "code",
        "outputId": "d8548554-dc1c-418f-bf2b-56190873671c",
        "colab": {
          "base_uri": "https://localhost:8080/",
          "height": 34
        }
      },
      "source": [
        "from sklearn.feature_extraction.text import CountVectorizer\n",
        "\n",
        "count_vect = CountVectorizer()\n",
        "\n",
        "x_train_counts = count_vect.fit_transform(twenty_train.data)\n",
        "x_train_counts.shape"
      ],
      "execution_count": 0,
      "outputs": [
        {
          "output_type": "execute_result",
          "data": {
            "text/plain": [
              "(11314, 130107)"
            ]
          },
          "metadata": {
            "tags": []
          },
          "execution_count": 10
        }
      ]
    },
    {
      "cell_type": "code",
      "metadata": {
        "id": "i08CnY7Ne1S0",
        "colab_type": "code",
        "outputId": "031521a0-0b38-41ad-9858-0a1269e6969e",
        "colab": {
          "base_uri": "https://localhost:8080/",
          "height": 884
        }
      },
      "source": [
        "print(x_train_counts[0])"
      ],
      "execution_count": 0,
      "outputs": [
        {
          "output_type": "stream",
          "text": [
            "  (0, 86580)\t1\n",
            "  (0, 128420)\t1\n",
            "  (0, 35983)\t1\n",
            "  (0, 35187)\t1\n",
            "  (0, 66098)\t1\n",
            "  (0, 114428)\t1\n",
            "  (0, 78955)\t1\n",
            "  (0, 94362)\t1\n",
            "  (0, 76722)\t1\n",
            "  (0, 57308)\t1\n",
            "  (0, 62221)\t1\n",
            "  (0, 128402)\t2\n",
            "  (0, 67156)\t1\n",
            "  (0, 123989)\t1\n",
            "  (0, 90252)\t1\n",
            "  (0, 63363)\t1\n",
            "  (0, 78784)\t1\n",
            "  (0, 96144)\t1\n",
            "  (0, 128026)\t1\n",
            "  (0, 109271)\t1\n",
            "  (0, 51730)\t1\n",
            "  (0, 86001)\t1\n",
            "  (0, 83256)\t1\n",
            "  (0, 113986)\t1\n",
            "  (0, 37565)\t1\n",
            "  :\t:\n",
            "  (0, 4605)\t1\n",
            "  (0, 76032)\t1\n",
            "  (0, 92081)\t1\n",
            "  (0, 40998)\t1\n",
            "  (0, 79666)\t1\n",
            "  (0, 89362)\t3\n",
            "  (0, 118983)\t1\n",
            "  (0, 90379)\t1\n",
            "  (0, 98949)\t1\n",
            "  (0, 64095)\t1\n",
            "  (0, 95162)\t1\n",
            "  (0, 87620)\t1\n",
            "  (0, 114731)\t5\n",
            "  (0, 68532)\t3\n",
            "  (0, 37780)\t5\n",
            "  (0, 123984)\t1\n",
            "  (0, 111322)\t1\n",
            "  (0, 114688)\t1\n",
            "  (0, 85354)\t1\n",
            "  (0, 124031)\t2\n",
            "  (0, 50527)\t2\n",
            "  (0, 118280)\t2\n",
            "  (0, 123162)\t2\n",
            "  (0, 75358)\t2\n",
            "  (0, 56979)\t3\n"
          ],
          "name": "stdout"
        }
      ]
    },
    {
      "cell_type": "code",
      "metadata": {
        "id": "h1FQKNQ0e5Wk",
        "colab_type": "code",
        "outputId": "c2b95e4c-afd6-45bd-cec4-a98ac454095a",
        "colab": {
          "base_uri": "https://localhost:8080/",
          "height": 34
        }
      },
      "source": [
        "from sklearn.feature_extraction.text import TfidfTransformer\n",
        "\n",
        "tfidf_transformer = TfidfTransformer()\n",
        "\n",
        "x_train_tfidf = tfidf_transformer.fit_transform(x_train_counts)\n",
        "x_train_tfidf.shape"
      ],
      "execution_count": 0,
      "outputs": [
        {
          "output_type": "execute_result",
          "data": {
            "text/plain": [
              "(11314, 130107)"
            ]
          },
          "metadata": {
            "tags": []
          },
          "execution_count": 13
        }
      ]
    },
    {
      "cell_type": "code",
      "metadata": {
        "id": "caaMz1RWgEQH",
        "colab_type": "code",
        "outputId": "dbc26edc-0853-48ba-e47c-fbcab662e701",
        "colab": {
          "base_uri": "https://localhost:8080/",
          "height": 884
        }
      },
      "source": [
        "print(x_train_tfidf[0])"
      ],
      "execution_count": 0,
      "outputs": [
        {
          "output_type": "stream",
          "text": [
            "  (0, 56979)\t0.0574701540748513\n",
            "  (0, 75358)\t0.3538350134970617\n",
            "  (0, 123162)\t0.25970902457356887\n",
            "  (0, 118280)\t0.21186807208281694\n",
            "  (0, 50527)\t0.05461428658858725\n",
            "  (0, 124031)\t0.10798795154169123\n",
            "  (0, 85354)\t0.03696978508816317\n",
            "  (0, 114688)\t0.06214070986309587\n",
            "  (0, 111322)\t0.019156718024950434\n",
            "  (0, 123984)\t0.036854292634593756\n",
            "  (0, 37780)\t0.3813389125949312\n",
            "  (0, 68532)\t0.07325812342131598\n",
            "  (0, 114731)\t0.1444727551278406\n",
            "  (0, 87620)\t0.0356718631408158\n",
            "  (0, 95162)\t0.03447138409326312\n",
            "  (0, 64095)\t0.035420924271313554\n",
            "  (0, 98949)\t0.16068606055394935\n",
            "  (0, 90379)\t0.01992885995664587\n",
            "  (0, 118983)\t0.03708597805061915\n",
            "  (0, 89362)\t0.06521174306303765\n",
            "  (0, 79666)\t0.10936401252414275\n",
            "  (0, 40998)\t0.07801368196918111\n",
            "  (0, 92081)\t0.09913274493911224\n",
            "  (0, 76032)\t0.01921946305222309\n",
            "  (0, 4605)\t0.06332603952480324\n",
            "  :\t:\n",
            "  (0, 37565)\t0.03431760442478462\n",
            "  (0, 113986)\t0.17691750674853085\n",
            "  (0, 83256)\t0.08844382496462175\n",
            "  (0, 86001)\t0.07000411445838192\n",
            "  (0, 51730)\t0.09714744057976724\n",
            "  (0, 109271)\t0.10844724822064675\n",
            "  (0, 128026)\t0.06062209588975889\n",
            "  (0, 96144)\t0.10826904490745742\n",
            "  (0, 78784)\t0.0633940918806495\n",
            "  (0, 63363)\t0.08342748387969037\n",
            "  (0, 90252)\t0.03188936879541757\n",
            "  (0, 123989)\t0.08207027465330355\n",
            "  (0, 67156)\t0.0731344392274018\n",
            "  (0, 128402)\t0.059222940832778424\n",
            "  (0, 62221)\t0.029215279924278678\n",
            "  (0, 57308)\t0.15587170091577043\n",
            "  (0, 76722)\t0.06908779999621749\n",
            "  (0, 94362)\t0.05545703139014723\n",
            "  (0, 78955)\t0.059898568880615996\n",
            "  (0, 114428)\t0.05511105154696677\n",
            "  (0, 66098)\t0.09785515708314482\n",
            "  (0, 35187)\t0.09353930598317126\n",
            "  (0, 35983)\t0.037704485636198756\n",
            "  (0, 128420)\t0.042784990792830935\n",
            "  (0, 86580)\t0.1315711871424099\n"
          ],
          "name": "stdout"
        }
      ]
    },
    {
      "cell_type": "code",
      "metadata": {
        "id": "qdAgKZcigIS4",
        "colab_type": "code",
        "outputId": "d1cbe768-b9b2-4ad6-b9d7-65b012edb308",
        "colab": {
          "base_uri": "https://localhost:8080/",
          "height": 85
        }
      },
      "source": [
        "from sklearn.svm import LinearSVC\n",
        "\n",
        "clf_svc = LinearSVC(penalty='l2', dual=False, tol=1e-3)\n",
        "clf_svc.fit(x_train_tfidf, twenty_train.target)"
      ],
      "execution_count": 0,
      "outputs": [
        {
          "output_type": "execute_result",
          "data": {
            "text/plain": [
              "LinearSVC(C=1.0, class_weight=None, dual=False, fit_intercept=True,\n",
              "     intercept_scaling=1, loss='squared_hinge', max_iter=1000,\n",
              "     multi_class='ovr', penalty='l2', random_state=None, tol=0.001,\n",
              "     verbose=0)"
            ]
          },
          "metadata": {
            "tags": []
          },
          "execution_count": 17
        }
      ]
    },
    {
      "cell_type": "code",
      "metadata": {
        "id": "TJhQCoGCgZyI",
        "colab_type": "code",
        "colab": {}
      },
      "source": [
        "from sklearn.pipeline import Pipeline\n",
        "\n",
        "clf_svc_pipeline = Pipeline([\n",
        "    ('vect', CountVectorizer()),\n",
        "    ('tfidf',TfidfTransformer()),\n",
        "    ('clf',LinearSVC(penalty='l2', dual = False, tol = 0.001))\n",
        "])"
      ],
      "execution_count": 0,
      "outputs": []
    },
    {
      "cell_type": "code",
      "metadata": {
        "id": "8HcVIh2BhInK",
        "colab_type": "code",
        "outputId": "f10a7587-0536-48a2-c56c-9afde68be9b7",
        "colab": {
          "base_uri": "https://localhost:8080/",
          "height": 173
        }
      },
      "source": [
        "clf_svc_pipeline.fit(twenty_train.data,twenty_train.target)"
      ],
      "execution_count": 0,
      "outputs": [
        {
          "output_type": "execute_result",
          "data": {
            "text/plain": [
              "Pipeline(memory=None,\n",
              "     steps=[('vect', CountVectorizer(analyzer='word', binary=False, decode_error='strict',\n",
              "        dtype=<class 'numpy.int64'>, encoding='utf-8', input='content',\n",
              "        lowercase=True, max_df=1.0, max_features=None, min_df=1,\n",
              "        ngram_range=(1, 1), preprocessor=None, stop_words=None,\n",
              "        strip...max_iter=1000,\n",
              "     multi_class='ovr', penalty='l2', random_state=None, tol=0.001,\n",
              "     verbose=0))])"
            ]
          },
          "metadata": {
            "tags": []
          },
          "execution_count": 19
        }
      ]
    },
    {
      "cell_type": "code",
      "metadata": {
        "id": "r33e7JrFhgmE",
        "colab_type": "code",
        "colab": {}
      },
      "source": [
        "twenty_test = fetch_20newsgroups(subset = 'test', shuffle=True)"
      ],
      "execution_count": 0,
      "outputs": []
    },
    {
      "cell_type": "code",
      "metadata": {
        "id": "WtMFr-QChuEX",
        "colab_type": "code",
        "colab": {}
      },
      "source": [
        "predicted = clf_svc_pipeline.predict(twenty_test.data)"
      ],
      "execution_count": 0,
      "outputs": []
    },
    {
      "cell_type": "code",
      "metadata": {
        "id": "Beq9NPTVhywe",
        "colab_type": "code",
        "colab": {}
      },
      "source": [
        "from sklearn.metrics import accuracy_score\n",
        "acc_svm = accuracy_score(twenty_test.target, predicted)"
      ],
      "execution_count": 0,
      "outputs": []
    },
    {
      "cell_type": "code",
      "metadata": {
        "id": "tqj5H51Uh8k7",
        "colab_type": "code",
        "outputId": "f2d32fee-e1bc-4946-c301-a2d0874347ac",
        "colab": {
          "base_uri": "https://localhost:8080/",
          "height": 34
        }
      },
      "source": [
        "acc_svm"
      ],
      "execution_count": 0,
      "outputs": [
        {
          "output_type": "execute_result",
          "data": {
            "text/plain": [
              "0.8531598513011153"
            ]
          },
          "metadata": {
            "tags": []
          },
          "execution_count": 24
        }
      ]
    },
    {
      "cell_type": "code",
      "metadata": {
        "id": "oMQJ6P-mh-SR",
        "colab_type": "code",
        "colab": {}
      },
      "source": [
        ""
      ],
      "execution_count": 0,
      "outputs": []
    }
  ]
}