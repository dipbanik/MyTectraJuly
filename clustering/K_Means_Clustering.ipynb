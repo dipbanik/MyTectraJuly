{
  "nbformat": 4,
  "nbformat_minor": 0,
  "metadata": {
    "colab": {
      "name": "K_Means_Clustering.ipynb",
      "version": "0.3.2",
      "provenance": [],
      "collapsed_sections": []
    },
    "kernelspec": {
      "name": "python3",
      "display_name": "Python 3"
    }
  },
  "cells": [
    {
      "cell_type": "markdown",
      "metadata": {
        "id": "bu9Bs6IsJ_sy",
        "colab_type": "text"
      },
      "source": [
        "## K-Means Clustering\n",
        "K-Means Clusterin is one of the most basic but popular forms of clustering.\n",
        "\n",
        "You have to provide the number of clusters that you want to form.\n",
        "\n",
        "The algorithm will try to form those number of clusters with the available data in the dataset.\n",
        "\n",
        "It halts creating and optimizing clusters when either:\n",
        "\n",
        "1. The centroids have stabilized — there is no change in their values because the clustering has been successful.\n",
        "\n",
        "2. The defined number of iterations has been achieved.\n",
        "\n",
        "Keep in mind that the clusters are assumed to be spherical and evenly sized, which is why in complex problems some other algorithms can achieve better results. "
      ]
    },
    {
      "cell_type": "markdown",
      "metadata": {
        "id": "mERk-Jhfu7yZ",
        "colab_type": "text"
      },
      "source": [
        "Step 1 : Choose the number K of clusters\n",
        "\n",
        "Step 2: Select at random K points, the centroids, not necessarily from your dataset.\n",
        "\n",
        "Step 3: Assign each data point to the closest centroid - that forms K clusters\n",
        "\n",
        "Step 4: Compute and place the new centroid of each cluster\n",
        "\n",
        "Step 5: Reassign each data point to the new closest centroid.\n",
        "        If any reassignment took place, go to Step 4, otherwise finish as model is ready"
      ]
    },
    {
      "cell_type": "code",
      "metadata": {
        "id": "i9XOYCpcu6-H",
        "colab_type": "code",
        "colab": {}
      },
      "source": [
        ""
      ],
      "execution_count": 0,
      "outputs": []
    },
    {
      "cell_type": "code",
      "metadata": {
        "id": "XDKo8z34Ib7Q",
        "colab_type": "code",
        "colab": {}
      },
      "source": [
        "import pandas as pd\n",
        "import numpy as np\n",
        "import matplotlib.pyplot as plt\n",
        "from sklearn.cluster import KMeans"
      ],
      "execution_count": 0,
      "outputs": []
    },
    {
      "cell_type": "code",
      "metadata": {
        "id": "qfaKHua6Iebf",
        "colab_type": "code",
        "outputId": "c22196b4-dafa-46f2-8807-d3715b7385da",
        "colab": {
          "base_uri": "https://localhost:8080/",
          "height": 268
        }
      },
      "source": [
        "X= -2 * np.random.rand(100,2)\n",
        "X1 = 1 + 2 * np.random.rand(50,2)\n",
        "X[50:100, :] = X1\n",
        "plt.scatter(X[ : , 0], X[ :, 1], s = 50)\n",
        "plt.show()"
      ],
      "execution_count": 2,
      "outputs": [
        {
          "output_type": "display_data",
          "data": {
            "image/png": "[encoded data removed]",
            "text/plain": [
              "<Figure size 432x288 with 1 Axes>"
            ]
          },
          "metadata": {
            "tags": []
          }
        }
      ]
    },
    {
      "cell_type": "code",
      "metadata": {
        "id": "yjAH3qOEeGFE",
        "colab_type": "code",
        "colab": {
          "base_uri": "https://localhost:8080/",
          "height": 1000
        },
        "outputId": "0b267a54-2aa3-4cc6-a218-e1b9cc84ca0e"
      },
      "source": [
        "X"
      ],
      "execution_count": 3,
      "outputs": [
        {
          "output_type": "execute_result",
          "data": {
            "text/plain": [
              "array([[-0.83406341, -1.69981301],\n",
              "       [-0.04447212, -1.86067058],\n",
              "       [-0.7088849 , -1.89957301],\n",
              "       [-1.26563768, -0.57438964],\n",
              "       [-0.42782299, -1.56996407],\n",
              "       [-1.64563023, -0.99864553],\n",
              "       [-0.84242928, -0.99205484],\n",
              "       [-0.97131758, -1.45296988],\n",
              "       [-1.46731048, -1.32922432],\n",
              "       [-0.60792796, -1.32290482],\n",
              "       [-0.20387995, -0.15672631],\n",
              "       [-1.26856785, -1.77842577],\n",
              "       [-1.07345422, -0.9510755 ],\n",
              "       [-0.34850539, -0.11061384],\n",
              "       [-0.09228948, -0.39982551],\n",
              "       [-1.20768533, -0.72165096],\n",
              "       [-0.21009111, -0.02773326],\n",
              "       [-0.32628092, -1.76020841],\n",
              "       [-1.22655165, -1.65088263],\n",
              "       [-1.42476815, -0.35121441],\n",
              "       [-0.54643788, -1.86144925],\n",
              "       [-0.91091215, -0.46589793],\n",
              "       [-0.41261746, -0.4978674 ],\n",
              "       [-0.5390542 , -1.8740866 ],\n",
              "       [-1.92874936, -1.10180572],\n",
              "       [-1.57509044, -0.87360481],\n",
              "       [-1.4484551 , -1.16984037],\n",
              "       [-1.50521005, -0.78185406],\n",
              "       [-1.86556758, -1.43526721],\n",
              "       [-1.77377337, -1.81683631],\n",
              "       [-1.61721381, -0.286467  ],\n",
              "       [-1.53255013, -1.06402585],\n",
              "       [-0.49209963, -1.59231831],\n",
              "       [-0.39242069, -0.00757316],\n",
              "       [-1.05716841, -1.80932297],\n",
              "       [-0.40286135, -0.94897302],\n",
              "       [-0.08391639, -0.90784256],\n",
              "       [-0.65056832, -1.90477743],\n",
              "       [-0.50145134, -1.8143574 ],\n",
              "       [-0.65641053, -1.93174024],\n",
              "       [-0.30240488, -0.18702819],\n",
              "       [-0.01033707, -1.53077415],\n",
              "       [-1.52777286, -0.67081495],\n",
              "       [-0.8694334 , -1.11666009],\n",
              "       [-0.18628884, -1.79228707],\n",
              "       [-1.63613672, -1.76279088],\n",
              "       [-1.95988147, -1.74349422],\n",
              "       [-0.11964107, -1.9461212 ],\n",
              "       [-0.05711334, -1.5346796 ],\n",
              "       [-0.20033234, -0.39903812],\n",
              "       [ 2.08757891,  2.47786938],\n",
              "       [ 2.06384688,  2.00241758],\n",
              "       [ 2.68365509,  1.27487504],\n",
              "       [ 2.32141368,  1.49405705],\n",
              "       [ 2.05705415,  1.91913528],\n",
              "       [ 1.13132083,  2.80221699],\n",
              "       [ 2.52375613,  1.59356011],\n",
              "       [ 2.9756359 ,  1.59716646],\n",
              "       [ 1.83095885,  1.83585997],\n",
              "       [ 2.31661096,  1.76606358],\n",
              "       [ 2.01216889,  2.06404999],\n",
              "       [ 2.86251712,  2.37826205],\n",
              "       [ 1.0641962 ,  1.22404057],\n",
              "       [ 2.52923604,  1.54385367],\n",
              "       [ 2.66443669,  2.17691599],\n",
              "       [ 1.45169277,  1.59256386],\n",
              "       [ 2.8655524 ,  1.10470923],\n",
              "       [ 1.33320634,  1.82112426],\n",
              "       [ 1.47406271,  2.03525865],\n",
              "       [ 2.35228425,  2.43010509],\n",
              "       [ 2.24782508,  2.33599071],\n",
              "       [ 1.94074831,  2.75651217],\n",
              "       [ 2.08117763,  2.52333149],\n",
              "       [ 2.62807903,  2.18952924],\n",
              "       [ 1.24419793,  2.76738507],\n",
              "       [ 1.81031287,  2.52429162],\n",
              "       [ 1.70301243,  2.4447946 ],\n",
              "       [ 2.12829073,  2.89598453],\n",
              "       [ 1.6250277 ,  1.71921558],\n",
              "       [ 2.14866413,  2.07661622],\n",
              "       [ 1.11961338,  2.11986562],\n",
              "       [ 2.97898462,  1.6819542 ],\n",
              "       [ 1.66411925,  1.2968625 ],\n",
              "       [ 2.30833088,  2.0676501 ],\n",
              "       [ 1.87371814,  1.75272199],\n",
              "       [ 1.652524  ,  2.40856184],\n",
              "       [ 1.44734938,  2.65356331],\n",
              "       [ 1.91270793,  2.56940134],\n",
              "       [ 1.9499549 ,  1.71682642],\n",
              "       [ 1.71757334,  1.45444066],\n",
              "       [ 1.80296542,  1.41918478],\n",
              "       [ 1.52958729,  2.79994369],\n",
              "       [ 2.9931601 ,  2.36897444],\n",
              "       [ 2.76686838,  1.05346326],\n",
              "       [ 1.42612506,  2.99889565],\n",
              "       [ 2.45636172,  2.01098051],\n",
              "       [ 2.08788307,  2.91159427],\n",
              "       [ 2.41432075,  2.36976632],\n",
              "       [ 1.99508721,  2.20782331],\n",
              "       [ 1.45439945,  1.31548042]])"
            ]
          },
          "metadata": {
            "tags": []
          },
          "execution_count": 3
        }
      ]
    },
    {
      "cell_type": "code",
      "metadata": {
        "id": "NjXtMoDmIiJh",
        "colab_type": "code",
        "outputId": "3a06cca7-ff5e-4c88-b6ae-604f5b303503",
        "colab": {
          "base_uri": "https://localhost:8080/",
          "height": 70
        }
      },
      "source": [
        "from sklearn.cluster import KMeans\n",
        "Kmean = KMeans(n_clusters=2)\n",
        "Kmean.fit(X)"
      ],
      "execution_count": 4,
      "outputs": [
        {
          "output_type": "execute_result",
          "data": {
            "text/plain": [
              "KMeans(algorithm='auto', copy_x=True, init='k-means++', max_iter=300,\n",
              "       n_clusters=2, n_init=10, n_jobs=None, precompute_distances='auto',\n",
              "       random_state=None, tol=0.0001, verbose=0)"
            ]
          },
          "metadata": {
            "tags": []
          },
          "execution_count": 4
        }
      ]
    },
    {
      "cell_type": "code",
      "metadata": {
        "id": "AJIzM5_6ehBZ",
        "colab_type": "code",
        "colab": {}
      },
      "source": [
        "?KMeans()"
      ],
      "execution_count": 0,
      "outputs": []
    },
    {
      "cell_type": "code",
      "metadata": {
        "id": "_Hp4wkkMIz4S",
        "colab_type": "code",
        "outputId": "6893171f-46d2-46ca-8c84-2f29331af3af",
        "colab": {
          "base_uri": "https://localhost:8080/",
          "height": 52
        }
      },
      "source": [
        "# finds the centre of the clusters\n",
        "Kmean.cluster_centers_"
      ],
      "execution_count": 6,
      "outputs": [
        {
          "output_type": "execute_result",
          "data": {
            "text/plain": [
              "array([[-0.85918882, -1.16876325],\n",
              "       [ 2.0342031 ,  2.05091421]])"
            ]
          },
          "metadata": {
            "tags": []
          },
          "execution_count": 6
        }
      ]
    },
    {
      "cell_type": "code",
      "metadata": {
        "id": "S2wKxecfI7nB",
        "colab_type": "code",
        "outputId": "70a7c55d-5926-4010-f483-c888f3f9d369",
        "colab": {
          "base_uri": "https://localhost:8080/",
          "height": 268
        }
      },
      "source": [
        "plt.scatter(X[ : , 0], X[ : , 1], s =50)\n",
        "plt.scatter(-0.94665068, -0.97138368, s=200)\n",
        "plt.scatter(2.01559419, 2.02597093, s=200)\n",
        "plt.show()"
      ],
      "execution_count": 7,
      "outputs": [
        {
          "output_type": "display_data",
          "data": {
            "image/png": "[encoded data removed]",
            "text/plain": [
              "<Figure size 432x288 with 1 Axes>"
            ]
          },
          "metadata": {
            "tags": []
          }
        }
      ]
    },
    {
      "cell_type": "code",
      "metadata": {
        "id": "S7LcL-cyJAe_",
        "colab_type": "code",
        "outputId": "0a70f493-c23e-4b8e-fdfc-2716529602fb",
        "colab": {
          "base_uri": "https://localhost:8080/",
          "height": 105
        }
      },
      "source": [
        "#to check how the data in the data set is distributed into which cluster. 0 is for cluster 0 and 1 is for cluster 1\n",
        "Kmean.labels_"
      ],
      "execution_count": 8,
      "outputs": [
        {
          "output_type": "execute_result",
          "data": {
            "text/plain": [
              "array([0, 0, 0, 0, 0, 0, 0, 0, 0, 0, 0, 0, 0, 0, 0, 0, 0, 0, 0, 0, 0, 0,\n",
              "       0, 0, 0, 0, 0, 0, 0, 0, 0, 0, 0, 0, 0, 0, 0, 0, 0, 0, 0, 0, 0, 0,\n",
              "       0, 0, 0, 0, 0, 0, 1, 1, 1, 1, 1, 1, 1, 1, 1, 1, 1, 1, 1, 1, 1, 1,\n",
              "       1, 1, 1, 1, 1, 1, 1, 1, 1, 1, 1, 1, 1, 1, 1, 1, 1, 1, 1, 1, 1, 1,\n",
              "       1, 1, 1, 1, 1, 1, 1, 1, 1, 1, 1, 1], dtype=int32)"
            ]
          },
          "metadata": {
            "tags": []
          },
          "execution_count": 8
        }
      ]
    },
    {
      "cell_type": "code",
      "metadata": {
        "id": "26iI8mHTJYTQ",
        "colab_type": "code",
        "outputId": "f783ed80-a250-43b5-c7fe-b9a6002ea109",
        "colab": {
          "base_uri": "https://localhost:8080/",
          "height": 34
        }
      },
      "source": [
        "#predict which cluster a given datapoint belongs to- \n",
        "sample_test=np.array([0.0,0.8])\n",
        "second_test=sample_test.reshape(1, -1)\n",
        "Kmean.predict(second_test)"
      ],
      "execution_count": 24,
      "outputs": [
        {
          "output_type": "execute_result",
          "data": {
            "text/plain": [
              "array([0], dtype=int32)"
            ]
          },
          "metadata": {
            "tags": []
          },
          "execution_count": 24
        }
      ]
    },
    {
      "cell_type": "code",
      "metadata": {
        "id": "SauXKFUnisd5",
        "colab_type": "code",
        "colab": {
          "base_uri": "https://localhost:8080/",
          "height": 34
        },
        "outputId": "f65a4df6-c087-44ca-89fe-d65a8e6e236d"
      },
      "source": [
        "second_test"
      ],
      "execution_count": 13,
      "outputs": [
        {
          "output_type": "execute_result",
          "data": {
            "text/plain": [
              "array([[-3.,  1.]])"
            ]
          },
          "metadata": {
            "tags": []
          },
          "execution_count": 13
        }
      ]
    },
    {
      "cell_type": "code",
      "metadata": {
        "id": "Ot3MEzx0i842",
        "colab_type": "code",
        "colab": {
          "base_uri": "https://localhost:8080/",
          "height": 34
        },
        "outputId": "5d155020-a1a4-4e05-86cc-d8f2821ab8f9"
      },
      "source": [
        "sample_test"
      ],
      "execution_count": 14,
      "outputs": [
        {
          "output_type": "execute_result",
          "data": {
            "text/plain": [
              "array([-3.,  1.])"
            ]
          },
          "metadata": {
            "tags": []
          },
          "execution_count": 14
        }
      ]
    },
    {
      "cell_type": "markdown",
      "metadata": {
        "id": "bxGG2OCoJkTP",
        "colab_type": "text"
      },
      "source": [
        "It shows that the given datapoint belongs to the 0 cluster(orange)."
      ]
    },
    {
      "cell_type": "code",
      "metadata": {
        "id": "yd7Al4NzJgDH",
        "colab_type": "code",
        "colab": {}
      },
      "source": [
        ""
      ],
      "execution_count": 0,
      "outputs": []
    }
  ]
}