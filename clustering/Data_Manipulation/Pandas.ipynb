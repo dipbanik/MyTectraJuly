{
  "nbformat": 4,
  "nbformat_minor": 0,
  "metadata": {
    "colab": {
      "name": "Pandas - intro.ipynb",
      "version": "0.3.2",
      "provenance": [],
      "collapsed_sections": []
    },
    "kernelspec": {
      "name": "python3",
      "display_name": "Python 3"
    }
  },
  "cells": [
    {
      "cell_type": "markdown",
      "metadata": {
        "id": "8V1J5qQo9gz1",
        "colab_type": "text"
      },
      "source": [
        "Numpy - \n",
        "  np.array\n",
        "  np.ndarray\n",
        "  \n",
        "Pandas -\n",
        "  pd.Series\n",
        "  pd.DataFrame\n",
        "  \n",
        " "
      ]
    },
    {
      "cell_type": "markdown",
      "metadata": {
        "id": "ik7gdtbNPCaA",
        "colab_type": "text"
      },
      "source": [
        "# Pandas data structure\n",
        "* Pandas is built around two collection objects\n",
        "  * DataFrame\n",
        "    * Tabular data structure\n",
        "    * Consists of \n",
        "       * columns (each of which is a series)\n",
        "       * index: name(s) attached to rows\n",
        "       * Can be accessed as collection of rows and/or columns\n",
        "  * Series  \n",
        "    * Similar to a Numpy array\n",
        "    * Consists of a name, values and *index* \n",
        "      * Numpy arrays do not have an index\n",
        "    * The values and indices are themselves Numpy arrays\n",
        "      \n",
        "      "
      ]
    },
    {
      "cell_type": "code",
      "metadata": {
        "id": "584YUg4VPzPL",
        "colab_type": "code",
        "colab": {
          "base_uri": "https://localhost:8080/",
          "height": 243
        },
        "outputId": "bbcaf22f-871c-406e-a7ab-7e7c3b230a87"
      },
      "source": [
        "import pandas as pd\n",
        "\n",
        "# implicit index\n",
        "series = pd.Series([10, 20, 30])\n",
        "print(series)\n",
        "print\n",
        "\n",
        "# explicit index\n",
        "series = pd.Series([0, 1, 2, 3], index=[\"zero\", \"one\", \"two\", \"three\"])\n",
        "print(series)\n",
        "print\n",
        "\n",
        "# implicit index\n",
        "capitals = pd.Series({\n",
        "      'France': 'Paris',\n",
        "      'Japan': 'Tokyo', \n",
        "      'Germany': 'Berlin'})\n",
        "print(capitals)"
      ],
      "execution_count": 1,
      "outputs": [
        {
          "output_type": "stream",
          "text": [
            "0    10\n",
            "1    20\n",
            "2    30\n",
            "dtype: int64\n",
            "zero     0\n",
            "one      1\n",
            "two      2\n",
            "three    3\n",
            "dtype: int64\n",
            "France      Paris\n",
            "Japan       Tokyo\n",
            "Germany    Berlin\n",
            "dtype: object\n"
          ],
          "name": "stdout"
        }
      ]
    },
    {
      "cell_type": "code",
      "metadata": {
        "id": "m4-0vK-NBOvn",
        "colab_type": "code",
        "outputId": "731df8b1-e8bf-46b0-87f5-9a68d5134895",
        "colab": {
          "base_uri": "https://localhost:8080/",
          "height": 102
        }
      },
      "source": [
        "import numpy as np\n",
        "numpy_arr = np.random.rand(3)\n",
        "#creating 3 random number in a numpy array.\n",
        "\n",
        "import pandas as pd\n",
        "\n",
        "pdseries = pd.Series(numpy_arr)\n",
        "#Saving the numpy array in the pandas series. \n",
        "print(pdseries)\n",
        "type(pdseries)"
      ],
      "execution_count": 0,
      "outputs": [
        {
          "output_type": "stream",
          "text": [
            "0    0.534935\n",
            "1    0.959273\n",
            "2    0.721365\n",
            "dtype: float64\n"
          ],
          "name": "stdout"
        },
        {
          "output_type": "execute_result",
          "data": {
            "text/plain": [
              "pandas.core.series.Series"
            ]
          },
          "metadata": {
            "tags": []
          },
          "execution_count": 18
        }
      ]
    },
    {
      "cell_type": "code",
      "metadata": {
        "id": "1pfmxapWBjIl",
        "colab_type": "code",
        "outputId": "af3c4fc0-daa3-4344-b665-124aad01be21",
        "colab": {
          "base_uri": "https://localhost:8080/",
          "height": 34
        }
      },
      "source": [
        "pd_df = pd.DataFrame(np.random.rand(3,2))\n",
        "type(pd_df)"
      ],
      "execution_count": 0,
      "outputs": [
        {
          "output_type": "execute_result",
          "data": {
            "text/plain": [
              "pandas.core.frame.DataFrame"
            ]
          },
          "metadata": {
            "tags": []
          },
          "execution_count": 19
        }
      ]
    },
    {
      "cell_type": "code",
      "metadata": {
        "id": "5mXO3ROrB9nH",
        "colab_type": "code",
        "outputId": "7498f7c6-de86-45ea-8a17-b71228bdfb33",
        "colab": {
          "base_uri": "https://localhost:8080/",
          "height": 85
        }
      },
      "source": [
        "series = pd.Series(numpy_arr)\n",
        "series"
      ],
      "execution_count": 0,
      "outputs": [
        {
          "output_type": "execute_result",
          "data": {
            "text/plain": [
              "0    0.534935\n",
              "1    0.959273\n",
              "2    0.721365\n",
              "dtype: float64"
            ]
          },
          "metadata": {
            "tags": []
          },
          "execution_count": 20
        }
      ]
    },
    {
      "cell_type": "code",
      "metadata": {
        "id": "Gekt5yBmTNgB",
        "colab_type": "code",
        "outputId": "19bb2dae-b305-4760-cb5c-ea9363c1185f",
        "colab": {
          "base_uri": "https://localhost:8080/",
          "height": 34
        }
      },
      "source": [
        "print(numpy_arr)"
      ],
      "execution_count": 0,
      "outputs": [
        {
          "output_type": "stream",
          "text": [
            "[0.53493538 0.95927306 0.72136454]\n"
          ],
          "name": "stdout"
        }
      ]
    },
    {
      "cell_type": "code",
      "metadata": {
        "id": "HHVPZPLmUWQz",
        "colab_type": "code",
        "outputId": "44746be2-a931-4fc2-f12c-0c5e6d2d970a",
        "colab": {
          "base_uri": "https://localhost:8080/",
          "height": 34
        }
      },
      "source": [
        "numpy_arr[0]"
      ],
      "execution_count": 0,
      "outputs": [
        {
          "output_type": "execute_result",
          "data": {
            "text/plain": [
              "0.5349353785999251"
            ]
          },
          "metadata": {
            "tags": []
          },
          "execution_count": 22
        }
      ]
    },
    {
      "cell_type": "code",
      "metadata": {
        "id": "LdFkDln0UaYO",
        "colab_type": "code",
        "outputId": "400246a1-807b-4f68-bfa4-d91f9f78e2d4",
        "colab": {
          "base_uri": "https://localhost:8080/",
          "height": 34
        }
      },
      "source": [
        "series[0]"
      ],
      "execution_count": 0,
      "outputs": [
        {
          "output_type": "execute_result",
          "data": {
            "text/plain": [
              "0.5349353785999251"
            ]
          },
          "metadata": {
            "tags": []
          },
          "execution_count": 23
        }
      ]
    },
    {
      "cell_type": "code",
      "metadata": {
        "id": "TJfWBiqaUcIH",
        "colab_type": "code",
        "colab": {}
      },
      "source": [
        "series = pd.Series(numpy_arr, index=['First','Second','Third'])"
      ],
      "execution_count": 0,
      "outputs": []
    },
    {
      "cell_type": "code",
      "metadata": {
        "id": "MstDgybxUnbk",
        "colab_type": "code",
        "outputId": "53c35791-7278-47d7-cf24-c1e39a07da68",
        "colab": {
          "base_uri": "https://localhost:8080/",
          "height": 34
        }
      },
      "source": [
        "series['First']"
      ],
      "execution_count": 0,
      "outputs": [
        {
          "output_type": "execute_result",
          "data": {
            "text/plain": [
              "0.5349353785999251"
            ]
          },
          "metadata": {
            "tags": []
          },
          "execution_count": 25
        }
      ]
    },
    {
      "cell_type": "code",
      "metadata": {
        "id": "ppVR86v2UMk3",
        "colab_type": "code",
        "outputId": "095c5692-db39-4fa1-9931-1061d1e62a86",
        "colab": {
          "base_uri": "https://localhost:8080/",
          "height": 34
        }
      },
      "source": [
        "series.First\n",
        "#avoid"
      ],
      "execution_count": 0,
      "outputs": [
        {
          "output_type": "execute_result",
          "data": {
            "text/plain": [
              "0.5349353785999251"
            ]
          },
          "metadata": {
            "tags": []
          },
          "execution_count": 29
        }
      ]
    },
    {
      "cell_type": "code",
      "metadata": {
        "id": "weUUBZ6YUp1N",
        "colab_type": "code",
        "outputId": "e2c8d79a-7732-4e47-caf5-ebee433077d8",
        "colab": {
          "base_uri": "https://localhost:8080/",
          "height": 34
        }
      },
      "source": [
        "series[0]"
      ],
      "execution_count": 0,
      "outputs": [
        {
          "output_type": "execute_result",
          "data": {
            "text/plain": [
              "0.5349353785999251"
            ]
          },
          "metadata": {
            "tags": []
          },
          "execution_count": 27
        }
      ]
    },
    {
      "cell_type": "code",
      "metadata": {
        "id": "yyPED-0JUrBB",
        "colab_type": "code",
        "outputId": "4915592c-6557-458e-e8fe-d35c69d966db",
        "colab": {
          "base_uri": "https://localhost:8080/",
          "height": 85
        }
      },
      "source": [
        "series"
      ],
      "execution_count": 0,
      "outputs": [
        {
          "output_type": "execute_result",
          "data": {
            "text/plain": [
              "First     0.534935\n",
              "Second    0.959273\n",
              "Third     0.721365\n",
              "dtype: float64"
            ]
          },
          "metadata": {
            "tags": []
          },
          "execution_count": 30
        }
      ]
    },
    {
      "cell_type": "code",
      "metadata": {
        "id": "StzMhBmnUu3W",
        "colab_type": "code",
        "outputId": "089c4256-55a9-4487-efc6-405dc692a4cc",
        "colab": {
          "base_uri": "https://localhost:8080/",
          "height": 1370
        }
      },
      "source": [
        "pd_df[0,1]"
      ],
      "execution_count": 0,
      "outputs": [
        {
          "output_type": "error",
          "ename": "KeyError",
          "evalue": "ignored",
          "traceback": [
            "\u001b[0;31m---------------------------------------------------------------------------\u001b[0m",
            "\u001b[0;31mTypeError\u001b[0m                                 Traceback (most recent call last)",
            "\u001b[0;32mpandas/_libs/index.pyx\u001b[0m in \u001b[0;36mpandas._libs.index.IndexEngine.get_loc\u001b[0;34m()\u001b[0m\n",
            "\u001b[0;32mpandas/_libs/hashtable_class_helper.pxi\u001b[0m in \u001b[0;36mpandas._libs.hashtable.Int64HashTable.get_item\u001b[0;34m()\u001b[0m\n",
            "\u001b[0;31mTypeError\u001b[0m: an integer is required",
            "\nDuring handling of the above exception, another exception occurred:\n",
            "\u001b[0;31mKeyError\u001b[0m                                  Traceback (most recent call last)",
            "\u001b[0;32m/usr/local/lib/python3.6/dist-packages/pandas/core/indexes/base.py\u001b[0m in \u001b[0;36mget_loc\u001b[0;34m(self, key, method, tolerance)\u001b[0m\n\u001b[1;32m   2524\u001b[0m             \u001b[0;32mtry\u001b[0m\u001b[0;34m:\u001b[0m\u001b[0;34m\u001b[0m\u001b[0;34m\u001b[0m\u001b[0m\n\u001b[0;32m-> 2525\u001b[0;31m                 \u001b[0;32mreturn\u001b[0m \u001b[0mself\u001b[0m\u001b[0;34m.\u001b[0m\u001b[0m_engine\u001b[0m\u001b[0;34m.\u001b[0m\u001b[0mget_loc\u001b[0m\u001b[0;34m(\u001b[0m\u001b[0mkey\u001b[0m\u001b[0;34m)\u001b[0m\u001b[0;34m\u001b[0m\u001b[0;34m\u001b[0m\u001b[0m\n\u001b[0m\u001b[1;32m   2526\u001b[0m             \u001b[0;32mexcept\u001b[0m \u001b[0mKeyError\u001b[0m\u001b[0;34m:\u001b[0m\u001b[0;34m\u001b[0m\u001b[0;34m\u001b[0m\u001b[0m\n",
            "\u001b[0;32mpandas/_libs/index.pyx\u001b[0m in \u001b[0;36mpandas._libs.index.IndexEngine.get_loc\u001b[0;34m()\u001b[0m\n",
            "\u001b[0;32mpandas/_libs/index.pyx\u001b[0m in \u001b[0;36mpandas._libs.index.IndexEngine.get_loc\u001b[0;34m()\u001b[0m\n",
            "\u001b[0;31mKeyError\u001b[0m: (0, 1)",
            "\nDuring handling of the above exception, another exception occurred:\n",
            "\u001b[0;31mTypeError\u001b[0m                                 Traceback (most recent call last)",
            "\u001b[0;32mpandas/_libs/index.pyx\u001b[0m in \u001b[0;36mpandas._libs.index.IndexEngine.get_loc\u001b[0;34m()\u001b[0m\n",
            "\u001b[0;32mpandas/_libs/hashtable_class_helper.pxi\u001b[0m in \u001b[0;36mpandas._libs.hashtable.Int64HashTable.get_item\u001b[0;34m()\u001b[0m\n",
            "\u001b[0;31mTypeError\u001b[0m: an integer is required",
            "\nDuring handling of the above exception, another exception occurred:\n",
            "\u001b[0;31mKeyError\u001b[0m                                  Traceback (most recent call last)",
            "\u001b[0;32m<ipython-input-31-f23a342aed64>\u001b[0m in \u001b[0;36m<module>\u001b[0;34m()\u001b[0m\n\u001b[0;32m----> 1\u001b[0;31m \u001b[0mpd_df\u001b[0m\u001b[0;34m[\u001b[0m\u001b[0;36m0\u001b[0m\u001b[0;34m,\u001b[0m\u001b[0;36m1\u001b[0m\u001b[0;34m]\u001b[0m\u001b[0;34m\u001b[0m\u001b[0;34m\u001b[0m\u001b[0m\n\u001b[0m",
            "\u001b[0;32m/usr/local/lib/python3.6/dist-packages/pandas/core/frame.py\u001b[0m in \u001b[0;36m__getitem__\u001b[0;34m(self, key)\u001b[0m\n\u001b[1;32m   2137\u001b[0m             \u001b[0;32mreturn\u001b[0m \u001b[0mself\u001b[0m\u001b[0;34m.\u001b[0m\u001b[0m_getitem_multilevel\u001b[0m\u001b[0;34m(\u001b[0m\u001b[0mkey\u001b[0m\u001b[0;34m)\u001b[0m\u001b[0;34m\u001b[0m\u001b[0;34m\u001b[0m\u001b[0m\n\u001b[1;32m   2138\u001b[0m         \u001b[0;32melse\u001b[0m\u001b[0;34m:\u001b[0m\u001b[0;34m\u001b[0m\u001b[0;34m\u001b[0m\u001b[0m\n\u001b[0;32m-> 2139\u001b[0;31m             \u001b[0;32mreturn\u001b[0m \u001b[0mself\u001b[0m\u001b[0;34m.\u001b[0m\u001b[0m_getitem_column\u001b[0m\u001b[0;34m(\u001b[0m\u001b[0mkey\u001b[0m\u001b[0;34m)\u001b[0m\u001b[0;34m\u001b[0m\u001b[0;34m\u001b[0m\u001b[0m\n\u001b[0m\u001b[1;32m   2140\u001b[0m \u001b[0;34m\u001b[0m\u001b[0m\n\u001b[1;32m   2141\u001b[0m     \u001b[0;32mdef\u001b[0m \u001b[0m_getitem_column\u001b[0m\u001b[0;34m(\u001b[0m\u001b[0mself\u001b[0m\u001b[0;34m,\u001b[0m \u001b[0mkey\u001b[0m\u001b[0;34m)\u001b[0m\u001b[0;34m:\u001b[0m\u001b[0;34m\u001b[0m\u001b[0;34m\u001b[0m\u001b[0m\n",
            "\u001b[0;32m/usr/local/lib/python3.6/dist-packages/pandas/core/frame.py\u001b[0m in \u001b[0;36m_getitem_column\u001b[0;34m(self, key)\u001b[0m\n\u001b[1;32m   2144\u001b[0m         \u001b[0;31m# get column\u001b[0m\u001b[0;34m\u001b[0m\u001b[0;34m\u001b[0m\u001b[0;34m\u001b[0m\u001b[0m\n\u001b[1;32m   2145\u001b[0m         \u001b[0;32mif\u001b[0m \u001b[0mself\u001b[0m\u001b[0;34m.\u001b[0m\u001b[0mcolumns\u001b[0m\u001b[0;34m.\u001b[0m\u001b[0mis_unique\u001b[0m\u001b[0;34m:\u001b[0m\u001b[0;34m\u001b[0m\u001b[0;34m\u001b[0m\u001b[0m\n\u001b[0;32m-> 2146\u001b[0;31m             \u001b[0;32mreturn\u001b[0m \u001b[0mself\u001b[0m\u001b[0;34m.\u001b[0m\u001b[0m_get_item_cache\u001b[0m\u001b[0;34m(\u001b[0m\u001b[0mkey\u001b[0m\u001b[0;34m)\u001b[0m\u001b[0;34m\u001b[0m\u001b[0;34m\u001b[0m\u001b[0m\n\u001b[0m\u001b[1;32m   2147\u001b[0m \u001b[0;34m\u001b[0m\u001b[0m\n\u001b[1;32m   2148\u001b[0m         \u001b[0;31m# duplicate columns & possible reduce dimensionality\u001b[0m\u001b[0;34m\u001b[0m\u001b[0;34m\u001b[0m\u001b[0;34m\u001b[0m\u001b[0m\n",
            "\u001b[0;32m/usr/local/lib/python3.6/dist-packages/pandas/core/generic.py\u001b[0m in \u001b[0;36m_get_item_cache\u001b[0;34m(self, item)\u001b[0m\n\u001b[1;32m   1840\u001b[0m         \u001b[0mres\u001b[0m \u001b[0;34m=\u001b[0m \u001b[0mcache\u001b[0m\u001b[0;34m.\u001b[0m\u001b[0mget\u001b[0m\u001b[0;34m(\u001b[0m\u001b[0mitem\u001b[0m\u001b[0;34m)\u001b[0m\u001b[0;34m\u001b[0m\u001b[0;34m\u001b[0m\u001b[0m\n\u001b[1;32m   1841\u001b[0m         \u001b[0;32mif\u001b[0m \u001b[0mres\u001b[0m \u001b[0;32mis\u001b[0m \u001b[0;32mNone\u001b[0m\u001b[0;34m:\u001b[0m\u001b[0;34m\u001b[0m\u001b[0;34m\u001b[0m\u001b[0m\n\u001b[0;32m-> 1842\u001b[0;31m             \u001b[0mvalues\u001b[0m \u001b[0;34m=\u001b[0m \u001b[0mself\u001b[0m\u001b[0;34m.\u001b[0m\u001b[0m_data\u001b[0m\u001b[0;34m.\u001b[0m\u001b[0mget\u001b[0m\u001b[0;34m(\u001b[0m\u001b[0mitem\u001b[0m\u001b[0;34m)\u001b[0m\u001b[0;34m\u001b[0m\u001b[0;34m\u001b[0m\u001b[0m\n\u001b[0m\u001b[1;32m   1843\u001b[0m             \u001b[0mres\u001b[0m \u001b[0;34m=\u001b[0m \u001b[0mself\u001b[0m\u001b[0;34m.\u001b[0m\u001b[0m_box_item_values\u001b[0m\u001b[0;34m(\u001b[0m\u001b[0mitem\u001b[0m\u001b[0;34m,\u001b[0m \u001b[0mvalues\u001b[0m\u001b[0;34m)\u001b[0m\u001b[0;34m\u001b[0m\u001b[0;34m\u001b[0m\u001b[0m\n\u001b[1;32m   1844\u001b[0m             \u001b[0mcache\u001b[0m\u001b[0;34m[\u001b[0m\u001b[0mitem\u001b[0m\u001b[0;34m]\u001b[0m \u001b[0;34m=\u001b[0m \u001b[0mres\u001b[0m\u001b[0;34m\u001b[0m\u001b[0;34m\u001b[0m\u001b[0m\n",
            "\u001b[0;32m/usr/local/lib/python3.6/dist-packages/pandas/core/internals.py\u001b[0m in \u001b[0;36mget\u001b[0;34m(self, item, fastpath)\u001b[0m\n\u001b[1;32m   3841\u001b[0m \u001b[0;34m\u001b[0m\u001b[0m\n\u001b[1;32m   3842\u001b[0m             \u001b[0;32mif\u001b[0m \u001b[0;32mnot\u001b[0m \u001b[0misna\u001b[0m\u001b[0;34m(\u001b[0m\u001b[0mitem\u001b[0m\u001b[0;34m)\u001b[0m\u001b[0;34m:\u001b[0m\u001b[0;34m\u001b[0m\u001b[0;34m\u001b[0m\u001b[0m\n\u001b[0;32m-> 3843\u001b[0;31m                 \u001b[0mloc\u001b[0m \u001b[0;34m=\u001b[0m \u001b[0mself\u001b[0m\u001b[0;34m.\u001b[0m\u001b[0mitems\u001b[0m\u001b[0;34m.\u001b[0m\u001b[0mget_loc\u001b[0m\u001b[0;34m(\u001b[0m\u001b[0mitem\u001b[0m\u001b[0;34m)\u001b[0m\u001b[0;34m\u001b[0m\u001b[0;34m\u001b[0m\u001b[0m\n\u001b[0m\u001b[1;32m   3844\u001b[0m             \u001b[0;32melse\u001b[0m\u001b[0;34m:\u001b[0m\u001b[0;34m\u001b[0m\u001b[0;34m\u001b[0m\u001b[0m\n\u001b[1;32m   3845\u001b[0m                 \u001b[0mindexer\u001b[0m \u001b[0;34m=\u001b[0m \u001b[0mnp\u001b[0m\u001b[0;34m.\u001b[0m\u001b[0marange\u001b[0m\u001b[0;34m(\u001b[0m\u001b[0mlen\u001b[0m\u001b[0;34m(\u001b[0m\u001b[0mself\u001b[0m\u001b[0;34m.\u001b[0m\u001b[0mitems\u001b[0m\u001b[0;34m)\u001b[0m\u001b[0;34m)\u001b[0m\u001b[0;34m[\u001b[0m\u001b[0misna\u001b[0m\u001b[0;34m(\u001b[0m\u001b[0mself\u001b[0m\u001b[0;34m.\u001b[0m\u001b[0mitems\u001b[0m\u001b[0;34m)\u001b[0m\u001b[0;34m]\u001b[0m\u001b[0;34m\u001b[0m\u001b[0;34m\u001b[0m\u001b[0m\n",
            "\u001b[0;32m/usr/local/lib/python3.6/dist-packages/pandas/core/indexes/base.py\u001b[0m in \u001b[0;36mget_loc\u001b[0;34m(self, key, method, tolerance)\u001b[0m\n\u001b[1;32m   2525\u001b[0m                 \u001b[0;32mreturn\u001b[0m \u001b[0mself\u001b[0m\u001b[0;34m.\u001b[0m\u001b[0m_engine\u001b[0m\u001b[0;34m.\u001b[0m\u001b[0mget_loc\u001b[0m\u001b[0;34m(\u001b[0m\u001b[0mkey\u001b[0m\u001b[0;34m)\u001b[0m\u001b[0;34m\u001b[0m\u001b[0;34m\u001b[0m\u001b[0m\n\u001b[1;32m   2526\u001b[0m             \u001b[0;32mexcept\u001b[0m \u001b[0mKeyError\u001b[0m\u001b[0;34m:\u001b[0m\u001b[0;34m\u001b[0m\u001b[0;34m\u001b[0m\u001b[0m\n\u001b[0;32m-> 2527\u001b[0;31m                 \u001b[0;32mreturn\u001b[0m \u001b[0mself\u001b[0m\u001b[0;34m.\u001b[0m\u001b[0m_engine\u001b[0m\u001b[0;34m.\u001b[0m\u001b[0mget_loc\u001b[0m\u001b[0;34m(\u001b[0m\u001b[0mself\u001b[0m\u001b[0;34m.\u001b[0m\u001b[0m_maybe_cast_indexer\u001b[0m\u001b[0;34m(\u001b[0m\u001b[0mkey\u001b[0m\u001b[0;34m)\u001b[0m\u001b[0;34m)\u001b[0m\u001b[0;34m\u001b[0m\u001b[0;34m\u001b[0m\u001b[0m\n\u001b[0m\u001b[1;32m   2528\u001b[0m \u001b[0;34m\u001b[0m\u001b[0m\n\u001b[1;32m   2529\u001b[0m         \u001b[0mindexer\u001b[0m \u001b[0;34m=\u001b[0m \u001b[0mself\u001b[0m\u001b[0;34m.\u001b[0m\u001b[0mget_indexer\u001b[0m\u001b[0;34m(\u001b[0m\u001b[0;34m[\u001b[0m\u001b[0mkey\u001b[0m\u001b[0;34m]\u001b[0m\u001b[0;34m,\u001b[0m \u001b[0mmethod\u001b[0m\u001b[0;34m=\u001b[0m\u001b[0mmethod\u001b[0m\u001b[0;34m,\u001b[0m \u001b[0mtolerance\u001b[0m\u001b[0;34m=\u001b[0m\u001b[0mtolerance\u001b[0m\u001b[0;34m)\u001b[0m\u001b[0;34m\u001b[0m\u001b[0;34m\u001b[0m\u001b[0m\n",
            "\u001b[0;32mpandas/_libs/index.pyx\u001b[0m in \u001b[0;36mpandas._libs.index.IndexEngine.get_loc\u001b[0;34m()\u001b[0m\n",
            "\u001b[0;32mpandas/_libs/index.pyx\u001b[0m in \u001b[0;36mpandas._libs.index.IndexEngine.get_loc\u001b[0;34m()\u001b[0m\n",
            "\u001b[0;31mKeyError\u001b[0m: (0, 1)"
          ]
        }
      ]
    },
    {
      "cell_type": "code",
      "metadata": {
        "id": "6LpvH0vQVJgT",
        "colab_type": "code",
        "outputId": "16f854d9-ba14-4428-c853-3f0402d3b871",
        "colab": {
          "base_uri": "https://localhost:8080/",
          "height": 34
        }
      },
      "source": [
        "pd_df.columns"
      ],
      "execution_count": 0,
      "outputs": [
        {
          "output_type": "execute_result",
          "data": {
            "text/plain": [
              "RangeIndex(start=0, stop=2, step=1)"
            ]
          },
          "metadata": {
            "tags": []
          },
          "execution_count": 32
        }
      ]
    },
    {
      "cell_type": "code",
      "metadata": {
        "id": "2l3GRrNlUp08",
        "colab_type": "code",
        "outputId": "c8259077-dc2d-4298-f495-4efb306b3e9e",
        "colab": {
          "base_uri": "https://localhost:8080/",
          "height": 142
        }
      },
      "source": [
        "pd_df"
      ],
      "execution_count": 0,
      "outputs": [
        {
          "output_type": "execute_result",
          "data": {
            "text/html": [
              "<div>\n",
              "<style scoped>\n",
              "    .dataframe tbody tr th:only-of-type {\n",
              "        vertical-align: middle;\n",
              "    }\n",
              "\n",
              "    .dataframe tbody tr th {\n",
              "        vertical-align: top;\n",
              "    }\n",
              "\n",
              "    .dataframe thead th {\n",
              "        text-align: right;\n",
              "    }\n",
              "</style>\n",
              "<table border=\"1\" class=\"dataframe\">\n",
              "  <thead>\n",
              "    <tr style=\"text-align: right;\">\n",
              "      <th></th>\n",
              "      <th>0</th>\n",
              "      <th>1</th>\n",
              "    </tr>\n",
              "  </thead>\n",
              "  <tbody>\n",
              "    <tr>\n",
              "      <th>0</th>\n",
              "      <td>0.305365</td>\n",
              "      <td>0.625116</td>\n",
              "    </tr>\n",
              "    <tr>\n",
              "      <th>1</th>\n",
              "      <td>0.752536</td>\n",
              "      <td>0.572952</td>\n",
              "    </tr>\n",
              "    <tr>\n",
              "      <th>2</th>\n",
              "      <td>0.363822</td>\n",
              "      <td>0.356349</td>\n",
              "    </tr>\n",
              "  </tbody>\n",
              "</table>\n",
              "</div>"
            ],
            "text/plain": [
              "          0         1\n",
              "0  0.305365  0.625116\n",
              "1  0.752536  0.572952\n",
              "2  0.363822  0.356349"
            ]
          },
          "metadata": {
            "tags": []
          },
          "execution_count": 33
        }
      ]
    },
    {
      "cell_type": "code",
      "metadata": {
        "id": "rvkrOX0gVPPp",
        "colab_type": "code",
        "colab": {}
      },
      "source": [
        "pd_df.columns = ['First','Second']"
      ],
      "execution_count": 0,
      "outputs": []
    },
    {
      "cell_type": "code",
      "metadata": {
        "id": "IAea9JpSVr3m",
        "colab_type": "code",
        "outputId": "caf9099e-d018-4e5c-d633-b55d9a5d0f5a",
        "colab": {
          "base_uri": "https://localhost:8080/",
          "height": 142
        }
      },
      "source": [
        "pd_df"
      ],
      "execution_count": 0,
      "outputs": [
        {
          "output_type": "execute_result",
          "data": {
            "text/html": [
              "<div>\n",
              "<style scoped>\n",
              "    .dataframe tbody tr th:only-of-type {\n",
              "        vertical-align: middle;\n",
              "    }\n",
              "\n",
              "    .dataframe tbody tr th {\n",
              "        vertical-align: top;\n",
              "    }\n",
              "\n",
              "    .dataframe thead th {\n",
              "        text-align: right;\n",
              "    }\n",
              "</style>\n",
              "<table border=\"1\" class=\"dataframe\">\n",
              "  <thead>\n",
              "    <tr style=\"text-align: right;\">\n",
              "      <th></th>\n",
              "      <th>First</th>\n",
              "      <th>Second</th>\n",
              "    </tr>\n",
              "  </thead>\n",
              "  <tbody>\n",
              "    <tr>\n",
              "      <th>0</th>\n",
              "      <td>0.305365</td>\n",
              "      <td>0.625116</td>\n",
              "    </tr>\n",
              "    <tr>\n",
              "      <th>1</th>\n",
              "      <td>0.752536</td>\n",
              "      <td>0.572952</td>\n",
              "    </tr>\n",
              "    <tr>\n",
              "      <th>2</th>\n",
              "      <td>0.363822</td>\n",
              "      <td>0.356349</td>\n",
              "    </tr>\n",
              "  </tbody>\n",
              "</table>\n",
              "</div>"
            ],
            "text/plain": [
              "      First    Second\n",
              "0  0.305365  0.625116\n",
              "1  0.752536  0.572952\n",
              "2  0.363822  0.356349"
            ]
          },
          "metadata": {
            "tags": []
          },
          "execution_count": 35
        }
      ]
    },
    {
      "cell_type": "code",
      "metadata": {
        "id": "vNCVXiAXVwD_",
        "colab_type": "code",
        "outputId": "6ca8009a-67be-48c6-9599-7c5762fd741f",
        "colab": {
          "base_uri": "https://localhost:8080/",
          "height": 85
        }
      },
      "source": [
        "pd_df.Second"
      ],
      "execution_count": 0,
      "outputs": [
        {
          "output_type": "execute_result",
          "data": {
            "text/plain": [
              "0    0.625116\n",
              "1    0.572952\n",
              "2    0.356349\n",
              "Name: Second, dtype: float64"
            ]
          },
          "metadata": {
            "tags": []
          },
          "execution_count": 36
        }
      ]
    },
    {
      "cell_type": "code",
      "metadata": {
        "id": "9HzWIzE_Vzj4",
        "colab_type": "code",
        "outputId": "ff02dc0d-4646-4056-9fc9-e38f9b4f8a21",
        "colab": {
          "base_uri": "https://localhost:8080/",
          "height": 85
        }
      },
      "source": [
        "pd_df['Second']"
      ],
      "execution_count": 0,
      "outputs": [
        {
          "output_type": "execute_result",
          "data": {
            "text/plain": [
              "0    0.625116\n",
              "1    0.572952\n",
              "2    0.356349\n",
              "Name: Second, dtype: float64"
            ]
          },
          "metadata": {
            "tags": []
          },
          "execution_count": 37
        }
      ]
    },
    {
      "cell_type": "markdown",
      "metadata": {
        "id": "ngqkl-p5V9gA",
        "colab_type": "text"
      },
      "source": [
        "Since it is only one column here, it is a series, not a data frame. "
      ]
    },
    {
      "cell_type": "markdown",
      "metadata": {
        "id": "USgtDNvtWOpC",
        "colab_type": "text"
      },
      "source": [
        "Pandas compatible data sources -\n",
        "\n",
        "\n",
        "*   Text File\n",
        "    *   CSV\n",
        "    *   JSON\n",
        "    *   HTML\n",
        "*   Binary Files\n",
        "*   Relational Databases\n"
      ]
    },
    {
      "cell_type": "code",
      "metadata": {
        "id": "S1Y6F_a3V10y",
        "colab_type": "code",
        "colab": {}
      },
      "source": [
        "df = pd.read_csv('artwork_data.csv', nrows=5)"
      ],
      "execution_count": 0,
      "outputs": []
    },
    {
      "cell_type": "code",
      "metadata": {
        "id": "pYsZoXd_cSPf",
        "colab_type": "code",
        "outputId": "b4559019-5e7d-47e0-e381-82db7c90ce05",
        "colab": {
          "base_uri": "https://localhost:8080/",
          "height": 581
        }
      },
      "source": [
        "df.head()"
      ],
      "execution_count": 0,
      "outputs": [
        {
          "output_type": "execute_result",
          "data": {
            "text/html": [
              "<div>\n",
              "<style scoped>\n",
              "    .dataframe tbody tr th:only-of-type {\n",
              "        vertical-align: middle;\n",
              "    }\n",
              "\n",
              "    .dataframe tbody tr th {\n",
              "        vertical-align: top;\n",
              "    }\n",
              "\n",
              "    .dataframe thead th {\n",
              "        text-align: right;\n",
              "    }\n",
              "</style>\n",
              "<table border=\"1\" class=\"dataframe\">\n",
              "  <thead>\n",
              "    <tr style=\"text-align: right;\">\n",
              "      <th></th>\n",
              "      <th>id</th>\n",
              "      <th>accession_number</th>\n",
              "      <th>artist</th>\n",
              "      <th>artistRole</th>\n",
              "      <th>artistId</th>\n",
              "      <th>title</th>\n",
              "      <th>dateText</th>\n",
              "      <th>medium</th>\n",
              "      <th>creditLine</th>\n",
              "      <th>year</th>\n",
              "      <th>acquisitionYear</th>\n",
              "      <th>dimensions</th>\n",
              "      <th>width</th>\n",
              "      <th>height</th>\n",
              "      <th>depth</th>\n",
              "      <th>units</th>\n",
              "      <th>inscription</th>\n",
              "      <th>thumbnailCopyright</th>\n",
              "      <th>thumbnailUrl</th>\n",
              "      <th>url</th>\n",
              "    </tr>\n",
              "  </thead>\n",
              "  <tbody>\n",
              "    <tr>\n",
              "      <th>0</th>\n",
              "      <td>1035</td>\n",
              "      <td>A00001</td>\n",
              "      <td>Blake, Robert</td>\n",
              "      <td>artist</td>\n",
              "      <td>38</td>\n",
              "      <td>A Figure Bowing before a Seated Old Man with h...</td>\n",
              "      <td>date not known</td>\n",
              "      <td>Watercolour, ink, chalk and graphite on paper....</td>\n",
              "      <td>Presented by Mrs John Richmond 1922</td>\n",
              "      <td>NaN</td>\n",
              "      <td>1922</td>\n",
              "      <td>support: 394 x 419 mm</td>\n",
              "      <td>394</td>\n",
              "      <td>419</td>\n",
              "      <td>NaN</td>\n",
              "      <td>mm</td>\n",
              "      <td>NaN</td>\n",
              "      <td>NaN</td>\n",
              "      <td>http://www.tate.org.uk/art/images/work/A/A00/A...</td>\n",
              "      <td>http://www.tate.org.uk/art/artworks/blake-a-fi...</td>\n",
              "    </tr>\n",
              "    <tr>\n",
              "      <th>1</th>\n",
              "      <td>1036</td>\n",
              "      <td>A00002</td>\n",
              "      <td>Blake, Robert</td>\n",
              "      <td>artist</td>\n",
              "      <td>38</td>\n",
              "      <td>Two Drawings of Frightened Figures, Probably f...</td>\n",
              "      <td>date not known</td>\n",
              "      <td>Graphite on paper</td>\n",
              "      <td>Presented by Mrs John Richmond 1922</td>\n",
              "      <td>NaN</td>\n",
              "      <td>1922</td>\n",
              "      <td>support: 311 x 213 mm</td>\n",
              "      <td>311</td>\n",
              "      <td>213</td>\n",
              "      <td>NaN</td>\n",
              "      <td>mm</td>\n",
              "      <td>NaN</td>\n",
              "      <td>NaN</td>\n",
              "      <td>http://www.tate.org.uk/art/images/work/A/A00/A...</td>\n",
              "      <td>http://www.tate.org.uk/art/artworks/blake-two-...</td>\n",
              "    </tr>\n",
              "    <tr>\n",
              "      <th>2</th>\n",
              "      <td>1037</td>\n",
              "      <td>A00003</td>\n",
              "      <td>Blake, Robert</td>\n",
              "      <td>artist</td>\n",
              "      <td>38</td>\n",
              "      <td>The Preaching of Warning. Verso: An Old Man En...</td>\n",
              "      <td>?c.1785</td>\n",
              "      <td>Graphite on paper. Verso: graphite on paper</td>\n",
              "      <td>Presented by Mrs John Richmond 1922</td>\n",
              "      <td>1785.0</td>\n",
              "      <td>1922</td>\n",
              "      <td>support: 343 x 467 mm</td>\n",
              "      <td>343</td>\n",
              "      <td>467</td>\n",
              "      <td>NaN</td>\n",
              "      <td>mm</td>\n",
              "      <td>NaN</td>\n",
              "      <td>NaN</td>\n",
              "      <td>http://www.tate.org.uk/art/images/work/A/A00/A...</td>\n",
              "      <td>http://www.tate.org.uk/art/artworks/blake-the-...</td>\n",
              "    </tr>\n",
              "    <tr>\n",
              "      <th>3</th>\n",
              "      <td>1038</td>\n",
              "      <td>A00004</td>\n",
              "      <td>Blake, Robert</td>\n",
              "      <td>artist</td>\n",
              "      <td>38</td>\n",
              "      <td>Six Drawings of Figures with Outstretched Arms</td>\n",
              "      <td>date not known</td>\n",
              "      <td>Graphite on paper</td>\n",
              "      <td>Presented by Mrs John Richmond 1922</td>\n",
              "      <td>NaN</td>\n",
              "      <td>1922</td>\n",
              "      <td>support: 318 x 394 mm</td>\n",
              "      <td>318</td>\n",
              "      <td>394</td>\n",
              "      <td>NaN</td>\n",
              "      <td>mm</td>\n",
              "      <td>NaN</td>\n",
              "      <td>NaN</td>\n",
              "      <td>http://www.tate.org.uk/art/images/work/A/A00/A...</td>\n",
              "      <td>http://www.tate.org.uk/art/artworks/blake-six-...</td>\n",
              "    </tr>\n",
              "    <tr>\n",
              "      <th>4</th>\n",
              "      <td>1039</td>\n",
              "      <td>A00005</td>\n",
              "      <td>Blake, William</td>\n",
              "      <td>artist</td>\n",
              "      <td>39</td>\n",
              "      <td>The Circle of the Lustful: Francesca da Rimini...</td>\n",
              "      <td>1826–7, reprinted 1892</td>\n",
              "      <td>Line engraving on paper</td>\n",
              "      <td>Purchased with the assistance of a special gra...</td>\n",
              "      <td>1826.0</td>\n",
              "      <td>1919</td>\n",
              "      <td>image: 243 x 335 mm</td>\n",
              "      <td>243</td>\n",
              "      <td>335</td>\n",
              "      <td>NaN</td>\n",
              "      <td>mm</td>\n",
              "      <td>NaN</td>\n",
              "      <td>NaN</td>\n",
              "      <td>http://www.tate.org.uk/art/images/work/A/A00/A...</td>\n",
              "      <td>http://www.tate.org.uk/art/artworks/blake-the-...</td>\n",
              "    </tr>\n",
              "  </tbody>\n",
              "</table>\n",
              "</div>"
            ],
            "text/plain": [
              "     id accession_number          artist artistRole  artistId  \\\n",
              "0  1035           A00001   Blake, Robert     artist        38   \n",
              "1  1036           A00002   Blake, Robert     artist        38   \n",
              "2  1037           A00003   Blake, Robert     artist        38   \n",
              "3  1038           A00004   Blake, Robert     artist        38   \n",
              "4  1039           A00005  Blake, William     artist        39   \n",
              "\n",
              "                                               title                dateText  \\\n",
              "0  A Figure Bowing before a Seated Old Man with h...          date not known   \n",
              "1  Two Drawings of Frightened Figures, Probably f...          date not known   \n",
              "2  The Preaching of Warning. Verso: An Old Man En...                 ?c.1785   \n",
              "3     Six Drawings of Figures with Outstretched Arms          date not known   \n",
              "4  The Circle of the Lustful: Francesca da Rimini...  1826–7, reprinted 1892   \n",
              "\n",
              "                                              medium  \\\n",
              "0  Watercolour, ink, chalk and graphite on paper....   \n",
              "1                                  Graphite on paper   \n",
              "2        Graphite on paper. Verso: graphite on paper   \n",
              "3                                  Graphite on paper   \n",
              "4                            Line engraving on paper   \n",
              "\n",
              "                                          creditLine    year  acquisitionYear  \\\n",
              "0                Presented by Mrs John Richmond 1922     NaN             1922   \n",
              "1                Presented by Mrs John Richmond 1922     NaN             1922   \n",
              "2                Presented by Mrs John Richmond 1922  1785.0             1922   \n",
              "3                Presented by Mrs John Richmond 1922     NaN             1922   \n",
              "4  Purchased with the assistance of a special gra...  1826.0             1919   \n",
              "\n",
              "              dimensions  width  height  depth units  inscription  \\\n",
              "0  support: 394 x 419 mm    394     419    NaN    mm          NaN   \n",
              "1  support: 311 x 213 mm    311     213    NaN    mm          NaN   \n",
              "2  support: 343 x 467 mm    343     467    NaN    mm          NaN   \n",
              "3  support: 318 x 394 mm    318     394    NaN    mm          NaN   \n",
              "4    image: 243 x 335 mm    243     335    NaN    mm          NaN   \n",
              "\n",
              "   thumbnailCopyright                                       thumbnailUrl  \\\n",
              "0                 NaN  http://www.tate.org.uk/art/images/work/A/A00/A...   \n",
              "1                 NaN  http://www.tate.org.uk/art/images/work/A/A00/A...   \n",
              "2                 NaN  http://www.tate.org.uk/art/images/work/A/A00/A...   \n",
              "3                 NaN  http://www.tate.org.uk/art/images/work/A/A00/A...   \n",
              "4                 NaN  http://www.tate.org.uk/art/images/work/A/A00/A...   \n",
              "\n",
              "                                                 url  \n",
              "0  http://www.tate.org.uk/art/artworks/blake-a-fi...  \n",
              "1  http://www.tate.org.uk/art/artworks/blake-two-...  \n",
              "2  http://www.tate.org.uk/art/artworks/blake-the-...  \n",
              "3  http://www.tate.org.uk/art/artworks/blake-six-...  \n",
              "4  http://www.tate.org.uk/art/artworks/blake-the-...  "
            ]
          },
          "metadata": {
            "tags": []
          },
          "execution_count": 39
        }
      ]
    },
    {
      "cell_type": "code",
      "metadata": {
        "id": "H09s9rWockrL",
        "colab_type": "code",
        "colab": {}
      },
      "source": [
        "df = pd.read_csv('artwork_data.csv', nrows=5, index_col='id', usecols=['id','artist'])"
      ],
      "execution_count": 0,
      "outputs": []
    },
    {
      "cell_type": "code",
      "metadata": {
        "id": "byLh3MuQgHKv",
        "colab_type": "code",
        "outputId": "7f26a892-bb92-4e6b-c7f5-79190831b488",
        "colab": {
          "base_uri": "https://localhost:8080/",
          "height": 235
        }
      },
      "source": [
        "df"
      ],
      "execution_count": 0,
      "outputs": [
        {
          "output_type": "execute_result",
          "data": {
            "text/html": [
              "<div>\n",
              "<style scoped>\n",
              "    .dataframe tbody tr th:only-of-type {\n",
              "        vertical-align: middle;\n",
              "    }\n",
              "\n",
              "    .dataframe tbody tr th {\n",
              "        vertical-align: top;\n",
              "    }\n",
              "\n",
              "    .dataframe thead th {\n",
              "        text-align: right;\n",
              "    }\n",
              "</style>\n",
              "<table border=\"1\" class=\"dataframe\">\n",
              "  <thead>\n",
              "    <tr style=\"text-align: right;\">\n",
              "      <th></th>\n",
              "      <th>artist</th>\n",
              "    </tr>\n",
              "    <tr>\n",
              "      <th>id</th>\n",
              "      <th></th>\n",
              "    </tr>\n",
              "  </thead>\n",
              "  <tbody>\n",
              "    <tr>\n",
              "      <th>1035</th>\n",
              "      <td>Blake, Robert</td>\n",
              "    </tr>\n",
              "    <tr>\n",
              "      <th>1036</th>\n",
              "      <td>Blake, Robert</td>\n",
              "    </tr>\n",
              "    <tr>\n",
              "      <th>1037</th>\n",
              "      <td>Blake, Robert</td>\n",
              "    </tr>\n",
              "    <tr>\n",
              "      <th>1038</th>\n",
              "      <td>Blake, Robert</td>\n",
              "    </tr>\n",
              "    <tr>\n",
              "      <th>1039</th>\n",
              "      <td>Blake, William</td>\n",
              "    </tr>\n",
              "  </tbody>\n",
              "</table>\n",
              "</div>"
            ],
            "text/plain": [
              "              artist\n",
              "id                  \n",
              "1035   Blake, Robert\n",
              "1036   Blake, Robert\n",
              "1037   Blake, Robert\n",
              "1038   Blake, Robert\n",
              "1039  Blake, William"
            ]
          },
          "metadata": {
            "tags": []
          },
          "execution_count": 41
        }
      ]
    },
    {
      "cell_type": "code",
      "metadata": {
        "id": "sO-5PANQgI61",
        "colab_type": "code",
        "colab": {}
      },
      "source": [
        "cols_to_use = ['id','artist', 'title','medium',\t'year',\t'acquisitionYear', \n",
        "               'width',\t'height', 'units']"
      ],
      "execution_count": 0,
      "outputs": []
    },
    {
      "cell_type": "code",
      "metadata": {
        "id": "BjYRRLjFhMKK",
        "colab_type": "code",
        "colab": {}
      },
      "source": [
        "df = pd.read_csv('artwork_data.csv', usecols=cols_to_use, index_col='id', low_memory=False)\n",
        "#selected few columns from the csv using usecols and set low memory = false so that the big data could be loaded.\n",
        "#set the index column to the id field."
      ],
      "execution_count": 0,
      "outputs": []
    },
    {
      "cell_type": "code",
      "metadata": {
        "id": "GGmqN-qvhg3y",
        "colab_type": "code",
        "outputId": "33b84d6f-77f1-4a44-e076-debc6461e4b3",
        "colab": {
          "base_uri": "https://localhost:8080/",
          "height": 34
        }
      },
      "source": [
        "df.shape"
      ],
      "execution_count": 0,
      "outputs": [
        {
          "output_type": "execute_result",
          "data": {
            "text/plain": [
              "(69201, 8)"
            ]
          },
          "metadata": {
            "tags": []
          },
          "execution_count": 48
        }
      ]
    },
    {
      "cell_type": "code",
      "metadata": {
        "id": "k74kv1UehpMC",
        "colab_type": "code",
        "outputId": "072f1f2e-53e5-4ef0-fc76-b3cff585f1f2",
        "colab": {
          "base_uri": "https://localhost:8080/",
          "height": 320
        }
      },
      "source": [
        "df.head()"
      ],
      "execution_count": 0,
      "outputs": [
        {
          "output_type": "execute_result",
          "data": {
            "text/html": [
              "<div>\n",
              "<style scoped>\n",
              "    .dataframe tbody tr th:only-of-type {\n",
              "        vertical-align: middle;\n",
              "    }\n",
              "\n",
              "    .dataframe tbody tr th {\n",
              "        vertical-align: top;\n",
              "    }\n",
              "\n",
              "    .dataframe thead th {\n",
              "        text-align: right;\n",
              "    }\n",
              "</style>\n",
              "<table border=\"1\" class=\"dataframe\">\n",
              "  <thead>\n",
              "    <tr style=\"text-align: right;\">\n",
              "      <th></th>\n",
              "      <th>artist</th>\n",
              "      <th>title</th>\n",
              "      <th>medium</th>\n",
              "      <th>year</th>\n",
              "      <th>acquisitionYear</th>\n",
              "      <th>width</th>\n",
              "      <th>height</th>\n",
              "      <th>units</th>\n",
              "    </tr>\n",
              "    <tr>\n",
              "      <th>id</th>\n",
              "      <th></th>\n",
              "      <th></th>\n",
              "      <th></th>\n",
              "      <th></th>\n",
              "      <th></th>\n",
              "      <th></th>\n",
              "      <th></th>\n",
              "      <th></th>\n",
              "    </tr>\n",
              "  </thead>\n",
              "  <tbody>\n",
              "    <tr>\n",
              "      <th>1035</th>\n",
              "      <td>Blake, Robert</td>\n",
              "      <td>A Figure Bowing before a Seated Old Man with h...</td>\n",
              "      <td>Watercolour, ink, chalk and graphite on paper....</td>\n",
              "      <td>NaN</td>\n",
              "      <td>1922.0</td>\n",
              "      <td>394</td>\n",
              "      <td>419</td>\n",
              "      <td>mm</td>\n",
              "    </tr>\n",
              "    <tr>\n",
              "      <th>1036</th>\n",
              "      <td>Blake, Robert</td>\n",
              "      <td>Two Drawings of Frightened Figures, Probably f...</td>\n",
              "      <td>Graphite on paper</td>\n",
              "      <td>NaN</td>\n",
              "      <td>1922.0</td>\n",
              "      <td>311</td>\n",
              "      <td>213</td>\n",
              "      <td>mm</td>\n",
              "    </tr>\n",
              "    <tr>\n",
              "      <th>1037</th>\n",
              "      <td>Blake, Robert</td>\n",
              "      <td>The Preaching of Warning. Verso: An Old Man En...</td>\n",
              "      <td>Graphite on paper. Verso: graphite on paper</td>\n",
              "      <td>1785</td>\n",
              "      <td>1922.0</td>\n",
              "      <td>343</td>\n",
              "      <td>467</td>\n",
              "      <td>mm</td>\n",
              "    </tr>\n",
              "    <tr>\n",
              "      <th>1038</th>\n",
              "      <td>Blake, Robert</td>\n",
              "      <td>Six Drawings of Figures with Outstretched Arms</td>\n",
              "      <td>Graphite on paper</td>\n",
              "      <td>NaN</td>\n",
              "      <td>1922.0</td>\n",
              "      <td>318</td>\n",
              "      <td>394</td>\n",
              "      <td>mm</td>\n",
              "    </tr>\n",
              "    <tr>\n",
              "      <th>1039</th>\n",
              "      <td>Blake, William</td>\n",
              "      <td>The Circle of the Lustful: Francesca da Rimini...</td>\n",
              "      <td>Line engraving on paper</td>\n",
              "      <td>1826</td>\n",
              "      <td>1919.0</td>\n",
              "      <td>243</td>\n",
              "      <td>335</td>\n",
              "      <td>mm</td>\n",
              "    </tr>\n",
              "  </tbody>\n",
              "</table>\n",
              "</div>"
            ],
            "text/plain": [
              "              artist                                              title  \\\n",
              "id                                                                        \n",
              "1035   Blake, Robert  A Figure Bowing before a Seated Old Man with h...   \n",
              "1036   Blake, Robert  Two Drawings of Frightened Figures, Probably f...   \n",
              "1037   Blake, Robert  The Preaching of Warning. Verso: An Old Man En...   \n",
              "1038   Blake, Robert     Six Drawings of Figures with Outstretched Arms   \n",
              "1039  Blake, William  The Circle of the Lustful: Francesca da Rimini...   \n",
              "\n",
              "                                                 medium  year  \\\n",
              "id                                                              \n",
              "1035  Watercolour, ink, chalk and graphite on paper....   NaN   \n",
              "1036                                  Graphite on paper   NaN   \n",
              "1037        Graphite on paper. Verso: graphite on paper  1785   \n",
              "1038                                  Graphite on paper   NaN   \n",
              "1039                            Line engraving on paper  1826   \n",
              "\n",
              "      acquisitionYear width height units  \n",
              "id                                        \n",
              "1035           1922.0   394    419    mm  \n",
              "1036           1922.0   311    213    mm  \n",
              "1037           1922.0   343    467    mm  \n",
              "1038           1922.0   318    394    mm  \n",
              "1039           1919.0   243    335    mm  "
            ]
          },
          "metadata": {
            "tags": []
          },
          "execution_count": 49
        }
      ]
    },
    {
      "cell_type": "code",
      "metadata": {
        "id": "njTK9YoEcw2L",
        "colab_type": "code",
        "outputId": "4fd8975e-366c-4a2b-e083-f807fb9f6bce",
        "colab": {
          "base_uri": "https://localhost:8080/",
          "height": 34
        }
      },
      "source": [
        "len(set(df['artist']))"
      ],
      "execution_count": 0,
      "outputs": [
        {
          "output_type": "execute_result",
          "data": {
            "text/plain": [
              "3336"
            ]
          },
          "metadata": {
            "tags": []
          },
          "execution_count": 52
        }
      ]
    },
    {
      "cell_type": "code",
      "metadata": {
        "id": "uNLcCA8phuJ3",
        "colab_type": "code",
        "colab": {}
      },
      "source": [
        ""
      ],
      "execution_count": 0,
      "outputs": []
    },
    {
      "cell_type": "markdown",
      "metadata": {
        "id": "68ej4hk5zoPh",
        "colab_type": "text"
      },
      "source": [
        "How many distinct artists are there in the dataset?\n",
        "\n",
        "How many artworks by Francis Bacon are there?\n",
        "\n",
        "What is the artwork with the biggest dimensions? "
      ]
    },
    {
      "cell_type": "code",
      "metadata": {
        "id": "4tH7bZye0-5Y",
        "colab_type": "code",
        "outputId": "69527ee7-2c8a-4035-9fc8-397e4749d7b2",
        "colab": {
          "base_uri": "https://localhost:8080/",
          "height": 1088
        }
      },
      "source": [
        "df['artist']\n",
        "#this will give us a series"
      ],
      "execution_count": 0,
      "outputs": [
        {
          "output_type": "execute_result",
          "data": {
            "text/plain": [
              "id\n",
              "1035                                          Blake, Robert\n",
              "1036                                          Blake, Robert\n",
              "1037                                          Blake, Robert\n",
              "1038                                          Blake, Robert\n",
              "1039                                         Blake, William\n",
              "1040                                         Blake, William\n",
              "1041                                         Blake, William\n",
              "1042                                         Blake, William\n",
              "1043                                         Blake, William\n",
              "1044                                         Blake, William\n",
              "1045                                         Blake, William\n",
              "1046                                         Blake, William\n",
              "1047                                         Blake, William\n",
              "1048                                         Blake, William\n",
              "1049                                         Blake, William\n",
              "1050                                         Blake, William\n",
              "1051                                         Blake, William\n",
              "1052                                         Blake, William\n",
              "1053                                         Blake, William\n",
              "1054                                         Blake, William\n",
              "1055                                         Blake, William\n",
              "1056                                         Blake, William\n",
              "1057                                         Blake, William\n",
              "1058                                         Blake, William\n",
              "1059                                         Blake, William\n",
              "1060                                         Blake, William\n",
              "1061                                         Blake, William\n",
              "1062                                         Blake, William\n",
              "1063                                         Blake, William\n",
              "1064                                         Blake, William\n",
              "                                ...                        \n",
              "121196                                     Barlow, Phyllida\n",
              "121197                                     Barlow, Phyllida\n",
              "121198                                     Barlow, Phyllida\n",
              "115637                                         Latham, John\n",
              "115638                                         Latham, John\n",
              "122545                                         Kirkeby, Per\n",
              "120104                                  Karamustafa, Gulsun\n",
              "121565                                       Walker, Kelley\n",
              "116157                                      Bulloch, Angela\n",
              "117761                                       Atlas, Charles\n",
              "115217    T R Uthco (Doug Hall born 1944, Diane Andrews ...\n",
              "122537                                      Gordon, Douglas\n",
              "120527                                         Black, Karla\n",
              "127128                                         Lord, Andrew\n",
              "127129                                         Lord, Andrew\n",
              "127130                                         Lord, Andrew\n",
              "127131                                         Lord, Andrew\n",
              "121283                                          Rhodes, Lis\n",
              "129068                                         Lord, Andrew\n",
              "117863                                 Andrade, Jonathas de\n",
              "120549                                        Oursler, Tony\n",
              "123620                                        Sterne, Hedda\n",
              "122900                                      Flanagan, Barry\n",
              "122958                                   P-Orridge, Genesis\n",
              "122959                                   P-Orridge, Genesis\n",
              "122960                                   P-Orridge, Genesis\n",
              "122961                                   P-Orridge, Genesis\n",
              "121181                                         Hatoum, Mona\n",
              "112306                                        Creed, Martin\n",
              "127035                                    Brunias, Agostino\n",
              "Name: artist, Length: 69201, dtype: object"
            ]
          },
          "metadata": {
            "tags": []
          },
          "execution_count": 16
        }
      ]
    },
    {
      "cell_type": "code",
      "metadata": {
        "id": "c6b4qKtrz-ry",
        "colab_type": "code",
        "outputId": "08cc6bb7-5969-49a9-9cc4-4b5dd52086c3",
        "colab": {
          "base_uri": "https://localhost:8080/",
          "height": 2000
        }
      },
      "source": [
        "df[['artist','title']]\n",
        "#this will give us a dataset"
      ],
      "execution_count": 0,
      "outputs": [
        {
          "output_type": "execute_result",
          "data": {
            "text/html": [
              "<div>\n",
              "<style scoped>\n",
              "    .dataframe tbody tr th:only-of-type {\n",
              "        vertical-align: middle;\n",
              "    }\n",
              "\n",
              "    .dataframe tbody tr th {\n",
              "        vertical-align: top;\n",
              "    }\n",
              "\n",
              "    .dataframe thead th {\n",
              "        text-align: right;\n",
              "    }\n",
              "</style>\n",
              "<table border=\"1\" class=\"dataframe\">\n",
              "  <thead>\n",
              "    <tr style=\"text-align: right;\">\n",
              "      <th></th>\n",
              "      <th>artist</th>\n",
              "      <th>title</th>\n",
              "    </tr>\n",
              "    <tr>\n",
              "      <th>id</th>\n",
              "      <th></th>\n",
              "      <th></th>\n",
              "    </tr>\n",
              "  </thead>\n",
              "  <tbody>\n",
              "    <tr>\n",
              "      <th>1035</th>\n",
              "      <td>Blake, Robert</td>\n",
              "      <td>A Figure Bowing before a Seated Old Man with h...</td>\n",
              "    </tr>\n",
              "    <tr>\n",
              "      <th>1036</th>\n",
              "      <td>Blake, Robert</td>\n",
              "      <td>Two Drawings of Frightened Figures, Probably f...</td>\n",
              "    </tr>\n",
              "    <tr>\n",
              "      <th>1037</th>\n",
              "      <td>Blake, Robert</td>\n",
              "      <td>The Preaching of Warning. Verso: An Old Man En...</td>\n",
              "    </tr>\n",
              "    <tr>\n",
              "      <th>1038</th>\n",
              "      <td>Blake, Robert</td>\n",
              "      <td>Six Drawings of Figures with Outstretched Arms</td>\n",
              "    </tr>\n",
              "    <tr>\n",
              "      <th>1039</th>\n",
              "      <td>Blake, William</td>\n",
              "      <td>The Circle of the Lustful: Francesca da Rimini...</td>\n",
              "    </tr>\n",
              "    <tr>\n",
              "      <th>1040</th>\n",
              "      <td>Blake, William</td>\n",
              "      <td>Ciampolo the Barrator Tormented by the Devils</td>\n",
              "    </tr>\n",
              "    <tr>\n",
              "      <th>1041</th>\n",
              "      <td>Blake, William</td>\n",
              "      <td>The Baffled Devils Fighting</td>\n",
              "    </tr>\n",
              "    <tr>\n",
              "      <th>1042</th>\n",
              "      <td>Blake, William</td>\n",
              "      <td>The Six-Footed Serpent Attacking Agnolo Brunel...</td>\n",
              "    </tr>\n",
              "    <tr>\n",
              "      <th>1043</th>\n",
              "      <td>Blake, William</td>\n",
              "      <td>The Serpent Attacking Buoso Donati</td>\n",
              "    </tr>\n",
              "    <tr>\n",
              "      <th>1044</th>\n",
              "      <td>Blake, William</td>\n",
              "      <td>The Pit of Disease: The Falsifiers</td>\n",
              "    </tr>\n",
              "    <tr>\n",
              "      <th>1045</th>\n",
              "      <td>Blake, William</td>\n",
              "      <td>Dante Striking against Bocca Degli Abati</td>\n",
              "    </tr>\n",
              "    <tr>\n",
              "      <th>1046</th>\n",
              "      <td>Blake, William</td>\n",
              "      <td>Job and his Family</td>\n",
              "    </tr>\n",
              "    <tr>\n",
              "      <th>1047</th>\n",
              "      <td>Blake, William</td>\n",
              "      <td>Satan before the Throne of God</td>\n",
              "    </tr>\n",
              "    <tr>\n",
              "      <th>1048</th>\n",
              "      <td>Blake, William</td>\n",
              "      <td>Job’s Sons and Daughters Overwhelmed by Satan</td>\n",
              "    </tr>\n",
              "    <tr>\n",
              "      <th>1049</th>\n",
              "      <td>Blake, William</td>\n",
              "      <td>The Messengers tell Job of his Misfortunes</td>\n",
              "    </tr>\n",
              "    <tr>\n",
              "      <th>1050</th>\n",
              "      <td>Blake, William</td>\n",
              "      <td>Satan Going Forth from the Presence of the Lor...</td>\n",
              "    </tr>\n",
              "    <tr>\n",
              "      <th>1051</th>\n",
              "      <td>Blake, William</td>\n",
              "      <td>Satan Smiting Job with Sore Boils</td>\n",
              "    </tr>\n",
              "    <tr>\n",
              "      <th>1052</th>\n",
              "      <td>Blake, William</td>\n",
              "      <td>Job’s Comforters</td>\n",
              "    </tr>\n",
              "    <tr>\n",
              "      <th>1053</th>\n",
              "      <td>Blake, William</td>\n",
              "      <td>Job’s Despair</td>\n",
              "    </tr>\n",
              "    <tr>\n",
              "      <th>1054</th>\n",
              "      <td>Blake, William</td>\n",
              "      <td>The Vision of Eliphaz</td>\n",
              "    </tr>\n",
              "    <tr>\n",
              "      <th>1055</th>\n",
              "      <td>Blake, William</td>\n",
              "      <td>Job Rebuked by his Friends</td>\n",
              "    </tr>\n",
              "    <tr>\n",
              "      <th>1056</th>\n",
              "      <td>Blake, William</td>\n",
              "      <td>Job’s Evil Dreams</td>\n",
              "    </tr>\n",
              "    <tr>\n",
              "      <th>1057</th>\n",
              "      <td>Blake, William</td>\n",
              "      <td>The Wrath of Elihu</td>\n",
              "    </tr>\n",
              "    <tr>\n",
              "      <th>1058</th>\n",
              "      <td>Blake, William</td>\n",
              "      <td>The Lord Answering Job out of the Whirlwind</td>\n",
              "    </tr>\n",
              "    <tr>\n",
              "      <th>1059</th>\n",
              "      <td>Blake, William</td>\n",
              "      <td>When the Morning Stars Sang Together</td>\n",
              "    </tr>\n",
              "    <tr>\n",
              "      <th>1060</th>\n",
              "      <td>Blake, William</td>\n",
              "      <td>Behemoth and Leviathan</td>\n",
              "    </tr>\n",
              "    <tr>\n",
              "      <th>1061</th>\n",
              "      <td>Blake, William</td>\n",
              "      <td>The Fall of Satan</td>\n",
              "    </tr>\n",
              "    <tr>\n",
              "      <th>1062</th>\n",
              "      <td>Blake, William</td>\n",
              "      <td>The Vision of Christ</td>\n",
              "    </tr>\n",
              "    <tr>\n",
              "      <th>1063</th>\n",
              "      <td>Blake, William</td>\n",
              "      <td>Job’s Sacrifice</td>\n",
              "    </tr>\n",
              "    <tr>\n",
              "      <th>1064</th>\n",
              "      <td>Blake, William</td>\n",
              "      <td>Every Man also Gave him a Piece of Money</td>\n",
              "    </tr>\n",
              "    <tr>\n",
              "      <th>...</th>\n",
              "      <td>...</td>\n",
              "      <td>...</td>\n",
              "    </tr>\n",
              "    <tr>\n",
              "      <th>121196</th>\n",
              "      <td>Barlow, Phyllida</td>\n",
              "      <td>Untitled</td>\n",
              "    </tr>\n",
              "    <tr>\n",
              "      <th>121197</th>\n",
              "      <td>Barlow, Phyllida</td>\n",
              "      <td>Untitled</td>\n",
              "    </tr>\n",
              "    <tr>\n",
              "      <th>121198</th>\n",
              "      <td>Barlow, Phyllida</td>\n",
              "      <td>Untitled</td>\n",
              "    </tr>\n",
              "    <tr>\n",
              "      <th>115637</th>\n",
              "      <td>Latham, John</td>\n",
              "      <td>Unedited Material From the Star</td>\n",
              "    </tr>\n",
              "    <tr>\n",
              "      <th>115638</th>\n",
              "      <td>Latham, John</td>\n",
              "      <td>Encyclopedia Britannica</td>\n",
              "    </tr>\n",
              "    <tr>\n",
              "      <th>122545</th>\n",
              "      <td>Kirkeby, Per</td>\n",
              "      <td>Composition</td>\n",
              "    </tr>\n",
              "    <tr>\n",
              "      <th>120104</th>\n",
              "      <td>Karamustafa, Gulsun</td>\n",
              "      <td>Memory of a Square</td>\n",
              "    </tr>\n",
              "    <tr>\n",
              "      <th>121565</th>\n",
              "      <td>Walker, Kelley</td>\n",
              "      <td>Will We Ever Kill The Bug</td>\n",
              "    </tr>\n",
              "    <tr>\n",
              "      <th>116157</th>\n",
              "      <td>Bulloch, Angela</td>\n",
              "      <td>Aluminium 4</td>\n",
              "    </tr>\n",
              "    <tr>\n",
              "      <th>117761</th>\n",
              "      <td>Atlas, Charles</td>\n",
              "      <td>Joints 4tet Ensemble</td>\n",
              "    </tr>\n",
              "    <tr>\n",
              "      <th>115217</th>\n",
              "      <td>T R Uthco (Doug Hall born 1944, Diane Andrews ...</td>\n",
              "      <td>The Eternal Frame</td>\n",
              "    </tr>\n",
              "    <tr>\n",
              "      <th>122537</th>\n",
              "      <td>Gordon, Douglas</td>\n",
              "      <td>Feature Film</td>\n",
              "    </tr>\n",
              "    <tr>\n",
              "      <th>120527</th>\n",
              "      <td>Black, Karla</td>\n",
              "      <td>At Fault</td>\n",
              "    </tr>\n",
              "    <tr>\n",
              "      <th>127128</th>\n",
              "      <td>Lord, Andrew</td>\n",
              "      <td>Three Vases. Fist</td>\n",
              "    </tr>\n",
              "    <tr>\n",
              "      <th>127129</th>\n",
              "      <td>Lord, Andrew</td>\n",
              "      <td>biting</td>\n",
              "    </tr>\n",
              "    <tr>\n",
              "      <th>127130</th>\n",
              "      <td>Lord, Andrew</td>\n",
              "      <td>breathing</td>\n",
              "    </tr>\n",
              "    <tr>\n",
              "      <th>127131</th>\n",
              "      <td>Lord, Andrew</td>\n",
              "      <td>Untitled (from the Gauguin Series)</td>\n",
              "    </tr>\n",
              "    <tr>\n",
              "      <th>121283</th>\n",
              "      <td>Rhodes, Lis</td>\n",
              "      <td>Light Music</td>\n",
              "    </tr>\n",
              "    <tr>\n",
              "      <th>129068</th>\n",
              "      <td>Lord, Andrew</td>\n",
              "      <td>Coffee service and tray. Impressionist set</td>\n",
              "    </tr>\n",
              "    <tr>\n",
              "      <th>117863</th>\n",
              "      <td>Andrade, Jonathas de</td>\n",
              "      <td>Tropical Hangover</td>\n",
              "    </tr>\n",
              "    <tr>\n",
              "      <th>120549</th>\n",
              "      <td>Oursler, Tony</td>\n",
              "      <td>The Influence Machine</td>\n",
              "    </tr>\n",
              "    <tr>\n",
              "      <th>123620</th>\n",
              "      <td>Sterne, Hedda</td>\n",
              "      <td>NY, NY No. X</td>\n",
              "    </tr>\n",
              "    <tr>\n",
              "      <th>122900</th>\n",
              "      <td>Flanagan, Barry</td>\n",
              "      <td>sand girl</td>\n",
              "    </tr>\n",
              "    <tr>\n",
              "      <th>122958</th>\n",
              "      <td>P-Orridge, Genesis</td>\n",
              "      <td>Venus Mound (from Tampax Romana)</td>\n",
              "    </tr>\n",
              "    <tr>\n",
              "      <th>122959</th>\n",
              "      <td>P-Orridge, Genesis</td>\n",
              "      <td>It’s That Time Of The Month (from Tampax Romana)</td>\n",
              "    </tr>\n",
              "    <tr>\n",
              "      <th>122960</th>\n",
              "      <td>P-Orridge, Genesis</td>\n",
              "      <td>Larvae (from Tampax Romana)</td>\n",
              "    </tr>\n",
              "    <tr>\n",
              "      <th>122961</th>\n",
              "      <td>P-Orridge, Genesis</td>\n",
              "      <td>Living Womb (from Tampax Romana)</td>\n",
              "    </tr>\n",
              "    <tr>\n",
              "      <th>121181</th>\n",
              "      <td>Hatoum, Mona</td>\n",
              "      <td>Present Tense</td>\n",
              "    </tr>\n",
              "    <tr>\n",
              "      <th>112306</th>\n",
              "      <td>Creed, Martin</td>\n",
              "      <td>Work No. 227: The lights going on and off</td>\n",
              "    </tr>\n",
              "    <tr>\n",
              "      <th>127035</th>\n",
              "      <td>Brunias, Agostino</td>\n",
              "      <td>Dancing Scene in the West Indies</td>\n",
              "    </tr>\n",
              "  </tbody>\n",
              "</table>\n",
              "<p>69201 rows × 2 columns</p>\n",
              "</div>"
            ],
            "text/plain": [
              "                                                   artist  \\\n",
              "id                                                          \n",
              "1035                                        Blake, Robert   \n",
              "1036                                        Blake, Robert   \n",
              "1037                                        Blake, Robert   \n",
              "1038                                        Blake, Robert   \n",
              "1039                                       Blake, William   \n",
              "1040                                       Blake, William   \n",
              "1041                                       Blake, William   \n",
              "1042                                       Blake, William   \n",
              "1043                                       Blake, William   \n",
              "1044                                       Blake, William   \n",
              "1045                                       Blake, William   \n",
              "1046                                       Blake, William   \n",
              "1047                                       Blake, William   \n",
              "1048                                       Blake, William   \n",
              "1049                                       Blake, William   \n",
              "1050                                       Blake, William   \n",
              "1051                                       Blake, William   \n",
              "1052                                       Blake, William   \n",
              "1053                                       Blake, William   \n",
              "1054                                       Blake, William   \n",
              "1055                                       Blake, William   \n",
              "1056                                       Blake, William   \n",
              "1057                                       Blake, William   \n",
              "1058                                       Blake, William   \n",
              "1059                                       Blake, William   \n",
              "1060                                       Blake, William   \n",
              "1061                                       Blake, William   \n",
              "1062                                       Blake, William   \n",
              "1063                                       Blake, William   \n",
              "1064                                       Blake, William   \n",
              "...                                                   ...   \n",
              "121196                                   Barlow, Phyllida   \n",
              "121197                                   Barlow, Phyllida   \n",
              "121198                                   Barlow, Phyllida   \n",
              "115637                                       Latham, John   \n",
              "115638                                       Latham, John   \n",
              "122545                                       Kirkeby, Per   \n",
              "120104                                Karamustafa, Gulsun   \n",
              "121565                                     Walker, Kelley   \n",
              "116157                                    Bulloch, Angela   \n",
              "117761                                     Atlas, Charles   \n",
              "115217  T R Uthco (Doug Hall born 1944, Diane Andrews ...   \n",
              "122537                                    Gordon, Douglas   \n",
              "120527                                       Black, Karla   \n",
              "127128                                       Lord, Andrew   \n",
              "127129                                       Lord, Andrew   \n",
              "127130                                       Lord, Andrew   \n",
              "127131                                       Lord, Andrew   \n",
              "121283                                        Rhodes, Lis   \n",
              "129068                                       Lord, Andrew   \n",
              "117863                               Andrade, Jonathas de   \n",
              "120549                                      Oursler, Tony   \n",
              "123620                                      Sterne, Hedda   \n",
              "122900                                    Flanagan, Barry   \n",
              "122958                                 P-Orridge, Genesis   \n",
              "122959                                 P-Orridge, Genesis   \n",
              "122960                                 P-Orridge, Genesis   \n",
              "122961                                 P-Orridge, Genesis   \n",
              "121181                                       Hatoum, Mona   \n",
              "112306                                      Creed, Martin   \n",
              "127035                                  Brunias, Agostino   \n",
              "\n",
              "                                                    title  \n",
              "id                                                         \n",
              "1035    A Figure Bowing before a Seated Old Man with h...  \n",
              "1036    Two Drawings of Frightened Figures, Probably f...  \n",
              "1037    The Preaching of Warning. Verso: An Old Man En...  \n",
              "1038       Six Drawings of Figures with Outstretched Arms  \n",
              "1039    The Circle of the Lustful: Francesca da Rimini...  \n",
              "1040        Ciampolo the Barrator Tormented by the Devils  \n",
              "1041                          The Baffled Devils Fighting  \n",
              "1042    The Six-Footed Serpent Attacking Agnolo Brunel...  \n",
              "1043                   The Serpent Attacking Buoso Donati  \n",
              "1044                   The Pit of Disease: The Falsifiers  \n",
              "1045             Dante Striking against Bocca Degli Abati  \n",
              "1046                                   Job and his Family  \n",
              "1047                       Satan before the Throne of God  \n",
              "1048        Job’s Sons and Daughters Overwhelmed by Satan  \n",
              "1049           The Messengers tell Job of his Misfortunes  \n",
              "1050    Satan Going Forth from the Presence of the Lor...  \n",
              "1051                    Satan Smiting Job with Sore Boils  \n",
              "1052                                     Job’s Comforters  \n",
              "1053                                        Job’s Despair  \n",
              "1054                                The Vision of Eliphaz  \n",
              "1055                           Job Rebuked by his Friends  \n",
              "1056                                    Job’s Evil Dreams  \n",
              "1057                                   The Wrath of Elihu  \n",
              "1058          The Lord Answering Job out of the Whirlwind  \n",
              "1059                 When the Morning Stars Sang Together  \n",
              "1060                               Behemoth and Leviathan  \n",
              "1061                                    The Fall of Satan  \n",
              "1062                                 The Vision of Christ  \n",
              "1063                                      Job’s Sacrifice  \n",
              "1064             Every Man also Gave him a Piece of Money  \n",
              "...                                                   ...  \n",
              "121196                                           Untitled  \n",
              "121197                                           Untitled  \n",
              "121198                                           Untitled  \n",
              "115637                    Unedited Material From the Star  \n",
              "115638                            Encyclopedia Britannica  \n",
              "122545                                        Composition  \n",
              "120104                                 Memory of a Square  \n",
              "121565                          Will We Ever Kill The Bug  \n",
              "116157                                        Aluminium 4  \n",
              "117761                               Joints 4tet Ensemble  \n",
              "115217                                  The Eternal Frame  \n",
              "122537                                       Feature Film  \n",
              "120527                                           At Fault  \n",
              "127128                                  Three Vases. Fist  \n",
              "127129                                             biting  \n",
              "127130                                          breathing  \n",
              "127131                 Untitled (from the Gauguin Series)  \n",
              "121283                                        Light Music  \n",
              "129068         Coffee service and tray. Impressionist set  \n",
              "117863                                  Tropical Hangover  \n",
              "120549                              The Influence Machine  \n",
              "123620                                       NY, NY No. X  \n",
              "122900                                          sand girl  \n",
              "122958                   Venus Mound (from Tampax Romana)  \n",
              "122959   It’s That Time Of The Month (from Tampax Romana)  \n",
              "122960                        Larvae (from Tampax Romana)  \n",
              "122961                   Living Womb (from Tampax Romana)  \n",
              "121181                                      Present Tense  \n",
              "112306          Work No. 227: The lights going on and off  \n",
              "127035                   Dancing Scene in the West Indies  \n",
              "\n",
              "[69201 rows x 2 columns]"
            ]
          },
          "metadata": {
            "tags": []
          },
          "execution_count": 54
        }
      ]
    },
    {
      "cell_type": "code",
      "metadata": {
        "id": "tx22mzHN0i_6",
        "colab_type": "code",
        "outputId": "5f05119c-5fc2-4b55-dd5c-42898f3a1116",
        "colab": {
          "base_uri": "https://localhost:8080/",
          "height": 34
        }
      },
      "source": [
        "#Count the number of artists in our dataset\n",
        "len(set(df['artist']))"
      ],
      "execution_count": 0,
      "outputs": [
        {
          "output_type": "execute_result",
          "data": {
            "text/plain": [
              "3336"
            ]
          },
          "metadata": {
            "tags": []
          },
          "execution_count": 18
        }
      ]
    },
    {
      "cell_type": "code",
      "metadata": {
        "id": "I87rQ0b01Z1L",
        "colab_type": "code",
        "outputId": "35dde3e6-2e4c-409c-b0e6-8aceca58d8fd",
        "colab": {
          "base_uri": "https://localhost:8080/",
          "height": 51
        }
      },
      "source": [
        "#pandas way -\n",
        "uni = pd.unique(df['artist'])\n",
        "print(uni)"
      ],
      "execution_count": 0,
      "outputs": [
        {
          "output_type": "stream",
          "text": [
            "['Blake, Robert' 'Blake, William' 'Richmond, George' ... 'Sterne, Hedda'\n",
            " 'P-Orridge, Genesis' 'Brunias, Agostino']\n"
          ],
          "name": "stdout"
        }
      ]
    },
    {
      "cell_type": "code",
      "metadata": {
        "id": "SwwcE-DT2C_V",
        "colab_type": "code",
        "outputId": "44aecb94-254d-4407-860c-0fc3beaf5dbe",
        "colab": {
          "base_uri": "https://localhost:8080/",
          "height": 34
        }
      },
      "source": [
        "len(uni)"
      ],
      "execution_count": 0,
      "outputs": [
        {
          "output_type": "execute_result",
          "data": {
            "text/plain": [
              "3336"
            ]
          },
          "metadata": {
            "tags": []
          },
          "execution_count": 23
        }
      ]
    },
    {
      "cell_type": "code",
      "metadata": {
        "id": "o-TEhlJO2LTX",
        "colab_type": "code",
        "outputId": "2a550178-09db-4728-aeb2-9e2d73622c2c",
        "colab": {
          "base_uri": "https://localhost:8080/",
          "height": 68
        }
      },
      "source": [
        "s = df['artist'] == 'Bacon, Francis'\n",
        "s.value_counts()"
      ],
      "execution_count": 0,
      "outputs": [
        {
          "output_type": "execute_result",
          "data": {
            "text/plain": [
              "False    69151\n",
              "True        50\n",
              "Name: artist, dtype: int64"
            ]
          },
          "metadata": {
            "tags": []
          },
          "execution_count": 58
        }
      ]
    },
    {
      "cell_type": "markdown",
      "metadata": {
        "id": "2Jyw7u68_Kz6",
        "colab_type": "text"
      },
      "source": [
        "loc by label. \n",
        "\n",
        "iloc by position.\n",
        "\n",
        "df.loc[row indexer , column indexer ]\n",
        "\n",
        "df.loc['35, 'artist' ]\n",
        "\n",
        "df.loc[df['artist'] == 'Bacon, Francis' , : ]\n",
        "\n",
        "the above statement returns a pandas series for the row indexer with true false in it and the : says that select all columns.\n",
        "\n",
        "df.iloc[ 100:300 , [0,1,4] ]\n",
        "df.iloc[ : , [1,3,4] ]\n",
        "\n",
        "in iloc we cannot use the labels. we have to provide the positions instead."
      ]
    },
    {
      "cell_type": "code",
      "metadata": {
        "id": "t-P1mlS83EX0",
        "colab_type": "code",
        "outputId": "737e4391-bd4d-4e0f-d561-425d557c6374",
        "colab": {
          "base_uri": "https://localhost:8080/",
          "height": 34
        }
      },
      "source": [
        "df.loc[1035,'artist']"
      ],
      "execution_count": 0,
      "outputs": [
        {
          "output_type": "execute_result",
          "data": {
            "text/plain": [
              "'Blake, Robert'"
            ]
          },
          "metadata": {
            "tags": []
          },
          "execution_count": 63
        }
      ]
    },
    {
      "cell_type": "code",
      "metadata": {
        "id": "4Ah8SXsSEC1d",
        "colab_type": "code",
        "outputId": "7b1eee54-3317-4f64-e306-6c911119a809",
        "colab": {
          "base_uri": "https://localhost:8080/",
          "height": 34
        }
      },
      "source": [
        "df.iloc[0,0]"
      ],
      "execution_count": 0,
      "outputs": [
        {
          "output_type": "execute_result",
          "data": {
            "text/plain": [
              "'Blake, Robert'"
            ]
          },
          "metadata": {
            "tags": []
          },
          "execution_count": 64
        }
      ]
    },
    {
      "cell_type": "code",
      "metadata": {
        "id": "hP5u5RqEEVTV",
        "colab_type": "code",
        "outputId": "f008918c-98e7-4d57-84d8-d9a72a649895",
        "colab": {
          "base_uri": "https://localhost:8080/",
          "height": 142
        }
      },
      "source": [
        "df.iloc[0:2,0:2]"
      ],
      "execution_count": 0,
      "outputs": [
        {
          "output_type": "execute_result",
          "data": {
            "text/html": [
              "<div>\n",
              "<style scoped>\n",
              "    .dataframe tbody tr th:only-of-type {\n",
              "        vertical-align: middle;\n",
              "    }\n",
              "\n",
              "    .dataframe tbody tr th {\n",
              "        vertical-align: top;\n",
              "    }\n",
              "\n",
              "    .dataframe thead th {\n",
              "        text-align: right;\n",
              "    }\n",
              "</style>\n",
              "<table border=\"1\" class=\"dataframe\">\n",
              "  <thead>\n",
              "    <tr style=\"text-align: right;\">\n",
              "      <th></th>\n",
              "      <th>artist</th>\n",
              "      <th>title</th>\n",
              "    </tr>\n",
              "    <tr>\n",
              "      <th>id</th>\n",
              "      <th></th>\n",
              "      <th></th>\n",
              "    </tr>\n",
              "  </thead>\n",
              "  <tbody>\n",
              "    <tr>\n",
              "      <th>1035</th>\n",
              "      <td>Blake, Robert</td>\n",
              "      <td>A Figure Bowing before a Seated Old Man with h...</td>\n",
              "    </tr>\n",
              "    <tr>\n",
              "      <th>1036</th>\n",
              "      <td>Blake, Robert</td>\n",
              "      <td>Two Drawings of Frightened Figures, Probably f...</td>\n",
              "    </tr>\n",
              "  </tbody>\n",
              "</table>\n",
              "</div>"
            ],
            "text/plain": [
              "             artist                                              title\n",
              "id                                                                    \n",
              "1035  Blake, Robert  A Figure Bowing before a Seated Old Man with h...\n",
              "1036  Blake, Robert  Two Drawings of Frightened Figures, Probably f..."
            ]
          },
          "metadata": {
            "tags": []
          },
          "execution_count": 31
        }
      ]
    },
    {
      "cell_type": "code",
      "metadata": {
        "id": "D3kwAS-BEa8G",
        "colab_type": "code",
        "colab": {}
      },
      "source": [
        "# find the artwork with the biggest area/dimensions"
      ],
      "execution_count": 0,
      "outputs": []
    },
    {
      "cell_type": "code",
      "metadata": {
        "id": "2ZDgWlCuEq0g",
        "colab_type": "code",
        "outputId": "61ad12c3-6f07-4ebf-a8a2-6b97a180f905",
        "colab": {
          "base_uri": "https://localhost:8080/",
          "height": 320
        }
      },
      "source": [
        "df.head()"
      ],
      "execution_count": 0,
      "outputs": [
        {
          "output_type": "execute_result",
          "data": {
            "text/html": [
              "<div>\n",
              "<style scoped>\n",
              "    .dataframe tbody tr th:only-of-type {\n",
              "        vertical-align: middle;\n",
              "    }\n",
              "\n",
              "    .dataframe tbody tr th {\n",
              "        vertical-align: top;\n",
              "    }\n",
              "\n",
              "    .dataframe thead th {\n",
              "        text-align: right;\n",
              "    }\n",
              "</style>\n",
              "<table border=\"1\" class=\"dataframe\">\n",
              "  <thead>\n",
              "    <tr style=\"text-align: right;\">\n",
              "      <th></th>\n",
              "      <th>artist</th>\n",
              "      <th>title</th>\n",
              "      <th>medium</th>\n",
              "      <th>year</th>\n",
              "      <th>acquisitionYear</th>\n",
              "      <th>width</th>\n",
              "      <th>height</th>\n",
              "      <th>units</th>\n",
              "    </tr>\n",
              "    <tr>\n",
              "      <th>id</th>\n",
              "      <th></th>\n",
              "      <th></th>\n",
              "      <th></th>\n",
              "      <th></th>\n",
              "      <th></th>\n",
              "      <th></th>\n",
              "      <th></th>\n",
              "      <th></th>\n",
              "    </tr>\n",
              "  </thead>\n",
              "  <tbody>\n",
              "    <tr>\n",
              "      <th>1035</th>\n",
              "      <td>Blake, Robert</td>\n",
              "      <td>A Figure Bowing before a Seated Old Man with h...</td>\n",
              "      <td>Watercolour, ink, chalk and graphite on paper....</td>\n",
              "      <td>NaN</td>\n",
              "      <td>1922.0</td>\n",
              "      <td>394</td>\n",
              "      <td>419</td>\n",
              "      <td>mm</td>\n",
              "    </tr>\n",
              "    <tr>\n",
              "      <th>1036</th>\n",
              "      <td>Blake, Robert</td>\n",
              "      <td>Two Drawings of Frightened Figures, Probably f...</td>\n",
              "      <td>Graphite on paper</td>\n",
              "      <td>NaN</td>\n",
              "      <td>1922.0</td>\n",
              "      <td>311</td>\n",
              "      <td>213</td>\n",
              "      <td>mm</td>\n",
              "    </tr>\n",
              "    <tr>\n",
              "      <th>1037</th>\n",
              "      <td>Blake, Robert</td>\n",
              "      <td>The Preaching of Warning. Verso: An Old Man En...</td>\n",
              "      <td>Graphite on paper. Verso: graphite on paper</td>\n",
              "      <td>1785</td>\n",
              "      <td>1922.0</td>\n",
              "      <td>343</td>\n",
              "      <td>467</td>\n",
              "      <td>mm</td>\n",
              "    </tr>\n",
              "    <tr>\n",
              "      <th>1038</th>\n",
              "      <td>Blake, Robert</td>\n",
              "      <td>Six Drawings of Figures with Outstretched Arms</td>\n",
              "      <td>Graphite on paper</td>\n",
              "      <td>NaN</td>\n",
              "      <td>1922.0</td>\n",
              "      <td>318</td>\n",
              "      <td>394</td>\n",
              "      <td>mm</td>\n",
              "    </tr>\n",
              "    <tr>\n",
              "      <th>1039</th>\n",
              "      <td>Blake, William</td>\n",
              "      <td>The Circle of the Lustful: Francesca da Rimini...</td>\n",
              "      <td>Line engraving on paper</td>\n",
              "      <td>1826</td>\n",
              "      <td>1919.0</td>\n",
              "      <td>243</td>\n",
              "      <td>335</td>\n",
              "      <td>mm</td>\n",
              "    </tr>\n",
              "  </tbody>\n",
              "</table>\n",
              "</div>"
            ],
            "text/plain": [
              "              artist                                              title  \\\n",
              "id                                                                        \n",
              "1035   Blake, Robert  A Figure Bowing before a Seated Old Man with h...   \n",
              "1036   Blake, Robert  Two Drawings of Frightened Figures, Probably f...   \n",
              "1037   Blake, Robert  The Preaching of Warning. Verso: An Old Man En...   \n",
              "1038   Blake, Robert     Six Drawings of Figures with Outstretched Arms   \n",
              "1039  Blake, William  The Circle of the Lustful: Francesca da Rimini...   \n",
              "\n",
              "                                                 medium  year  \\\n",
              "id                                                              \n",
              "1035  Watercolour, ink, chalk and graphite on paper....   NaN   \n",
              "1036                                  Graphite on paper   NaN   \n",
              "1037        Graphite on paper. Verso: graphite on paper  1785   \n",
              "1038                                  Graphite on paper   NaN   \n",
              "1039                            Line engraving on paper  1826   \n",
              "\n",
              "      acquisitionYear width height units  \n",
              "id                                        \n",
              "1035           1922.0   394    419    mm  \n",
              "1036           1922.0   311    213    mm  \n",
              "1037           1922.0   343    467    mm  \n",
              "1038           1922.0   318    394    mm  \n",
              "1039           1919.0   243    335    mm  "
            ]
          },
          "metadata": {
            "tags": []
          },
          "execution_count": 65
        }
      ]
    },
    {
      "cell_type": "code",
      "metadata": {
        "id": "U5m3BQCxEw2U",
        "colab_type": "code",
        "outputId": "41743c1d-bf53-41ab-b0b3-cbed0ee4b7ba",
        "colab": {
          "base_uri": "https://localhost:8080/",
          "height": 68
        }
      },
      "source": [
        "df.columns"
      ],
      "execution_count": 0,
      "outputs": [
        {
          "output_type": "execute_result",
          "data": {
            "text/plain": [
              "Index(['artist', 'title', 'medium', 'year', 'acquisitionYear', 'width',\n",
              "       'height', 'units'],\n",
              "      dtype='object')"
            ]
          },
          "metadata": {
            "tags": []
          },
          "execution_count": 66
        }
      ]
    },
    {
      "cell_type": "code",
      "metadata": {
        "id": "RiXxOs00E2nS",
        "colab_type": "code",
        "outputId": "4f563679-bd46-4db0-f157-c23315d27dc5",
        "colab": {
          "base_uri": "https://localhost:8080/",
          "height": 1271
        }
      },
      "source": [
        "df['height'] * df['width']\n",
        "#we will get error for this line as they are object types, not value types"
      ],
      "execution_count": 0,
      "outputs": [
        {
          "output_type": "error",
          "ename": "TypeError",
          "evalue": "ignored",
          "traceback": [
            "\u001b[0;31m---------------------------------------------------------------------------\u001b[0m",
            "\u001b[0;31mTypeError\u001b[0m                                 Traceback (most recent call last)",
            "\u001b[0;32m/usr/local/lib/python3.6/dist-packages/pandas/core/ops.py\u001b[0m in \u001b[0;36mna_op\u001b[0;34m(x, y)\u001b[0m\n\u001b[1;32m    675\u001b[0m         \u001b[0;32mtry\u001b[0m\u001b[0;34m:\u001b[0m\u001b[0;34m\u001b[0m\u001b[0;34m\u001b[0m\u001b[0m\n\u001b[0;32m--> 676\u001b[0;31m             \u001b[0mresult\u001b[0m \u001b[0;34m=\u001b[0m \u001b[0mexpressions\u001b[0m\u001b[0;34m.\u001b[0m\u001b[0mevaluate\u001b[0m\u001b[0;34m(\u001b[0m\u001b[0mop\u001b[0m\u001b[0;34m,\u001b[0m \u001b[0mstr_rep\u001b[0m\u001b[0;34m,\u001b[0m \u001b[0mx\u001b[0m\u001b[0;34m,\u001b[0m \u001b[0my\u001b[0m\u001b[0;34m,\u001b[0m \u001b[0;34m**\u001b[0m\u001b[0meval_kwargs\u001b[0m\u001b[0;34m)\u001b[0m\u001b[0;34m\u001b[0m\u001b[0;34m\u001b[0m\u001b[0m\n\u001b[0m\u001b[1;32m    677\u001b[0m         \u001b[0;32mexcept\u001b[0m \u001b[0mTypeError\u001b[0m\u001b[0;34m:\u001b[0m\u001b[0;34m\u001b[0m\u001b[0;34m\u001b[0m\u001b[0m\n",
            "\u001b[0;32m/usr/local/lib/python3.6/dist-packages/pandas/core/computation/expressions.py\u001b[0m in \u001b[0;36mevaluate\u001b[0;34m(op, op_str, a, b, use_numexpr, **eval_kwargs)\u001b[0m\n\u001b[1;32m    203\u001b[0m     \u001b[0;32mif\u001b[0m \u001b[0muse_numexpr\u001b[0m\u001b[0;34m:\u001b[0m\u001b[0;34m\u001b[0m\u001b[0;34m\u001b[0m\u001b[0m\n\u001b[0;32m--> 204\u001b[0;31m         \u001b[0;32mreturn\u001b[0m \u001b[0m_evaluate\u001b[0m\u001b[0;34m(\u001b[0m\u001b[0mop\u001b[0m\u001b[0;34m,\u001b[0m \u001b[0mop_str\u001b[0m\u001b[0;34m,\u001b[0m \u001b[0ma\u001b[0m\u001b[0;34m,\u001b[0m \u001b[0mb\u001b[0m\u001b[0;34m,\u001b[0m \u001b[0;34m**\u001b[0m\u001b[0meval_kwargs\u001b[0m\u001b[0;34m)\u001b[0m\u001b[0;34m\u001b[0m\u001b[0;34m\u001b[0m\u001b[0m\n\u001b[0m\u001b[1;32m    205\u001b[0m     \u001b[0;32mreturn\u001b[0m \u001b[0m_evaluate_standard\u001b[0m\u001b[0;34m(\u001b[0m\u001b[0mop\u001b[0m\u001b[0;34m,\u001b[0m \u001b[0mop_str\u001b[0m\u001b[0;34m,\u001b[0m \u001b[0ma\u001b[0m\u001b[0;34m,\u001b[0m \u001b[0mb\u001b[0m\u001b[0;34m)\u001b[0m\u001b[0;34m\u001b[0m\u001b[0;34m\u001b[0m\u001b[0m\n",
            "\u001b[0;32m/usr/local/lib/python3.6/dist-packages/pandas/core/computation/expressions.py\u001b[0m in \u001b[0;36m_evaluate_numexpr\u001b[0;34m(op, op_str, a, b, truediv, reversed, **eval_kwargs)\u001b[0m\n\u001b[1;32m    118\u001b[0m     \u001b[0;32mif\u001b[0m \u001b[0mresult\u001b[0m \u001b[0;32mis\u001b[0m \u001b[0;32mNone\u001b[0m\u001b[0;34m:\u001b[0m\u001b[0;34m\u001b[0m\u001b[0;34m\u001b[0m\u001b[0m\n\u001b[0;32m--> 119\u001b[0;31m         \u001b[0mresult\u001b[0m \u001b[0;34m=\u001b[0m \u001b[0m_evaluate_standard\u001b[0m\u001b[0;34m(\u001b[0m\u001b[0mop\u001b[0m\u001b[0;34m,\u001b[0m \u001b[0mop_str\u001b[0m\u001b[0;34m,\u001b[0m \u001b[0ma\u001b[0m\u001b[0;34m,\u001b[0m \u001b[0mb\u001b[0m\u001b[0;34m)\u001b[0m\u001b[0;34m\u001b[0m\u001b[0;34m\u001b[0m\u001b[0m\n\u001b[0m\u001b[1;32m    120\u001b[0m \u001b[0;34m\u001b[0m\u001b[0m\n",
            "\u001b[0;32m/usr/local/lib/python3.6/dist-packages/pandas/core/computation/expressions.py\u001b[0m in \u001b[0;36m_evaluate_standard\u001b[0;34m(op, op_str, a, b, **eval_kwargs)\u001b[0m\n\u001b[1;32m     63\u001b[0m     \u001b[0;32mwith\u001b[0m \u001b[0mnp\u001b[0m\u001b[0;34m.\u001b[0m\u001b[0merrstate\u001b[0m\u001b[0;34m(\u001b[0m\u001b[0mall\u001b[0m\u001b[0;34m=\u001b[0m\u001b[0;34m'ignore'\u001b[0m\u001b[0;34m)\u001b[0m\u001b[0;34m:\u001b[0m\u001b[0;34m\u001b[0m\u001b[0;34m\u001b[0m\u001b[0m\n\u001b[0;32m---> 64\u001b[0;31m         \u001b[0;32mreturn\u001b[0m \u001b[0mop\u001b[0m\u001b[0;34m(\u001b[0m\u001b[0ma\u001b[0m\u001b[0;34m,\u001b[0m \u001b[0mb\u001b[0m\u001b[0;34m)\u001b[0m\u001b[0;34m\u001b[0m\u001b[0;34m\u001b[0m\u001b[0m\n\u001b[0m\u001b[1;32m     65\u001b[0m \u001b[0;34m\u001b[0m\u001b[0m\n",
            "\u001b[0;31mTypeError\u001b[0m: can't multiply sequence by non-int of type 'str'",
            "\nDuring handling of the above exception, another exception occurred:\n",
            "\u001b[0;31mTypeError\u001b[0m                                 Traceback (most recent call last)",
            "\u001b[0;32m/usr/local/lib/python3.6/dist-packages/pandas/core/ops.py\u001b[0m in \u001b[0;36msafe_na_op\u001b[0;34m(lvalues, rvalues)\u001b[0m\n\u001b[1;32m    699\u001b[0m             \u001b[0;32mwith\u001b[0m \u001b[0mnp\u001b[0m\u001b[0;34m.\u001b[0m\u001b[0merrstate\u001b[0m\u001b[0;34m(\u001b[0m\u001b[0mall\u001b[0m\u001b[0;34m=\u001b[0m\u001b[0;34m'ignore'\u001b[0m\u001b[0;34m)\u001b[0m\u001b[0;34m:\u001b[0m\u001b[0;34m\u001b[0m\u001b[0;34m\u001b[0m\u001b[0m\n\u001b[0;32m--> 700\u001b[0;31m                 \u001b[0;32mreturn\u001b[0m \u001b[0mna_op\u001b[0m\u001b[0;34m(\u001b[0m\u001b[0mlvalues\u001b[0m\u001b[0;34m,\u001b[0m \u001b[0mrvalues\u001b[0m\u001b[0;34m)\u001b[0m\u001b[0;34m\u001b[0m\u001b[0;34m\u001b[0m\u001b[0m\n\u001b[0m\u001b[1;32m    701\u001b[0m         \u001b[0;32mexcept\u001b[0m \u001b[0mException\u001b[0m\u001b[0;34m:\u001b[0m\u001b[0;34m\u001b[0m\u001b[0;34m\u001b[0m\u001b[0m\n",
            "\u001b[0;32m/usr/local/lib/python3.6/dist-packages/pandas/core/ops.py\u001b[0m in \u001b[0;36mna_op\u001b[0;34m(x, y)\u001b[0m\n\u001b[1;32m    681\u001b[0m                 \u001b[0mmask\u001b[0m \u001b[0;34m=\u001b[0m \u001b[0mnotna\u001b[0m\u001b[0;34m(\u001b[0m\u001b[0mx\u001b[0m\u001b[0;34m)\u001b[0m \u001b[0;34m&\u001b[0m \u001b[0mnotna\u001b[0m\u001b[0;34m(\u001b[0m\u001b[0my\u001b[0m\u001b[0;34m)\u001b[0m\u001b[0;34m\u001b[0m\u001b[0;34m\u001b[0m\u001b[0m\n\u001b[0;32m--> 682\u001b[0;31m                 \u001b[0mresult\u001b[0m\u001b[0;34m[\u001b[0m\u001b[0mmask\u001b[0m\u001b[0;34m]\u001b[0m \u001b[0;34m=\u001b[0m \u001b[0mop\u001b[0m\u001b[0;34m(\u001b[0m\u001b[0mx\u001b[0m\u001b[0;34m[\u001b[0m\u001b[0mmask\u001b[0m\u001b[0;34m]\u001b[0m\u001b[0;34m,\u001b[0m \u001b[0m_values_from_object\u001b[0m\u001b[0;34m(\u001b[0m\u001b[0my\u001b[0m\u001b[0;34m[\u001b[0m\u001b[0mmask\u001b[0m\u001b[0;34m]\u001b[0m\u001b[0;34m)\u001b[0m\u001b[0;34m)\u001b[0m\u001b[0;34m\u001b[0m\u001b[0;34m\u001b[0m\u001b[0m\n\u001b[0m\u001b[1;32m    683\u001b[0m             \u001b[0;32melif\u001b[0m \u001b[0misinstance\u001b[0m\u001b[0;34m(\u001b[0m\u001b[0mx\u001b[0m\u001b[0;34m,\u001b[0m \u001b[0mnp\u001b[0m\u001b[0;34m.\u001b[0m\u001b[0mndarray\u001b[0m\u001b[0;34m)\u001b[0m\u001b[0;34m:\u001b[0m\u001b[0;34m\u001b[0m\u001b[0;34m\u001b[0m\u001b[0m\n",
            "\u001b[0;31mTypeError\u001b[0m: can't multiply sequence by non-int of type 'str'",
            "\nDuring handling of the above exception, another exception occurred:\n",
            "\u001b[0;31mTypeError\u001b[0m                                 Traceback (most recent call last)",
            "\u001b[0;32m<ipython-input-67-7bdda3d22baa>\u001b[0m in \u001b[0;36m<module>\u001b[0;34m()\u001b[0m\n\u001b[0;32m----> 1\u001b[0;31m \u001b[0mdf\u001b[0m\u001b[0;34m[\u001b[0m\u001b[0;34m'height'\u001b[0m\u001b[0;34m]\u001b[0m \u001b[0;34m*\u001b[0m \u001b[0mdf\u001b[0m\u001b[0;34m[\u001b[0m\u001b[0;34m'width'\u001b[0m\u001b[0;34m]\u001b[0m\u001b[0;34m\u001b[0m\u001b[0;34m\u001b[0m\u001b[0m\n\u001b[0m\u001b[1;32m      2\u001b[0m \u001b[0;31m#we will get error for this line as they are object types, not value types\u001b[0m\u001b[0;34m\u001b[0m\u001b[0;34m\u001b[0m\u001b[0;34m\u001b[0m\u001b[0m\n",
            "\u001b[0;32m/usr/local/lib/python3.6/dist-packages/pandas/core/ops.py\u001b[0m in \u001b[0;36mwrapper\u001b[0;34m(left, right, name, na_op)\u001b[0m\n\u001b[1;32m    737\u001b[0m                 \u001b[0mlvalues\u001b[0m \u001b[0;34m=\u001b[0m \u001b[0mlvalues\u001b[0m\u001b[0;34m.\u001b[0m\u001b[0mvalues\u001b[0m\u001b[0;34m\u001b[0m\u001b[0;34m\u001b[0m\u001b[0m\n\u001b[1;32m    738\u001b[0m \u001b[0;34m\u001b[0m\u001b[0m\n\u001b[0;32m--> 739\u001b[0;31m         \u001b[0mresult\u001b[0m \u001b[0;34m=\u001b[0m \u001b[0mwrap_results\u001b[0m\u001b[0;34m(\u001b[0m\u001b[0msafe_na_op\u001b[0m\u001b[0;34m(\u001b[0m\u001b[0mlvalues\u001b[0m\u001b[0;34m,\u001b[0m \u001b[0mrvalues\u001b[0m\u001b[0;34m)\u001b[0m\u001b[0;34m)\u001b[0m\u001b[0;34m\u001b[0m\u001b[0;34m\u001b[0m\u001b[0m\n\u001b[0m\u001b[1;32m    740\u001b[0m         return construct_result(\n\u001b[1;32m    741\u001b[0m             \u001b[0mleft\u001b[0m\u001b[0;34m,\u001b[0m\u001b[0;34m\u001b[0m\u001b[0;34m\u001b[0m\u001b[0m\n",
            "\u001b[0;32m/usr/local/lib/python3.6/dist-packages/pandas/core/ops.py\u001b[0m in \u001b[0;36msafe_na_op\u001b[0;34m(lvalues, rvalues)\u001b[0m\n\u001b[1;32m    708\u001b[0m                 \u001b[0;32mif\u001b[0m \u001b[0mis_object_dtype\u001b[0m\u001b[0;34m(\u001b[0m\u001b[0mlvalues\u001b[0m\u001b[0;34m)\u001b[0m\u001b[0;34m:\u001b[0m\u001b[0;34m\u001b[0m\u001b[0;34m\u001b[0m\u001b[0m\n\u001b[1;32m    709\u001b[0m                     return libalgos.arrmap_object(lvalues,\n\u001b[0;32m--> 710\u001b[0;31m                                                   lambda x: op(x, rvalues))\n\u001b[0m\u001b[1;32m    711\u001b[0m             \u001b[0;32mraise\u001b[0m\u001b[0;34m\u001b[0m\u001b[0;34m\u001b[0m\u001b[0m\n\u001b[1;32m    712\u001b[0m \u001b[0;34m\u001b[0m\u001b[0m\n",
            "\u001b[0;32mpandas/_libs/algos_common_helper.pxi\u001b[0m in \u001b[0;36mpandas._libs.algos.arrmap_object\u001b[0;34m()\u001b[0m\n",
            "\u001b[0;32m/usr/local/lib/python3.6/dist-packages/pandas/core/ops.py\u001b[0m in \u001b[0;36m<lambda>\u001b[0;34m(x)\u001b[0m\n\u001b[1;32m    708\u001b[0m                 \u001b[0;32mif\u001b[0m \u001b[0mis_object_dtype\u001b[0m\u001b[0;34m(\u001b[0m\u001b[0mlvalues\u001b[0m\u001b[0;34m)\u001b[0m\u001b[0;34m:\u001b[0m\u001b[0;34m\u001b[0m\u001b[0;34m\u001b[0m\u001b[0m\n\u001b[1;32m    709\u001b[0m                     return libalgos.arrmap_object(lvalues,\n\u001b[0;32m--> 710\u001b[0;31m                                                   lambda x: op(x, rvalues))\n\u001b[0m\u001b[1;32m    711\u001b[0m             \u001b[0;32mraise\u001b[0m\u001b[0;34m\u001b[0m\u001b[0;34m\u001b[0m\u001b[0m\n\u001b[1;32m    712\u001b[0m \u001b[0;34m\u001b[0m\u001b[0m\n",
            "\u001b[0;31mTypeError\u001b[0m: can't multiply sequence by non-int of type 'str'"
          ]
        }
      ]
    },
    {
      "cell_type": "code",
      "metadata": {
        "id": "5eczi6mCE8-U",
        "colab_type": "code",
        "outputId": "1236cda3-5f2d-4456-e3bc-675205b8a65c",
        "colab": {
          "base_uri": "https://localhost:8080/",
          "height": 34
        }
      },
      "source": [
        "type(df['height'])"
      ],
      "execution_count": 0,
      "outputs": [
        {
          "output_type": "execute_result",
          "data": {
            "text/plain": [
              "pandas.core.series.Series"
            ]
          },
          "metadata": {
            "tags": []
          },
          "execution_count": 41
        }
      ]
    },
    {
      "cell_type": "code",
      "metadata": {
        "id": "Lgp2ktsTFi7S",
        "colab_type": "code",
        "outputId": "25986a82-bcbf-4ba2-99cb-8b67022fbed3",
        "colab": {
          "base_uri": "https://localhost:8080/",
          "height": 34
        }
      },
      "source": [
        "type(df['width'])"
      ],
      "execution_count": 0,
      "outputs": [
        {
          "output_type": "execute_result",
          "data": {
            "text/plain": [
              "pandas.core.series.Series"
            ]
          },
          "metadata": {
            "tags": []
          },
          "execution_count": 42
        }
      ]
    },
    {
      "cell_type": "code",
      "metadata": {
        "id": "9vPsrWmOFm75",
        "colab_type": "code",
        "outputId": "550ed83e-6cd7-47aa-a277-8c93c144b039",
        "colab": {
          "base_uri": "https://localhost:8080/",
          "height": 1088
        }
      },
      "source": [
        "df['width']"
      ],
      "execution_count": 0,
      "outputs": [
        {
          "output_type": "execute_result",
          "data": {
            "text/plain": [
              "id\n",
              "1035       394\n",
              "1036       311\n",
              "1037       343\n",
              "1038       318\n",
              "1039       243\n",
              "1040       240\n",
              "1041       242\n",
              "1042       246\n",
              "1043       241\n",
              "1044       243\n",
              "1045       236\n",
              "1046       184\n",
              "1047       197\n",
              "1048       197\n",
              "1049       200\n",
              "1050       198\n",
              "1051       198\n",
              "1052       198\n",
              "1053       199\n",
              "1054       198\n",
              "1055       198\n",
              "1056       197\n",
              "1057       200\n",
              "1058       198\n",
              "1059       191\n",
              "1060       200\n",
              "1061       186\n",
              "1062       200\n",
              "1063       198\n",
              "1064       197\n",
              "          ... \n",
              "121196     558\n",
              "121197     380\n",
              "121198     560\n",
              "115637     NaN\n",
              "115638     NaN\n",
              "122545    2093\n",
              "120104     NaN\n",
              "121565     NaN\n",
              "116157     NaN\n",
              "117761     NaN\n",
              "115217     NaN\n",
              "122537     NaN\n",
              "120527     NaN\n",
              "127128     368\n",
              "127129     705\n",
              "127130     408\n",
              "127131     410\n",
              "121283     NaN\n",
              "129068      57\n",
              "117863     NaN\n",
              "120549     NaN\n",
              "123620     810\n",
              "122900     NaN\n",
              "122958     305\n",
              "122959     305\n",
              "122960     305\n",
              "122961     305\n",
              "121181      45\n",
              "112306     NaN\n",
              "127035     508\n",
              "Name: width, Length: 69201, dtype: object"
            ]
          },
          "metadata": {
            "tags": []
          },
          "execution_count": 43
        }
      ]
    },
    {
      "cell_type": "code",
      "metadata": {
        "id": "mM6tln63F1JJ",
        "colab_type": "code",
        "outputId": "6d174088-62b0-4e7d-e282-01e9412091ea",
        "colab": {
          "base_uri": "https://localhost:8080/",
          "height": 136
        }
      },
      "source": [
        "#The problem is that our input data is dirty. Let's check what is wrong. \n",
        "df['width'].sort_values().head()\n",
        "#these contains strings..."
      ],
      "execution_count": 0,
      "outputs": [
        {
          "output_type": "execute_result",
          "data": {
            "text/plain": [
              "id\n",
              "20822            (1):\n",
              "105337    (diameter):\n",
              "98671         (each):\n",
              "76420         (each):\n",
              "91391        (image):\n",
              "Name: width, dtype: object"
            ]
          },
          "metadata": {
            "tags": []
          },
          "execution_count": 44
        }
      ]
    },
    {
      "cell_type": "code",
      "metadata": {
        "id": "vOKHFxUrGOIq",
        "colab_type": "code",
        "outputId": "6319dc5a-54e3-4b53-85f7-7eb1e74ddaec",
        "colab": {
          "base_uri": "https://localhost:8080/",
          "height": 136
        }
      },
      "source": [
        "df['width'].sort_values().tail()\n",
        "#NaN stands for Not a Number. These are originally missing values."
      ],
      "execution_count": 0,
      "outputs": [
        {
          "output_type": "execute_result",
          "data": {
            "text/plain": [
              "id\n",
              "121283    NaN\n",
              "117863    NaN\n",
              "120549    NaN\n",
              "122900    NaN\n",
              "112306    NaN\n",
              "Name: width, dtype: object"
            ]
          },
          "metadata": {
            "tags": []
          },
          "execution_count": 45
        }
      ]
    },
    {
      "cell_type": "code",
      "metadata": {
        "id": "WRteAYJaGZOb",
        "colab_type": "code",
        "colab": {}
      },
      "source": [
        "df.loc[: , 'width'] = pd.to_numeric(df['width'], errors='coerce')\n",
        "#coerce is used to remove all errors and still convert to numeric type.\n",
        "#look at the dtype now. Float64 while it was object previously. "
      ],
      "execution_count": 0,
      "outputs": []
    },
    {
      "cell_type": "code",
      "metadata": {
        "id": "uZlse1idHSIi",
        "colab_type": "code",
        "outputId": "3926d463-74fd-4254-a9c6-d0ed65becb2f",
        "colab": {
          "base_uri": "https://localhost:8080/",
          "height": 136
        }
      },
      "source": [
        "df['width'].sort_values().head()"
      ],
      "execution_count": 0,
      "outputs": [
        {
          "output_type": "execute_result",
          "data": {
            "text/plain": [
              "id\n",
              "9453      3.0\n",
              "21771     5.0\n",
              "21770     9.0\n",
              "8976     10.0\n",
              "509      10.0\n",
              "Name: width, dtype: float64"
            ]
          },
          "metadata": {
            "tags": []
          },
          "execution_count": 74
        }
      ]
    },
    {
      "cell_type": "code",
      "metadata": {
        "id": "sktdydW6Hd0D",
        "colab_type": "code",
        "colab": {}
      },
      "source": [
        "#repeat for height column\n",
        "\n",
        "df.loc[: , 'height'] = pd.to_numeric(df['height'], errors='coerce')"
      ],
      "execution_count": 0,
      "outputs": []
    },
    {
      "cell_type": "code",
      "metadata": {
        "id": "vF4CnTGKHvpL",
        "colab_type": "code",
        "outputId": "68efb5a8-35ab-42cc-b3c0-742610de336d",
        "colab": {
          "base_uri": "https://localhost:8080/",
          "height": 1088
        }
      },
      "source": [
        "df['height'] * df['width']"
      ],
      "execution_count": 0,
      "outputs": [
        {
          "output_type": "execute_result",
          "data": {
            "text/plain": [
              "id\n",
              "1035       165086.0\n",
              "1036        66243.0\n",
              "1037       160181.0\n",
              "1038       125292.0\n",
              "1039        81405.0\n",
              "1040        81120.0\n",
              "1041        80828.0\n",
              "1042        83640.0\n",
              "1043        80735.0\n",
              "1044        82620.0\n",
              "1045        80240.0\n",
              "1046        27600.0\n",
              "1047        29747.0\n",
              "1048        30141.0\n",
              "1049        30400.0\n",
              "1050        30096.0\n",
              "1051        30294.0\n",
              "1052        30294.0\n",
              "1053        29850.0\n",
              "1054        30096.0\n",
              "1055        30096.0\n",
              "1056        29944.0\n",
              "1057        30200.0\n",
              "1058        29898.0\n",
              "1059        28650.0\n",
              "1060        30200.0\n",
              "1061        27900.0\n",
              "1062        30200.0\n",
              "1063        29700.0\n",
              "1064        29550.0\n",
              "            ...    \n",
              "121196     424080.0\n",
              "121197     215080.0\n",
              "121198     426720.0\n",
              "115637          NaN\n",
              "115638          NaN\n",
              "122545    3514147.0\n",
              "120104          NaN\n",
              "121565          NaN\n",
              "116157          NaN\n",
              "117761          NaN\n",
              "115217          NaN\n",
              "122537          NaN\n",
              "120527          NaN\n",
              "127128      98256.0\n",
              "127129     331350.0\n",
              "127130      83640.0\n",
              "127131     129970.0\n",
              "121283          NaN\n",
              "129068       3249.0\n",
              "117863          NaN\n",
              "120549          NaN\n",
              "123620     935550.0\n",
              "122900          NaN\n",
              "122958      93025.0\n",
              "122959      93025.0\n",
              "122960      93025.0\n",
              "122961      93025.0\n",
              "121181     108450.0\n",
              "112306          NaN\n",
              "127035     335280.0\n",
              "Length: 69201, dtype: float64"
            ]
          },
          "metadata": {
            "tags": []
          },
          "execution_count": 76
        }
      ]
    },
    {
      "cell_type": "code",
      "metadata": {
        "id": "Oz3edUW3H7ay",
        "colab_type": "code",
        "colab": {}
      },
      "source": [
        "#Assign to create a new column in your dataset\n",
        "df = df.assign(area = df['height'] * df['width'])"
      ],
      "execution_count": 0,
      "outputs": []
    },
    {
      "cell_type": "code",
      "metadata": {
        "id": "bxFUwq4SIQXC",
        "colab_type": "code",
        "outputId": "4f19d02c-5d55-47c8-ba3b-d1b61b90c550",
        "colab": {
          "base_uri": "https://localhost:8080/",
          "height": 320
        }
      },
      "source": [
        "df.head()"
      ],
      "execution_count": 0,
      "outputs": [
        {
          "output_type": "execute_result",
          "data": {
            "text/html": [
              "<div>\n",
              "<style scoped>\n",
              "    .dataframe tbody tr th:only-of-type {\n",
              "        vertical-align: middle;\n",
              "    }\n",
              "\n",
              "    .dataframe tbody tr th {\n",
              "        vertical-align: top;\n",
              "    }\n",
              "\n",
              "    .dataframe thead th {\n",
              "        text-align: right;\n",
              "    }\n",
              "</style>\n",
              "<table border=\"1\" class=\"dataframe\">\n",
              "  <thead>\n",
              "    <tr style=\"text-align: right;\">\n",
              "      <th></th>\n",
              "      <th>artist</th>\n",
              "      <th>title</th>\n",
              "      <th>medium</th>\n",
              "      <th>year</th>\n",
              "      <th>acquisitionYear</th>\n",
              "      <th>width</th>\n",
              "      <th>height</th>\n",
              "      <th>units</th>\n",
              "      <th>area</th>\n",
              "    </tr>\n",
              "    <tr>\n",
              "      <th>id</th>\n",
              "      <th></th>\n",
              "      <th></th>\n",
              "      <th></th>\n",
              "      <th></th>\n",
              "      <th></th>\n",
              "      <th></th>\n",
              "      <th></th>\n",
              "      <th></th>\n",
              "      <th></th>\n",
              "    </tr>\n",
              "  </thead>\n",
              "  <tbody>\n",
              "    <tr>\n",
              "      <th>1035</th>\n",
              "      <td>Blake, Robert</td>\n",
              "      <td>A Figure Bowing before a Seated Old Man with h...</td>\n",
              "      <td>Watercolour, ink, chalk and graphite on paper....</td>\n",
              "      <td>NaN</td>\n",
              "      <td>1922.0</td>\n",
              "      <td>394.0</td>\n",
              "      <td>419.0</td>\n",
              "      <td>mm</td>\n",
              "      <td>165086.0</td>\n",
              "    </tr>\n",
              "    <tr>\n",
              "      <th>1036</th>\n",
              "      <td>Blake, Robert</td>\n",
              "      <td>Two Drawings of Frightened Figures, Probably f...</td>\n",
              "      <td>Graphite on paper</td>\n",
              "      <td>NaN</td>\n",
              "      <td>1922.0</td>\n",
              "      <td>311.0</td>\n",
              "      <td>213.0</td>\n",
              "      <td>mm</td>\n",
              "      <td>66243.0</td>\n",
              "    </tr>\n",
              "    <tr>\n",
              "      <th>1037</th>\n",
              "      <td>Blake, Robert</td>\n",
              "      <td>The Preaching of Warning. Verso: An Old Man En...</td>\n",
              "      <td>Graphite on paper. Verso: graphite on paper</td>\n",
              "      <td>1785</td>\n",
              "      <td>1922.0</td>\n",
              "      <td>343.0</td>\n",
              "      <td>467.0</td>\n",
              "      <td>mm</td>\n",
              "      <td>160181.0</td>\n",
              "    </tr>\n",
              "    <tr>\n",
              "      <th>1038</th>\n",
              "      <td>Blake, Robert</td>\n",
              "      <td>Six Drawings of Figures with Outstretched Arms</td>\n",
              "      <td>Graphite on paper</td>\n",
              "      <td>NaN</td>\n",
              "      <td>1922.0</td>\n",
              "      <td>318.0</td>\n",
              "      <td>394.0</td>\n",
              "      <td>mm</td>\n",
              "      <td>125292.0</td>\n",
              "    </tr>\n",
              "    <tr>\n",
              "      <th>1039</th>\n",
              "      <td>Blake, William</td>\n",
              "      <td>The Circle of the Lustful: Francesca da Rimini...</td>\n",
              "      <td>Line engraving on paper</td>\n",
              "      <td>1826</td>\n",
              "      <td>1919.0</td>\n",
              "      <td>243.0</td>\n",
              "      <td>335.0</td>\n",
              "      <td>mm</td>\n",
              "      <td>81405.0</td>\n",
              "    </tr>\n",
              "  </tbody>\n",
              "</table>\n",
              "</div>"
            ],
            "text/plain": [
              "              artist                                              title  \\\n",
              "id                                                                        \n",
              "1035   Blake, Robert  A Figure Bowing before a Seated Old Man with h...   \n",
              "1036   Blake, Robert  Two Drawings of Frightened Figures, Probably f...   \n",
              "1037   Blake, Robert  The Preaching of Warning. Verso: An Old Man En...   \n",
              "1038   Blake, Robert     Six Drawings of Figures with Outstretched Arms   \n",
              "1039  Blake, William  The Circle of the Lustful: Francesca da Rimini...   \n",
              "\n",
              "                                                 medium  year  \\\n",
              "id                                                              \n",
              "1035  Watercolour, ink, chalk and graphite on paper....   NaN   \n",
              "1036                                  Graphite on paper   NaN   \n",
              "1037        Graphite on paper. Verso: graphite on paper  1785   \n",
              "1038                                  Graphite on paper   NaN   \n",
              "1039                            Line engraving on paper  1826   \n",
              "\n",
              "      acquisitionYear  width  height units      area  \n",
              "id                                                    \n",
              "1035           1922.0  394.0   419.0    mm  165086.0  \n",
              "1036           1922.0  311.0   213.0    mm   66243.0  \n",
              "1037           1922.0  343.0   467.0    mm  160181.0  \n",
              "1038           1922.0  318.0   394.0    mm  125292.0  \n",
              "1039           1919.0  243.0   335.0    mm   81405.0  "
            ]
          },
          "metadata": {
            "tags": []
          },
          "execution_count": 78
        }
      ]
    },
    {
      "cell_type": "code",
      "metadata": {
        "id": "tTPad2ItIS4V",
        "colab_type": "code",
        "outputId": "fc6b94ff-4514-458e-d523-eea1ac5a25eb",
        "colab": {
          "base_uri": "https://localhost:8080/",
          "height": 34
        }
      },
      "source": [
        "df['area'].max()"
      ],
      "execution_count": 0,
      "outputs": [
        {
          "output_type": "execute_result",
          "data": {
            "text/plain": [
              "132462000.0"
            ]
          },
          "metadata": {
            "tags": []
          },
          "execution_count": 79
        }
      ]
    },
    {
      "cell_type": "code",
      "metadata": {
        "id": "PCx7TzAtIkJd",
        "colab_type": "code",
        "outputId": "b6b4bacb-ea57-4745-d409-2469df07d862",
        "colab": {
          "base_uri": "https://localhost:8080/",
          "height": 34
        }
      },
      "source": [
        "df['area'].idxmax()"
      ],
      "execution_count": 0,
      "outputs": [
        {
          "output_type": "execute_result",
          "data": {
            "text/plain": [
              "98367"
            ]
          },
          "metadata": {
            "tags": []
          },
          "execution_count": 80
        }
      ]
    },
    {
      "cell_type": "code",
      "metadata": {
        "id": "IwXCbMrvIniy",
        "colab_type": "code",
        "outputId": "a32c0a1e-2423-4f1d-ae15-ff0a4fb172fa",
        "colab": {
          "base_uri": "https://localhost:8080/",
          "height": 34
        }
      },
      "source": [
        "type(df.loc[df['area'].idxmax(), : ])"
      ],
      "execution_count": 0,
      "outputs": [
        {
          "output_type": "execute_result",
          "data": {
            "text/plain": [
              "pandas.core.series.Series"
            ]
          },
          "metadata": {
            "tags": []
          },
          "execution_count": 87
        }
      ]
    },
    {
      "cell_type": "code",
      "metadata": {
        "id": "YVV-OBcgI6Qq",
        "colab_type": "code",
        "colab": {}
      },
      "source": [
        ""
      ],
      "execution_count": 0,
      "outputs": []
    },
    {
      "cell_type": "markdown",
      "metadata": {
        "id": "dLXptEpdMAxK",
        "colab_type": "text"
      },
      "source": [
        "##Groups\n",
        "\n",
        "Aggregation : Example -\n",
        "What was the first acquired artwork for each artist?\n",
        "\n",
        "Transformation : Missing Values - Nan\n",
        "Remove the row\n",
        "replace value with mean/median/mode.\n",
        "\n",
        "Filtering : Select only those rows that matter to us. Data of united states in countries.csv dataset.\n"
      ]
    },
    {
      "cell_type": "code",
      "metadata": {
        "id": "9r8kNrCmOW0X",
        "colab_type": "code",
        "outputId": "b8c3e524-efd9-4c5d-d02c-e36b0ba7943b",
        "colab": {
          "base_uri": "https://localhost:8080/",
          "height": 34
        }
      },
      "source": [
        "df.groupby('artist')"
      ],
      "execution_count": 0,
      "outputs": [
        {
          "output_type": "execute_result",
          "data": {
            "text/plain": [
              "<pandas.core.groupby.DataFrameGroupBy object at 0x7f7c62f628d0>"
            ]
          },
          "metadata": {
            "tags": []
          },
          "execution_count": 88
        }
      ]
    },
    {
      "cell_type": "code",
      "metadata": {
        "id": "NVGf5eEUOhe8",
        "colab_type": "code",
        "colab": {}
      },
      "source": [
        "#making a smaller slice\n",
        "small_df = df.iloc[49980 : 50019,  : ].copy()"
      ],
      "execution_count": 0,
      "outputs": []
    },
    {
      "cell_type": "code",
      "metadata": {
        "id": "trNKM9g-Rotw",
        "colab_type": "code",
        "outputId": "7d3c869f-ebf5-440c-e91d-e1c73a3158c0",
        "colab": {
          "base_uri": "https://localhost:8080/",
          "height": 34
        }
      },
      "source": [
        "small_df.shape"
      ],
      "execution_count": 0,
      "outputs": [
        {
          "output_type": "execute_result",
          "data": {
            "text/plain": [
              "(39, 8)"
            ]
          },
          "metadata": {
            "tags": []
          },
          "execution_count": 16
        }
      ]
    },
    {
      "cell_type": "code",
      "metadata": {
        "id": "1P_NJy95RrF3",
        "colab_type": "code",
        "outputId": "7c400ad9-015b-47de-ecd3-4bb7bb888835",
        "colab": {
          "base_uri": "https://localhost:8080/",
          "height": 235
        }
      },
      "source": [
        "small_df.head()"
      ],
      "execution_count": 0,
      "outputs": [
        {
          "output_type": "execute_result",
          "data": {
            "text/html": [
              "<div>\n",
              "<style scoped>\n",
              "    .dataframe tbody tr th:only-of-type {\n",
              "        vertical-align: middle;\n",
              "    }\n",
              "\n",
              "    .dataframe tbody tr th {\n",
              "        vertical-align: top;\n",
              "    }\n",
              "\n",
              "    .dataframe thead th {\n",
              "        text-align: right;\n",
              "    }\n",
              "</style>\n",
              "<table border=\"1\" class=\"dataframe\">\n",
              "  <thead>\n",
              "    <tr style=\"text-align: right;\">\n",
              "      <th></th>\n",
              "      <th>artist</th>\n",
              "      <th>title</th>\n",
              "      <th>medium</th>\n",
              "      <th>year</th>\n",
              "      <th>acquisitionYear</th>\n",
              "      <th>width</th>\n",
              "      <th>height</th>\n",
              "      <th>units</th>\n",
              "    </tr>\n",
              "    <tr>\n",
              "      <th>id</th>\n",
              "      <th></th>\n",
              "      <th></th>\n",
              "      <th></th>\n",
              "      <th></th>\n",
              "      <th></th>\n",
              "      <th></th>\n",
              "      <th></th>\n",
              "      <th></th>\n",
              "    </tr>\n",
              "  </thead>\n",
              "  <tbody>\n",
              "    <tr>\n",
              "      <th>16412</th>\n",
              "      <td>Wols</td>\n",
              "      <td>[no title]</td>\n",
              "      <td>Etching on paper</td>\n",
              "      <td>1937</td>\n",
              "      <td>1983.0</td>\n",
              "      <td>130</td>\n",
              "      <td>80</td>\n",
              "      <td>mm</td>\n",
              "    </tr>\n",
              "    <tr>\n",
              "      <th>16413</th>\n",
              "      <td>Wols</td>\n",
              "      <td>[no title]</td>\n",
              "      <td>Etching and drypoint on paper</td>\n",
              "      <td>1937</td>\n",
              "      <td>1983.0</td>\n",
              "      <td>187</td>\n",
              "      <td>102</td>\n",
              "      <td>mm</td>\n",
              "    </tr>\n",
              "    <tr>\n",
              "      <th>16414</th>\n",
              "      <td>Wols</td>\n",
              "      <td>[no title]</td>\n",
              "      <td>Etching and drypoint on paper</td>\n",
              "      <td>1937</td>\n",
              "      <td>1983.0</td>\n",
              "      <td>248</td>\n",
              "      <td>168</td>\n",
              "      <td>mm</td>\n",
              "    </tr>\n",
              "    <tr>\n",
              "      <th>16415</th>\n",
              "      <td>Wols</td>\n",
              "      <td>[no title]</td>\n",
              "      <td>Etching and drypoint on paper</td>\n",
              "      <td>1937</td>\n",
              "      <td>1983.0</td>\n",
              "      <td>149</td>\n",
              "      <td>102</td>\n",
              "      <td>mm</td>\n",
              "    </tr>\n",
              "    <tr>\n",
              "      <th>16416</th>\n",
              "      <td>Wols</td>\n",
              "      <td>[no title]</td>\n",
              "      <td>Etching and drypoint on paper</td>\n",
              "      <td>1937</td>\n",
              "      <td>1983.0</td>\n",
              "      <td>203</td>\n",
              "      <td>120</td>\n",
              "      <td>mm</td>\n",
              "    </tr>\n",
              "  </tbody>\n",
              "</table>\n",
              "</div>"
            ],
            "text/plain": [
              "      artist       title                         medium  year  \\\n",
              "id                                                              \n",
              "16412   Wols  [no title]               Etching on paper  1937   \n",
              "16413   Wols  [no title]  Etching and drypoint on paper  1937   \n",
              "16414   Wols  [no title]  Etching and drypoint on paper  1937   \n",
              "16415   Wols  [no title]  Etching and drypoint on paper  1937   \n",
              "16416   Wols  [no title]  Etching and drypoint on paper  1937   \n",
              "\n",
              "       acquisitionYear width height units  \n",
              "id                                         \n",
              "16412           1983.0   130     80    mm  \n",
              "16413           1983.0   187    102    mm  \n",
              "16414           1983.0   248    168    mm  \n",
              "16415           1983.0   149    102    mm  \n",
              "16416           1983.0   203    120    mm  "
            ]
          },
          "metadata": {
            "tags": []
          },
          "execution_count": 17
        }
      ]
    },
    {
      "cell_type": "code",
      "metadata": {
        "id": "mVxlmESmRuea",
        "colab_type": "code",
        "colab": {}
      },
      "source": [
        "grouped = small_df.groupby('artist')"
      ],
      "execution_count": 0,
      "outputs": []
    },
    {
      "cell_type": "code",
      "metadata": {
        "id": "tvfoSUv3R5yB",
        "colab_type": "code",
        "outputId": "31ed7452-76e4-414c-a1c3-d131ecac4dd2",
        "colab": {
          "base_uri": "https://localhost:8080/",
          "height": 391
        }
      },
      "source": [
        "for name, group_df in grouped:\n",
        "  print(name)\n",
        "  print(group_df)\n",
        "  break"
      ],
      "execution_count": 0,
      "outputs": [
        {
          "output_type": "stream",
          "text": [
            "Frost, Sir Terry\n",
            "                artist            title               medium  year  \\\n",
            "id                                                                   \n",
            "4704  Frost, Sir Terry        Blue Moon  Lithograph on paper  1952   \n",
            "4705  Frost, Sir Terry      Boat Shapes     Linocut on paper  1952   \n",
            "4706  Frost, Sir Terry      Boat Shapes     Linocut on paper  1954   \n",
            "4707  Frost, Sir Terry      Boat Shapes     Linocut on paper  1954   \n",
            "4708  Frost, Sir Terry            Leeds    Drypoint on paper  1956   \n",
            "4709  Frost, Sir Terry  Camping, Anduze     Etching on paper  1979   \n",
            "4710  Frost, Sir Terry     Umea, Sweden     Etching on paper  1979   \n",
            "4711  Frost, Sir Terry    Self-Portrait     Etching on paper  1980   \n",
            "\n",
            "      acquisitionYear  width  height units     area  \n",
            "id                                                   \n",
            "4704           1983.0  355.0   273.0    mm  96915.0  \n",
            "4705           1983.0  132.0   143.0    mm  18876.0  \n",
            "4706           1983.0  131.0   155.0    mm  20305.0  \n",
            "4707           1983.0  193.0   267.0    mm  51531.0  \n",
            "4708           1983.0  125.0   167.0    mm  20875.0  \n",
            "4709           1983.0  257.0   209.0    mm  53713.0  \n",
            "4710           1983.0    NaN     NaN   NaN      NaN  \n",
            "4711           1983.0  277.0   200.0    mm  55400.0  \n"
          ],
          "name": "stdout"
        }
      ]
    },
    {
      "cell_type": "code",
      "metadata": {
        "id": "rRVCbRrVbm9a",
        "colab_type": "code",
        "outputId": "009fca53-ccbb-47cd-c8c4-bc0124e16ac8",
        "colab": {
          "base_uri": "https://localhost:8080/",
          "height": 68
        }
      },
      "source": [
        "#Aggregate\n",
        "#Mins\n",
        "for name, group_df in small_df.groupby('artist') :\n",
        "  min_year = group_df['acquisitionYear'].min()\n",
        "  print(\"{}: {}\".format(name, min_year))\n",
        "  \n"
      ],
      "execution_count": 0,
      "outputs": [
        {
          "output_type": "stream",
          "text": [
            "Frost, Sir Terry: 1983.0\n",
            "Phillips, Esq Tom: 1983.0\n",
            "Wols: 1983.0\n"
          ],
          "name": "stdout"
        }
      ]
    },
    {
      "cell_type": "code",
      "metadata": {
        "id": "8iKvuZLBq0ec",
        "colab_type": "code",
        "outputId": "5b69af04-59b4-4b5d-a2fd-c3cfd145b678",
        "colab": {
          "base_uri": "https://localhost:8080/",
          "height": 2000
        }
      },
      "source": [
        "#df.groupby('artist').agg(np.min)\n",
        "df.groupby('artist').min()"
      ],
      "execution_count": 0,
      "outputs": [
        {
          "output_type": "execute_result",
          "data": {
            "text/html": [
              "<div>\n",
              "<style scoped>\n",
              "    .dataframe tbody tr th:only-of-type {\n",
              "        vertical-align: middle;\n",
              "    }\n",
              "\n",
              "    .dataframe tbody tr th {\n",
              "        vertical-align: top;\n",
              "    }\n",
              "\n",
              "    .dataframe thead th {\n",
              "        text-align: right;\n",
              "    }\n",
              "</style>\n",
              "<table border=\"1\" class=\"dataframe\">\n",
              "  <thead>\n",
              "    <tr style=\"text-align: right;\">\n",
              "      <th></th>\n",
              "      <th>title</th>\n",
              "      <th>acquisitionYear</th>\n",
              "    </tr>\n",
              "    <tr>\n",
              "      <th>artist</th>\n",
              "      <th></th>\n",
              "      <th></th>\n",
              "    </tr>\n",
              "  </thead>\n",
              "  <tbody>\n",
              "    <tr>\n",
              "      <th>?British School</th>\n",
              "      <td>Portrait of a Gentleman, probably of the West ...</td>\n",
              "      <td>1927.0</td>\n",
              "    </tr>\n",
              "    <tr>\n",
              "      <th>Abakanowicz, Magdalena</th>\n",
              "      <td>Abakan Orange</td>\n",
              "      <td>2009.0</td>\n",
              "    </tr>\n",
              "    <tr>\n",
              "      <th>Abbey, Edwin Austin</th>\n",
              "      <td>Illustration to ‘Judith Shakespeare’</td>\n",
              "      <td>1924.0</td>\n",
              "    </tr>\n",
              "    <tr>\n",
              "      <th>Abbott, Berenice</th>\n",
              "      <td>Dinty Moore Antiques</td>\n",
              "      <td>2010.0</td>\n",
              "    </tr>\n",
              "    <tr>\n",
              "      <th>Abbott, Lemuel Francis</th>\n",
              "      <td>Henry Byne, of Carshalton</td>\n",
              "      <td>1885.0</td>\n",
              "    </tr>\n",
              "    <tr>\n",
              "      <th>Abrahams, Ivor</th>\n",
              "      <td>A Dream Within a Dream</td>\n",
              "      <td>1975.0</td>\n",
              "    </tr>\n",
              "    <tr>\n",
              "      <th>Absalon</th>\n",
              "      <td>Assassinations</td>\n",
              "      <td>1997.0</td>\n",
              "    </tr>\n",
              "    <tr>\n",
              "      <th>Abts, Tomma</th>\n",
              "      <td>Noeme</td>\n",
              "      <td>2006.0</td>\n",
              "    </tr>\n",
              "    <tr>\n",
              "      <th>Acconci, Vito</th>\n",
              "      <td>3 Flags for 1 Space and 6 Regions</td>\n",
              "      <td>1982.0</td>\n",
              "    </tr>\n",
              "    <tr>\n",
              "      <th>Ackling, Roger</th>\n",
              "      <td>Five Sunsets in One Hour</td>\n",
              "      <td>1983.0</td>\n",
              "    </tr>\n",
              "    <tr>\n",
              "      <th>Ackroyd, Norman</th>\n",
              "      <td>1st Millbank Print</td>\n",
              "      <td>1975.0</td>\n",
              "    </tr>\n",
              "    <tr>\n",
              "      <th>Adam, Robert</th>\n",
              "      <td>A Chasm, with Figures</td>\n",
              "      <td>1996.0</td>\n",
              "    </tr>\n",
              "    <tr>\n",
              "      <th>Adams, Harry William</th>\n",
              "      <td>Winter’s Sleep</td>\n",
              "      <td>1900.0</td>\n",
              "    </tr>\n",
              "    <tr>\n",
              "      <th>Adams, Norman</th>\n",
              "      <td>Christ’s Cross and Adam’s Tree</td>\n",
              "      <td>1967.0</td>\n",
              "    </tr>\n",
              "    <tr>\n",
              "      <th>Adams, Robert</th>\n",
              "      <td>Figure</td>\n",
              "      <td>1962.0</td>\n",
              "    </tr>\n",
              "    <tr>\n",
              "      <th>Adeney, Bernard</th>\n",
              "      <td>Toy Sailing Boats, the Round Pond</td>\n",
              "      <td>1931.0</td>\n",
              "    </tr>\n",
              "    <tr>\n",
              "      <th>Adler, Jankel</th>\n",
              "      <td>No Man’s Land</td>\n",
              "      <td>1953.0</td>\n",
              "    </tr>\n",
              "    <tr>\n",
              "      <th>Adshead, Mary</th>\n",
              "      <td>Morning after the Flood</td>\n",
              "      <td>1997.0</td>\n",
              "    </tr>\n",
              "    <tr>\n",
              "      <th>Adzak, Roy</th>\n",
              "      <td>Cut Bottle Relief</td>\n",
              "      <td>1966.0</td>\n",
              "    </tr>\n",
              "    <tr>\n",
              "      <th>Afro</th>\n",
              "      <td>The Struggle</td>\n",
              "      <td>1955.0</td>\n",
              "    </tr>\n",
              "    <tr>\n",
              "      <th>Agar, Eileen</th>\n",
              "      <td>Angel of Anarchy</td>\n",
              "      <td>1962.0</td>\n",
              "    </tr>\n",
              "    <tr>\n",
              "      <th>Agasse, Jacques Laurent</th>\n",
              "      <td>Lord Rivers’s Groom Leading a Chestnut Hunter ...</td>\n",
              "      <td>1979.0</td>\n",
              "    </tr>\n",
              "    <tr>\n",
              "      <th>Ahtila, Eija-Liisa</th>\n",
              "      <td>Consolation Service</td>\n",
              "      <td>2001.0</td>\n",
              "    </tr>\n",
              "    <tr>\n",
              "      <th>Ai, Weiwei</th>\n",
              "      <td>Sunflower Seeds</td>\n",
              "      <td>2008.0</td>\n",
              "    </tr>\n",
              "    <tr>\n",
              "      <th>Aitchison, Craigie</th>\n",
              "      <td>Africa</td>\n",
              "      <td>1964.0</td>\n",
              "    </tr>\n",
              "    <tr>\n",
              "      <th>Ajmone, Giuseppe</th>\n",
              "      <td>Autumn</td>\n",
              "      <td>1960.0</td>\n",
              "    </tr>\n",
              "    <tr>\n",
              "      <th>Aksel, Erdag</th>\n",
              "      <td>Reflection of Craft</td>\n",
              "      <td>2011.0</td>\n",
              "    </tr>\n",
              "    <tr>\n",
              "      <th>Al-Ani, Jananne</th>\n",
              "      <td>The Visit</td>\n",
              "      <td>2009.0</td>\n",
              "    </tr>\n",
              "    <tr>\n",
              "      <th>Albers, Josef</th>\n",
              "      <td>Beta</td>\n",
              "      <td>1965.0</td>\n",
              "    </tr>\n",
              "    <tr>\n",
              "      <th>Albright, Ivan</th>\n",
              "      <td>Josephine Medill Paterson Albright</td>\n",
              "      <td>1978.0</td>\n",
              "    </tr>\n",
              "    <tr>\n",
              "      <th>...</th>\n",
              "      <td>...</td>\n",
              "      <td>...</td>\n",
              "    </tr>\n",
              "    <tr>\n",
              "      <th>Yass, Catherine</th>\n",
              "      <td>Bankside: Cherrypicker</td>\n",
              "      <td>1996.0</td>\n",
              "    </tr>\n",
              "    <tr>\n",
              "      <th>Yeames, William Frederick</th>\n",
              "      <td>Amy Robsart</td>\n",
              "      <td>1877.0</td>\n",
              "    </tr>\n",
              "    <tr>\n",
              "      <th>Yeats, Jack Butler</th>\n",
              "      <td>A Rose Among Many Waters</td>\n",
              "      <td>1925.0</td>\n",
              "    </tr>\n",
              "    <tr>\n",
              "      <th>Yhap, Laetitia</th>\n",
              "      <td>Michael Balling Up Old Net</td>\n",
              "      <td>1984.0</td>\n",
              "    </tr>\n",
              "    <tr>\n",
              "      <th>Yiadom-Boakye, Lynette</th>\n",
              "      <td>10pm Saturday</td>\n",
              "      <td>2012.0</td>\n",
              "    </tr>\n",
              "    <tr>\n",
              "      <th>Young, Carey</th>\n",
              "      <td>Body Techniques (after A Line in Ireland, Rich...</td>\n",
              "      <td>2006.0</td>\n",
              "    </tr>\n",
              "    <tr>\n",
              "      <th>Young, Robert</th>\n",
              "      <td>Sounds Inside</td>\n",
              "      <td>1975.0</td>\n",
              "    </tr>\n",
              "    <tr>\n",
              "      <th>Young-Hae Chang Heavy Industries (Young-Hae Chang, Marc Voge)</th>\n",
              "      <td>TEASER</td>\n",
              "      <td>2012.0</td>\n",
              "    </tr>\n",
              "    <tr>\n",
              "      <th>Young-Hunter, John</th>\n",
              "      <td>My Lady’s Garden</td>\n",
              "      <td>1899.0</td>\n",
              "    </tr>\n",
              "    <tr>\n",
              "      <th>Yuon, Konstantin</th>\n",
              "      <td>The Monastery at Zagorsk</td>\n",
              "      <td>1964.0</td>\n",
              "    </tr>\n",
              "    <tr>\n",
              "      <th>Yvaral, Jean-Pierre</th>\n",
              "      <td>Kinetic Relief - Optical Acceleration</td>\n",
              "      <td>1964.0</td>\n",
              "    </tr>\n",
              "    <tr>\n",
              "      <th>Zaatari, Akram</th>\n",
              "      <td>A fisherman with his daughters. Saqqa family h...</td>\n",
              "      <td>2008.0</td>\n",
              "    </tr>\n",
              "    <tr>\n",
              "      <th>Zack, Leon</th>\n",
              "      <td>Painting</td>\n",
              "      <td>1959.0</td>\n",
              "    </tr>\n",
              "    <tr>\n",
              "      <th>Zadkine, Ossip</th>\n",
              "      <td>Acrobat</td>\n",
              "      <td>1954.0</td>\n",
              "    </tr>\n",
              "    <tr>\n",
              "      <th>Zakanitch, Robert Rahway</th>\n",
              "      <td>Double Geese Mountain</td>\n",
              "      <td>2004.0</td>\n",
              "    </tr>\n",
              "    <tr>\n",
              "      <th>Zao, Wou-ki</th>\n",
              "      <td>Before the Storm</td>\n",
              "      <td>1958.0</td>\n",
              "    </tr>\n",
              "    <tr>\n",
              "      <th>Zhang, Enli</th>\n",
              "      <td>Bucket 3</td>\n",
              "      <td>2011.0</td>\n",
              "    </tr>\n",
              "    <tr>\n",
              "      <th>Ziegler, Toby</th>\n",
              "      <td>The Hedonistic Imperative (2nd version)</td>\n",
              "      <td>2006.0</td>\n",
              "    </tr>\n",
              "    <tr>\n",
              "      <th>Zipp, Thomas</th>\n",
              "      <td>achtung</td>\n",
              "      <td>2007.0</td>\n",
              "    </tr>\n",
              "    <tr>\n",
              "      <th>Zittel, Andrea</th>\n",
              "      <td>A-Z Comfort Unit with Special Comfort Features...</td>\n",
              "      <td>1996.0</td>\n",
              "    </tr>\n",
              "    <tr>\n",
              "      <th>Zmijewski, Artur</th>\n",
              "      <td>Democracies</td>\n",
              "      <td>2010.0</td>\n",
              "    </tr>\n",
              "    <tr>\n",
              "      <th>Zoffany, Johan</th>\n",
              "      <td>A Florentine Fruit Stall</td>\n",
              "      <td>1896.0</td>\n",
              "    </tr>\n",
              "    <tr>\n",
              "      <th>Zorio, Gilberto</th>\n",
              "      <td>Hatred</td>\n",
              "      <td>2009.0</td>\n",
              "    </tr>\n",
              "    <tr>\n",
              "      <th>Zox, Larry</th>\n",
              "      <td>Orange Time</td>\n",
              "      <td>1968.0</td>\n",
              "    </tr>\n",
              "    <tr>\n",
              "      <th>Zuccarelli, Francesco</th>\n",
              "      <td>A Landscape with the Story of Cadmus Killing t...</td>\n",
              "      <td>1985.0</td>\n",
              "    </tr>\n",
              "    <tr>\n",
              "      <th>Zuloaga, Ignacio</th>\n",
              "      <td>View of the Escorial</td>\n",
              "      <td>1923.0</td>\n",
              "    </tr>\n",
              "    <tr>\n",
              "      <th>Zyw, Aleksander</th>\n",
              "      <td>Light</td>\n",
              "      <td>1962.0</td>\n",
              "    </tr>\n",
              "    <tr>\n",
              "      <th>di Suvero, Mark</th>\n",
              "      <td>Tetra</td>\n",
              "      <td>2004.0</td>\n",
              "    </tr>\n",
              "    <tr>\n",
              "      <th>van Elk, Ger</th>\n",
              "      <td>Lunch II</td>\n",
              "      <td>1980.0</td>\n",
              "    </tr>\n",
              "    <tr>\n",
              "      <th>Štyrský, Jindrich</th>\n",
              "      <td>Untitled</td>\n",
              "      <td>2007.0</td>\n",
              "    </tr>\n",
              "  </tbody>\n",
              "</table>\n",
              "<p>3336 rows × 2 columns</p>\n",
              "</div>"
            ],
            "text/plain": [
              "                                                                                                title  \\\n",
              "artist                                                                                                  \n",
              "?British School                                     Portrait of a Gentleman, probably of the West ...   \n",
              "Abakanowicz, Magdalena                                                                  Abakan Orange   \n",
              "Abbey, Edwin Austin                                              Illustration to ‘Judith Shakespeare’   \n",
              "Abbott, Berenice                                                                 Dinty Moore Antiques   \n",
              "Abbott, Lemuel Francis                                                      Henry Byne, of Carshalton   \n",
              "Abrahams, Ivor                                                                 A Dream Within a Dream   \n",
              "Absalon                                                                                Assassinations   \n",
              "Abts, Tomma                                                                                     Noeme   \n",
              "Acconci, Vito                                                       3 Flags for 1 Space and 6 Regions   \n",
              "Ackling, Roger                                                               Five Sunsets in One Hour   \n",
              "Ackroyd, Norman                                                                    1st Millbank Print   \n",
              "Adam, Robert                                                                    A Chasm, with Figures   \n",
              "Adams, Harry William                                                                   Winter’s Sleep   \n",
              "Adams, Norman                                                          Christ’s Cross and Adam’s Tree   \n",
              "Adams, Robert                                                                                  Figure   \n",
              "Adeney, Bernard                                                     Toy Sailing Boats, the Round Pond   \n",
              "Adler, Jankel                                                                           No Man’s Land   \n",
              "Adshead, Mary                                                                 Morning after the Flood   \n",
              "Adzak, Roy                                                                          Cut Bottle Relief   \n",
              "Afro                                                                                     The Struggle   \n",
              "Agar, Eileen                                                                         Angel of Anarchy   \n",
              "Agasse, Jacques Laurent                             Lord Rivers’s Groom Leading a Chestnut Hunter ...   \n",
              "Ahtila, Eija-Liisa                                                                Consolation Service   \n",
              "Ai, Weiwei                                                                            Sunflower Seeds   \n",
              "Aitchison, Craigie                                                                             Africa   \n",
              "Ajmone, Giuseppe                                                                               Autumn   \n",
              "Aksel, Erdag                                                                      Reflection of Craft   \n",
              "Al-Ani, Jananne                                                                             The Visit   \n",
              "Albers, Josef                                                                                    Beta   \n",
              "Albright, Ivan                                                     Josephine Medill Paterson Albright   \n",
              "...                                                                                               ...   \n",
              "Yass, Catherine                                                                Bankside: Cherrypicker   \n",
              "Yeames, William Frederick                                                                 Amy Robsart   \n",
              "Yeats, Jack Butler                                                           A Rose Among Many Waters   \n",
              "Yhap, Laetitia                                                             Michael Balling Up Old Net   \n",
              "Yiadom-Boakye, Lynette                                                                  10pm Saturday   \n",
              "Young, Carey                                        Body Techniques (after A Line in Ireland, Rich...   \n",
              "Young, Robert                                                                           Sounds Inside   \n",
              "Young-Hae Chang Heavy Industries (Young-Hae Cha...                                             TEASER   \n",
              "Young-Hunter, John                                                                   My Lady’s Garden   \n",
              "Yuon, Konstantin                                                             The Monastery at Zagorsk   \n",
              "Yvaral, Jean-Pierre                                             Kinetic Relief - Optical Acceleration   \n",
              "Zaatari, Akram                                      A fisherman with his daughters. Saqqa family h...   \n",
              "Zack, Leon                                                                                   Painting   \n",
              "Zadkine, Ossip                                                                                Acrobat   \n",
              "Zakanitch, Robert Rahway                                                        Double Geese Mountain   \n",
              "Zao, Wou-ki                                                                          Before the Storm   \n",
              "Zhang, Enli                                                                                  Bucket 3   \n",
              "Ziegler, Toby                                                 The Hedonistic Imperative (2nd version)   \n",
              "Zipp, Thomas                                                                                  achtung   \n",
              "Zittel, Andrea                                      A-Z Comfort Unit with Special Comfort Features...   \n",
              "Zmijewski, Artur                                                                          Democracies   \n",
              "Zoffany, Johan                                                               A Florentine Fruit Stall   \n",
              "Zorio, Gilberto                                                                                Hatred   \n",
              "Zox, Larry                                                                                Orange Time   \n",
              "Zuccarelli, Francesco                               A Landscape with the Story of Cadmus Killing t...   \n",
              "Zuloaga, Ignacio                                                                 View of the Escorial   \n",
              "Zyw, Aleksander                                                                                 Light   \n",
              "di Suvero, Mark                                                                                 Tetra   \n",
              "van Elk, Ger                                                                                 Lunch II   \n",
              "Štyrský, Jindrich                                                                            Untitled   \n",
              "\n",
              "                                                    acquisitionYear  \n",
              "artist                                                               \n",
              "?British School                                              1927.0  \n",
              "Abakanowicz, Magdalena                                       2009.0  \n",
              "Abbey, Edwin Austin                                          1924.0  \n",
              "Abbott, Berenice                                             2010.0  \n",
              "Abbott, Lemuel Francis                                       1885.0  \n",
              "Abrahams, Ivor                                               1975.0  \n",
              "Absalon                                                      1997.0  \n",
              "Abts, Tomma                                                  2006.0  \n",
              "Acconci, Vito                                                1982.0  \n",
              "Ackling, Roger                                               1983.0  \n",
              "Ackroyd, Norman                                              1975.0  \n",
              "Adam, Robert                                                 1996.0  \n",
              "Adams, Harry William                                         1900.0  \n",
              "Adams, Norman                                                1967.0  \n",
              "Adams, Robert                                                1962.0  \n",
              "Adeney, Bernard                                              1931.0  \n",
              "Adler, Jankel                                                1953.0  \n",
              "Adshead, Mary                                                1997.0  \n",
              "Adzak, Roy                                                   1966.0  \n",
              "Afro                                                         1955.0  \n",
              "Agar, Eileen                                                 1962.0  \n",
              "Agasse, Jacques Laurent                                      1979.0  \n",
              "Ahtila, Eija-Liisa                                           2001.0  \n",
              "Ai, Weiwei                                                   2008.0  \n",
              "Aitchison, Craigie                                           1964.0  \n",
              "Ajmone, Giuseppe                                             1960.0  \n",
              "Aksel, Erdag                                                 2011.0  \n",
              "Al-Ani, Jananne                                              2009.0  \n",
              "Albers, Josef                                                1965.0  \n",
              "Albright, Ivan                                               1978.0  \n",
              "...                                                             ...  \n",
              "Yass, Catherine                                              1996.0  \n",
              "Yeames, William Frederick                                    1877.0  \n",
              "Yeats, Jack Butler                                           1925.0  \n",
              "Yhap, Laetitia                                               1984.0  \n",
              "Yiadom-Boakye, Lynette                                       2012.0  \n",
              "Young, Carey                                                 2006.0  \n",
              "Young, Robert                                                1975.0  \n",
              "Young-Hae Chang Heavy Industries (Young-Hae Cha...           2012.0  \n",
              "Young-Hunter, John                                           1899.0  \n",
              "Yuon, Konstantin                                             1964.0  \n",
              "Yvaral, Jean-Pierre                                          1964.0  \n",
              "Zaatari, Akram                                               2008.0  \n",
              "Zack, Leon                                                   1959.0  \n",
              "Zadkine, Ossip                                               1954.0  \n",
              "Zakanitch, Robert Rahway                                     2004.0  \n",
              "Zao, Wou-ki                                                  1958.0  \n",
              "Zhang, Enli                                                  2011.0  \n",
              "Ziegler, Toby                                                2006.0  \n",
              "Zipp, Thomas                                                 2007.0  \n",
              "Zittel, Andrea                                               1996.0  \n",
              "Zmijewski, Artur                                             2010.0  \n",
              "Zoffany, Johan                                               1896.0  \n",
              "Zorio, Gilberto                                              2009.0  \n",
              "Zox, Larry                                                   1968.0  \n",
              "Zuccarelli, Francesco                                        1985.0  \n",
              "Zuloaga, Ignacio                                             1923.0  \n",
              "Zyw, Aleksander                                              1962.0  \n",
              "di Suvero, Mark                                              2004.0  \n",
              "van Elk, Ger                                                 1980.0  \n",
              "Štyrský, Jindrich                                            2007.0  \n",
              "\n",
              "[3336 rows x 2 columns]"
            ]
          },
          "metadata": {
            "tags": []
          },
          "execution_count": 27
        }
      ]
    },
    {
      "cell_type": "code",
      "metadata": {
        "id": "GSdfYv6Uh0gS",
        "colab_type": "code",
        "colab": {}
      },
      "source": [
        "#Transformation\n",
        "#Equivalent of editing by hand:\n",
        "#Make a case where there is no data to infer\n",
        "small_df.loc[[11838,16441], 'medium'] = np.nan\n"
      ],
      "execution_count": 0,
      "outputs": []
    },
    {
      "cell_type": "markdown",
      "metadata": {
        "id": "BwD2sBcLmETw",
        "colab_type": "text"
      },
      "source": [
        "Filtering :\n",
        "\n",
        "Keep the books which has titles atleast 2 times in the dataset. "
      ]
    },
    {
      "cell_type": "code",
      "metadata": {
        "id": "Msy60YqvmBx2",
        "colab_type": "code",
        "outputId": "23294509-3922-433a-9307-c1026d7d7adf",
        "colab": {
          "base_uri": "https://localhost:8080/",
          "height": 102
        }
      },
      "source": [
        "grouped_titles = df.groupby('title')\n",
        "title_counts = grouped_titles.size().sort_values(ascending = False)\n",
        "\n",
        "condition = lambda x: len(x.index) > 1\n",
        "dup_titles_df = grouped_titles.filter(condition)\n",
        "dup_titles_df.sort_values('title', inplace=True)"
      ],
      "execution_count": 0,
      "outputs": [
        {
          "output_type": "stream",
          "text": [
            "/usr/local/lib/python3.6/dist-packages/ipykernel_launcher.py:6: SettingWithCopyWarning: \n",
            "A value is trying to be set on a copy of a slice from a DataFrame\n",
            "\n",
            "See the caveats in the documentation: http://pandas.pydata.org/pandas-docs/stable/indexing.html#indexing-view-versus-copy\n",
            "  \n"
          ],
          "name": "stderr"
        }
      ]
    },
    {
      "cell_type": "code",
      "metadata": {
        "id": "H1FEA-CdqGP2",
        "colab_type": "code",
        "outputId": "f9fbed1f-3e2b-445e-acde-e473975ba9b8",
        "colab": {
          "base_uri": "https://localhost:8080/",
          "height": 235
        }
      },
      "source": [
        "dup_titles_df.head()"
      ],
      "execution_count": 0,
      "outputs": [
        {
          "output_type": "execute_result",
          "data": {
            "text/html": [
              "<div>\n",
              "<style scoped>\n",
              "    .dataframe tbody tr th:only-of-type {\n",
              "        vertical-align: middle;\n",
              "    }\n",
              "\n",
              "    .dataframe tbody tr th {\n",
              "        vertical-align: top;\n",
              "    }\n",
              "\n",
              "    .dataframe thead th {\n",
              "        text-align: right;\n",
              "    }\n",
              "</style>\n",
              "<table border=\"1\" class=\"dataframe\">\n",
              "  <thead>\n",
              "    <tr style=\"text-align: right;\">\n",
              "      <th></th>\n",
              "      <th>artist</th>\n",
              "      <th>title</th>\n",
              "      <th>medium</th>\n",
              "      <th>year</th>\n",
              "      <th>acquisitionYear</th>\n",
              "      <th>width</th>\n",
              "      <th>height</th>\n",
              "      <th>units</th>\n",
              "    </tr>\n",
              "    <tr>\n",
              "      <th>id</th>\n",
              "      <th></th>\n",
              "      <th></th>\n",
              "      <th></th>\n",
              "      <th></th>\n",
              "      <th></th>\n",
              "      <th></th>\n",
              "      <th></th>\n",
              "      <th></th>\n",
              "    </tr>\n",
              "  </thead>\n",
              "  <tbody>\n",
              "    <tr>\n",
              "      <th>20571</th>\n",
              "      <td>Scully, Sean</td>\n",
              "      <td>#1</td>\n",
              "      <td>Aquatint on paper</td>\n",
              "      <td>1992</td>\n",
              "      <td>1992.0</td>\n",
              "      <td>117</td>\n",
              "      <td>174</td>\n",
              "      <td>mm</td>\n",
              "    </tr>\n",
              "    <tr>\n",
              "      <th>21345</th>\n",
              "      <td>Dunham, Carroll</td>\n",
              "      <td>#1</td>\n",
              "      <td>Drypoint on paper</td>\n",
              "      <td>1989</td>\n",
              "      <td>2002.0</td>\n",
              "      <td>392</td>\n",
              "      <td>579</td>\n",
              "      <td>mm</td>\n",
              "    </tr>\n",
              "    <tr>\n",
              "      <th>21346</th>\n",
              "      <td>Dunham, Carroll</td>\n",
              "      <td>#2</td>\n",
              "      <td>Drypoint on paper</td>\n",
              "      <td>1989</td>\n",
              "      <td>2002.0</td>\n",
              "      <td>392</td>\n",
              "      <td>579</td>\n",
              "      <td>mm</td>\n",
              "    </tr>\n",
              "    <tr>\n",
              "      <th>20572</th>\n",
              "      <td>Scully, Sean</td>\n",
              "      <td>#2</td>\n",
              "      <td>Aquatint on paper</td>\n",
              "      <td>1992</td>\n",
              "      <td>1992.0</td>\n",
              "      <td>323</td>\n",
              "      <td>278</td>\n",
              "      <td>mm</td>\n",
              "    </tr>\n",
              "    <tr>\n",
              "      <th>21347</th>\n",
              "      <td>Dunham, Carroll</td>\n",
              "      <td>#3</td>\n",
              "      <td>Drypoint on paper</td>\n",
              "      <td>1989</td>\n",
              "      <td>2002.0</td>\n",
              "      <td>392</td>\n",
              "      <td>579</td>\n",
              "      <td>mm</td>\n",
              "    </tr>\n",
              "  </tbody>\n",
              "</table>\n",
              "</div>"
            ],
            "text/plain": [
              "                artist title             medium  year  acquisitionYear width  \\\n",
              "id                                                                             \n",
              "20571     Scully, Sean    #1  Aquatint on paper  1992           1992.0   117   \n",
              "21345  Dunham, Carroll    #1  Drypoint on paper  1989           2002.0   392   \n",
              "21346  Dunham, Carroll    #2  Drypoint on paper  1989           2002.0   392   \n",
              "20572     Scully, Sean    #2  Aquatint on paper  1992           1992.0   323   \n",
              "21347  Dunham, Carroll    #3  Drypoint on paper  1989           2002.0   392   \n",
              "\n",
              "      height units  \n",
              "id                  \n",
              "20571    174    mm  \n",
              "21345    579    mm  \n",
              "21346    579    mm  \n",
              "20572    278    mm  \n",
              "21347    579    mm  "
            ]
          },
          "metadata": {
            "tags": []
          },
          "execution_count": 30
        }
      ]
    },
    {
      "cell_type": "code",
      "metadata": {
        "id": "c63DfKhit9ZG",
        "colab_type": "code",
        "colab": {}
      },
      "source": [
        ""
      ],
      "execution_count": 0,
      "outputs": []
    }
  ]
}