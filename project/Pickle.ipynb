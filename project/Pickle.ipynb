{
  "nbformat": 4,
  "nbformat_minor": 0,
  "metadata": {
    "colab": {
      "name": "Pickle.ipynb",
      "version": "0.3.2",
      "provenance": []
    },
    "kernelspec": {
      "name": "python3",
      "display_name": "Python 3"
    }
  },
  "cells": [
    {
      "cell_type": "code",
      "metadata": {
        "id": "IAt763J59NEN",
        "colab_type": "code",
        "colab": {}
      },
      "source": [
        "import pickle"
      ],
      "execution_count": 0,
      "outputs": []
    },
    {
      "cell_type": "code",
      "metadata": {
        "id": "WFKdwVHb-DWp",
        "colab_type": "code",
        "colab": {}
      },
      "source": [
        "example_dict = {1:\"6\", 2:\"2\", 3:\"f\"}"
      ],
      "execution_count": 0,
      "outputs": []
    },
    {
      "cell_type": "code",
      "metadata": {
        "id": "b2_JCWi0-N7p",
        "colab_type": "code",
        "colab": {}
      },
      "source": [
        "pickle_out = open(\"dict.pickle\",\"wb\") #writebytes\n",
        "pickle.dump(example_dict, pickle_out)\n",
        "pickle_out.close()"
      ],
      "execution_count": 0,
      "outputs": []
    },
    {
      "cell_type": "markdown",
      "metadata": {
        "id": "qWriRpEp-9Uu",
        "colab_type": "text"
      },
      "source": [
        "Clear Runtime"
      ]
    },
    {
      "cell_type": "code",
      "metadata": {
        "id": "pVFPu65i-dkF",
        "colab_type": "code",
        "colab": {}
      },
      "source": [
        "import pickle\n",
        "pickle_in = open(\"dict.pickle\",\"rb\") # readbytes\n",
        "example_dict = pickle.load(pickle_in)"
      ],
      "execution_count": 0,
      "outputs": []
    },
    {
      "cell_type": "code",
      "metadata": {
        "id": "KIwha-jw-rVn",
        "colab_type": "code",
        "colab": {
          "base_uri": "https://localhost:8080/",
          "height": 34
        },
        "outputId": "c9ad71e2-ebcb-481c-8d82-c8fd3d3a199e"
      },
      "source": [
        "print(example_dict)"
      ],
      "execution_count": 4,
      "outputs": [
        {
          "output_type": "stream",
          "text": [
            "{1: '6', 2: '2', 3: 'f'}\n"
          ],
          "name": "stdout"
        }
      ]
    },
    {
      "cell_type": "code",
      "metadata": {
        "id": "49wKMj6H-2F1",
        "colab_type": "code",
        "colab": {}
      },
      "source": [
        ""
      ],
      "execution_count": 0,
      "outputs": []
    }
  ]
}