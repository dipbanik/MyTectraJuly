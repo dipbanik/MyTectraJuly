{
  "nbformat": 4,
  "nbformat_minor": 0,
  "metadata": {
    "colab": {
      "name": "LDA.ipynb",
      "provenance": [],
      "include_colab_link": true
    },
    "kernelspec": {
      "name": "python3",
      "display_name": "Python 3"
    }
  },
  "cells": [
    {
      "cell_type": "markdown",
      "metadata": {
        "id": "view-in-github",
        "colab_type": "text"
      },
      "source": [
        "<a href=\"https://colab.research.google.com/github/dipbanik/MyTectraJuly/blob/master/LDA/LDA.ipynb\" target=\"_parent\"><img src=\"https://colab.research.google.com/assets/colab-badge.svg\" alt=\"Open In Colab\"/></a>"
      ]
    },
    {
      "cell_type": "code",
      "metadata": {
        "id": "DCiiIhmjYOkZ",
        "colab_type": "code",
        "colab": {}
      },
      "source": [
        "# LDA\n",
        "# Importing the libraries\n",
        "import numpy as np\n",
        "import matplotlib.pyplot as plt\n",
        "import pandas as pd"
      ],
      "execution_count": 0,
      "outputs": []
    },
    {
      "cell_type": "code",
      "metadata": {
        "id": "H_LG2gWPZKBW",
        "colab_type": "code",
        "colab": {}
      },
      "source": [
        "# Importing the dataset\n",
        "dataset = pd.read_csv('Wine.csv')\n",
        "X = dataset.iloc[:, 0:13].values\n",
        "y = dataset.iloc[:, 13].values"
      ],
      "execution_count": 0,
      "outputs": []
    },
    {
      "cell_type": "code",
      "metadata": {
        "id": "4_BPawbvZPUQ",
        "colab_type": "code",
        "colab": {}
      },
      "source": [
        "# Splitting the dataset into the Training set and Test set\n",
        "from sklearn.model_selection import train_test_split\n",
        "X_train, X_test, y_train, y_test = train_test_split(X, y, test_size = 0.2, random_state = 0)"
      ],
      "execution_count": 0,
      "outputs": []
    },
    {
      "cell_type": "code",
      "metadata": {
        "id": "6ORNoVyfZS96",
        "colab_type": "code",
        "colab": {}
      },
      "source": [
        "# Feature Scaling\n",
        "from sklearn.preprocessing import StandardScaler\n",
        "sc = StandardScaler()\n",
        "X_train = sc.fit_transform(X_train)\n",
        "X_test = sc.transform(X_test)"
      ],
      "execution_count": 0,
      "outputs": []
    },
    {
      "cell_type": "code",
      "metadata": {
        "id": "sIXZTO7c7TtA",
        "colab_type": "code",
        "colab": {
          "base_uri": "https://localhost:8080/",
          "height": 1000
        },
        "outputId": "4e810c78-d368-43e2-a1cd-0980ccbc2563"
      },
      "source": [
        "X_test"
      ],
      "execution_count": 38,
      "outputs": [
        {
          "output_type": "execute_result",
          "data": {
            "text/plain": [
              "array([[ 9.38847070e-01, -6.32166068e-01, -4.35010303e-01,\n",
              "        -9.19695615e-01,  1.26324041e+00,  5.59998633e-01,\n",
              "         9.77754158e-01, -1.20637533e+00,  2.36680192e-02,\n",
              "         3.39284695e-01, -1.45574805e-01,  8.52295413e-01,\n",
              "         1.04940526e+00],\n",
              "       [-2.42263344e-01,  2.67579163e-01,  4.20859365e-01,\n",
              "         7.12764102e-01,  8.40672358e-01, -1.27747161e+00,\n",
              "        -6.05828120e-01, -9.70634096e-01, -5.87397203e-01,\n",
              "         2.42611713e+00, -2.06608025e+00, -1.55017035e+00,\n",
              "        -8.66598582e-01],\n",
              "       [-7.64438475e-01, -1.11802849e+00, -7.69915825e-01,\n",
              "        -1.61767889e-01, -9.20027861e-01,  2.03653722e+00,\n",
              "         1.18341419e+00, -1.36353615e+00,  4.48018868e-01,\n",
              "        -2.50930538e-01,  1.16386073e+00,  3.94021597e-01,\n",
              "        -1.06480588e+00],\n",
              "       [ 7.15057728e-01, -5.78181354e-01,  3.46435916e-01,\n",
              "         2.75498106e-01,  1.12238439e+00,  1.15061407e+00,\n",
              "         8.54358136e-01, -1.28495574e+00,  1.43251284e+00,\n",
              "         5.07917619e-01,  1.16312302e-01,  6.16214963e-01,\n",
              "         1.24761256e+00],\n",
              "       [ 8.09879269e-02,  3.08378173e+00, -8.81550999e-01,\n",
              "         5.67008770e-01, -9.90455870e-01,  5.92810602e-01,\n",
              "         7.20679112e-01, -4.99151627e-01,  6.85655343e-01,\n",
              "        -1.03085781e+00, -9.74883977e-01,  7.13424560e-01,\n",
              "        -1.19694407e+00],\n",
              "       [-1.77149051e+00, -2.90262880e-01,  3.21173872e+00,\n",
              "         2.60758342e+00,  1.33366842e+00,  1.51154572e+00,\n",
              "         3.21944855e+00,  8.36715367e-01,  4.48018868e-01,\n",
              "         4.02522042e-01, -1.01926954e-01,  1.53276259e+00,\n",
              "        -9.16150406e-01],\n",
              "       [ 1.33669479e+00, -2.00288357e-01,  9.04611787e-01,\n",
              "        -5.69882819e-01,  1.47452444e+00,  5.59998633e-01,\n",
              "         5.76717087e-01, -4.20571216e-01, -6.04371237e-01,\n",
              "         2.01884783e-03,  4.65495111e-01,  1.38000466e+00,\n",
              "         1.82571717e+00],\n",
              "       [-7.76871216e-01,  1.31128363e+00,  4.87421183e-02,\n",
              "         4.21253438e-01, -8.49599852e-01,  6.78191041e-02,\n",
              "        -1.05828020e+00,  1.07245660e+00, -9.60825950e-01,\n",
              "         1.09813285e+00, -1.71689745e+00, -1.39741241e+00,\n",
              "        -7.34460386e-01],\n",
              "       [-9.13631369e-01, -5.78181354e-01, -9.18762724e-01,\n",
              "        -1.61767889e-01, -1.41302392e+00, -9.98569875e-01,\n",
              "         8.31330005e-02,  5.09112525e-02,  4.06420531e-02,\n",
              "        -6.93591962e-01,  2.03608004e-01,  8.10634157e-01,\n",
              "        -7.67494935e-01],\n",
              "       [-1.12498797e+00, -4.88206831e-01, -1.74528230e-01,\n",
              "        -3.07523221e-01, -1.34259591e+00, -1.08059980e+00,\n",
              "        -4.61866095e-01,  1.22961742e+00,  5.76160871e-02,\n",
              "        -1.11517427e+00,  5.52790813e-01, -4.39203523e-01,\n",
              "        -8.66598582e-01],\n",
              "       [ 4.66402904e-01,  1.68607187e-01, -6.28930558e-02,\n",
              "         1.29742774e-01, -7.79171843e-01, -1.40871948e+00,\n",
              "        -1.49016628e+00,  5.09112525e-02, -1.63978731e+00,\n",
              "         2.33889118e-01, -1.10582753e+00, -1.61461816e-01,\n",
              "         1.24437889e-01],\n",
              "       [ 1.11290545e+00,  2.39997536e+00, -5.09433752e-01,\n",
              "         1.29742774e-01, -1.41302392e+00, -2.09777082e+00,\n",
              "        -1.65469430e+00,  2.86652487e-01, -1.57189117e+00,\n",
              "        -6.12184986e-02, -1.62960174e+00, -1.74458954e+00,\n",
              "        -1.08132315e+00],\n",
              "       [ 1.51075317e+00, -5.51188997e-01,  3.09224191e-01,\n",
              "        -1.26950841e+00,  8.40672358e-01,  1.65919958e+00,\n",
              "         1.48162125e+00, -1.84829982e-01,  6.17759208e-01,\n",
              "         7.18708773e-01,  4.21847260e-01,  3.66247427e-01,\n",
              "         2.33775268e+00],\n",
              "       [-7.64438475e-01, -1.17201321e+00, -9.93186174e-01,\n",
              "        -3.07523221e-01, -8.49599852e-01,  2.06934919e+00,\n",
              "         1.85180931e+00, -9.70634096e-01,  5.83811140e-01,\n",
              "        -2.29851422e-01,  3.78199409e-01,  2.55150744e-01,\n",
              "        -2.71976699e-01],\n",
              "       [ 7.39923211e-01,  1.86602092e-01,  1.20230558e+00,\n",
              "         1.44154076e+00,  3.47676297e-01, -1.16262972e+00,\n",
              "        -1.14054421e+00,  2.08072075e-01, -1.12124252e-01,\n",
              "         1.52393098e+00, -9.31236125e-01, -1.09189653e+00,\n",
              "         2.53342422e-02],\n",
              "       [-1.22444990e+00, -1.30697499e+00, -1.36530342e+00,\n",
              "        -1.61767889e-01, -9.90455870e-01,  2.64690916e-01,\n",
              "         3.19642042e-01, -4.99151627e-01, -2.98838626e-01,\n",
              "        -1.07301604e+00,  1.86222635e+00,  7.41198731e-01,\n",
              "        -1.53389647e+00],\n",
              "       [ 9.63712552e-01, -7.58130400e-01,  1.23951731e+00,\n",
              "        -1.60125576e-02,  2.24923253e+00,  1.13420808e+00,\n",
              "         8.13226129e-01,  1.07245660e+00, -4.34630898e-01,\n",
              "         1.49572656e-01,  1.29480428e+00,  5.74553707e-01,\n",
              "         1.62750987e+00],\n",
              "       [ 1.49832042e+00, -7.04145686e-01,  4.20859365e-01,\n",
              "        -8.90544549e-01,  5.58960323e-01,  1.70841753e+00,\n",
              "         2.03690334e+00, -3.41990805e-01,  4.31044834e-01,\n",
              "         1.54079428e+00,  1.20750858e+00,  3.24586171e-01,\n",
              "         3.09754730e+00],\n",
              "       [-4.28754462e-01, -9.11087089e-01, -1.29087997e+00,\n",
              "        -8.03091350e-01, -4.46374703e-03, -3.91548456e-01,\n",
              "        -5.54413111e-01,  1.30819784e+00, -1.67373538e+00,\n",
              "         2.97126464e-01,  1.16312302e-01, -1.38352533e+00,\n",
              "        -9.65702229e-01],\n",
              "       [ 1.05074174e+00, -6.50160973e-01,  8.67400062e-01,\n",
              "        -6.86487084e-01, -4.27031800e-01,  3.13908869e-01,\n",
              "         1.07030117e+00, -1.12779492e+00,  1.16092829e+00,\n",
              "         2.33889118e-01,  1.25115643e+00,  1.08837586e+00,\n",
              "         1.72661352e+00],\n",
              "       [ 1.55584374e-01, -1.22599792e+00, -2.48165516e+00,\n",
              "        -1.32781054e+00, -1.55387994e+00,  1.18342604e+00,\n",
              "         1.26567821e+00, -8.13473273e-01,  1.14395426e+00,\n",
              "         1.07414425e-01,  7.27382218e-01,  8.24521243e-01,\n",
              "        -7.93922574e-01],\n",
              "       [ 8.09879269e-02, -6.50160973e-01,  6.81341438e-01,\n",
              "        -4.53278553e-01, -1.45319765e-01,  3.13908869e-01,\n",
              "         4.94453073e-01, -5.77732039e-01, -2.81864592e-01,\n",
              "        -3.35247000e-01,  7.27382218e-01, -1.05913475e-01,\n",
              "         1.19806073e+00],\n",
              "       [ 3.17210010e-01,  1.95599544e-01,  1.87211663e+00,\n",
              "         4.21253438e-01,  1.26324041e+00,  8.88118319e-01,\n",
              "         7.61811120e-01,  2.08072075e-01,  3.63148698e-01,\n",
              "        -3.05736238e-01,  3.78199409e-01,  4.77344109e-01,\n",
              "        -2.42175814e-02],\n",
              "       [-5.90380098e-01, -5.78181354e-01, -1.43972687e+00,\n",
              "         2.75498106e-01, -1.06088388e+00, -9.62407389e-02,\n",
              "        -2.99800193e-02, -3.41990805e-01, -2.13968456e-01,\n",
              "        -8.87519825e-01,  3.78199409e-01,  1.36611757e+00,\n",
              "        -2.32335240e-01],\n",
              "       [-8.14169440e-01, -1.14502085e+00, -3.23375129e-01,\n",
              "        -1.03629988e+00,  6.59642617e-02, -3.42330503e-01,\n",
              "        -8.83469169e-01,  2.09400195e+00, -2.03019009e+00,\n",
              "        -7.48397663e-01,  1.29480428e+00, -1.27242864e+00,\n",
              "        -2.05907601e-01],\n",
              "       [-5.77947357e-01,  5.16403072e-02, -7.32704101e-01,\n",
              "         4.21253438e-01, -8.49599852e-01,  4.77968712e-01,\n",
              "         3.29925044e-01, -8.13473273e-01, -6.55293339e-01,\n",
              "        -1.28380720e+00, -2.32870507e-01,  2.69037829e-01,\n",
              "        -1.37863409e+00],\n",
              "       [-6.89842028e-01, -7.58130400e-01, -2.86163404e-01,\n",
              "         5.67008770e-01, -9.90455870e-01,  7.89682413e-01,\n",
              "         1.23482920e+00,  2.08072075e-01,  2.78278529e-01,\n",
              "        -4.65937515e-01, -1.14947538e+00,  3.52360341e-01,\n",
              "        -1.28944081e+00],\n",
              "       [-1.02552604e+00, -6.86150782e-01, -2.11739955e-01,\n",
              "         9.45972633e-01, -7.08743835e-01, -7.85292079e-01,\n",
              "        -2.66489061e-01,  5.22393721e-01, -7.81761846e-02,\n",
              "        -1.09409516e+00,  1.64398709e+00, -4.53090608e-01,\n",
              "        -8.17046759e-01],\n",
              "       [-1.52283569e+00,  2.76576615e-01,  2.05817525e+00,\n",
              "         1.29742774e-01,  2.06820279e-01, -8.34510032e-01,\n",
              "         8.31330005e-02,  1.85826072e+00, -9.43851916e-01,\n",
              "        -5.24959039e-01,  1.20750858e+00, -1.19800560e-01,\n",
              "        -4.47059809e-01],\n",
              "       [ 9.88578035e-01,  3.48556233e-01, -2.48951679e-01,\n",
              "         7.12764102e-01, -7.08743835e-01, -1.49074940e+00,\n",
              "        -1.30507224e+00,  3.65232898e-01, -9.77799984e-01,\n",
              "         1.91178671e+00, -1.10582753e+00, -1.25854156e+00,\n",
              "        -4.20632170e-01],\n",
              "       [ 5.03701128e-01, -5.42191545e-01,  9.41823511e-01,\n",
              "        -1.00714881e+00, -4.97459808e-01,  9.70148241e-01,\n",
              "         1.01888616e+00, -1.84829982e-01, -2.64890558e-01,\n",
              "        -1.03376729e-01, -1.45574805e-01,  8.80069584e-01,\n",
              "         1.49537167e+00],\n",
              "       [ 1.53561865e+00, -6.05173711e-01, -2.48951679e-01,\n",
              "        -9.48846682e-01,  1.26324041e+00,  1.54435769e+00,\n",
              "         1.08058418e+00, -8.13473273e-01,  7.19603411e-01,\n",
              "         5.62723319e-01, -5.82791026e-02,  1.00505335e+00,\n",
              "         7.52094321e-01],\n",
              "       [-1.17471893e+00,  1.73416389e+00,  4.87421183e-02,\n",
              "         7.12764102e-01, -1.41302392e+00, -2.60300582e-01,\n",
              "        -2.04791050e-01,  4.43813310e-01, -4.34630898e-01,\n",
              "        -1.03085781e+00, -7.12996870e-01, -2.25909628e-02,\n",
              "        -5.36253092e-01],\n",
              "       [ 1.52318591e+00,  1.50023013e+00,  2.72012467e-01,\n",
              "        -1.90918956e-01,  7.70244349e-01,  9.70148241e-01,\n",
              "         7.20679112e-01, -4.99151627e-01, -6.04371237e-01,\n",
              "         8.21194866e-02, -3.63814061e-01,  1.03282752e+00,\n",
              "         1.11547436e+00],\n",
              "       [ 2.29401586e+00, -6.59158425e-01, -7.32704101e-01,\n",
              "        -1.61932121e+00, -2.15747773e-01,  8.88118319e-01,\n",
              "         1.06001817e+00, -5.77732039e-01,  6.34733242e-01,\n",
              "         6.52561942e-02,  5.52790813e-01,  3.66247427e-01,\n",
              "         9.99853439e-01],\n",
              "       [ 8.09879269e-02, -5.42191545e-01, -9.93186174e-01,\n",
              "        -7.44789217e-01,  4.88532314e-01,  1.21623801e+00,\n",
              "         1.08058418e+00, -6.56312450e-01,  7.19603411e-01,\n",
              "        -2.19697526e-03, -3.20166209e-01,  1.06060169e+00,\n",
              "         4.71300654e-01]])"
            ]
          },
          "metadata": {
            "tags": []
          },
          "execution_count": 38
        }
      ]
    },
    {
      "cell_type": "code",
      "metadata": {
        "id": "m77pgR3xZbUV",
        "colab_type": "code",
        "colab": {}
      },
      "source": [
        "# Applying LDA\n",
        "from sklearn.discriminant_analysis import LinearDiscriminantAnalysis as LDA\n",
        "lda = LDA(n_components = None)\n",
        "X_train = lda.fit_transform(X_train, y_train)\n",
        "X_test = lda.transform(X_test)"
      ],
      "execution_count": 0,
      "outputs": []
    },
    {
      "cell_type": "code",
      "metadata": {
        "id": "SrhtFWLJ76y6",
        "colab_type": "code",
        "colab": {}
      },
      "source": [
        "?LDA()"
      ],
      "execution_count": 0,
      "outputs": []
    },
    {
      "cell_type": "code",
      "metadata": {
        "id": "ZiXxyPND7OOU",
        "colab_type": "code",
        "colab": {
          "base_uri": "https://localhost:8080/",
          "height": 629
        },
        "outputId": "a1159e9a-7c47-49a4-aa1c-08ddb2061b37"
      },
      "source": [
        "X_test"
      ],
      "execution_count": 41,
      "outputs": [
        {
          "output_type": "execute_result",
          "data": {
            "text/plain": [
              "array([[-3.83960313,  1.54567265],\n",
              "       [ 5.24601727,  1.72358501],\n",
              "       [-0.66064228, -3.32231072],\n",
              "       [-2.16667061,  1.0147427 ],\n",
              "       [-0.16079996, -1.27171643],\n",
              "       [-5.31374258, -2.22014536],\n",
              "       [-4.78386714,  3.11508054],\n",
              "       [ 5.55863966,  0.88556084],\n",
              "       [-1.29772139, -2.40714074],\n",
              "       [ 0.53068371, -2.37759837],\n",
              "       [ 2.36900593,  1.81859204],\n",
              "       [ 5.14502202,  1.88061526],\n",
              "       [-5.27947032,  3.32510044],\n",
              "       [-2.70452577, -2.61522323],\n",
              "       [ 4.32314426,  2.14569837],\n",
              "       [-0.65835601, -4.67751669],\n",
              "       [-4.07332713,  1.95266123],\n",
              "       [-6.55291385,  4.01098911],\n",
              "       [ 2.40020179, -1.14618328],\n",
              "       [-5.14219986,  2.02120623],\n",
              "       [-2.46475469, -2.81225673],\n",
              "       [-2.5190649 ,  1.07965428],\n",
              "       [-1.79798575,  0.47987658],\n",
              "       [-1.43423986, -2.41298601],\n",
              "       [ 1.11433225, -0.98310413],\n",
              "       [ 0.28604133, -2.81262488],\n",
              "       [-1.21198193, -2.73115246],\n",
              "       [ 0.84900431, -3.34996047],\n",
              "       [-1.03105294, -0.53029203],\n",
              "       [ 4.83489722,  2.08108766],\n",
              "       [-4.75464421,  2.30157612],\n",
              "       [-3.33786142,  1.51860576],\n",
              "       [ 1.02045007, -1.04261267],\n",
              "       [-3.1347464 ,  2.97819832],\n",
              "       [-4.25385909,  1.84683986],\n",
              "       [-3.16058359, -0.39860037]])"
            ]
          },
          "metadata": {
            "tags": []
          },
          "execution_count": 41
        }
      ]
    },
    {
      "cell_type": "code",
      "metadata": {
        "id": "rHuVCCDJ2Rr1",
        "colab_type": "code",
        "colab": {
          "base_uri": "https://localhost:8080/",
          "height": 34
        },
        "outputId": "db89b235-2b07-4249-ad21-a5b8ac95ba8b"
      },
      "source": [
        "lda.explained_variance_ratio_"
      ],
      "execution_count": 43,
      "outputs": [
        {
          "output_type": "execute_result",
          "data": {
            "text/plain": [
              "array([0.73931691, 0.26068309])"
            ]
          },
          "metadata": {
            "tags": []
          },
          "execution_count": 43
        }
      ]
    },
    {
      "cell_type": "code",
      "metadata": {
        "id": "dyMLdk5pZfWa",
        "colab_type": "code",
        "outputId": "b95a1cce-57de-4040-81e6-6cca72cb0565",
        "colab": {
          "base_uri": "https://localhost:8080/",
          "height": 190
        }
      },
      "source": [
        "# Fitting Logistic Regression to the Training set\n",
        "from sklearn.linear_model import LogisticRegression\n",
        "classifier = LogisticRegression(random_state = 0)\n",
        "classifier.fit(X_train, y_train)"
      ],
      "execution_count": 44,
      "outputs": [
        {
          "output_type": "stream",
          "text": [
            "/usr/local/lib/python3.6/dist-packages/sklearn/linear_model/logistic.py:432: FutureWarning: Default solver will be changed to 'lbfgs' in 0.22. Specify a solver to silence this warning.\n",
            "  FutureWarning)\n",
            "/usr/local/lib/python3.6/dist-packages/sklearn/linear_model/logistic.py:469: FutureWarning: Default multi_class will be changed to 'auto' in 0.22. Specify the multi_class option to silence this warning.\n",
            "  \"this warning.\", FutureWarning)\n"
          ],
          "name": "stderr"
        },
        {
          "output_type": "execute_result",
          "data": {
            "text/plain": [
              "LogisticRegression(C=1.0, class_weight=None, dual=False, fit_intercept=True,\n",
              "                   intercept_scaling=1, l1_ratio=None, max_iter=100,\n",
              "                   multi_class='warn', n_jobs=None, penalty='l2',\n",
              "                   random_state=0, solver='warn', tol=0.0001, verbose=0,\n",
              "                   warm_start=False)"
            ]
          },
          "metadata": {
            "tags": []
          },
          "execution_count": 44
        }
      ]
    },
    {
      "cell_type": "code",
      "metadata": {
        "id": "Ar4HiGeAZhnq",
        "colab_type": "code",
        "colab": {}
      },
      "source": [
        "# Predicting the Test set results\n",
        "y_pred = classifier.predict(X_test)"
      ],
      "execution_count": 0,
      "outputs": []
    },
    {
      "cell_type": "code",
      "metadata": {
        "id": "aHm-j98lZkYZ",
        "colab_type": "code",
        "colab": {}
      },
      "source": [
        "# Making the Confusion Matrix\n",
        "from sklearn.metrics import confusion_matrix\n",
        "cm = confusion_matrix(y_test, y_pred)"
      ],
      "execution_count": 0,
      "outputs": []
    },
    {
      "cell_type": "code",
      "metadata": {
        "id": "5NHY05hxZnUT",
        "colab_type": "code",
        "outputId": "d86a2932-5e6d-4b30-8600-e8d433215c25",
        "colab": {
          "base_uri": "https://localhost:8080/",
          "height": 68
        }
      },
      "source": [
        "cm"
      ],
      "execution_count": 47,
      "outputs": [
        {
          "output_type": "execute_result",
          "data": {
            "text/plain": [
              "array([[14,  0,  0],\n",
              "       [ 0, 16,  0],\n",
              "       [ 0,  0,  6]])"
            ]
          },
          "metadata": {
            "tags": []
          },
          "execution_count": 47
        }
      ]
    },
    {
      "cell_type": "code",
      "metadata": {
        "id": "4E0PdBaJZnrb",
        "colab_type": "code",
        "outputId": "45d94841-f95a-436e-e9a1-d2ecfa46eedb",
        "colab": {
          "base_uri": "https://localhost:8080/",
          "height": 366
        }
      },
      "source": [
        "# Visualising the Training set results\n",
        "from matplotlib.colors import ListedColormap\n",
        "X_set, y_set = X_train, y_train\n",
        "X1, X2 = np.meshgrid(np.arange(start = X_set[:, 0].min() - 1, stop = X_set[:, 0].max() + 1, step = 0.01),\n",
        "                     np.arange(start = X_set[:, 1].min() - 1, stop = X_set[:, 1].max() + 1, step = 0.01))\n",
        "plt.contourf(X1, X2, classifier.predict(np.array([X1.ravel(), X2.ravel()]).T).reshape(X1.shape),\n",
        "             alpha = 0.75, cmap = ListedColormap(('red', 'green', 'blue')))\n",
        "plt.xlim(X1.min(), X1.max())\n",
        "plt.ylim(X2.min(), X2.max())\n",
        "for i, j in enumerate(np.unique(y_set)):\n",
        "    plt.scatter(X_set[y_set == j, 0], X_set[y_set == j, 1],\n",
        "                c = ListedColormap(('red', 'green', 'blue'))(i), label = j)\n",
        "plt.title('Logistic Regression (Training set)')\n",
        "plt.xlabel('LD1')\n",
        "plt.ylabel('LD2')\n",
        "plt.legend()\n",
        "plt.show()"
      ],
      "execution_count": 48,
      "outputs": [
        {
          "output_type": "stream",
          "text": [
            "'c' argument looks like a single numeric RGB or RGBA sequence, which should be avoided as value-mapping will have precedence in case its length matches with 'x' & 'y'.  Please use a 2-D array with a single row if you really want to specify the same RGB or RGBA value for all points.\n",
            "'c' argument looks like a single numeric RGB or RGBA sequence, which should be avoided as value-mapping will have precedence in case its length matches with 'x' & 'y'.  Please use a 2-D array with a single row if you really want to specify the same RGB or RGBA value for all points.\n",
            "'c' argument looks like a single numeric RGB or RGBA sequence, which should be avoided as value-mapping will have precedence in case its length matches with 'x' & 'y'.  Please use a 2-D array with a single row if you really want to specify the same RGB or RGBA value for all points.\n"
          ],
          "name": "stderr"
        },
        {
          "output_type": "display_data",
          "data": {
            "image/png": "[encoded data removed]",
            "text/plain": [
              "<Figure size 432x288 with 1 Axes>"
            ]
          },
          "metadata": {
            "tags": []
          }
        }
      ]
    },
    {
      "cell_type": "code",
      "metadata": {
        "id": "vVCDqvqTZp23",
        "colab_type": "code",
        "outputId": "bd5e9e2d-8f38-4ee1-87e4-618549cf087a",
        "colab": {
          "base_uri": "https://localhost:8080/",
          "height": 366
        }
      },
      "source": [
        "# Visualising the Test set results\n",
        "from matplotlib.colors import ListedColormap\n",
        "X_set, y_set = X_test, y_test\n",
        "X1, X2 = np.meshgrid(np.arange(start = X_set[:, 0].min() - 1, stop = X_set[:, 0].max() + 1, step = 0.01),\n",
        "                     np.arange(start = X_set[:, 1].min() - 1, stop = X_set[:, 1].max() + 1, step = 0.01))\n",
        "plt.contourf(X1, X2, classifier.predict(np.array([X1.ravel(), X2.ravel()]).T).reshape(X1.shape),\n",
        "             alpha = 0.75, cmap = ListedColormap(('red', 'green', 'blue')))\n",
        "plt.xlim(X1.min(), X1.max())\n",
        "plt.ylim(X2.min(), X2.max())\n",
        "for i, j in enumerate(np.unique(y_set)):\n",
        "    plt.scatter(X_set[y_set == j, 0], X_set[y_set == j, 1],\n",
        "                c = ListedColormap(('red', 'green', 'blue'))(i), label = j)\n",
        "plt.title('Logistic Regression (Test set)')\n",
        "plt.xlabel('LD1')\n",
        "plt.ylabel('LD2')\n",
        "plt.legend()\n",
        "plt.show()"
      ],
      "execution_count": 49,
      "outputs": [
        {
          "output_type": "stream",
          "text": [
            "'c' argument looks like a single numeric RGB or RGBA sequence, which should be avoided as value-mapping will have precedence in case its length matches with 'x' & 'y'.  Please use a 2-D array with a single row if you really want to specify the same RGB or RGBA value for all points.\n",
            "'c' argument looks like a single numeric RGB or RGBA sequence, which should be avoided as value-mapping will have precedence in case its length matches with 'x' & 'y'.  Please use a 2-D array with a single row if you really want to specify the same RGB or RGBA value for all points.\n",
            "'c' argument looks like a single numeric RGB or RGBA sequence, which should be avoided as value-mapping will have precedence in case its length matches with 'x' & 'y'.  Please use a 2-D array with a single row if you really want to specify the same RGB or RGBA value for all points.\n"
          ],
          "name": "stderr"
        },
        {
          "output_type": "display_data",
          "data": {
            "image/png": "[encoded data removed]",
            "text/plain": [
              "<Figure size 432x288 with 1 Axes>"
            ]
          },
          "metadata": {
            "tags": []
          }
        }
      ]
    },
    {
      "cell_type": "code",
      "metadata": {
        "id": "ObRDo7AAZq0Z",
        "colab_type": "code",
        "colab": {}
      },
      "source": [
        ""
      ],
      "execution_count": 0,
      "outputs": []
    }
  ]
}