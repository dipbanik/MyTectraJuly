{
  "nbformat": 4,
  "nbformat_minor": 0,
  "metadata": {
    "celltoolbar": "Slideshow",
    "kernelspec": {
      "display_name": "Python 3",
      "language": "python",
      "name": "python3"
    },
    "language_info": {
      "codemirror_mode": {
        "name": "ipython",
        "version": 3
      },
      "file_extension": ".py",
      "mimetype": "text/x-python",
      "name": "python",
      "nbconvert_exporter": "python",
      "pygments_lexer": "ipython3",
      "version": "3.6.2"
    },
    "colab": {
      "name": "Introduction to Pandas.ipynb",
      "version": "0.3.2",
      "provenance": [],
      "toc_visible": true,
      "include_colab_link": true
    }
  },
  "cells": [
    {
      "cell_type": "markdown",
      "metadata": {
        "id": "view-in-github",
        "colab_type": "text"
      },
      "source": [
        "<a href=\"https://colab.research.google.com/github/dipbanik/MyTectraJuly/blob/develop/DATA/Introduction_to_Pandas.ipynb\" target=\"_parent\"><img src=\"https://colab.research.google.com/assets/colab-badge.svg\" alt=\"Open In Colab\"/></a>"
      ]
    },
    {
      "cell_type": "markdown",
      "metadata": {
        "id": "FaSuGu_Qq0NK",
        "colab_type": "text"
      },
      "source": [
        "\n",
        "# Pandas\n",
        "\n",
        "<img src=https://pandas.pydata.org/_static/pandas_logo.png>\n",
        "\n",
        "* Pandas is a python library for analyzing data\n",
        "* Provides classes to read, manipulate and analyze *tabular data* \n",
        "  * Tabular or relational data is organized into rows and columns\n",
        "  * Rows contain individual elements\n",
        "  * Columns contain properties of each element\n",
        "* Using pandas in your code\n",
        "\n",
        "```python\n",
        "import pandas as pd\n",
        "```\n"
      ]
    },
    {
      "cell_type": "code",
      "metadata": {
        "id": "dOM4KAtWq0NL",
        "colab_type": "code",
        "outputId": "a816375e-822e-4523-aafa-76f9ded8de65",
        "colab": {
          "base_uri": "https://localhost:8080/",
          "height": 204
        }
      },
      "source": [
        "import numpy as np\n",
        "import pandas as pd\n",
        "df = pd.read_csv('https://raw.githubusercontent.com/dipbanik/MyTectraJuly/develop/DATA/iris.csv')\n",
        "df.head()"
      ],
      "execution_count": 9,
      "outputs": [
        {
          "output_type": "execute_result",
          "data": {
            "text/html": [
              "<div>\n",
              "<style scoped>\n",
              "    .dataframe tbody tr th:only-of-type {\n",
              "        vertical-align: middle;\n",
              "    }\n",
              "\n",
              "    .dataframe tbody tr th {\n",
              "        vertical-align: top;\n",
              "    }\n",
              "\n",
              "    .dataframe thead th {\n",
              "        text-align: right;\n",
              "    }\n",
              "</style>\n",
              "<table border=\"1\" class=\"dataframe\">\n",
              "  <thead>\n",
              "    <tr style=\"text-align: right;\">\n",
              "      <th></th>\n",
              "      <th>SepalLength</th>\n",
              "      <th>SepalWidth</th>\n",
              "      <th>PetalLength</th>\n",
              "      <th>PetalWidth</th>\n",
              "      <th>Class</th>\n",
              "    </tr>\n",
              "  </thead>\n",
              "  <tbody>\n",
              "    <tr>\n",
              "      <th>0</th>\n",
              "      <td>5.1</td>\n",
              "      <td>3.5</td>\n",
              "      <td>1.4</td>\n",
              "      <td>0.2</td>\n",
              "      <td>Iris-setosa</td>\n",
              "    </tr>\n",
              "    <tr>\n",
              "      <th>1</th>\n",
              "      <td>4.9</td>\n",
              "      <td>3.0</td>\n",
              "      <td>1.4</td>\n",
              "      <td>0.2</td>\n",
              "      <td>Iris-setosa</td>\n",
              "    </tr>\n",
              "    <tr>\n",
              "      <th>2</th>\n",
              "      <td>4.7</td>\n",
              "      <td>3.2</td>\n",
              "      <td>1.3</td>\n",
              "      <td>0.2</td>\n",
              "      <td>Iris-setosa</td>\n",
              "    </tr>\n",
              "    <tr>\n",
              "      <th>3</th>\n",
              "      <td>4.6</td>\n",
              "      <td>3.1</td>\n",
              "      <td>1.5</td>\n",
              "      <td>0.2</td>\n",
              "      <td>Iris-setosa</td>\n",
              "    </tr>\n",
              "    <tr>\n",
              "      <th>4</th>\n",
              "      <td>5.0</td>\n",
              "      <td>3.6</td>\n",
              "      <td>1.4</td>\n",
              "      <td>0.2</td>\n",
              "      <td>Iris-setosa</td>\n",
              "    </tr>\n",
              "  </tbody>\n",
              "</table>\n",
              "</div>"
            ],
            "text/plain": [
              "   SepalLength  SepalWidth  PetalLength  PetalWidth        Class\n",
              "0          5.1         3.5          1.4         0.2  Iris-setosa\n",
              "1          4.9         3.0          1.4         0.2  Iris-setosa\n",
              "2          4.7         3.2          1.3         0.2  Iris-setosa\n",
              "3          4.6         3.1          1.5         0.2  Iris-setosa\n",
              "4          5.0         3.6          1.4         0.2  Iris-setosa"
            ]
          },
          "metadata": {
            "tags": []
          },
          "execution_count": 9
        }
      ]
    },
    {
      "cell_type": "code",
      "metadata": {
        "id": "-PBxZWnbuP85",
        "colab_type": "code",
        "colab": {
          "base_uri": "https://localhost:8080/",
          "height": 204
        },
        "outputId": "28fa3c2a-0998-4d09-a986-f0c9142e0ac7"
      },
      "source": [
        "df = pd.read_csv('https://raw.githubusercontent.com/dipbanik/MyTectraJuly/develop/DATA/iris.csv',index_col=False)\n",
        "df.head()"
      ],
      "execution_count": 10,
      "outputs": [
        {
          "output_type": "execute_result",
          "data": {
            "text/html": [
              "<div>\n",
              "<style scoped>\n",
              "    .dataframe tbody tr th:only-of-type {\n",
              "        vertical-align: middle;\n",
              "    }\n",
              "\n",
              "    .dataframe tbody tr th {\n",
              "        vertical-align: top;\n",
              "    }\n",
              "\n",
              "    .dataframe thead th {\n",
              "        text-align: right;\n",
              "    }\n",
              "</style>\n",
              "<table border=\"1\" class=\"dataframe\">\n",
              "  <thead>\n",
              "    <tr style=\"text-align: right;\">\n",
              "      <th></th>\n",
              "      <th>SepalLength</th>\n",
              "      <th>SepalWidth</th>\n",
              "      <th>PetalLength</th>\n",
              "      <th>PetalWidth</th>\n",
              "      <th>Class</th>\n",
              "    </tr>\n",
              "  </thead>\n",
              "  <tbody>\n",
              "    <tr>\n",
              "      <th>0</th>\n",
              "      <td>5.1</td>\n",
              "      <td>3.5</td>\n",
              "      <td>1.4</td>\n",
              "      <td>0.2</td>\n",
              "      <td>Iris-setosa</td>\n",
              "    </tr>\n",
              "    <tr>\n",
              "      <th>1</th>\n",
              "      <td>4.9</td>\n",
              "      <td>3.0</td>\n",
              "      <td>1.4</td>\n",
              "      <td>0.2</td>\n",
              "      <td>Iris-setosa</td>\n",
              "    </tr>\n",
              "    <tr>\n",
              "      <th>2</th>\n",
              "      <td>4.7</td>\n",
              "      <td>3.2</td>\n",
              "      <td>1.3</td>\n",
              "      <td>0.2</td>\n",
              "      <td>Iris-setosa</td>\n",
              "    </tr>\n",
              "    <tr>\n",
              "      <th>3</th>\n",
              "      <td>4.6</td>\n",
              "      <td>3.1</td>\n",
              "      <td>1.5</td>\n",
              "      <td>0.2</td>\n",
              "      <td>Iris-setosa</td>\n",
              "    </tr>\n",
              "    <tr>\n",
              "      <th>4</th>\n",
              "      <td>5.0</td>\n",
              "      <td>3.6</td>\n",
              "      <td>1.4</td>\n",
              "      <td>0.2</td>\n",
              "      <td>Iris-setosa</td>\n",
              "    </tr>\n",
              "  </tbody>\n",
              "</table>\n",
              "</div>"
            ],
            "text/plain": [
              "   SepalLength  SepalWidth  PetalLength  PetalWidth        Class\n",
              "0          5.1         3.5          1.4         0.2  Iris-setosa\n",
              "1          4.9         3.0          1.4         0.2  Iris-setosa\n",
              "2          4.7         3.2          1.3         0.2  Iris-setosa\n",
              "3          4.6         3.1          1.5         0.2  Iris-setosa\n",
              "4          5.0         3.6          1.4         0.2  Iris-setosa"
            ]
          },
          "metadata": {
            "tags": []
          },
          "execution_count": 10
        }
      ]
    },
    {
      "cell_type": "markdown",
      "metadata": {
        "id": "p92VANboq0NU",
        "colab_type": "text"
      },
      "source": [
        "# Pandas data structure\n",
        "* Pandas is built around two collection objects\n",
        "  * DataFrame\n",
        "    * Tabular data structure\n",
        "    * Consists of \n",
        "       * columns (each of which is a series)\n",
        "       * index: name(s) attached to rows\n",
        "       * Can be accessed as collection of rows and/or columns\n",
        "  * Series  \n",
        "    * Similar to a Numpy array\n",
        "    * Consists of a name, values and *index* \n",
        "      * Numpy arrays do not have an index\n",
        "    * The values and indices are themselves Numpy arrays"
      ]
    },
    {
      "cell_type": "markdown",
      "metadata": {
        "id": "HTyuVxbFq0NU",
        "colab_type": "text"
      },
      "source": [
        "# Series\n",
        "* Series can be created from a variety of data sources\n",
        "```python\n",
        "pd.Series(self, data=None, index=None, dtype=None, name=None, copy=False, fastpath=False)\n",
        "```\n",
        "* From lists/arrays\n",
        "  * numeric index is implicitly created\n",
        "  * index can also be explcitly specified\n",
        "  * behaves similarly to numpy arrays\n",
        "  * name can still be assigned\n",
        "* From dictionaries\n",
        "  * dictionary keys become indices\n",
        "  * dictionary values become series values\n",
        "  * If an index is provided, it is used to select dictionary elements\n",
        "  * name can still be assigned"
      ]
    },
    {
      "cell_type": "code",
      "metadata": {
        "id": "SNZkTh07q0NV",
        "colab_type": "code",
        "outputId": "391b82d7-186c-4813-9290-16b8f7b66e26",
        "colab": {
          "base_uri": "https://localhost:8080/",
          "height": 238
        }
      },
      "source": [
        "import pandas as pd\n",
        "\n",
        "# implicit index\n",
        "series = pd.Series([10, 20, 30])\n",
        "print(series)\n",
        "print\n",
        "\n",
        "# explicit index\n",
        "series = pd.Series([0, 1, 2, 3], index=[\"zero\", \"one\", \"two\", \"three\"])\n",
        "print(series)\n",
        "print\n",
        "\n",
        "# implicit index\n",
        "capitals = pd.Series({\n",
        "      'France': 'Paris',\n",
        "      'Japan': 'Tokyo', \n",
        "      'Germany': 'Berlin'})\n",
        "print(capitals)"
      ],
      "execution_count": 11,
      "outputs": [
        {
          "output_type": "stream",
          "text": [
            "0    10\n",
            "1    20\n",
            "2    30\n",
            "dtype: int64\n",
            "zero     0\n",
            "one      1\n",
            "two      2\n",
            "three    3\n",
            "dtype: int64\n",
            "France      Paris\n",
            "Japan       Tokyo\n",
            "Germany    Berlin\n",
            "dtype: object\n"
          ],
          "name": "stdout"
        }
      ]
    },
    {
      "cell_type": "markdown",
      "metadata": {
        "id": "8gwTKzcFq0Na",
        "colab_type": "text"
      },
      "source": [
        "# Accessing elements\n",
        "* Recall\n",
        "  * elements of a python list can be accessed by numerical index\n",
        "  * elements of a python dict can be accessed using keys\n",
        "* Series can be indexed both ways\n",
        "  ```python\n",
        "capitals = pd.Series({\n",
        "        'France': 'Paris',\n",
        "        'Japan': 'Tokyo', \n",
        "        'Germany': 'Berlin'})\n",
        "France      Paris\n",
        "Germany    Berlin\n",
        "Japan       Tokyo\n",
        "  ```\n",
        "  * Numerical index\n",
        "  ```python\n",
        "   capitals.iloc[0] #integer-location\n",
        "  ```\n",
        "  * Associative index(key)\n",
        "  ```python\n",
        "   capitals.loc['Germany']\n",
        "  ```"
      ]
    },
    {
      "cell_type": "code",
      "metadata": {
        "id": "j7CTg5tpq0Nb",
        "colab_type": "code",
        "outputId": "2c4ae3af-bfe0-44cd-a03e-6d6b00b2e990",
        "colab": {
          "base_uri": "https://localhost:8080/",
          "height": 119
        }
      },
      "source": [
        "capitals = pd.Series(\n",
        "        {'France': 'Paris',\n",
        "         'Japan': 'Tokyo',\n",
        "         'Germany': 'Berlin'})\n",
        "print(capitals)\n",
        "\n",
        "# indexing by location\n",
        "print(capitals.iloc[0])\n",
        "\n",
        "# indexing by key\n",
        "print(capitals.loc['France'])"
      ],
      "execution_count": 12,
      "outputs": [
        {
          "output_type": "stream",
          "text": [
            "France      Paris\n",
            "Japan       Tokyo\n",
            "Germany    Berlin\n",
            "dtype: object\n",
            "Paris\n",
            "Paris\n"
          ],
          "name": "stdout"
        }
      ]
    },
    {
      "cell_type": "markdown",
      "metadata": {
        "id": "QWJKspUFq0Nf",
        "colab_type": "text"
      },
      "source": [
        "# Operating on series\n",
        "* Manipulation of the series\n",
        "  * Similar to numpy, operations can be applied to all elements\n",
        "* Querying subset of the series\n",
        "  * Similar to numpy, series elements can be sliced by\n",
        "    ranges or logical arrays"
      ]
    },
    {
      "cell_type": "code",
      "metadata": {
        "id": "pvbcdYGvq0Ng",
        "colab_type": "code",
        "outputId": "c452073e-4cd6-4e0d-8119-b0856282e61e",
        "colab": {
          "base_uri": "https://localhost:8080/",
          "height": 119
        }
      },
      "source": [
        "series = pd.Series(np.arange(10))\n",
        "print(series.head())\n"
      ],
      "execution_count": 13,
      "outputs": [
        {
          "output_type": "stream",
          "text": [
            "0    0\n",
            "1    1\n",
            "2    2\n",
            "3    3\n",
            "4    4\n",
            "dtype: int64\n"
          ],
          "name": "stdout"
        }
      ]
    },
    {
      "cell_type": "code",
      "metadata": {
        "id": "x9LhdFCqq0Nk",
        "colab_type": "code",
        "outputId": "44f7c513-8771-4ce9-9bc4-d8b42b386f9d",
        "colab": {
          "base_uri": "https://localhost:8080/",
          "height": 119
        }
      },
      "source": [
        "# Adding a constant to all elements\n",
        "result = series + 2\n",
        "print(result.head())"
      ],
      "execution_count": 14,
      "outputs": [
        {
          "output_type": "stream",
          "text": [
            "0    2\n",
            "1    3\n",
            "2    4\n",
            "3    5\n",
            "4    6\n",
            "dtype: int64\n"
          ],
          "name": "stdout"
        }
      ]
    },
    {
      "cell_type": "code",
      "metadata": {
        "id": "mpmhPwFTq0No",
        "colab_type": "code",
        "outputId": "e24e8453-e1b8-44a5-8f10-f6e26d50b765",
        "colab": {
          "base_uri": "https://localhost:8080/",
          "height": 119
        }
      },
      "source": [
        "# Squaring all elements\n",
        "result = series * series\n",
        "print(result.head())"
      ],
      "execution_count": 15,
      "outputs": [
        {
          "output_type": "stream",
          "text": [
            "0     0\n",
            "1     1\n",
            "2     4\n",
            "3     9\n",
            "4    16\n",
            "dtype: int64\n"
          ],
          "name": "stdout"
        }
      ]
    },
    {
      "cell_type": "code",
      "metadata": {
        "id": "EMsxrXBbq0Nt",
        "colab_type": "code",
        "outputId": "70e37fe2-a219-441d-df05-87c397153179",
        "colab": {
          "base_uri": "https://localhost:8080/",
          "height": 119
        }
      },
      "source": [
        "# Logical operators\n",
        "result = series > 2\n",
        "print(result.head())"
      ],
      "execution_count": 16,
      "outputs": [
        {
          "output_type": "stream",
          "text": [
            "0    False\n",
            "1    False\n",
            "2    False\n",
            "3     True\n",
            "4     True\n",
            "dtype: bool\n"
          ],
          "name": "stdout"
        }
      ]
    },
    {
      "cell_type": "markdown",
      "metadata": {
        "id": "g0nqF9Deq0Nw",
        "colab_type": "text"
      },
      "source": [
        "# DataFrame\n",
        "* Two dimensional structure\n",
        "* Represents tabular/relational data\n",
        "* Consists of \n",
        "  * named column(s)\n",
        "  * index\n",
        "* Properties\n",
        "  * each column is a pandas Series object\n",
        "  * all elements within the column have the same data type\n",
        "  * different columns can have different data types\n"
      ]
    },
    {
      "cell_type": "code",
      "metadata": {
        "id": "7PteIpJZq0Nx",
        "colab_type": "code",
        "outputId": "cc0e580a-3cf1-46b6-96f4-92656f4f11a1",
        "colab": {
          "base_uri": "https://localhost:8080/",
          "height": 204
        }
      },
      "source": [
        "import pandas as pd\n",
        "df = pd.read_csv('https://raw.githubusercontent.com/dipbanik/MyTectraJuly/develop/DATA/iris.csv')\n",
        "df.tail()"
      ],
      "execution_count": 17,
      "outputs": [
        {
          "output_type": "execute_result",
          "data": {
            "text/html": [
              "<div>\n",
              "<style scoped>\n",
              "    .dataframe tbody tr th:only-of-type {\n",
              "        vertical-align: middle;\n",
              "    }\n",
              "\n",
              "    .dataframe tbody tr th {\n",
              "        vertical-align: top;\n",
              "    }\n",
              "\n",
              "    .dataframe thead th {\n",
              "        text-align: right;\n",
              "    }\n",
              "</style>\n",
              "<table border=\"1\" class=\"dataframe\">\n",
              "  <thead>\n",
              "    <tr style=\"text-align: right;\">\n",
              "      <th></th>\n",
              "      <th>SepalLength</th>\n",
              "      <th>SepalWidth</th>\n",
              "      <th>PetalLength</th>\n",
              "      <th>PetalWidth</th>\n",
              "      <th>Class</th>\n",
              "    </tr>\n",
              "  </thead>\n",
              "  <tbody>\n",
              "    <tr>\n",
              "      <th>145</th>\n",
              "      <td>6.7</td>\n",
              "      <td>3.0</td>\n",
              "      <td>5.2</td>\n",
              "      <td>2.3</td>\n",
              "      <td>Iris-virginica</td>\n",
              "    </tr>\n",
              "    <tr>\n",
              "      <th>146</th>\n",
              "      <td>6.3</td>\n",
              "      <td>2.5</td>\n",
              "      <td>5.0</td>\n",
              "      <td>1.9</td>\n",
              "      <td>Iris-virginica</td>\n",
              "    </tr>\n",
              "    <tr>\n",
              "      <th>147</th>\n",
              "      <td>6.5</td>\n",
              "      <td>3.0</td>\n",
              "      <td>5.2</td>\n",
              "      <td>2.0</td>\n",
              "      <td>Iris-virginica</td>\n",
              "    </tr>\n",
              "    <tr>\n",
              "      <th>148</th>\n",
              "      <td>6.2</td>\n",
              "      <td>3.4</td>\n",
              "      <td>5.4</td>\n",
              "      <td>2.3</td>\n",
              "      <td>Iris-virginica</td>\n",
              "    </tr>\n",
              "    <tr>\n",
              "      <th>149</th>\n",
              "      <td>5.9</td>\n",
              "      <td>3.0</td>\n",
              "      <td>5.1</td>\n",
              "      <td>1.8</td>\n",
              "      <td>Iris-virginica</td>\n",
              "    </tr>\n",
              "  </tbody>\n",
              "</table>\n",
              "</div>"
            ],
            "text/plain": [
              "     SepalLength  SepalWidth  PetalLength  PetalWidth           Class\n",
              "145          6.7         3.0          5.2         2.3  Iris-virginica\n",
              "146          6.3         2.5          5.0         1.9  Iris-virginica\n",
              "147          6.5         3.0          5.2         2.0  Iris-virginica\n",
              "148          6.2         3.4          5.4         2.3  Iris-virginica\n",
              "149          5.9         3.0          5.1         1.8  Iris-virginica"
            ]
          },
          "metadata": {
            "tags": []
          },
          "execution_count": 17
        }
      ]
    },
    {
      "cell_type": "markdown",
      "metadata": {
        "id": "tSC961D5q0N2",
        "colab_type": "text"
      },
      "source": [
        "# Creating data frames\n",
        "* From list of dictionaries\n",
        "  * Each element of the list represents a row\n",
        "  ```python\n",
        "  df = pd.DataFrame([\n",
        "    {'Item': 'Book', 'Cost': 10},\n",
        "    {'Item': 'Pen', 'Cost': 2}\n",
        "  ])\n",
        "  ```\n",
        "* From list of series\n",
        "  * Each series represents a column\n",
        "  ```python\n",
        "  items = pd.Series(['Book', 'Pen'])\n",
        "  costs = pd.Series([10, 2])\n",
        "  df = pd.DataFrame({'Item': items, 'Cost': costs})\n",
        "  ```\n",
        "* From a file\n",
        "  * Pandas can import data from sql, csv, tsv, excel etc."
      ]
    },
    {
      "cell_type": "markdown",
      "metadata": {
        "id": "kp-2Ne5aq0N3",
        "colab_type": "text"
      },
      "source": [
        "# Dataframe properties\n",
        "* df.columns - names of columns\n",
        "* df.size - size of the dataframe\n",
        "* df.shape - number or rows and columns\n",
        "* df.info() - column descriptions\n",
        "* df.describe() - descriptive statistics"
      ]
    },
    {
      "cell_type": "code",
      "metadata": {
        "id": "SKw1i8rBq0N4",
        "colab_type": "code",
        "colab": {}
      },
      "source": [
        "df = pd.DataFrame([\n",
        "{'Item': 'Book', 'Cost': 10},\n",
        "{'Item': 'Pen', 'Cost': 2}\n",
        "])\n"
      ],
      "execution_count": 0,
      "outputs": []
    },
    {
      "cell_type": "code",
      "metadata": {
        "id": "D52_hGdRq0N7",
        "colab_type": "code",
        "outputId": "17727875-f369-45c5-c281-b1f9bcc0ca06",
        "colab": {
          "base_uri": "https://localhost:8080/",
          "height": 136
        }
      },
      "source": [
        "df.info()"
      ],
      "execution_count": 19,
      "outputs": [
        {
          "output_type": "stream",
          "text": [
            "<class 'pandas.core.frame.DataFrame'>\n",
            "RangeIndex: 2 entries, 0 to 1\n",
            "Data columns (total 2 columns):\n",
            "Cost    2 non-null int64\n",
            "Item    2 non-null object\n",
            "dtypes: int64(1), object(1)\n",
            "memory usage: 112.0+ bytes\n"
          ],
          "name": "stdout"
        }
      ]
    },
    {
      "cell_type": "code",
      "metadata": {
        "id": "yG9wX8eSq0N-",
        "colab_type": "code",
        "outputId": "6d5e53b3-b649-4396-aa63-442ee7efe25b",
        "colab": {
          "base_uri": "https://localhost:8080/",
          "height": 297
        }
      },
      "source": [
        "df.describe()"
      ],
      "execution_count": 21,
      "outputs": [
        {
          "output_type": "execute_result",
          "data": {
            "text/html": [
              "<div>\n",
              "<style scoped>\n",
              "    .dataframe tbody tr th:only-of-type {\n",
              "        vertical-align: middle;\n",
              "    }\n",
              "\n",
              "    .dataframe tbody tr th {\n",
              "        vertical-align: top;\n",
              "    }\n",
              "\n",
              "    .dataframe thead th {\n",
              "        text-align: right;\n",
              "    }\n",
              "</style>\n",
              "<table border=\"1\" class=\"dataframe\">\n",
              "  <thead>\n",
              "    <tr style=\"text-align: right;\">\n",
              "      <th></th>\n",
              "      <th>Cost</th>\n",
              "    </tr>\n",
              "  </thead>\n",
              "  <tbody>\n",
              "    <tr>\n",
              "      <th>count</th>\n",
              "      <td>2.000000</td>\n",
              "    </tr>\n",
              "    <tr>\n",
              "      <th>mean</th>\n",
              "      <td>6.000000</td>\n",
              "    </tr>\n",
              "    <tr>\n",
              "      <th>std</th>\n",
              "      <td>5.656854</td>\n",
              "    </tr>\n",
              "    <tr>\n",
              "      <th>min</th>\n",
              "      <td>2.000000</td>\n",
              "    </tr>\n",
              "    <tr>\n",
              "      <th>25%</th>\n",
              "      <td>4.000000</td>\n",
              "    </tr>\n",
              "    <tr>\n",
              "      <th>50%</th>\n",
              "      <td>6.000000</td>\n",
              "    </tr>\n",
              "    <tr>\n",
              "      <th>75%</th>\n",
              "      <td>8.000000</td>\n",
              "    </tr>\n",
              "    <tr>\n",
              "      <th>max</th>\n",
              "      <td>10.000000</td>\n",
              "    </tr>\n",
              "  </tbody>\n",
              "</table>\n",
              "</div>"
            ],
            "text/plain": [
              "            Cost\n",
              "count   2.000000\n",
              "mean    6.000000\n",
              "std     5.656854\n",
              "min     2.000000\n",
              "25%     4.000000\n",
              "50%     6.000000\n",
              "75%     8.000000\n",
              "max    10.000000"
            ]
          },
          "metadata": {
            "tags": []
          },
          "execution_count": 21
        }
      ]
    },
    {
      "cell_type": "code",
      "metadata": {
        "id": "WXCuDk5Nq0OC",
        "colab_type": "code",
        "outputId": "002dec02-cc83-4ffb-e280-15c94108a120",
        "colab": {
          "base_uri": "https://localhost:8080/",
          "height": 34
        }
      },
      "source": [
        "df.shape"
      ],
      "execution_count": 22,
      "outputs": [
        {
          "output_type": "execute_result",
          "data": {
            "text/plain": [
              "(2, 2)"
            ]
          },
          "metadata": {
            "tags": []
          },
          "execution_count": 22
        }
      ]
    },
    {
      "cell_type": "code",
      "metadata": {
        "id": "eRxYedvhq0OO",
        "colab_type": "code",
        "outputId": "00f0297e-6fbe-4232-b5e5-01d354fac4b4",
        "colab": {
          "base_uri": "https://localhost:8080/",
          "height": 111
        }
      },
      "source": [
        "# Creating from a list of dicts\n",
        "df = pd.DataFrame([\n",
        "    {'Item': 'Book', 'Cost': 10},\n",
        "    {'Item': 'Pen', 'Cost': 2}\n",
        "], index=['StoreA', 'StoreB'])\n",
        "df\n"
      ],
      "execution_count": 23,
      "outputs": [
        {
          "output_type": "execute_result",
          "data": {
            "text/html": [
              "<div>\n",
              "<style scoped>\n",
              "    .dataframe tbody tr th:only-of-type {\n",
              "        vertical-align: middle;\n",
              "    }\n",
              "\n",
              "    .dataframe tbody tr th {\n",
              "        vertical-align: top;\n",
              "    }\n",
              "\n",
              "    .dataframe thead th {\n",
              "        text-align: right;\n",
              "    }\n",
              "</style>\n",
              "<table border=\"1\" class=\"dataframe\">\n",
              "  <thead>\n",
              "    <tr style=\"text-align: right;\">\n",
              "      <th></th>\n",
              "      <th>Cost</th>\n",
              "      <th>Item</th>\n",
              "    </tr>\n",
              "  </thead>\n",
              "  <tbody>\n",
              "    <tr>\n",
              "      <th>StoreA</th>\n",
              "      <td>10</td>\n",
              "      <td>Book</td>\n",
              "    </tr>\n",
              "    <tr>\n",
              "      <th>StoreB</th>\n",
              "      <td>2</td>\n",
              "      <td>Pen</td>\n",
              "    </tr>\n",
              "  </tbody>\n",
              "</table>\n",
              "</div>"
            ],
            "text/plain": [
              "        Cost  Item\n",
              "StoreA    10  Book\n",
              "StoreB     2   Pen"
            ]
          },
          "metadata": {
            "tags": []
          },
          "execution_count": 23
        }
      ]
    },
    {
      "cell_type": "code",
      "metadata": {
        "id": "3hv1MSD6q0OS",
        "colab_type": "code",
        "outputId": "74578575-70d4-4c43-d7cc-3d9b2e4407fc",
        "colab": {
          "base_uri": "https://localhost:8080/",
          "height": 111
        }
      },
      "source": [
        "# Creating from a list of series objects\n",
        "items = pd.Series(['Book', 'Pen'])\n",
        "costs = pd.Series([10, 2])\n",
        "df = pd.DataFrame({'Item': items, 'Cost': costs})\n",
        "df"
      ],
      "execution_count": 24,
      "outputs": [
        {
          "output_type": "execute_result",
          "data": {
            "text/html": [
              "<div>\n",
              "<style scoped>\n",
              "    .dataframe tbody tr th:only-of-type {\n",
              "        vertical-align: middle;\n",
              "    }\n",
              "\n",
              "    .dataframe tbody tr th {\n",
              "        vertical-align: top;\n",
              "    }\n",
              "\n",
              "    .dataframe thead th {\n",
              "        text-align: right;\n",
              "    }\n",
              "</style>\n",
              "<table border=\"1\" class=\"dataframe\">\n",
              "  <thead>\n",
              "    <tr style=\"text-align: right;\">\n",
              "      <th></th>\n",
              "      <th>Item</th>\n",
              "      <th>Cost</th>\n",
              "    </tr>\n",
              "  </thead>\n",
              "  <tbody>\n",
              "    <tr>\n",
              "      <th>0</th>\n",
              "      <td>Book</td>\n",
              "      <td>10</td>\n",
              "    </tr>\n",
              "    <tr>\n",
              "      <th>1</th>\n",
              "      <td>Pen</td>\n",
              "      <td>2</td>\n",
              "    </tr>\n",
              "  </tbody>\n",
              "</table>\n",
              "</div>"
            ],
            "text/plain": [
              "   Item  Cost\n",
              "0  Book    10\n",
              "1   Pen     2"
            ]
          },
          "metadata": {
            "tags": []
          },
          "execution_count": 24
        }
      ]
    },
    {
      "cell_type": "markdown",
      "metadata": {
        "id": "_3Op6JZSq0OX",
        "colab_type": "text"
      },
      "source": [
        "# Accessing data frame elements\n",
        "```python\n",
        "        Cost  Discount  Item\n",
        "StoreA    10        20  Book\n",
        "StoreB     2        30   Pen\n",
        "```\n",
        "\n",
        "* Accessing columns\n",
        "```python\n",
        "# Single column\n",
        "df['Cost']\n",
        "# Multiple columns\n",
        "df[['Cost','Discount']]\n",
        "```\n",
        "\n",
        "* Accessing row(s) by location\n",
        "```python\n",
        "df.iloc[0]\n",
        "```\n",
        "\n",
        "* Accessing specific columns by location\n",
        "```python\n",
        "df.loc[0, 'Item']\n",
        "```\n",
        "\n",
        "* Accessing row by index\n",
        "```python\n",
        "df.loc['StoreA']\n",
        "```\n",
        "\n"
      ]
    },
    {
      "cell_type": "markdown",
      "metadata": {
        "id": "EXCz1c83q0OY",
        "colab_type": "text"
      },
      "source": [
        "# Accessing data (cont.)\n",
        "\n",
        "* Slicing\n",
        "  * If slicing results in multiple rows, the result is a new data frame.\n",
        "  * If slicing results in a single row/col, the result is a Series\n",
        "  * Slicing can be across rows, columns or both\n",
        "  * Examples\n",
        "```python\n",
        "df.iloc[0:2,:] # results in a dataframe\n",
        "df.iloc[0] # results in a series\n",
        "```"
      ]
    },
    {
      "cell_type": "code",
      "metadata": {
        "id": "mqrFy3xPq0OY",
        "colab_type": "code",
        "outputId": "89678e07-b28c-4c28-d4af-e3a0781edbc8",
        "colab": {
          "base_uri": "https://localhost:8080/",
          "height": 170
        }
      },
      "source": [
        "# Creating from a list of dicts\n",
        "df = pd.DataFrame([\n",
        "    {'Item': 'Book', 'Cost': 10, 'Discount': 10},\n",
        "    {'Item': 'Pen', 'Cost': 2, 'Discount': 15}\n",
        "], index=['StoreA', 'StoreB'])\n",
        "df\n",
        "\n",
        "print(\"DataFrame\")\n",
        "print(df.iloc[0:2,:]) # results in a dataframe\n",
        "\n",
        "print(\"Series\")\n",
        "print(df.iloc[0]) # results in a series\n"
      ],
      "execution_count": 25,
      "outputs": [
        {
          "output_type": "stream",
          "text": [
            "DataFrame\n",
            "        Cost  Discount  Item\n",
            "StoreA    10        10  Book\n",
            "StoreB     2        15   Pen\n",
            "Series\n",
            "Cost          10\n",
            "Discount      10\n",
            "Item        Book\n",
            "Name: StoreA, dtype: object\n"
          ],
          "name": "stdout"
        }
      ]
    },
    {
      "cell_type": "markdown",
      "metadata": {
        "id": "gLGewSNVq0Od",
        "colab_type": "text"
      },
      "source": [
        "# Modifying data\n",
        "* Modifying individual columns is identical to modifying series\n",
        "  * Example\n",
        "```python\n",
        "cost = df['Cost']\n",
        "cost = cost + 10\n",
        "df\n",
        "```\n",
        "\n",
        "* Note that modifying the series affects modifies the dataframe\n",
        "* Rows can be modified using slicing/indexing sections of the data frame"
      ]
    },
    {
      "cell_type": "code",
      "metadata": {
        "id": "_jr5oaSOq0Oe",
        "colab_type": "code",
        "outputId": "525cc39d-740c-45d1-ef03-c9426287ec25",
        "colab": {
          "base_uri": "https://localhost:8080/",
          "height": 221
        }
      },
      "source": [
        "print(\"Before\")\n",
        "print(df)\n",
        "\n",
        "cost = df['Cost']\n",
        "cost += 10\n",
        "\n",
        "print(\"After\")\n",
        "print(df)\n",
        "\n",
        "# Can be directly manipulated\n",
        "df['Cost'] = df['Cost'] * (100- df['Discount'])/100\n",
        "\n",
        "print(\"After discount\")\n",
        "print(df)"
      ],
      "execution_count": 26,
      "outputs": [
        {
          "output_type": "stream",
          "text": [
            "Before\n",
            "        Cost  Discount  Item\n",
            "StoreA    10        10  Book\n",
            "StoreB     2        15   Pen\n",
            "After\n",
            "        Cost  Discount  Item\n",
            "StoreA    20        10  Book\n",
            "StoreB    12        15   Pen\n",
            "After discount\n",
            "        Cost  Discount  Item\n",
            "StoreA  18.0        10  Book\n",
            "StoreB  10.2        15   Pen\n"
          ],
          "name": "stdout"
        }
      ]
    },
    {
      "cell_type": "code",
      "metadata": {
        "id": "GzDP24bcq0Oh",
        "colab_type": "code",
        "outputId": "2cc9aee6-f64e-49ec-96bb-c26fd8d204ca",
        "colab": {
          "base_uri": "https://localhost:8080/",
          "height": 153
        }
      },
      "source": [
        "print(\"Before\")\n",
        "print(df)\n",
        "\n",
        "# Row can be accessed using loc()\n",
        "df.loc['StoreA','Discount'] = 20\n",
        "print(\"After\")\n",
        "print(df)\n"
      ],
      "execution_count": 27,
      "outputs": [
        {
          "output_type": "stream",
          "text": [
            "Before\n",
            "        Cost  Discount  Item\n",
            "StoreA  18.0        10  Book\n",
            "StoreB  10.2        15   Pen\n",
            "After\n",
            "        Cost  Discount  Item\n",
            "StoreA  18.0        20  Book\n",
            "StoreB  10.2        15   Pen\n"
          ],
          "name": "stdout"
        }
      ]
    },
    {
      "cell_type": "markdown",
      "metadata": {
        "id": "NenYF1Hwq0Ol",
        "colab_type": "text"
      },
      "source": [
        "# Querying data\n",
        "* Consider the following dataset\n",
        "```python\n",
        "import pandas as pd\n",
        "df = pd.read_csv('https://raw.githubusercontent.com/dipbanik/MyTectraJuly/develop/DATA/iris.csv')\n",
        "df['species'].unique()\n",
        "array(['setosa', 'versicolor', 'virginica'], dtype=object)\n",
        "```\n",
        "  * We can access elements where species is setosa using a two-step process\n",
        "    * We create a boolean series where each entry indicates if the species is 'setosa'\n",
        "    * We can slice the dataframe with the boolean series\n",
        "```python\n",
        "is_setosa = df['species']=='setosa'\n",
        "df.loc[is_setosa]\n",
        "```\n",
        " * We can use boolean expressions to restrict rows satisfying multiple conditions\n",
        "```python\n",
        "is_setosa = df['species']=='setosa'\n",
        "has_large_width = df['sepal_width'] > 8\n",
        "df.loc[is_setosa & has_large_width]\n",
        "# & is the boolean `and` operator\n",
        "```"
      ]
    },
    {
      "cell_type": "code",
      "metadata": {
        "id": "Ywg4URBgq0Om",
        "colab_type": "code",
        "outputId": "36d1ede7-c76d-45f0-f9ff-7db1825403c4",
        "colab": {
          "base_uri": "https://localhost:8080/",
          "height": 119
        }
      },
      "source": [
        "df = pd.read_csv('https://raw.githubusercontent.com/dipbanik/MyTectraJuly/develop/DATA/iris.csv')\n",
        "is_setosa = df['Class']=='Iris-setosa' # Create a boolean series\n",
        "is_setosa.head()"
      ],
      "execution_count": 31,
      "outputs": [
        {
          "output_type": "execute_result",
          "data": {
            "text/plain": [
              "0    True\n",
              "1    True\n",
              "2    True\n",
              "3    True\n",
              "4    True\n",
              "Name: Class, dtype: bool"
            ]
          },
          "metadata": {
            "tags": []
          },
          "execution_count": 31
        }
      ]
    },
    {
      "cell_type": "code",
      "metadata": {
        "id": "ZLoOqQu5q0Oq",
        "colab_type": "code",
        "outputId": "e0dbf55e-72fd-476b-f14d-b57e228e30c4",
        "colab": {
          "base_uri": "https://localhost:8080/",
          "height": 1000
        }
      },
      "source": [
        "is_setosa = df['Class']=='Iris-setosa'\n",
        "has_large_width = df['SepalWidth'] > 3\n",
        "df.loc[is_setosa & has_large_width]"
      ],
      "execution_count": 34,
      "outputs": [
        {
          "output_type": "execute_result",
          "data": {
            "text/html": [
              "<div>\n",
              "<style scoped>\n",
              "    .dataframe tbody tr th:only-of-type {\n",
              "        vertical-align: middle;\n",
              "    }\n",
              "\n",
              "    .dataframe tbody tr th {\n",
              "        vertical-align: top;\n",
              "    }\n",
              "\n",
              "    .dataframe thead th {\n",
              "        text-align: right;\n",
              "    }\n",
              "</style>\n",
              "<table border=\"1\" class=\"dataframe\">\n",
              "  <thead>\n",
              "    <tr style=\"text-align: right;\">\n",
              "      <th></th>\n",
              "      <th>SepalLength</th>\n",
              "      <th>SepalWidth</th>\n",
              "      <th>PetalLength</th>\n",
              "      <th>PetalWidth</th>\n",
              "      <th>Class</th>\n",
              "    </tr>\n",
              "  </thead>\n",
              "  <tbody>\n",
              "    <tr>\n",
              "      <th>0</th>\n",
              "      <td>5.1</td>\n",
              "      <td>3.5</td>\n",
              "      <td>1.4</td>\n",
              "      <td>0.2</td>\n",
              "      <td>Iris-setosa</td>\n",
              "    </tr>\n",
              "    <tr>\n",
              "      <th>2</th>\n",
              "      <td>4.7</td>\n",
              "      <td>3.2</td>\n",
              "      <td>1.3</td>\n",
              "      <td>0.2</td>\n",
              "      <td>Iris-setosa</td>\n",
              "    </tr>\n",
              "    <tr>\n",
              "      <th>3</th>\n",
              "      <td>4.6</td>\n",
              "      <td>3.1</td>\n",
              "      <td>1.5</td>\n",
              "      <td>0.2</td>\n",
              "      <td>Iris-setosa</td>\n",
              "    </tr>\n",
              "    <tr>\n",
              "      <th>4</th>\n",
              "      <td>5.0</td>\n",
              "      <td>3.6</td>\n",
              "      <td>1.4</td>\n",
              "      <td>0.2</td>\n",
              "      <td>Iris-setosa</td>\n",
              "    </tr>\n",
              "    <tr>\n",
              "      <th>5</th>\n",
              "      <td>5.4</td>\n",
              "      <td>3.9</td>\n",
              "      <td>1.7</td>\n",
              "      <td>0.4</td>\n",
              "      <td>Iris-setosa</td>\n",
              "    </tr>\n",
              "    <tr>\n",
              "      <th>6</th>\n",
              "      <td>4.6</td>\n",
              "      <td>3.4</td>\n",
              "      <td>1.4</td>\n",
              "      <td>0.3</td>\n",
              "      <td>Iris-setosa</td>\n",
              "    </tr>\n",
              "    <tr>\n",
              "      <th>7</th>\n",
              "      <td>5.0</td>\n",
              "      <td>3.4</td>\n",
              "      <td>1.5</td>\n",
              "      <td>0.2</td>\n",
              "      <td>Iris-setosa</td>\n",
              "    </tr>\n",
              "    <tr>\n",
              "      <th>9</th>\n",
              "      <td>4.9</td>\n",
              "      <td>3.1</td>\n",
              "      <td>1.5</td>\n",
              "      <td>0.1</td>\n",
              "      <td>Iris-setosa</td>\n",
              "    </tr>\n",
              "    <tr>\n",
              "      <th>10</th>\n",
              "      <td>5.4</td>\n",
              "      <td>3.7</td>\n",
              "      <td>1.5</td>\n",
              "      <td>0.2</td>\n",
              "      <td>Iris-setosa</td>\n",
              "    </tr>\n",
              "    <tr>\n",
              "      <th>11</th>\n",
              "      <td>4.8</td>\n",
              "      <td>3.4</td>\n",
              "      <td>1.6</td>\n",
              "      <td>0.2</td>\n",
              "      <td>Iris-setosa</td>\n",
              "    </tr>\n",
              "    <tr>\n",
              "      <th>14</th>\n",
              "      <td>5.8</td>\n",
              "      <td>4.0</td>\n",
              "      <td>1.2</td>\n",
              "      <td>0.2</td>\n",
              "      <td>Iris-setosa</td>\n",
              "    </tr>\n",
              "    <tr>\n",
              "      <th>15</th>\n",
              "      <td>5.7</td>\n",
              "      <td>4.4</td>\n",
              "      <td>1.5</td>\n",
              "      <td>0.4</td>\n",
              "      <td>Iris-setosa</td>\n",
              "    </tr>\n",
              "    <tr>\n",
              "      <th>16</th>\n",
              "      <td>5.4</td>\n",
              "      <td>3.9</td>\n",
              "      <td>1.3</td>\n",
              "      <td>0.4</td>\n",
              "      <td>Iris-setosa</td>\n",
              "    </tr>\n",
              "    <tr>\n",
              "      <th>17</th>\n",
              "      <td>5.1</td>\n",
              "      <td>3.5</td>\n",
              "      <td>1.4</td>\n",
              "      <td>0.3</td>\n",
              "      <td>Iris-setosa</td>\n",
              "    </tr>\n",
              "    <tr>\n",
              "      <th>18</th>\n",
              "      <td>5.7</td>\n",
              "      <td>3.8</td>\n",
              "      <td>1.7</td>\n",
              "      <td>0.3</td>\n",
              "      <td>Iris-setosa</td>\n",
              "    </tr>\n",
              "    <tr>\n",
              "      <th>19</th>\n",
              "      <td>5.1</td>\n",
              "      <td>3.8</td>\n",
              "      <td>1.5</td>\n",
              "      <td>0.3</td>\n",
              "      <td>Iris-setosa</td>\n",
              "    </tr>\n",
              "    <tr>\n",
              "      <th>20</th>\n",
              "      <td>5.4</td>\n",
              "      <td>3.4</td>\n",
              "      <td>1.7</td>\n",
              "      <td>0.2</td>\n",
              "      <td>Iris-setosa</td>\n",
              "    </tr>\n",
              "    <tr>\n",
              "      <th>21</th>\n",
              "      <td>5.1</td>\n",
              "      <td>3.7</td>\n",
              "      <td>1.5</td>\n",
              "      <td>0.4</td>\n",
              "      <td>Iris-setosa</td>\n",
              "    </tr>\n",
              "    <tr>\n",
              "      <th>22</th>\n",
              "      <td>4.6</td>\n",
              "      <td>3.6</td>\n",
              "      <td>1.0</td>\n",
              "      <td>0.2</td>\n",
              "      <td>Iris-setosa</td>\n",
              "    </tr>\n",
              "    <tr>\n",
              "      <th>23</th>\n",
              "      <td>5.1</td>\n",
              "      <td>3.3</td>\n",
              "      <td>1.7</td>\n",
              "      <td>0.5</td>\n",
              "      <td>Iris-setosa</td>\n",
              "    </tr>\n",
              "    <tr>\n",
              "      <th>24</th>\n",
              "      <td>4.8</td>\n",
              "      <td>3.4</td>\n",
              "      <td>1.9</td>\n",
              "      <td>0.2</td>\n",
              "      <td>Iris-setosa</td>\n",
              "    </tr>\n",
              "    <tr>\n",
              "      <th>26</th>\n",
              "      <td>5.0</td>\n",
              "      <td>3.4</td>\n",
              "      <td>1.6</td>\n",
              "      <td>0.4</td>\n",
              "      <td>Iris-setosa</td>\n",
              "    </tr>\n",
              "    <tr>\n",
              "      <th>27</th>\n",
              "      <td>5.2</td>\n",
              "      <td>3.5</td>\n",
              "      <td>1.5</td>\n",
              "      <td>0.2</td>\n",
              "      <td>Iris-setosa</td>\n",
              "    </tr>\n",
              "    <tr>\n",
              "      <th>28</th>\n",
              "      <td>5.2</td>\n",
              "      <td>3.4</td>\n",
              "      <td>1.4</td>\n",
              "      <td>0.2</td>\n",
              "      <td>Iris-setosa</td>\n",
              "    </tr>\n",
              "    <tr>\n",
              "      <th>29</th>\n",
              "      <td>4.7</td>\n",
              "      <td>3.2</td>\n",
              "      <td>1.6</td>\n",
              "      <td>0.2</td>\n",
              "      <td>Iris-setosa</td>\n",
              "    </tr>\n",
              "    <tr>\n",
              "      <th>30</th>\n",
              "      <td>4.8</td>\n",
              "      <td>3.1</td>\n",
              "      <td>1.6</td>\n",
              "      <td>0.2</td>\n",
              "      <td>Iris-setosa</td>\n",
              "    </tr>\n",
              "    <tr>\n",
              "      <th>31</th>\n",
              "      <td>5.4</td>\n",
              "      <td>3.4</td>\n",
              "      <td>1.5</td>\n",
              "      <td>0.4</td>\n",
              "      <td>Iris-setosa</td>\n",
              "    </tr>\n",
              "    <tr>\n",
              "      <th>32</th>\n",
              "      <td>5.2</td>\n",
              "      <td>4.1</td>\n",
              "      <td>1.5</td>\n",
              "      <td>0.1</td>\n",
              "      <td>Iris-setosa</td>\n",
              "    </tr>\n",
              "    <tr>\n",
              "      <th>33</th>\n",
              "      <td>5.5</td>\n",
              "      <td>4.2</td>\n",
              "      <td>1.4</td>\n",
              "      <td>0.2</td>\n",
              "      <td>Iris-setosa</td>\n",
              "    </tr>\n",
              "    <tr>\n",
              "      <th>34</th>\n",
              "      <td>4.9</td>\n",
              "      <td>3.1</td>\n",
              "      <td>1.5</td>\n",
              "      <td>0.1</td>\n",
              "      <td>Iris-setosa</td>\n",
              "    </tr>\n",
              "    <tr>\n",
              "      <th>35</th>\n",
              "      <td>5.0</td>\n",
              "      <td>3.2</td>\n",
              "      <td>1.2</td>\n",
              "      <td>0.2</td>\n",
              "      <td>Iris-setosa</td>\n",
              "    </tr>\n",
              "    <tr>\n",
              "      <th>36</th>\n",
              "      <td>5.5</td>\n",
              "      <td>3.5</td>\n",
              "      <td>1.3</td>\n",
              "      <td>0.2</td>\n",
              "      <td>Iris-setosa</td>\n",
              "    </tr>\n",
              "    <tr>\n",
              "      <th>37</th>\n",
              "      <td>4.9</td>\n",
              "      <td>3.1</td>\n",
              "      <td>1.5</td>\n",
              "      <td>0.1</td>\n",
              "      <td>Iris-setosa</td>\n",
              "    </tr>\n",
              "    <tr>\n",
              "      <th>39</th>\n",
              "      <td>5.1</td>\n",
              "      <td>3.4</td>\n",
              "      <td>1.5</td>\n",
              "      <td>0.2</td>\n",
              "      <td>Iris-setosa</td>\n",
              "    </tr>\n",
              "    <tr>\n",
              "      <th>40</th>\n",
              "      <td>5.0</td>\n",
              "      <td>3.5</td>\n",
              "      <td>1.3</td>\n",
              "      <td>0.3</td>\n",
              "      <td>Iris-setosa</td>\n",
              "    </tr>\n",
              "    <tr>\n",
              "      <th>42</th>\n",
              "      <td>4.4</td>\n",
              "      <td>3.2</td>\n",
              "      <td>1.3</td>\n",
              "      <td>0.2</td>\n",
              "      <td>Iris-setosa</td>\n",
              "    </tr>\n",
              "    <tr>\n",
              "      <th>43</th>\n",
              "      <td>5.0</td>\n",
              "      <td>3.5</td>\n",
              "      <td>1.6</td>\n",
              "      <td>0.6</td>\n",
              "      <td>Iris-setosa</td>\n",
              "    </tr>\n",
              "    <tr>\n",
              "      <th>44</th>\n",
              "      <td>5.1</td>\n",
              "      <td>3.8</td>\n",
              "      <td>1.9</td>\n",
              "      <td>0.4</td>\n",
              "      <td>Iris-setosa</td>\n",
              "    </tr>\n",
              "    <tr>\n",
              "      <th>46</th>\n",
              "      <td>5.1</td>\n",
              "      <td>3.8</td>\n",
              "      <td>1.6</td>\n",
              "      <td>0.2</td>\n",
              "      <td>Iris-setosa</td>\n",
              "    </tr>\n",
              "    <tr>\n",
              "      <th>47</th>\n",
              "      <td>4.6</td>\n",
              "      <td>3.2</td>\n",
              "      <td>1.4</td>\n",
              "      <td>0.2</td>\n",
              "      <td>Iris-setosa</td>\n",
              "    </tr>\n",
              "    <tr>\n",
              "      <th>48</th>\n",
              "      <td>5.3</td>\n",
              "      <td>3.7</td>\n",
              "      <td>1.5</td>\n",
              "      <td>0.2</td>\n",
              "      <td>Iris-setosa</td>\n",
              "    </tr>\n",
              "    <tr>\n",
              "      <th>49</th>\n",
              "      <td>5.0</td>\n",
              "      <td>3.3</td>\n",
              "      <td>1.4</td>\n",
              "      <td>0.2</td>\n",
              "      <td>Iris-setosa</td>\n",
              "    </tr>\n",
              "  </tbody>\n",
              "</table>\n",
              "</div>"
            ],
            "text/plain": [
              "    SepalLength  SepalWidth  PetalLength  PetalWidth        Class\n",
              "0           5.1         3.5          1.4         0.2  Iris-setosa\n",
              "2           4.7         3.2          1.3         0.2  Iris-setosa\n",
              "3           4.6         3.1          1.5         0.2  Iris-setosa\n",
              "4           5.0         3.6          1.4         0.2  Iris-setosa\n",
              "5           5.4         3.9          1.7         0.4  Iris-setosa\n",
              "6           4.6         3.4          1.4         0.3  Iris-setosa\n",
              "7           5.0         3.4          1.5         0.2  Iris-setosa\n",
              "9           4.9         3.1          1.5         0.1  Iris-setosa\n",
              "10          5.4         3.7          1.5         0.2  Iris-setosa\n",
              "11          4.8         3.4          1.6         0.2  Iris-setosa\n",
              "14          5.8         4.0          1.2         0.2  Iris-setosa\n",
              "15          5.7         4.4          1.5         0.4  Iris-setosa\n",
              "16          5.4         3.9          1.3         0.4  Iris-setosa\n",
              "17          5.1         3.5          1.4         0.3  Iris-setosa\n",
              "18          5.7         3.8          1.7         0.3  Iris-setosa\n",
              "19          5.1         3.8          1.5         0.3  Iris-setosa\n",
              "20          5.4         3.4          1.7         0.2  Iris-setosa\n",
              "21          5.1         3.7          1.5         0.4  Iris-setosa\n",
              "22          4.6         3.6          1.0         0.2  Iris-setosa\n",
              "23          5.1         3.3          1.7         0.5  Iris-setosa\n",
              "24          4.8         3.4          1.9         0.2  Iris-setosa\n",
              "26          5.0         3.4          1.6         0.4  Iris-setosa\n",
              "27          5.2         3.5          1.5         0.2  Iris-setosa\n",
              "28          5.2         3.4          1.4         0.2  Iris-setosa\n",
              "29          4.7         3.2          1.6         0.2  Iris-setosa\n",
              "30          4.8         3.1          1.6         0.2  Iris-setosa\n",
              "31          5.4         3.4          1.5         0.4  Iris-setosa\n",
              "32          5.2         4.1          1.5         0.1  Iris-setosa\n",
              "33          5.5         4.2          1.4         0.2  Iris-setosa\n",
              "34          4.9         3.1          1.5         0.1  Iris-setosa\n",
              "35          5.0         3.2          1.2         0.2  Iris-setosa\n",
              "36          5.5         3.5          1.3         0.2  Iris-setosa\n",
              "37          4.9         3.1          1.5         0.1  Iris-setosa\n",
              "39          5.1         3.4          1.5         0.2  Iris-setosa\n",
              "40          5.0         3.5          1.3         0.3  Iris-setosa\n",
              "42          4.4         3.2          1.3         0.2  Iris-setosa\n",
              "43          5.0         3.5          1.6         0.6  Iris-setosa\n",
              "44          5.1         3.8          1.9         0.4  Iris-setosa\n",
              "46          5.1         3.8          1.6         0.2  Iris-setosa\n",
              "47          4.6         3.2          1.4         0.2  Iris-setosa\n",
              "48          5.3         3.7          1.5         0.2  Iris-setosa\n",
              "49          5.0         3.3          1.4         0.2  Iris-setosa"
            ]
          },
          "metadata": {
            "tags": []
          },
          "execution_count": 34
        }
      ]
    },
    {
      "cell_type": "code",
      "metadata": {
        "id": "6I4Ap7sBq0Ou",
        "colab_type": "code",
        "colab": {}
      },
      "source": [
        ""
      ],
      "execution_count": 0,
      "outputs": []
    }
  ]
}