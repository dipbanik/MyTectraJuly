{
  "nbformat": 4,
  "nbformat_minor": 0,
  "metadata": {
    "kernelspec": {
      "display_name": "Python 3",
      "language": "python",
      "name": "python3"
    },
    "language_info": {
      "codemirror_mode": {
        "name": "ipython",
        "version": 3
      },
      "file_extension": ".py",
      "mimetype": "text/x-python",
      "name": "python",
      "nbconvert_exporter": "python",
      "pygments_lexer": "ipython3",
      "version": "3.6.2"
    },
    "colab": {
      "name": "Assignment.ipynb",
      "version": "0.3.2",
      "provenance": []
    }
  },
  "cells": [
    {
      "cell_type": "markdown",
      "metadata": {
        "id": "zPT05w9xE4XP",
        "colab_type": "text"
      },
      "source": [
        "# Assignment\n"
      ]
    },
    {
      "cell_type": "code",
      "metadata": {
        "id": "FNFQhRbVE4XR",
        "colab_type": "code",
        "colab": {}
      },
      "source": [
        "#Import necessary libraries\n"
      ],
      "execution_count": 0,
      "outputs": []
    },
    {
      "cell_type": "code",
      "metadata": {
        "id": "0TE4FtvSE4XW",
        "colab_type": "code",
        "colab": {}
      },
      "source": [
        "\n",
        "# (a) Determine the shape, number of dimensions and type of \n",
        "# elements in the numpy array arr\n",
        "# (b) Determine the sum of elements in arr\n",
        "# (c) Determine the mean of elements in arr\n",
        "# (d) Create an array of the same shape as arr but filled with zeros\n",
        "# (e) Create an array of the same shape as arr but filled with ones\n",
        "# (f) Create an array of the same shape as arr but where all elements are squared values\n",
        "# (g) Create an array result of shape 3*3 resulting from multiplication of arr with transpose(arr). Hint: use np.dot"
      ],
      "execution_count": 0,
      "outputs": []
    },
    {
      "cell_type": "code",
      "metadata": {
        "id": "4xppXeplE4Xa",
        "colab_type": "code",
        "colab": {}
      },
      "source": [
        "\n",
        "# The following piece of code creates a DataFrame \n",
        "# (a) Determine the shape of the dataframe\n",
        "# (b) Print out all the columns of the dataframe\n",
        "# (c) Print the 3rd element of the dataframe\n",
        "# (d) Find the average of 'petal_width' where species is 'virginica'\n",
        "# (e) Find the maximum of 'sepal_width' where species is 'setosa'\n",
        "# (f): What is the average value of sepal_length\n",
        "# (g): What is the maximum value of sepal_width\n",
        "# (h): What is the minimum value of petal_width\n",
        "\n"
      ],
      "execution_count": 0,
      "outputs": []
    },
    {
      "cell_type": "markdown",
      "metadata": {
        "collapsed": true,
        "id": "s8M3or9GE4Xg",
        "colab_type": "text"
      },
      "source": [
        "### Getting started\n",
        "We will start working on our capstone project this week. For this week, the task consists of\n",
        "Finding a dataset of interest.\n",
        "    -You can use the links in the supplementary materials to help you find the dataset\n",
        "    -This dataset should be publicly accessible and available for download\n",
        "    -Should be of interest to the class\n",
        "    -The goal is to be askign and answering important questions about the data\n",
        "You can start with the following datasets or find your own\n",
        "### Open datasets\n",
        "          \n",
        "* Resources for open data\n",
        "  * https://data.boston.gov/\n",
        "  * https://www.data.gov/\n",
        "  * https://www.bls.gov/data/\n",
        "  * http://www.fao.org/statistics/databases/en/\n",
        "  * http://ec.europa.eu/eurostat/web/main\n",
        "  * https://github.com/awesomedata/awesome-public-datasets\n",
        "  * https://www.kdnuggets.com/2016/05/top-10-datasets-github.html\n",
        "  * https://www.quora.com/Where-can-I-find-large-datasets-open-to-the-public\n",
        "    \n",
        "### Questions\n",
        "\n",
        "* Q: Shortlist three datasets of interest\n",
        "* Q: For each dataset suggest describe the data (a few sentences) and questions that can be answered using that data (a few sentences)\n"
      ]
    },
    {
      "cell_type": "code",
      "metadata": {
        "id": "pl0WEAqOE4Xh",
        "colab_type": "code",
        "colab": {}
      },
      "source": [
        ""
      ],
      "execution_count": 0,
      "outputs": []
    }
  ]
}