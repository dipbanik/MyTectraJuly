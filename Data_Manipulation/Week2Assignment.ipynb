{
  "nbformat": 4,
  "nbformat_minor": 0,
  "metadata": {
    "kernelspec": {
      "display_name": "Python 3",
      "language": "python",
      "name": "python3"
    },
    "language_info": {
      "codemirror_mode": {
        "name": "ipython",
        "version": 3
      },
      "file_extension": ".py",
      "mimetype": "text/x-python",
      "name": "python",
      "nbconvert_exporter": "python",
      "pygments_lexer": "ipython3",
      "version": "3.6.5"
    },
    "colab": {
      "name": "Week2Assignment.ipynb",
      "version": "0.3.2",
      "provenance": []
    }
  },
  "cells": [
    {
      "cell_type": "markdown",
      "metadata": {
        "id": "5rTuhUlD5J3r",
        "colab_type": "text"
      },
      "source": [
        "# Assignment\n",
        "* Download the \"Assignment.ipynb\" notebook \n",
        "* Fill in the code in the cells marked with #GRADED#\n",
        "* Code cells outside of #GRADED# will not be considered for grading. \n",
        "  * Feel free to write outside of it for debugging\n",
        "* Submit the updated notebook\n",
        "  * Make sure to save your changes before submitting it"
      ]
    },
    {
      "cell_type": "code",
      "metadata": {
        "id": "0kEagjJw9o1X",
        "colab_type": "code",
        "colab": {
          "base_uri": "https://localhost:8080/",
          "height": 217
        },
        "outputId": "d0134cd5-697a-43fe-baba-28710bd122e9"
      },
      "source": [
        "!wget -c https://raw.githubusercontent.com/mwaskom/seaborn-data/master/iris.csv"
      ],
      "execution_count": 22,
      "outputs": [
        {
          "output_type": "stream",
          "text": [
            "--2019-07-30 17:39:26--  https://raw.githubusercontent.com/mwaskom/seaborn-data/master/iris.csv\n",
            "Resolving raw.githubusercontent.com (raw.githubusercontent.com)... 151.101.0.133, 151.101.64.133, 151.101.128.133, ...\n",
            "Connecting to raw.githubusercontent.com (raw.githubusercontent.com)|151.101.0.133|:443... connected.\n",
            "HTTP request sent, awaiting response... 200 OK\n",
            "Length: 3858 (3.8K) [text/plain]\n",
            "Saving to: ‘iris.csv’\n",
            "\n",
            "\riris.csv              0%[                    ]       0  --.-KB/s               \riris.csv            100%[===================>]   3.77K  --.-KB/s    in 0s      \n",
            "\n",
            "2019-07-30 17:39:26 (80.6 MB/s) - ‘iris.csv’ saved [3858/3858]\n",
            "\n"
          ],
          "name": "stdout"
        }
      ]
    },
    {
      "cell_type": "code",
      "metadata": {
        "id": "J9s1m7hi5J32",
        "colab_type": "code",
        "colab": {}
      },
      "source": [
        "#Import necessary libraries\n",
        "import pandas as pd\n",
        "import numpy as np"
      ],
      "execution_count": 0,
      "outputs": []
    },
    {
      "cell_type": "code",
      "metadata": {
        "id": "exaE3sUk5J4F",
        "colab_type": "code",
        "colab": {}
      },
      "source": [
        "# GRADED\n",
        "# \n",
        "# (a) Using a for loop, iterate through the list x\n",
        "# and print an item if its divisible by 2 and less than 6\n",
        "# (b) Using a for loop, iterate through the dictionary y\n",
        "# and print a single string of the form \"company, ceo\"\n",
        "# e.g. \"CEO: Apple, Name: Tim Cook\" will be the third entry\n",
        "x = [1, 2, 3, 4, 5, 6, 7, 8, 9, 10]\n",
        "y = {\n",
        "    'Satya Nadella': 'Microsoft',\n",
        "    'Jeff Bezos': 'Amazon',\n",
        "    'Tim Cook': 'Apple'\n",
        "}"
      ],
      "execution_count": 0,
      "outputs": []
    },
    {
      "cell_type": "code",
      "metadata": {
        "id": "ueIYOdmX5J4P",
        "colab_type": "code",
        "colab": {
          "base_uri": "https://localhost:8080/",
          "height": 35
        },
        "outputId": "059fc5f2-0a71-4f0f-9799-3a231152dba5"
      },
      "source": [
        "# GRADED\n",
        "# Provided below are functions that are completely defined (add_numbers),\n",
        "# partially defined (sub_numbers) and not defined (mult_numbers)\n",
        "# (a) Complete sub_numbers so that it return difference of two numbers\n",
        "# (b) Write a function called mult_numbers to multiply two numbers\n",
        "\n",
        "def add_numbers(a, b):\n",
        "    result = a + b\n",
        "    return result\n",
        "\n",
        "def sub_numbers(a, b):\n",
        "    # Write code to return sum of a and b\n",
        "    result =  a-b #Replace 0 with your code\n",
        "    return result\n",
        "\n",
        "def mult_numbers(a, b):\n",
        "    result = a*b\n",
        "    return result\n",
        "# Uncomment the following when you have done the exercise\n",
        "#a^2-b^2 = ((a+b)*(a-b))\n",
        "#e.g 5^2 - 4^2 = (5+4)(5-4) = 9\n",
        "print(mult_numbers(add_numbers(5,4), sub_numbers(5,4)))\n",
        "# Should print 9"
      ],
      "execution_count": 11,
      "outputs": [
        {
          "output_type": "stream",
          "text": [
            "9\n"
          ],
          "name": "stdout"
        }
      ]
    },
    {
      "cell_type": "code",
      "metadata": {
        "id": "LcAvF-vq5J4Y",
        "colab_type": "code",
        "colab": {
          "base_uri": "https://localhost:8080/",
          "height": 599
        },
        "outputId": "0029305d-bd8d-4599-8e46-0aaa891e3a0d"
      },
      "source": [
        "arr=np.random.rand(3,3)\n",
        "print(arr)     \n",
        "print(\"shape:\")\n",
        "new_var1=arr.shape\n",
        "print(new_var1)\n",
        "print(\"Dimension:\")\n",
        "new_var2=arr.ndim\n",
        "print(new_var2)\n",
        "print(\"total number of elements:\")\n",
        "new_var3=arr.size\n",
        "print(new_var3)\n",
        "print(\"data type of each element in an array\")\n",
        "new_var4=arr.dtype\n",
        "print(new_var4)\n",
        "print(\"mean value:\")\n",
        "new_var5=arr.mean()\n",
        "print(new_var5)\n",
        "arr1=np.zeros_like(arr, dtype=int)\n",
        "print(arr1)\n",
        "arr2=np.ones_like(arr, dtype=int)\n",
        "print(arr2)\n",
        "dx=[(elem*elem)for elem in arr]\n",
        "print(dx)\n",
        "vector_1=np.array(arr)\n",
        "vector_2=np.array(arr).T\n",
        "print(\"arr:\\n\",vector_1)\n",
        "print(\"transpose of arr:\\n\",vector_2)\n",
        "result=np.dot(vector_1,vector_2)\n",
        "print(\"resultant matrix:\\n\",result)\n",
        "# (a) Determine the shape, number of dimensions and type of \n",
        "# elements in the numpy array arr\n",
        "# (b) Determine the sum of elements in arr\n",
        "# (c) Determine the mean of elements in arr\n",
        "# (d) Create an array of the same shape as arr but filled with zeros\n",
        "# (e) Create an array of the same shape as arr but filled with ones\n",
        "# (f) Create an array of the same shape as arr but where all elements are squared values\n",
        "# (g) Create an array result of shape 3*3 resulting from multiplication of arr with transpose(arr). Hint: use np.dot\n",
        "arr = np.arange(15).reshape(3, 5)"
      ],
      "execution_count": 12,
      "outputs": [
        {
          "output_type": "stream",
          "text": [
            "[[0.287261   0.5650776  0.14676607]\n",
            " [0.72933868 0.27876224 0.69226594]\n",
            " [0.50943915 0.18643626 0.11136394]]\n",
            "shape:\n",
            "(3, 3)\n",
            "Dimension:\n",
            "2\n",
            "total number of elements:\n",
            "9\n",
            "data type of each element in an array\n",
            "float64\n",
            "mean value:\n",
            "0.38963454166970163\n",
            "[[0 0 0]\n",
            " [0 0 0]\n",
            " [0 0 0]]\n",
            "[[1 1 1]\n",
            " [1 1 1]\n",
            " [1 1 1]]\n",
            "[array([0.08251888, 0.3193127 , 0.02154028]), array([0.53193491, 0.07770839, 0.47923213]), array([0.25952825, 0.03475848, 0.01240193])]\n",
            "arr:\n",
            " [[0.287261   0.5650776  0.14676607]\n",
            " [0.72933868 0.27876224 0.69226594]\n",
            " [0.50943915 0.18643626 0.11136394]]\n",
            "transpose of arr:\n",
            " [[0.287261   0.72933868 0.50943915]\n",
            " [0.5650776  0.27876224 0.18643626]\n",
            " [0.14676607 0.69226594 0.11136394]]\n",
            "resultant matrix:\n",
            " [[0.42337185 0.468634   0.2680374 ]\n",
            " [0.468634   1.08887543 0.50061853]\n",
            " [0.2680374  0.50061853 0.30668865]]\n"
          ],
          "name": "stdout"
        }
      ]
    },
    {
      "cell_type": "code",
      "metadata": {
        "id": "DD3f02Px5J4i",
        "colab_type": "code",
        "colab": {
          "base_uri": "https://localhost:8080/",
          "height": 1000
        },
        "outputId": "d8681072-883b-452b-ce76-87d284683947"
      },
      "source": [
        "### GRADED\n",
        "# The following piece of code creates a DataFrame \n",
        "# (a) Determine the shape of the dataframe\n",
        "# (b) Print out all the columns of the dataframe\n",
        "# (c) Print the 3rd element of the dataframe\n",
        "# (d) Find the average of 'petal_width' where species is 'virginica'\n",
        "# (e) Find the maximum of 'sepal_width' where species is 'setosa'\n",
        "# (f): What is the average value of sepal_length\n",
        "# (g): What is the maximum value of sepal_width\n",
        "# (h): What is the minimum value of petal_width\n",
        "import pandas as pd\n",
        "df = pd.read_csv('https://raw.githubusercontent.com/mwaskom/seaborn-data/master/iris.csv')\n",
        "print(df.head(10)) #prints the first 10 rows\n",
        "print(df.shape)#a\n",
        "print(df[0:])#b\n",
        "print(df.iloc[2])#c\n",
        "print(\"average of sepal_length values\")#f\n",
        "new_var=(df['sepal_length'])\n",
        "print(new_var.mean())\n",
        "print(\"maximum value in sepal_width\")#g\n",
        "print((df['sepal_width']).max())\n",
        "print(\"minimum value of petal_width\")#h\n",
        "print((df['petal_width'].min()))"
      ],
      "execution_count": 29,
      "outputs": [
        {
          "output_type": "stream",
          "text": [
            "   sepal_length  sepal_width  petal_length  petal_width species\n",
            "0           5.1          3.5           1.4          0.2  setosa\n",
            "1           4.9          3.0           1.4          0.2  setosa\n",
            "2           4.7          3.2           1.3          0.2  setosa\n",
            "3           4.6          3.1           1.5          0.2  setosa\n",
            "4           5.0          3.6           1.4          0.2  setosa\n",
            "5           5.4          3.9           1.7          0.4  setosa\n",
            "6           4.6          3.4           1.4          0.3  setosa\n",
            "7           5.0          3.4           1.5          0.2  setosa\n",
            "8           4.4          2.9           1.4          0.2  setosa\n",
            "9           4.9          3.1           1.5          0.1  setosa\n",
            "(150, 5)\n",
            "     sepal_length  sepal_width  petal_length  petal_width    species\n",
            "0             5.1          3.5           1.4          0.2     setosa\n",
            "1             4.9          3.0           1.4          0.2     setosa\n",
            "2             4.7          3.2           1.3          0.2     setosa\n",
            "3             4.6          3.1           1.5          0.2     setosa\n",
            "4             5.0          3.6           1.4          0.2     setosa\n",
            "5             5.4          3.9           1.7          0.4     setosa\n",
            "6             4.6          3.4           1.4          0.3     setosa\n",
            "7             5.0          3.4           1.5          0.2     setosa\n",
            "8             4.4          2.9           1.4          0.2     setosa\n",
            "9             4.9          3.1           1.5          0.1     setosa\n",
            "10            5.4          3.7           1.5          0.2     setosa\n",
            "11            4.8          3.4           1.6          0.2     setosa\n",
            "12            4.8          3.0           1.4          0.1     setosa\n",
            "13            4.3          3.0           1.1          0.1     setosa\n",
            "14            5.8          4.0           1.2          0.2     setosa\n",
            "15            5.7          4.4           1.5          0.4     setosa\n",
            "16            5.4          3.9           1.3          0.4     setosa\n",
            "17            5.1          3.5           1.4          0.3     setosa\n",
            "18            5.7          3.8           1.7          0.3     setosa\n",
            "19            5.1          3.8           1.5          0.3     setosa\n",
            "20            5.4          3.4           1.7          0.2     setosa\n",
            "21            5.1          3.7           1.5          0.4     setosa\n",
            "22            4.6          3.6           1.0          0.2     setosa\n",
            "23            5.1          3.3           1.7          0.5     setosa\n",
            "24            4.8          3.4           1.9          0.2     setosa\n",
            "25            5.0          3.0           1.6          0.2     setosa\n",
            "26            5.0          3.4           1.6          0.4     setosa\n",
            "27            5.2          3.5           1.5          0.2     setosa\n",
            "28            5.2          3.4           1.4          0.2     setosa\n",
            "29            4.7          3.2           1.6          0.2     setosa\n",
            "..            ...          ...           ...          ...        ...\n",
            "120           6.9          3.2           5.7          2.3  virginica\n",
            "121           5.6          2.8           4.9          2.0  virginica\n",
            "122           7.7          2.8           6.7          2.0  virginica\n",
            "123           6.3          2.7           4.9          1.8  virginica\n",
            "124           6.7          3.3           5.7          2.1  virginica\n",
            "125           7.2          3.2           6.0          1.8  virginica\n",
            "126           6.2          2.8           4.8          1.8  virginica\n",
            "127           6.1          3.0           4.9          1.8  virginica\n",
            "128           6.4          2.8           5.6          2.1  virginica\n",
            "129           7.2          3.0           5.8          1.6  virginica\n",
            "130           7.4          2.8           6.1          1.9  virginica\n",
            "131           7.9          3.8           6.4          2.0  virginica\n",
            "132           6.4          2.8           5.6          2.2  virginica\n",
            "133           6.3          2.8           5.1          1.5  virginica\n",
            "134           6.1          2.6           5.6          1.4  virginica\n",
            "135           7.7          3.0           6.1          2.3  virginica\n",
            "136           6.3          3.4           5.6          2.4  virginica\n",
            "137           6.4          3.1           5.5          1.8  virginica\n",
            "138           6.0          3.0           4.8          1.8  virginica\n",
            "139           6.9          3.1           5.4          2.1  virginica\n",
            "140           6.7          3.1           5.6          2.4  virginica\n",
            "141           6.9          3.1           5.1          2.3  virginica\n",
            "142           5.8          2.7           5.1          1.9  virginica\n",
            "143           6.8          3.2           5.9          2.3  virginica\n",
            "144           6.7          3.3           5.7          2.5  virginica\n",
            "145           6.7          3.0           5.2          2.3  virginica\n",
            "146           6.3          2.5           5.0          1.9  virginica\n",
            "147           6.5          3.0           5.2          2.0  virginica\n",
            "148           6.2          3.4           5.4          2.3  virginica\n",
            "149           5.9          3.0           5.1          1.8  virginica\n",
            "\n",
            "[150 rows x 5 columns]\n",
            "sepal_length       4.7\n",
            "sepal_width        3.2\n",
            "petal_length       1.3\n",
            "petal_width        0.2\n",
            "species         setosa\n",
            "Name: 2, dtype: object\n",
            "average of sepal_length values\n",
            "5.843333333333335\n",
            "maximum value in sepal_width\n",
            "4.4\n",
            "minimum value of petal_width\n",
            "0.1\n"
          ],
          "name": "stdout"
        }
      ]
    },
    {
      "cell_type": "code",
      "metadata": {
        "id": "11HSWAlv5J40",
        "colab_type": "code",
        "colab": {}
      },
      "source": [
        ""
      ],
      "execution_count": 0,
      "outputs": []
    }
  ]
}