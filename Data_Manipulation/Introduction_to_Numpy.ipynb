{
  "nbformat": 4,
  "nbformat_minor": 0,
  "metadata": {
    "celltoolbar": "Slideshow",
    "kernelspec": {
      "display_name": "Python 3",
      "language": "python",
      "name": "python3"
    },
    "colab": {
      "name": "Introduction to Numpy.ipynb",
      "version": "0.3.2",
      "provenance": [],
      "include_colab_link": true
    }
  },
  "cells": [
    {
      "cell_type": "markdown",
      "metadata": {
        "id": "view-in-github",
        "colab_type": "text"
      },
      "source": [
        "<a href=\"https://colab.research.google.com/github/dipbanik/MyTectraJuly/blob/develop/Introduction_to_Numpy.ipynb\" target=\"_parent\"><img src=\"https://colab.research.google.com/assets/colab-badge.svg\" alt=\"Open In Colab\"/></a>"
      ]
    },
    {
      "cell_type": "markdown",
      "metadata": {
        "id": "bQK4ZuQun_ky",
        "colab_type": "text"
      },
      "source": [
        "# Numpy \n",
        "* Numpy is a python library for numeric processing\n",
        "  * Efficient way to deal with arrays and matrices\n",
        "  * Allows operation on entire arrays, matrices\n",
        "* Implemented in C and uses optimized math instructions for speed\n",
        "* Pandas is built on top of Numpy. \n",
        "  * Pandas objects usually accept Numpy arrays\n",
        "* Resources\n",
        "  * https://docs.scipy.org/doc/numpy-dev/user/quickstart.html\n",
        "  \n",
        "  "
      ]
    },
    {
      "cell_type": "markdown",
      "metadata": {
        "id": "AtBo4bNPn_kz",
        "colab_type": "text"
      },
      "source": [
        "## Example\n",
        "\n",
        "```python\n",
        "import numpy as np\n",
        "x = [1, 2, 3]\n",
        "dx = [ 2 * x for x in x]\n",
        "print(dx)\n",
        "\n",
        "# Same operation in numpy\n",
        "npx = np.array(x) # First convert x into numeric array\n",
        "dx  = 2 * npx  # Note lack of list comprehension\n",
        "print(dx)\n",
        "```"
      ]
    },
    {
      "cell_type": "code",
      "metadata": {
        "id": "SewTEh9-n_k1",
        "colab_type": "code",
        "outputId": "743902d7-7cf2-4bbe-929b-ab89e5c53871",
        "colab": {
          "base_uri": "https://localhost:8080/",
          "height": 51
        }
      },
      "source": [
        "import numpy as np\n",
        "\n",
        "x = [1, 2, 3]\n",
        "dx = []\n",
        "for item in x:\n",
        "    dx.append(2 * item)\n",
        "    \n",
        "\n",
        "print(dx)\n",
        "print(type(dx))\n",
        "\n",
        "\n"
      ],
      "execution_count": 0,
      "outputs": [
        {
          "output_type": "stream",
          "text": [
            "[2, 4, 6]\n",
            "<class 'list'>\n"
          ],
          "name": "stdout"
        }
      ]
    },
    {
      "cell_type": "code",
      "metadata": {
        "id": "y0pgZyqKn_k-",
        "colab_type": "code",
        "outputId": "625145e3-46e8-4738-fcc9-648f5fd556e9",
        "colab": {
          "base_uri": "https://localhost:8080/",
          "height": 34
        }
      },
      "source": [
        "dx = [ (2 * elem)  for elem in x]\n",
        "dx"
      ],
      "execution_count": 0,
      "outputs": [
        {
          "output_type": "execute_result",
          "data": {
            "text/plain": [
              "[2, 4, 6]"
            ]
          },
          "metadata": {
            "tags": []
          },
          "execution_count": 15
        }
      ]
    },
    {
      "cell_type": "code",
      "metadata": {
        "id": "NA_7xNn8n_lC",
        "colab_type": "code",
        "outputId": "fca57f53-fa2c-4ab3-9ac8-5d3c80899f06",
        "colab": {
          "base_uri": "https://localhost:8080/",
          "height": 34
        }
      },
      "source": [
        "# Same operation in numpydx = [ 2 * elem for elem in x]\n",
        "npx = np.array(x) # First convert x into numeric array\n",
        "type(npx), type(x)\n",
        "\n"
      ],
      "execution_count": 0,
      "outputs": [
        {
          "output_type": "execute_result",
          "data": {
            "text/plain": [
              "(numpy.ndarray, list)"
            ]
          },
          "metadata": {
            "tags": []
          },
          "execution_count": 17
        }
      ]
    },
    {
      "cell_type": "code",
      "metadata": {
        "id": "5UqqTfykt2mY",
        "colab_type": "code",
        "colab": {}
      },
      "source": [
        ""
      ],
      "execution_count": 0,
      "outputs": []
    },
    {
      "cell_type": "code",
      "metadata": {
        "id": "dxD-PDA7ttTR",
        "colab_type": "code",
        "outputId": "79d8208b-e8d6-45b5-e434-c005fe8f7276",
        "colab": {
          "base_uri": "https://localhost:8080/",
          "height": 34
        }
      },
      "source": [
        "\n",
        "dx = 2 * np.array([10,20]) + 100 \n",
        "type(dx)\n"
      ],
      "execution_count": 0,
      "outputs": [
        {
          "output_type": "execute_result",
          "data": {
            "text/plain": [
              "numpy.ndarray"
            ]
          },
          "metadata": {
            "tags": []
          },
          "execution_count": 25
        }
      ]
    },
    {
      "cell_type": "code",
      "metadata": {
        "id": "46Q3C67gutd9",
        "colab_type": "code",
        "outputId": "929eae5e-dbb7-4dbd-f333-e6f31e5287ee",
        "colab": {
          "base_uri": "https://localhost:8080/",
          "height": 34
        }
      },
      "source": [
        "dx"
      ],
      "execution_count": 0,
      "outputs": [
        {
          "output_type": "execute_result",
          "data": {
            "text/plain": [
              "array([120, 140])"
            ]
          },
          "metadata": {
            "tags": []
          },
          "execution_count": 26
        }
      ]
    },
    {
      "cell_type": "code",
      "metadata": {
        "id": "KmUQszQVt8IK",
        "colab_type": "code",
        "outputId": "61ec859f-b1e5-4f28-c7dc-c155cb7ca30a",
        "colab": {
          "base_uri": "https://localhost:8080/",
          "height": 34
        }
      },
      "source": [
        "\n",
        "dx.shape[0]"
      ],
      "execution_count": 0,
      "outputs": [
        {
          "output_type": "execute_result",
          "data": {
            "text/plain": [
              "2"
            ]
          },
          "metadata": {
            "tags": []
          },
          "execution_count": 35
        }
      ]
    },
    {
      "cell_type": "code",
      "metadata": {
        "id": "04OumcAKuGQg",
        "colab_type": "code",
        "outputId": "3d05c7ab-6d13-4452-dbd1-14e20facfe55",
        "colab": {
          "base_uri": "https://localhost:8080/",
          "height": 34
        }
      },
      "source": [
        "dx"
      ],
      "execution_count": 0,
      "outputs": [
        {
          "output_type": "execute_result",
          "data": {
            "text/plain": [
              "array([120, 140])"
            ]
          },
          "metadata": {
            "tags": []
          },
          "execution_count": 28
        }
      ]
    },
    {
      "cell_type": "code",
      "metadata": {
        "id": "Wu2UDV7cn_lG",
        "colab_type": "code",
        "outputId": "912b848c-09f1-4b68-99c7-620091b53911",
        "colab": {
          "base_uri": "https://localhost:8080/",
          "height": 34
        }
      },
      "source": [
        "x = np.array(range(100))\n",
        "index = np.array(range(10)) * 2 \n",
        "\n",
        "index"
      ],
      "execution_count": 0,
      "outputs": [
        {
          "output_type": "execute_result",
          "data": {
            "text/plain": [
              "array([ 0,  2,  4,  6,  8, 10, 12, 14, 16, 18])"
            ]
          },
          "metadata": {
            "tags": []
          },
          "execution_count": 30
        }
      ]
    },
    {
      "cell_type": "code",
      "metadata": {
        "id": "XVcyXWJ2vVqg",
        "colab_type": "code",
        "outputId": "73c6ba49-3c72-4b4b-b7af-2efd6d242cfd",
        "colab": {
          "base_uri": "https://localhost:8080/",
          "height": 119
        }
      },
      "source": [
        "x"
      ],
      "execution_count": 0,
      "outputs": [
        {
          "output_type": "execute_result",
          "data": {
            "text/plain": [
              "array([ 0,  1,  2,  3,  4,  5,  6,  7,  8,  9, 10, 11, 12, 13, 14, 15, 16,\n",
              "       17, 18, 19, 20, 21, 22, 23, 24, 25, 26, 27, 28, 29, 30, 31, 32, 33,\n",
              "       34, 35, 36, 37, 38, 39, 40, 41, 42, 43, 44, 45, 46, 47, 48, 49, 50,\n",
              "       51, 52, 53, 54, 55, 56, 57, 58, 59, 60, 61, 62, 63, 64, 65, 66, 67,\n",
              "       68, 69, 70, 71, 72, 73, 74, 75, 76, 77, 78, 79, 80, 81, 82, 83, 84,\n",
              "       85, 86, 87, 88, 89, 90, 91, 92, 93, 94, 95, 96, 97, 98, 99])"
            ]
          },
          "metadata": {
            "tags": []
          },
          "execution_count": 32
        }
      ]
    },
    {
      "cell_type": "code",
      "metadata": {
        "id": "0uKIM4K8vMzI",
        "colab_type": "code",
        "colab": {}
      },
      "source": [
        "new_var = x[index]"
      ],
      "execution_count": 0,
      "outputs": []
    },
    {
      "cell_type": "code",
      "metadata": {
        "id": "AJvxUu2qveQM",
        "colab_type": "code",
        "outputId": "0a66da3a-65e6-455b-ac1f-20bce91c599a",
        "colab": {
          "base_uri": "https://localhost:8080/",
          "height": 34
        }
      },
      "source": [
        "new_var"
      ],
      "execution_count": 0,
      "outputs": [
        {
          "output_type": "execute_result",
          "data": {
            "text/plain": [
              "array([ 0,  2,  4,  6,  8, 10, 12, 14, 16, 18])"
            ]
          },
          "metadata": {
            "tags": []
          },
          "execution_count": 34
        }
      ]
    },
    {
      "cell_type": "markdown",
      "metadata": {
        "id": "s7b8OpH0n_lO",
        "colab_type": "text"
      },
      "source": [
        "# NDArray\n",
        "* ndarray (n-dimensional array) is the primary data structure in NumPy\n",
        "* elements are all of the same type\n",
        "* supports multiple numeric types\n",
        "  * np.float32\n",
        "  * np.int32\n",
        "  * np.complex64 etc.\n",
        "* Unlike python lists, numpy arrays have attributes\n",
        "  * ndim - number of dimensions\n",
        "  * shape - shape of the array\n",
        "  * size - total elements\n",
        "  * dtype - data type of the elements\n",
        "* supports operators\n",
        "* allows fast indexing, slicing and reshaping"
      ]
    },
    {
      "cell_type": "code",
      "metadata": {
        "id": "PrwSdlEEn_lP",
        "colab_type": "code",
        "outputId": "8041ffa4-6503-4c89-f9c8-3f99549f56a9",
        "colab": {
          "base_uri": "https://localhost:8080/",
          "height": 85
        }
      },
      "source": [
        "# Example\n",
        "matrix = [\n",
        "       [ 0,  1,  2,  3,  4],\n",
        "       [ 5,  6,  7,  8,  9],\n",
        "       [10, 11, 12, 13, 14]\n",
        "]\n",
        "arr = np.array(matrix)\n",
        "\n",
        "print(\"Shape\")\n",
        "print(arr.shape)\n",
        "\n",
        "print(\"Dimensions\")\n",
        "arr.ndim\n",
        "\n",
        "arr.dtype"
      ],
      "execution_count": 0,
      "outputs": [
        {
          "output_type": "stream",
          "text": [
            "Shape\n",
            "(3, 5)\n",
            "Dimensions\n"
          ],
          "name": "stdout"
        },
        {
          "output_type": "execute_result",
          "data": {
            "text/plain": [
              "dtype('int64')"
            ]
          },
          "metadata": {
            "tags": []
          },
          "execution_count": 49
        }
      ]
    },
    {
      "cell_type": "code",
      "metadata": {
        "id": "YihVlbeNn_lV",
        "colab_type": "code",
        "outputId": "ae9d4e99-eb7a-410f-8623-eca56ef7d422",
        "colab": {
          "base_uri": "https://localhost:8080/",
          "height": 34
        }
      },
      "source": [
        "x = np.array([30, 200, 200])\n",
        "x.dtype"
      ],
      "execution_count": 0,
      "outputs": [
        {
          "output_type": "execute_result",
          "data": {
            "text/plain": [
              "dtype('int64')"
            ]
          },
          "metadata": {
            "tags": []
          },
          "execution_count": 41
        }
      ]
    },
    {
      "cell_type": "markdown",
      "metadata": {
        "id": "LqH8-5Rvn_lf",
        "colab_type": "text"
      },
      "source": [
        "## Creating Numpy arrays\n",
        "\n",
        "* There are many ways to create numpy arrays\n",
        "  * from python lists\n",
        "  ```python\n",
        "    arr = np.array([1, 2, 3])\n",
        "  ```\n",
        "  * using initialization functions\n",
        "  ```python\n",
        "    # Create a 3x4 matrix\n",
        "    arr = np.zeros((3,4))\n",
        "    # Create an array same shape as arr, but with 0 elements\n",
        "    zarr = np.zeros_like(arr)\n",
        "    # Create an array with ones\n",
        "    np.ones((2,3))\n",
        "    # Create an unitialized array\n",
        "    np.empty((2,3))\n",
        "  ```\n",
        "  * using range functions\n",
        "  ```python\n",
        "  arr = np.arange(100) #create an array 0..99\n",
        "  ```"
      ]
    },
    {
      "cell_type": "code",
      "metadata": {
        "id": "b1EC-slqn_lm",
        "colab_type": "code",
        "outputId": "05961eec-f69b-4bae-95c8-a8b95cc9a5e4",
        "colab": {
          "base_uri": "https://localhost:8080/",
          "height": 68
        }
      },
      "source": [
        "# Create a 3x4 matrix\n",
        "a = np.zeros((3,4))\n",
        "a"
      ],
      "execution_count": 0,
      "outputs": [
        {
          "output_type": "execute_result",
          "data": {
            "text/plain": [
              "array([[0., 0., 0., 0.],\n",
              "       [0., 0., 0., 0.],\n",
              "       [0., 0., 0., 0.]])"
            ]
          },
          "metadata": {
            "tags": []
          },
          "execution_count": 50
        }
      ]
    },
    {
      "cell_type": "code",
      "metadata": {
        "id": "YaAISzn8x2Zu",
        "colab_type": "code",
        "outputId": "884373c9-4354-46f4-ee59-7ff792f345b1",
        "colab": {
          "base_uri": "https://localhost:8080/",
          "height": 68
        }
      },
      "source": [
        "# Create an array same shape as arr, but with 0 elements\n",
        "b = np.zeros_like(matrix)\n",
        "b"
      ],
      "execution_count": 0,
      "outputs": [
        {
          "output_type": "execute_result",
          "data": {
            "text/plain": [
              "array([[0, 0, 0, 0, 0],\n",
              "       [0, 0, 0, 0, 0],\n",
              "       [0, 0, 0, 0, 0]])"
            ]
          },
          "metadata": {
            "tags": []
          },
          "execution_count": 51
        }
      ]
    },
    {
      "cell_type": "code",
      "metadata": {
        "id": "rfJzC9Vux4uF",
        "colab_type": "code",
        "outputId": "e0f25daa-46eb-47f5-c435-23f8824fd813",
        "colab": {
          "base_uri": "https://localhost:8080/",
          "height": 51
        }
      },
      "source": [
        "# Create an array with ones\n",
        "c = np.ones((2,3))\n",
        "c"
      ],
      "execution_count": 0,
      "outputs": [
        {
          "output_type": "execute_result",
          "data": {
            "text/plain": [
              "array([[1., 1., 1.],\n",
              "       [1., 1., 1.]])"
            ]
          },
          "metadata": {
            "tags": []
          },
          "execution_count": 52
        }
      ]
    },
    {
      "cell_type": "code",
      "metadata": {
        "id": "Nn4oHsP0x6bl",
        "colab_type": "code",
        "outputId": "4a60217d-1dae-46cd-a7a2-8c91d4ebf18c",
        "colab": {
          "base_uri": "https://localhost:8080/",
          "height": 51
        }
      },
      "source": [
        "# Create an unitialized array\n",
        "d = np.empty((2,3))\n",
        "#d = d * 0\n",
        "d"
      ],
      "execution_count": 0,
      "outputs": [
        {
          "output_type": "execute_result",
          "data": {
            "text/plain": [
              "array([[0., 0., 0.],\n",
              "       [0., 0., 0.]])"
            ]
          },
          "metadata": {
            "tags": []
          },
          "execution_count": 55
        }
      ]
    },
    {
      "cell_type": "code",
      "metadata": {
        "id": "20yqYT_Fn_lt",
        "colab_type": "code",
        "outputId": "9b393d5e-1bf7-4397-ec2f-054bb77e872a",
        "colab": {
          "base_uri": "https://localhost:8080/",
          "height": 119
        }
      },
      "source": [
        "np.arange(100)"
      ],
      "execution_count": 0,
      "outputs": [
        {
          "output_type": "execute_result",
          "data": {
            "text/plain": [
              "array([ 0,  1,  2,  3,  4,  5,  6,  7,  8,  9, 10, 11, 12, 13, 14, 15, 16,\n",
              "       17, 18, 19, 20, 21, 22, 23, 24, 25, 26, 27, 28, 29, 30, 31, 32, 33,\n",
              "       34, 35, 36, 37, 38, 39, 40, 41, 42, 43, 44, 45, 46, 47, 48, 49, 50,\n",
              "       51, 52, 53, 54, 55, 56, 57, 58, 59, 60, 61, 62, 63, 64, 65, 66, 67,\n",
              "       68, 69, 70, 71, 72, 73, 74, 75, 76, 77, 78, 79, 80, 81, 82, 83, 84,\n",
              "       85, 86, 87, 88, 89, 90, 91, 92, 93, 94, 95, 96, 97, 98, 99])"
            ]
          },
          "metadata": {
            "tags": []
          },
          "execution_count": 56
        }
      ]
    },
    {
      "cell_type": "code",
      "metadata": {
        "id": "WDWvt-PNzoza",
        "colab_type": "code",
        "outputId": "8acf1d4d-2eff-4142-989d-025fdc7d71fb",
        "colab": {
          "base_uri": "https://localhost:8080/",
          "height": 187
        }
      },
      "source": [
        "np.arange(100).reshape(5,20)"
      ],
      "execution_count": 0,
      "outputs": [
        {
          "output_type": "execute_result",
          "data": {
            "text/plain": [
              "array([[ 0,  1,  2,  3,  4,  5,  6,  7,  8,  9, 10, 11, 12, 13, 14, 15,\n",
              "        16, 17, 18, 19],\n",
              "       [20, 21, 22, 23, 24, 25, 26, 27, 28, 29, 30, 31, 32, 33, 34, 35,\n",
              "        36, 37, 38, 39],\n",
              "       [40, 41, 42, 43, 44, 45, 46, 47, 48, 49, 50, 51, 52, 53, 54, 55,\n",
              "        56, 57, 58, 59],\n",
              "       [60, 61, 62, 63, 64, 65, 66, 67, 68, 69, 70, 71, 72, 73, 74, 75,\n",
              "        76, 77, 78, 79],\n",
              "       [80, 81, 82, 83, 84, 85, 86, 87, 88, 89, 90, 91, 92, 93, 94, 95,\n",
              "        96, 97, 98, 99]])"
            ]
          },
          "metadata": {
            "tags": []
          },
          "execution_count": 59
        }
      ]
    },
    {
      "cell_type": "code",
      "metadata": {
        "id": "KSQu4s4hpPm6",
        "colab_type": "code",
        "outputId": "101ab4c7-3cf2-4dfa-f3a5-4266dc4ccabb",
        "colab": {
          "base_uri": "https://localhost:8080/",
          "height": 357
        }
      },
      "source": [
        "np.arange(100).reshape(5,20).T"
      ],
      "execution_count": 0,
      "outputs": [
        {
          "output_type": "execute_result",
          "data": {
            "text/plain": [
              "array([[ 0, 20, 40, 60, 80],\n",
              "       [ 1, 21, 41, 61, 81],\n",
              "       [ 2, 22, 42, 62, 82],\n",
              "       [ 3, 23, 43, 63, 83],\n",
              "       [ 4, 24, 44, 64, 84],\n",
              "       [ 5, 25, 45, 65, 85],\n",
              "       [ 6, 26, 46, 66, 86],\n",
              "       [ 7, 27, 47, 67, 87],\n",
              "       [ 8, 28, 48, 68, 88],\n",
              "       [ 9, 29, 49, 69, 89],\n",
              "       [10, 30, 50, 70, 90],\n",
              "       [11, 31, 51, 71, 91],\n",
              "       [12, 32, 52, 72, 92],\n",
              "       [13, 33, 53, 73, 93],\n",
              "       [14, 34, 54, 74, 94],\n",
              "       [15, 35, 55, 75, 95],\n",
              "       [16, 36, 56, 76, 96],\n",
              "       [17, 37, 57, 77, 97],\n",
              "       [18, 38, 58, 78, 98],\n",
              "       [19, 39, 59, 79, 99]])"
            ]
          },
          "metadata": {
            "tags": []
          },
          "execution_count": 60
        }
      ]
    },
    {
      "cell_type": "code",
      "metadata": {
        "id": "obFteIgsn_lx",
        "colab_type": "code",
        "outputId": "5623b36c-5ca7-4260-c957-a4bf0b730ca9",
        "colab": {
          "base_uri": "https://localhost:8080/",
          "height": 69
        }
      },
      "source": [
        "import numpy as np\n",
        "# Operators\n",
        "x = np.array([1, 2, 3])\n",
        "y = np.array([5, 6, 7])\n",
        "\n",
        "# Mathematical operators\n",
        "result = x + y\n",
        "print(result)\n",
        "result = x * y\n",
        "print(result)\n",
        "result = x - y\n",
        "print(result)\n",
        "\n"
      ],
      "execution_count": 15,
      "outputs": [
        {
          "output_type": "stream",
          "text": [
            "[ 6  8 10]\n",
            "[ 5 12 21]\n",
            "[-4 -4 -4]\n"
          ],
          "name": "stdout"
        }
      ]
    },
    {
      "cell_type": "code",
      "metadata": {
        "id": "YP2yxlk2-ksO",
        "colab_type": "code",
        "colab": {
          "base_uri": "https://localhost:8080/",
          "height": 35
        },
        "outputId": "b1333c0e-5998-416a-9c36-6e4427ab175c"
      },
      "source": [
        "x.T"
      ],
      "execution_count": 16,
      "outputs": [
        {
          "output_type": "execute_result",
          "data": {
            "text/plain": [
              "array([1, 2, 3])"
            ]
          },
          "metadata": {
            "tags": []
          },
          "execution_count": 16
        }
      ]
    },
    {
      "cell_type": "code",
      "metadata": {
        "id": "avqR44fln_l1",
        "colab_type": "code",
        "outputId": "4de83228-adb2-4ad5-88aa-80dbd00a9a9e",
        "colab": {
          "base_uri": "https://localhost:8080/",
          "height": 104
        }
      },
      "source": [
        "# Unary\n",
        "print(x.reshape(1,-1))\n",
        "result = x.reshape(1,-1).T # transpose\n",
        "print(result)\n",
        "print(result.shape, result.T.shape)\n",
        "\n"
      ],
      "execution_count": 18,
      "outputs": [
        {
          "output_type": "stream",
          "text": [
            "[[1 2 3]]\n",
            "[[1]\n",
            " [2]\n",
            " [3]]\n",
            "(3, 1) (1, 3)\n"
          ],
          "name": "stdout"
        }
      ]
    },
    {
      "cell_type": "code",
      "metadata": {
        "id": "v-Gu5o9t0i_W",
        "colab_type": "code",
        "outputId": "76adf30c-a643-4ba9-fd29-c3e3684a3d60",
        "colab": {
          "base_uri": "https://localhost:8080/",
          "height": 34
        }
      },
      "source": [
        "# Summary functions\n",
        "result = x.sum()\n",
        "result"
      ],
      "execution_count": 0,
      "outputs": [
        {
          "output_type": "execute_result",
          "data": {
            "text/plain": [
              "6"
            ]
          },
          "metadata": {
            "tags": []
          },
          "execution_count": 70
        }
      ]
    },
    {
      "cell_type": "code",
      "metadata": {
        "id": "RfNAhO7V0rco",
        "colab_type": "code",
        "outputId": "71cdff7e-4e58-496a-cd68-1fe9fc5c4600",
        "colab": {
          "base_uri": "https://localhost:8080/",
          "height": 34
        }
      },
      "source": [
        "result = x.mean()\n",
        "result"
      ],
      "execution_count": 0,
      "outputs": [
        {
          "output_type": "execute_result",
          "data": {
            "text/plain": [
              "2.0"
            ]
          },
          "metadata": {
            "tags": []
          },
          "execution_count": 71
        }
      ]
    },
    {
      "cell_type": "code",
      "metadata": {
        "id": "5FSHFfA90t_o",
        "colab_type": "code",
        "outputId": "b9036fae-ff7c-4820-a3d5-ee9a0ad32c35",
        "colab": {
          "base_uri": "https://localhost:8080/",
          "height": 34
        }
      },
      "source": [
        "result = x.min()\n",
        "result"
      ],
      "execution_count": 0,
      "outputs": [
        {
          "output_type": "execute_result",
          "data": {
            "text/plain": [
              "1"
            ]
          },
          "metadata": {
            "tags": []
          },
          "execution_count": 72
        }
      ]
    },
    {
      "cell_type": "code",
      "metadata": {
        "id": "2qFMWSew1M8Q",
        "colab_type": "code",
        "outputId": "9ea0c58a-6134-4059-89b4-db202a8a6add",
        "colab": {
          "base_uri": "https://localhost:8080/",
          "height": 34
        }
      },
      "source": [
        "result = x.max()\n",
        "result"
      ],
      "execution_count": 0,
      "outputs": [
        {
          "output_type": "execute_result",
          "data": {
            "text/plain": [
              "3"
            ]
          },
          "metadata": {
            "tags": []
          },
          "execution_count": 73
        }
      ]
    },
    {
      "cell_type": "code",
      "metadata": {
        "id": "nSGgy3dH1PKM",
        "colab_type": "code",
        "outputId": "024a3d46-7dbb-4009-e752-b8e0358beced",
        "colab": {
          "base_uri": "https://localhost:8080/",
          "height": 34
        }
      },
      "source": [
        "result = x.argmax()\n",
        "result"
      ],
      "execution_count": 0,
      "outputs": [
        {
          "output_type": "execute_result",
          "data": {
            "text/plain": [
              "2"
            ]
          },
          "metadata": {
            "tags": []
          },
          "execution_count": 78
        }
      ]
    },
    {
      "cell_type": "code",
      "metadata": {
        "id": "5KC2IZFB1SO3",
        "colab_type": "code",
        "outputId": "969dc064-222c-47dd-8886-262509c9e3aa",
        "colab": {
          "base_uri": "https://localhost:8080/",
          "height": 34
        }
      },
      "source": [
        "result = x.argmin()\n",
        "result"
      ],
      "execution_count": 0,
      "outputs": [
        {
          "output_type": "execute_result",
          "data": {
            "text/plain": [
              "0"
            ]
          },
          "metadata": {
            "tags": []
          },
          "execution_count": 79
        }
      ]
    },
    {
      "cell_type": "code",
      "metadata": {
        "id": "IYPNWS381YlX",
        "colab_type": "code",
        "colab": {}
      },
      "source": [
        "?np.argmax"
      ],
      "execution_count": 0,
      "outputs": []
    },
    {
      "cell_type": "code",
      "metadata": {
        "id": "WH4Jr0dRn_l5",
        "colab_type": "code",
        "outputId": "a7e404de-da82-4be1-c665-26bcfe271fd9",
        "colab": {
          "base_uri": "https://localhost:8080/",
          "height": 85
        }
      },
      "source": [
        "arr = np.arange(10)\n",
        "gt3 = arr > 3\n",
        "even = arr % 2 == 0\n",
        "gt3, even\n",
        "\n"
      ],
      "execution_count": 0,
      "outputs": [
        {
          "output_type": "execute_result",
          "data": {
            "text/plain": [
              "(array([False, False, False, False,  True,  True,  True,  True,  True,\n",
              "         True]),\n",
              " array([ True, False,  True, False,  True, False,  True, False,  True,\n",
              "        False]))"
            ]
          },
          "metadata": {
            "tags": []
          },
          "execution_count": 88
        }
      ]
    },
    {
      "cell_type": "code",
      "metadata": {
        "id": "57lPBHba3h2Q",
        "colab_type": "code",
        "colab": {}
      },
      "source": [
        "#gt3 =np.array([False, True, False, False,  True,  True,  True,  True,  True,\n",
        "        # False])"
      ],
      "execution_count": 0,
      "outputs": []
    },
    {
      "cell_type": "code",
      "metadata": {
        "id": "xfMG7llV3PZJ",
        "colab_type": "code",
        "colab": {}
      },
      "source": [
        "fgh = arr[gt3]"
      ],
      "execution_count": 0,
      "outputs": []
    },
    {
      "cell_type": "code",
      "metadata": {
        "id": "Uoz7N7aH3Uoe",
        "colab_type": "code",
        "outputId": "87aaa08c-e069-436b-e436-4980bb6b5bb2",
        "colab": {
          "base_uri": "https://localhost:8080/",
          "height": 34
        }
      },
      "source": [
        "fgh"
      ],
      "execution_count": 0,
      "outputs": [
        {
          "output_type": "execute_result",
          "data": {
            "text/plain": [
              "array([4, 5, 6, 7, 8, 9])"
            ]
          },
          "metadata": {
            "tags": []
          },
          "execution_count": 92
        }
      ]
    },
    {
      "cell_type": "code",
      "metadata": {
        "id": "Lfqtb-_82oWp",
        "colab_type": "code",
        "outputId": "708e1b8f-5d86-40a1-d2cd-0de3ccc2a550",
        "colab": {
          "base_uri": "https://localhost:8080/",
          "height": 34
        }
      },
      "source": [
        "arr [(arr > 3)  | (arr % 2 == 0)]"
      ],
      "execution_count": 0,
      "outputs": [
        {
          "output_type": "execute_result",
          "data": {
            "text/plain": [
              "array([0, 2, 4, 5, 6, 7, 8, 9])"
            ]
          },
          "metadata": {
            "tags": []
          },
          "execution_count": 93
        }
      ]
    },
    {
      "cell_type": "code",
      "metadata": {
        "id": "jBev_3ul4SBd",
        "colab_type": "code",
        "outputId": "57132f11-104f-4677-d45a-7cc171be973d",
        "colab": {
          "base_uri": "https://localhost:8080/",
          "height": 34
        }
      },
      "source": [
        "arr [gt3 | even]"
      ],
      "execution_count": 0,
      "outputs": [
        {
          "output_type": "execute_result",
          "data": {
            "text/plain": [
              "array([0, 2, 4, 5, 6, 7, 8, 9])"
            ]
          },
          "metadata": {
            "tags": []
          },
          "execution_count": 94
        }
      ]
    },
    {
      "cell_type": "code",
      "metadata": {
        "id": "8iPk1wmEn_l-",
        "colab_type": "code",
        "outputId": "39c80013-3222-4221-9d5f-606ee5f0db7f",
        "colab": {
          "base_uri": "https://localhost:8080/",
          "height": 85
        }
      },
      "source": [
        "# Slicing\n",
        "arr = np.array(range(100)).reshape(20,5)\n",
        "y = arr[0:2, :]\n",
        "print(y)\n",
        "print(id(y))\n",
        "print(id(arr[0:2, :]))"
      ],
      "execution_count": 0,
      "outputs": [
        {
          "output_type": "stream",
          "text": [
            "[[0 1 2 3 4]\n",
            " [5 6 7 8 9]]\n",
            "139721080449424\n",
            "139721080448544\n"
          ],
          "name": "stdout"
        }
      ]
    },
    {
      "cell_type": "code",
      "metadata": {
        "id": "GniUxsQQn_mC",
        "colab_type": "code",
        "outputId": "03a11122-bec9-4918-d0f4-407ca8f34652",
        "colab": {}
      },
      "source": [
        "# Logical slicing\n",
        "greater_than_3 = arr > 3\n",
        "print(greater_than_3)\n",
        "\n",
        "# Boolean indexing\n",
        "print(arr[arr > 3])\n",
        "print(arr[greater_than_3])\n",
        "\n"
      ],
      "execution_count": 0,
      "outputs": [
        {
          "output_type": "stream",
          "text": [
            "[[False False False False  True]\n",
            " [ True  True  True  True  True]]\n",
            "[4 5 6 7 8 9]\n",
            "[4 5 6 7 8 9]\n"
          ],
          "name": "stdout"
        }
      ]
    },
    {
      "cell_type": "code",
      "metadata": {
        "id": "QFxR6x6Cn_mJ",
        "colab_type": "code",
        "outputId": "bb17915b-87cc-48d1-8344-88997603cd4f",
        "colab": {
          "base_uri": "https://localhost:8080/",
          "height": 68
        }
      },
      "source": [
        "# You can combine multiple conditions at once\n",
        "arr[(arr > 3) & (arr %2 == 0)]\n"
      ],
      "execution_count": 0,
      "outputs": [
        {
          "output_type": "execute_result",
          "data": {
            "text/plain": [
              "array([ 4,  6,  8, 10, 12, 14, 16, 18, 20, 22, 24, 26, 28, 30, 32, 34, 36,\n",
              "       38, 40, 42, 44, 46, 48, 50, 52, 54, 56, 58, 60, 62, 64, 66, 68, 70,\n",
              "       72, 74, 76, 78, 80, 82, 84, 86, 88, 90, 92, 94, 96, 98])"
            ]
          },
          "metadata": {
            "tags": []
          },
          "execution_count": 104
        }
      ]
    },
    {
      "cell_type": "code",
      "metadata": {
        "id": "QcU5Glw-n_mN",
        "colab_type": "code",
        "outputId": "473153a4-c58d-4292-ace5-64f2488ab982",
        "colab": {}
      },
      "source": [
        "# Iterating through arrays\n",
        "arr = np.arange(30).reshape(3, 2, 5)\n",
        "\n",
        "for row in arr:\n",
        "    print(row)"
      ],
      "execution_count": 0,
      "outputs": [
        {
          "output_type": "stream",
          "text": [
            "[[0 1 2 3 4]\n",
            " [5 6 7 8 9]]\n",
            "[[10 11 12 13 14]\n",
            " [15 16 17 18 19]]\n",
            "[[20 21 22 23 24]\n",
            " [25 26 27 28 29]]\n"
          ],
          "name": "stdout"
        }
      ]
    },
    {
      "cell_type": "code",
      "metadata": {
        "id": "_wbArdFOn_mW",
        "colab_type": "code",
        "outputId": "a5c66741-d399-4b82-f1f9-ad1b4585cec2",
        "colab": {
          "base_uri": "https://localhost:8080/",
          "height": 122
        }
      },
      "source": [
        "pip install pandas"
      ],
      "execution_count": 0,
      "outputs": [
        {
          "output_type": "stream",
          "text": [
            "Requirement already satisfied: pandas in /usr/local/lib/python3.6/dist-packages (0.24.2)\n",
            "Requirement already satisfied: numpy>=1.12.0 in /usr/local/lib/python3.6/dist-packages (from pandas) (1.16.4)\n",
            "Requirement already satisfied: python-dateutil>=2.5.0 in /usr/local/lib/python3.6/dist-packages (from pandas) (2.5.3)\n",
            "Requirement already satisfied: pytz>=2011k in /usr/local/lib/python3.6/dist-packages (from pandas) (2018.9)\n",
            "Requirement already satisfied: six>=1.5 in /usr/local/lib/python3.6/dist-packages (from python-dateutil>=2.5.0->pandas) (1.12.0)\n"
          ],
          "name": "stdout"
        }
      ]
    },
    {
      "cell_type": "code",
      "metadata": {
        "id": "dB0cV4uf6xCd",
        "colab_type": "code",
        "colab": {}
      },
      "source": [
        "import pandas as pd"
      ],
      "execution_count": 0,
      "outputs": []
    },
    {
      "cell_type": "code",
      "metadata": {
        "id": "ZiAZXidt674U",
        "colab_type": "code",
        "colab": {}
      },
      "source": [
        "?pd.read_csv()"
      ],
      "execution_count": 0,
      "outputs": []
    },
    {
      "cell_type": "code",
      "metadata": {
        "id": "8v5P1L3J7Agp",
        "colab_type": "code",
        "colab": {}
      },
      "source": [
        "?np.zeros()"
      ],
      "execution_count": 0,
      "outputs": []
    },
    {
      "cell_type": "code",
      "metadata": {
        "id": "RjdgdoPyHx3V",
        "colab_type": "code",
        "outputId": "448d6b72-0f6c-47e5-bbbe-c1c0a2e95d4f",
        "colab": {
          "base_uri": "https://localhost:8080/",
          "height": 52
        }
      },
      "source": [
        "np.zeros(shape = (2,3), dtype = np.int64)"
      ],
      "execution_count": 4,
      "outputs": [
        {
          "output_type": "execute_result",
          "data": {
            "text/plain": [
              "array([[0, 0, 0],\n",
              "       [0, 0, 0]])"
            ]
          },
          "metadata": {
            "tags": []
          },
          "execution_count": 4
        }
      ]
    },
    {
      "cell_type": "code",
      "metadata": {
        "id": "0evHxp51JQ0R",
        "colab_type": "code",
        "colab": {
          "base_uri": "https://localhost:8080/",
          "height": 69
        },
        "outputId": "4822ed36-d9ca-43b5-e038-34b4455f26c5"
      },
      "source": [
        "np.ones(shape = (3,2))"
      ],
      "execution_count": 5,
      "outputs": [
        {
          "output_type": "execute_result",
          "data": {
            "text/plain": [
              "array([[1., 1.],\n",
              "       [1., 1.],\n",
              "       [1., 1.]])"
            ]
          },
          "metadata": {
            "tags": []
          },
          "execution_count": 5
        }
      ]
    },
    {
      "cell_type": "code",
      "metadata": {
        "id": "WwLBx-r3H__y",
        "colab_type": "code",
        "colab": {}
      },
      "source": [
        "?np.identity(5)"
      ],
      "execution_count": 0,
      "outputs": []
    },
    {
      "cell_type": "code",
      "metadata": {
        "id": "YC_24MRl84LD",
        "colab_type": "code",
        "colab": {
          "base_uri": "https://localhost:8080/",
          "height": 104
        },
        "outputId": "8ec5b343-21be-4c2a-d9ba-a03921216814"
      },
      "source": [
        "np.identity(5)"
      ],
      "execution_count": 8,
      "outputs": [
        {
          "output_type": "execute_result",
          "data": {
            "text/plain": [
              "array([[1., 0., 0., 0., 0.],\n",
              "       [0., 1., 0., 0., 0.],\n",
              "       [0., 0., 1., 0., 0.],\n",
              "       [0., 0., 0., 1., 0.],\n",
              "       [0., 0., 0., 0., 1.]])"
            ]
          },
          "metadata": {
            "tags": []
          },
          "execution_count": 8
        }
      ]
    },
    {
      "cell_type": "code",
      "metadata": {
        "id": "knISNWwB9B6N",
        "colab_type": "code",
        "colab": {
          "base_uri": "https://localhost:8080/",
          "height": 52
        },
        "outputId": "0f84b8e3-ae65-4eda-b4a0-e3685fc141b2"
      },
      "source": [
        "np.full((2,3),45)"
      ],
      "execution_count": 11,
      "outputs": [
        {
          "output_type": "execute_result",
          "data": {
            "text/plain": [
              "array([[45, 45, 45],\n",
              "       [45, 45, 45]])"
            ]
          },
          "metadata": {
            "tags": []
          },
          "execution_count": 11
        }
      ]
    },
    {
      "cell_type": "code",
      "metadata": {
        "id": "_MgsXhjQ9UEG",
        "colab_type": "code",
        "colab": {
          "base_uri": "https://localhost:8080/",
          "height": 35
        },
        "outputId": "e665949b-2c51-46b3-85d5-0f06872e0032"
      },
      "source": [
        "np.random.rand()"
      ],
      "execution_count": 14,
      "outputs": [
        {
          "output_type": "execute_result",
          "data": {
            "text/plain": [
              "0.7441485506328667"
            ]
          },
          "metadata": {
            "tags": []
          },
          "execution_count": 14
        }
      ]
    },
    {
      "cell_type": "code",
      "metadata": {
        "id": "XDYhUDmT-Qt1",
        "colab_type": "code",
        "colab": {}
      },
      "source": [
        ""
      ],
      "execution_count": 0,
      "outputs": []
    }
  ]
}