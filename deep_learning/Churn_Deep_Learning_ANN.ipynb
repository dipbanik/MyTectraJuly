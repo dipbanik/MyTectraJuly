{
  "nbformat": 4,
  "nbformat_minor": 0,
  "metadata": {
    "colab": {
      "name": "Churn - Deep Learning - ANN.ipynb",
      "version": "0.3.2",
      "provenance": []
    },
    "kernelspec": {
      "name": "python3",
      "display_name": "Python 3"
    },
    "accelerator": "GPU"
  },
  "cells": [
    {
      "cell_type": "code",
      "metadata": {
        "id": "6jxaHr95wD2v",
        "colab_type": "code",
        "colab": {}
      },
      "source": [
        "import numpy as np\n",
        "import matplotlib.pyplot as plt\n",
        "import pandas as pd"
      ],
      "execution_count": 0,
      "outputs": []
    },
    {
      "cell_type": "code",
      "metadata": {
        "id": "GxFA2MtDwPAY",
        "colab_type": "code",
        "colab": {}
      },
      "source": [
        "# Importing the dataset\n",
        "dataset = pd.read_csv('https://raw.githubusercontent.com/dipbanik/MyTectraJuly/master/deep_learning/Churn_Modelling.csv')\n",
        "X = dataset.iloc[:, 3:13].values\n",
        "y = dataset.iloc[:, 13].values"
      ],
      "execution_count": 0,
      "outputs": []
    },
    {
      "cell_type": "code",
      "metadata": {
        "id": "nPWWudDMYkNa",
        "colab_type": "code",
        "colab": {
          "base_uri": "https://localhost:8080/",
          "height": 136
        },
        "outputId": "7d0bf2cf-ba3e-4409-cbd8-3303385fc1f8"
      },
      "source": [
        "X"
      ],
      "execution_count": 3,
      "outputs": [
        {
          "output_type": "execute_result",
          "data": {
            "text/plain": [
              "array([[619, 'France', 'Female', ..., 1, 1, 101348.88],\n",
              "       [608, 'Spain', 'Female', ..., 0, 1, 112542.58],\n",
              "       [502, 'France', 'Female', ..., 1, 0, 113931.57],\n",
              "       ...,\n",
              "       [709, 'France', 'Female', ..., 0, 1, 42085.58],\n",
              "       [772, 'Germany', 'Male', ..., 1, 0, 92888.52],\n",
              "       [792, 'France', 'Female', ..., 1, 0, 38190.78]], dtype=object)"
            ]
          },
          "metadata": {
            "tags": []
          },
          "execution_count": 3
        }
      ]
    },
    {
      "cell_type": "code",
      "metadata": {
        "id": "SXZAfnMMYwiF",
        "colab_type": "code",
        "colab": {
          "base_uri": "https://localhost:8080/",
          "height": 34
        },
        "outputId": "b9f76757-c66c-4ccf-852f-1206bef83bc6"
      },
      "source": [
        "y"
      ],
      "execution_count": 4,
      "outputs": [
        {
          "output_type": "execute_result",
          "data": {
            "text/plain": [
              "array([1, 0, 1, ..., 1, 1, 0])"
            ]
          },
          "metadata": {
            "tags": []
          },
          "execution_count": 4
        }
      ]
    },
    {
      "cell_type": "code",
      "metadata": {
        "id": "eXSdrMKvwR1u",
        "colab_type": "code",
        "outputId": "8aaaf285-df0c-42e2-c479-2a27f832ce6d",
        "colab": {
          "base_uri": "https://localhost:8080/",
          "height": 139
        }
      },
      "source": [
        "# Encoding categorical data\n",
        "from sklearn.preprocessing import LabelEncoder, OneHotEncoder\n",
        "labelencoder_X_1 = LabelEncoder()\n",
        "X[:, 1] = labelencoder_X_1.fit_transform(X[:, 1])\n",
        "labelencoder_X_2 = LabelEncoder()\n",
        "X[:, 2] = labelencoder_X_2.fit_transform(X[:, 2])\n",
        "onehotencoder = OneHotEncoder(categorical_features = [1])\n",
        "X = onehotencoder.fit_transform(X).toarray()\n",
        "X = X[:, 1:]"
      ],
      "execution_count": 5,
      "outputs": [
        {
          "output_type": "stream",
          "text": [
            "/usr/local/lib/python3.6/dist-packages/sklearn/preprocessing/_encoders.py:415: FutureWarning: The handling of integer data will change in version 0.22. Currently, the categories are determined based on the range [0, max(values)], while in the future they will be determined based on the unique values.\n",
            "If you want the future behaviour and silence this warning, you can specify \"categories='auto'\".\n",
            "In case you used a LabelEncoder before this OneHotEncoder to convert the categories to integers, then you can now use the OneHotEncoder directly.\n",
            "  warnings.warn(msg, FutureWarning)\n",
            "/usr/local/lib/python3.6/dist-packages/sklearn/preprocessing/_encoders.py:451: DeprecationWarning: The 'categorical_features' keyword is deprecated in version 0.20 and will be removed in 0.22. You can use the ColumnTransformer instead.\n",
            "  \"use the ColumnTransformer instead.\", DeprecationWarning)\n"
          ],
          "name": "stderr"
        }
      ]
    },
    {
      "cell_type": "code",
      "metadata": {
        "id": "0j85MGGdY2Tc",
        "colab_type": "code",
        "colab": {
          "base_uri": "https://localhost:8080/",
          "height": 238
        },
        "outputId": "f43d9b4b-ad0c-4b48-b89c-750dacb1b2ed"
      },
      "source": [
        "X"
      ],
      "execution_count": 6,
      "outputs": [
        {
          "output_type": "execute_result",
          "data": {
            "text/plain": [
              "array([[0.0000000e+00, 0.0000000e+00, 6.1900000e+02, ..., 1.0000000e+00,\n",
              "        1.0000000e+00, 1.0134888e+05],\n",
              "       [0.0000000e+00, 1.0000000e+00, 6.0800000e+02, ..., 0.0000000e+00,\n",
              "        1.0000000e+00, 1.1254258e+05],\n",
              "       [0.0000000e+00, 0.0000000e+00, 5.0200000e+02, ..., 1.0000000e+00,\n",
              "        0.0000000e+00, 1.1393157e+05],\n",
              "       ...,\n",
              "       [0.0000000e+00, 0.0000000e+00, 7.0900000e+02, ..., 0.0000000e+00,\n",
              "        1.0000000e+00, 4.2085580e+04],\n",
              "       [1.0000000e+00, 0.0000000e+00, 7.7200000e+02, ..., 1.0000000e+00,\n",
              "        0.0000000e+00, 9.2888520e+04],\n",
              "       [0.0000000e+00, 0.0000000e+00, 7.9200000e+02, ..., 1.0000000e+00,\n",
              "        0.0000000e+00, 3.8190780e+04]])"
            ]
          },
          "metadata": {
            "tags": []
          },
          "execution_count": 6
        }
      ]
    },
    {
      "cell_type": "code",
      "metadata": {
        "id": "1H6fda3vwg50",
        "colab_type": "code",
        "colab": {}
      },
      "source": [
        "# Splitting the dataset into the Training set and Test set\n",
        "from sklearn.model_selection import train_test_split\n",
        "X_train, X_test, y_train, y_test = train_test_split(X, y, test_size = 0.2, random_state = 0)"
      ],
      "execution_count": 0,
      "outputs": []
    },
    {
      "cell_type": "code",
      "metadata": {
        "id": "Z-oWOs2nwjgf",
        "colab_type": "code",
        "colab": {}
      },
      "source": [
        "# Feature Scaling\n",
        "from sklearn.preprocessing import StandardScaler\n",
        "sc = StandardScaler()\n",
        "X_train = sc.fit_transform(X_train)\n",
        "X_test = sc.transform(X_test)"
      ],
      "execution_count": 0,
      "outputs": []
    },
    {
      "cell_type": "code",
      "metadata": {
        "id": "DSBs5ItaZUlH",
        "colab_type": "code",
        "colab": {
          "base_uri": "https://localhost:8080/",
          "height": 238
        },
        "outputId": "194bc3e1-6930-4cac-de08-cd73ddf7174b"
      },
      "source": [
        "X_train"
      ],
      "execution_count": 10,
      "outputs": [
        {
          "output_type": "execute_result",
          "data": {
            "text/plain": [
              "array([[-0.5698444 ,  1.74309049,  0.16958176, ...,  0.64259497,\n",
              "        -1.03227043,  1.10643166],\n",
              "       [ 1.75486502, -0.57369368, -2.30455945, ...,  0.64259497,\n",
              "         0.9687384 , -0.74866447],\n",
              "       [-0.5698444 , -0.57369368, -1.19119591, ...,  0.64259497,\n",
              "        -1.03227043,  1.48533467],\n",
              "       ...,\n",
              "       [-0.5698444 , -0.57369368,  0.9015152 , ...,  0.64259497,\n",
              "        -1.03227043,  1.41231994],\n",
              "       [-0.5698444 ,  1.74309049, -0.62420521, ...,  0.64259497,\n",
              "         0.9687384 ,  0.84432121],\n",
              "       [ 1.75486502, -0.57369368, -0.28401079, ...,  0.64259497,\n",
              "        -1.03227043,  0.32472465]])"
            ]
          },
          "metadata": {
            "tags": []
          },
          "execution_count": 10
        }
      ]
    },
    {
      "cell_type": "code",
      "metadata": {
        "id": "auPiC8vMwmkk",
        "colab_type": "code",
        "colab": {
          "base_uri": "https://localhost:8080/",
          "height": 34
        },
        "outputId": "78aafa23-8df4-4fff-97ec-7d47304b156d"
      },
      "source": [
        "# Part 2 - Now let's make the ANN!\n",
        "\n",
        "# Importing the Keras libraries and packages\n",
        "import keras\n",
        "from keras.models import Sequential\n",
        "from keras.layers import Dense"
      ],
      "execution_count": 11,
      "outputs": [
        {
          "output_type": "stream",
          "text": [
            "Using TensorFlow backend.\n"
          ],
          "name": "stderr"
        }
      ]
    },
    {
      "cell_type": "code",
      "metadata": {
        "id": "GJIG9kQ-wpWB",
        "colab_type": "code",
        "colab": {}
      },
      "source": [
        "# Initialising the ANN\n",
        "classifier = Sequential()"
      ],
      "execution_count": 0,
      "outputs": []
    },
    {
      "cell_type": "code",
      "metadata": {
        "id": "iemHqX2dwr7C",
        "colab_type": "code",
        "colab": {}
      },
      "source": [
        "# Adding the input layer and the first hidden layer\n",
        "classifier.add(Dense(units = 6, kernel_initializer = 'uniform', activation = 'relu', input_dim = 11))"
      ],
      "execution_count": 0,
      "outputs": []
    },
    {
      "cell_type": "code",
      "metadata": {
        "id": "OuIGufRRaIqq",
        "colab_type": "code",
        "colab": {}
      },
      "source": [
        "?Dense()"
      ],
      "execution_count": 0,
      "outputs": []
    },
    {
      "cell_type": "code",
      "metadata": {
        "id": "5OtSwyOfwui5",
        "colab_type": "code",
        "colab": {}
      },
      "source": [
        "# Adding the second hidden layer\n",
        "classifier.add(Dense(units = 6, kernel_initializer = 'uniform', activation = 'relu'))"
      ],
      "execution_count": 0,
      "outputs": []
    },
    {
      "cell_type": "code",
      "metadata": {
        "id": "68a-v1llwwsy",
        "colab_type": "code",
        "colab": {}
      },
      "source": [
        "# Adding the output layer\n",
        "classifier.add(Dense(units = 1, kernel_initializer = 'uniform', activation = 'sigmoid'))"
      ],
      "execution_count": 0,
      "outputs": []
    },
    {
      "cell_type": "code",
      "metadata": {
        "id": "F4wb_G0Qwybd",
        "colab_type": "code",
        "colab": {}
      },
      "source": [
        "# Compiling the ANN\n",
        "classifier.compile(optimizer = 'adam', loss = 'binary_crossentropy', metrics = ['accuracy'])"
      ],
      "execution_count": 0,
      "outputs": []
    },
    {
      "cell_type": "code",
      "metadata": {
        "id": "1xdmSV77w0Wk",
        "colab_type": "code",
        "outputId": "c1f03ed5-1873-43b2-d989-fe16df4b1ba8",
        "colab": {
          "base_uri": "https://localhost:8080/",
          "height": 1000
        }
      },
      "source": [
        "# Fitting the ANN to the Training set\n",
        "classifier.fit(X_train, y_train, batch_size = 10, nb_epoch = 100)"
      ],
      "execution_count": 27,
      "outputs": [
        {
          "output_type": "stream",
          "text": [
            "/usr/local/lib/python3.6/dist-packages/ipykernel_launcher.py:1: UserWarning: The `nb_epoch` argument in `fit` has been renamed `epochs`.\n",
            "  \"\"\"Entry point for launching an IPython kernel.\n"
          ],
          "name": "stderr"
        },
        {
          "output_type": "stream",
          "text": [
            "WARNING:tensorflow:From /usr/local/lib/python3.6/dist-packages/keras/backend/tensorflow_backend.py:1033: The name tf.assign_add is deprecated. Please use tf.compat.v1.assign_add instead.\n",
            "\n",
            "Epoch 1/100\n",
            "8000/8000 [==============================] - 9s 1ms/step - loss: 0.4865 - acc: 0.7955\n",
            "Epoch 2/100\n",
            "8000/8000 [==============================] - 4s 528us/step - loss: 0.4285 - acc: 0.7960\n",
            "Epoch 3/100\n",
            "8000/8000 [==============================] - 4s 508us/step - loss: 0.4231 - acc: 0.7960\n",
            "Epoch 4/100\n",
            "8000/8000 [==============================] - 4s 447us/step - loss: 0.4195 - acc: 0.8169\n",
            "Epoch 5/100\n",
            "8000/8000 [==============================] - 4s 448us/step - loss: 0.4172 - acc: 0.8237\n",
            "Epoch 6/100\n",
            "8000/8000 [==============================] - 4s 478us/step - loss: 0.4149 - acc: 0.8289\n",
            "Epoch 7/100\n",
            "8000/8000 [==============================] - 4s 503us/step - loss: 0.4137 - acc: 0.8302\n",
            "Epoch 8/100\n",
            "8000/8000 [==============================] - 4s 453us/step - loss: 0.4126 - acc: 0.8310\n",
            "Epoch 9/100\n",
            "8000/8000 [==============================] - 4s 463us/step - loss: 0.4114 - acc: 0.8314\n",
            "Epoch 10/100\n",
            "8000/8000 [==============================] - 4s 450us/step - loss: 0.4104 - acc: 0.8320\n",
            "Epoch 11/100\n",
            "8000/8000 [==============================] - 4s 451us/step - loss: 0.4094 - acc: 0.8324\n",
            "Epoch 12/100\n",
            "8000/8000 [==============================] - 4s 456us/step - loss: 0.4089 - acc: 0.8339\n",
            "Epoch 13/100\n",
            "8000/8000 [==============================] - 4s 490us/step - loss: 0.4080 - acc: 0.8326\n",
            "Epoch 14/100\n",
            "8000/8000 [==============================] - 4s 450us/step - loss: 0.4073 - acc: 0.8334\n",
            "Epoch 15/100\n",
            "8000/8000 [==============================] - 4s 469us/step - loss: 0.4071 - acc: 0.8347\n",
            "Epoch 16/100\n",
            "8000/8000 [==============================] - 4s 460us/step - loss: 0.4067 - acc: 0.8329\n",
            "Epoch 17/100\n",
            "8000/8000 [==============================] - 4s 449us/step - loss: 0.4059 - acc: 0.8347\n",
            "Epoch 18/100\n",
            "8000/8000 [==============================] - 4s 485us/step - loss: 0.4049 - acc: 0.8349\n",
            "Epoch 19/100\n",
            "8000/8000 [==============================] - 4s 451us/step - loss: 0.4051 - acc: 0.8340\n",
            "Epoch 20/100\n",
            "8000/8000 [==============================] - 4s 441us/step - loss: 0.4050 - acc: 0.8355\n",
            "Epoch 21/100\n",
            "8000/8000 [==============================] - 4s 441us/step - loss: 0.4044 - acc: 0.8332\n",
            "Epoch 22/100\n",
            "8000/8000 [==============================] - 4s 451us/step - loss: 0.4045 - acc: 0.8341\n",
            "Epoch 23/100\n",
            "8000/8000 [==============================] - 4s 476us/step - loss: 0.4043 - acc: 0.8357\n",
            "Epoch 24/100\n",
            "8000/8000 [==============================] - 4s 478us/step - loss: 0.4042 - acc: 0.8349\n",
            "Epoch 25/100\n",
            "8000/8000 [==============================] - 4s 438us/step - loss: 0.4040 - acc: 0.8345\n",
            "Epoch 26/100\n",
            "8000/8000 [==============================] - 4s 451us/step - loss: 0.4039 - acc: 0.8345\n",
            "Epoch 27/100\n",
            "8000/8000 [==============================] - 4s 475us/step - loss: 0.4037 - acc: 0.8344\n",
            "Epoch 28/100\n",
            "8000/8000 [==============================] - 4s 457us/step - loss: 0.4036 - acc: 0.8354\n",
            "Epoch 29/100\n",
            "8000/8000 [==============================] - 4s 468us/step - loss: 0.4032 - acc: 0.8346\n",
            "Epoch 30/100\n",
            "8000/8000 [==============================] - 4s 468us/step - loss: 0.4032 - acc: 0.8341\n",
            "Epoch 31/100\n",
            "8000/8000 [==============================] - 4s 464us/step - loss: 0.4034 - acc: 0.8334\n",
            "Epoch 32/100\n",
            "8000/8000 [==============================] - 4s 459us/step - loss: 0.4033 - acc: 0.8352\n",
            "Epoch 33/100\n",
            "8000/8000 [==============================] - 4s 446us/step - loss: 0.4029 - acc: 0.8346\n",
            "Epoch 34/100\n",
            "8000/8000 [==============================] - 4s 444us/step - loss: 0.4031 - acc: 0.8342\n",
            "Epoch 35/100\n",
            "8000/8000 [==============================] - 4s 466us/step - loss: 0.4025 - acc: 0.8346\n",
            "Epoch 36/100\n",
            "8000/8000 [==============================] - 4s 480us/step - loss: 0.4029 - acc: 0.8349\n",
            "Epoch 37/100\n",
            "8000/8000 [==============================] - 4s 465us/step - loss: 0.4027 - acc: 0.8344\n",
            "Epoch 38/100\n",
            "8000/8000 [==============================] - 4s 447us/step - loss: 0.4030 - acc: 0.8344\n",
            "Epoch 39/100\n",
            "8000/8000 [==============================] - 4s 446us/step - loss: 0.4028 - acc: 0.8352\n",
            "Epoch 40/100\n",
            "8000/8000 [==============================] - 4s 460us/step - loss: 0.4026 - acc: 0.8346\n",
            "Epoch 41/100\n",
            "8000/8000 [==============================] - 4s 477us/step - loss: 0.4027 - acc: 0.8345\n",
            "Epoch 42/100\n",
            "8000/8000 [==============================] - 4s 459us/step - loss: 0.4029 - acc: 0.8340\n",
            "Epoch 43/100\n",
            "8000/8000 [==============================] - 4s 462us/step - loss: 0.4025 - acc: 0.8335\n",
            "Epoch 44/100\n",
            "8000/8000 [==============================] - 4s 454us/step - loss: 0.4021 - acc: 0.8336\n",
            "Epoch 45/100\n",
            "8000/8000 [==============================] - 4s 477us/step - loss: 0.4024 - acc: 0.8342\n",
            "Epoch 46/100\n",
            "8000/8000 [==============================] - 4s 468us/step - loss: 0.4019 - acc: 0.8342\n",
            "Epoch 47/100\n",
            "8000/8000 [==============================] - 4s 466us/step - loss: 0.4025 - acc: 0.8355\n",
            "Epoch 48/100\n",
            "8000/8000 [==============================] - 4s 450us/step - loss: 0.4023 - acc: 0.8335\n",
            "Epoch 49/100\n",
            "8000/8000 [==============================] - 4s 456us/step - loss: 0.4021 - acc: 0.8332\n",
            "Epoch 50/100\n",
            "8000/8000 [==============================] - 4s 449us/step - loss: 0.4025 - acc: 0.8339\n",
            "Epoch 51/100\n",
            "8000/8000 [==============================] - 4s 448us/step - loss: 0.4023 - acc: 0.8355\n",
            "Epoch 52/100\n",
            "8000/8000 [==============================] - 3s 435us/step - loss: 0.4017 - acc: 0.8355\n",
            "Epoch 53/100\n",
            "8000/8000 [==============================] - 4s 445us/step - loss: 0.4022 - acc: 0.8354\n",
            "Epoch 54/100\n",
            "8000/8000 [==============================] - 4s 483us/step - loss: 0.4018 - acc: 0.8347\n",
            "Epoch 55/100\n",
            "8000/8000 [==============================] - 4s 470us/step - loss: 0.4017 - acc: 0.8352\n",
            "Epoch 56/100\n",
            "8000/8000 [==============================] - 4s 454us/step - loss: 0.4018 - acc: 0.8345\n",
            "Epoch 57/100\n",
            "8000/8000 [==============================] - 4s 474us/step - loss: 0.4015 - acc: 0.8355\n",
            "Epoch 58/100\n",
            "8000/8000 [==============================] - 4s 467us/step - loss: 0.4016 - acc: 0.8344\n",
            "Epoch 59/100\n",
            "8000/8000 [==============================] - 4s 460us/step - loss: 0.4013 - acc: 0.8340\n",
            "Epoch 60/100\n",
            "8000/8000 [==============================] - 4s 439us/step - loss: 0.4012 - acc: 0.8351\n",
            "Epoch 61/100\n",
            "8000/8000 [==============================] - 4s 439us/step - loss: 0.4016 - acc: 0.8342\n",
            "Epoch 62/100\n",
            "8000/8000 [==============================] - 4s 443us/step - loss: 0.4015 - acc: 0.8347\n",
            "Epoch 63/100\n",
            "8000/8000 [==============================] - 4s 492us/step - loss: 0.4012 - acc: 0.8354\n",
            "Epoch 64/100\n",
            "8000/8000 [==============================] - 4s 454us/step - loss: 0.4009 - acc: 0.8364\n",
            "Epoch 65/100\n",
            "8000/8000 [==============================] - 4s 475us/step - loss: 0.4013 - acc: 0.8347\n",
            "Epoch 66/100\n",
            "8000/8000 [==============================] - 4s 496us/step - loss: 0.4010 - acc: 0.8355\n",
            "Epoch 67/100\n",
            "8000/8000 [==============================] - 4s 453us/step - loss: 0.4014 - acc: 0.8349\n",
            "Epoch 68/100\n",
            "8000/8000 [==============================] - 4s 470us/step - loss: 0.4010 - acc: 0.8349\n",
            "Epoch 69/100\n",
            "8000/8000 [==============================] - 4s 461us/step - loss: 0.4009 - acc: 0.8357\n",
            "Epoch 70/100\n",
            "8000/8000 [==============================] - 3s 432us/step - loss: 0.4004 - acc: 0.8354\n",
            "Epoch 71/100\n",
            "8000/8000 [==============================] - 4s 494us/step - loss: 0.4009 - acc: 0.8339\n",
            "Epoch 72/100\n",
            "8000/8000 [==============================] - 4s 450us/step - loss: 0.4006 - acc: 0.8351\n",
            "Epoch 73/100\n",
            "8000/8000 [==============================] - 4s 440us/step - loss: 0.4010 - acc: 0.8340\n",
            "Epoch 74/100\n",
            "8000/8000 [==============================] - 4s 441us/step - loss: 0.4005 - acc: 0.8339\n",
            "Epoch 75/100\n",
            "8000/8000 [==============================] - 4s 452us/step - loss: 0.4008 - acc: 0.8349\n",
            "Epoch 76/100\n",
            "8000/8000 [==============================] - 4s 438us/step - loss: 0.4006 - acc: 0.8357\n",
            "Epoch 77/100\n",
            "8000/8000 [==============================] - 4s 459us/step - loss: 0.4007 - acc: 0.8357\n",
            "Epoch 78/100\n",
            "8000/8000 [==============================] - 4s 479us/step - loss: 0.4004 - acc: 0.8347\n",
            "Epoch 79/100\n",
            "8000/8000 [==============================] - 4s 467us/step - loss: 0.4002 - acc: 0.8347\n",
            "Epoch 80/100\n",
            "8000/8000 [==============================] - 4s 446us/step - loss: 0.4009 - acc: 0.8351\n",
            "Epoch 81/100\n",
            "8000/8000 [==============================] - 4s 439us/step - loss: 0.4005 - acc: 0.8355\n",
            "Epoch 82/100\n",
            "8000/8000 [==============================] - 4s 447us/step - loss: 0.4010 - acc: 0.8345\n",
            "Epoch 83/100\n",
            "8000/8000 [==============================] - 3s 433us/step - loss: 0.4001 - acc: 0.8349\n",
            "Epoch 84/100\n",
            "8000/8000 [==============================] - 4s 443us/step - loss: 0.4010 - acc: 0.8351\n",
            "Epoch 85/100\n",
            "8000/8000 [==============================] - 4s 479us/step - loss: 0.4005 - acc: 0.8354\n",
            "Epoch 86/100\n",
            "8000/8000 [==============================] - 4s 470us/step - loss: 0.4006 - acc: 0.8346\n",
            "Epoch 87/100\n",
            "8000/8000 [==============================] - 4s 476us/step - loss: 0.4002 - acc: 0.8355\n",
            "Epoch 88/100\n",
            "8000/8000 [==============================] - 4s 462us/step - loss: 0.4001 - acc: 0.8349\n",
            "Epoch 89/100\n",
            "8000/8000 [==============================] - 4s 441us/step - loss: 0.4003 - acc: 0.8351\n",
            "Epoch 90/100\n",
            "8000/8000 [==============================] - 4s 440us/step - loss: 0.4002 - acc: 0.8356\n",
            "Epoch 91/100\n",
            "8000/8000 [==============================] - 4s 452us/step - loss: 0.4003 - acc: 0.8344\n",
            "Epoch 92/100\n",
            "8000/8000 [==============================] - 3s 436us/step - loss: 0.4004 - acc: 0.8351\n",
            "Epoch 93/100\n",
            "8000/8000 [==============================] - 3s 435us/step - loss: 0.4002 - acc: 0.8352\n",
            "Epoch 94/100\n",
            "8000/8000 [==============================] - 3s 430us/step - loss: 0.4003 - acc: 0.8347\n",
            "Epoch 95/100\n",
            "8000/8000 [==============================] - 3s 432us/step - loss: 0.4004 - acc: 0.8351\n",
            "Epoch 96/100\n",
            "8000/8000 [==============================] - 3s 430us/step - loss: 0.4004 - acc: 0.8356\n",
            "Epoch 97/100\n",
            "8000/8000 [==============================] - 4s 459us/step - loss: 0.4000 - acc: 0.8352\n",
            "Epoch 98/100\n",
            "8000/8000 [==============================] - 4s 442us/step - loss: 0.3997 - acc: 0.8342\n",
            "Epoch 99/100\n",
            "8000/8000 [==============================] - 4s 485us/step - loss: 0.4007 - acc: 0.8355\n",
            "Epoch 100/100\n",
            "8000/8000 [==============================] - 4s 466us/step - loss: 0.3999 - acc: 0.8340\n"
          ],
          "name": "stdout"
        },
        {
          "output_type": "execute_result",
          "data": {
            "text/plain": [
              "<keras.callbacks.History at 0x7f6692013da0>"
            ]
          },
          "metadata": {
            "tags": []
          },
          "execution_count": 27
        }
      ]
    },
    {
      "cell_type": "code",
      "metadata": {
        "id": "KauuyF9pcIel",
        "colab_type": "code",
        "colab": {}
      },
      "source": [
        "?classifier.fit()"
      ],
      "execution_count": 0,
      "outputs": []
    },
    {
      "cell_type": "code",
      "metadata": {
        "id": "KDJekt38w2Ns",
        "colab_type": "code",
        "colab": {}
      },
      "source": [
        "# Part 3 - Making the predictions and evaluating the model\n",
        "\n",
        "# Predicting the Test set results\n",
        "y_pred = classifier.predict(X_test)\n",
        "y_pred = (y_pred > 0.5)"
      ],
      "execution_count": 0,
      "outputs": []
    },
    {
      "cell_type": "code",
      "metadata": {
        "id": "ms0CtX9lw4O8",
        "colab_type": "code",
        "colab": {}
      },
      "source": [
        "# Making the Confusion Matrix\n",
        "from sklearn.metrics import confusion_matrix\n",
        "cm = confusion_matrix(y_test, y_pred)"
      ],
      "execution_count": 0,
      "outputs": []
    },
    {
      "cell_type": "code",
      "metadata": {
        "id": "X9poPSSEyReX",
        "colab_type": "code",
        "outputId": "59977a34-7db2-4e28-cf0d-8edee5d4fbb5",
        "colab": {
          "base_uri": "https://localhost:8080/",
          "height": 51
        }
      },
      "source": [
        "cm"
      ],
      "execution_count": 30,
      "outputs": [
        {
          "output_type": "execute_result",
          "data": {
            "text/plain": [
              "array([[1552,   43],\n",
              "       [ 276,  129]])"
            ]
          },
          "metadata": {
            "tags": []
          },
          "execution_count": 30
        }
      ]
    },
    {
      "cell_type": "code",
      "metadata": {
        "id": "PunE7MuCySEs",
        "colab_type": "code",
        "colab": {}
      },
      "source": [
        ""
      ],
      "execution_count": 0,
      "outputs": []
    }
  ]
}