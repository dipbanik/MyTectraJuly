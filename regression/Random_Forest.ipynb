{
  "nbformat": 4,
  "nbformat_minor": 0,
  "metadata": {
    "colab": {
      "name": "Random Forest.ipynb",
      "version": "0.3.2",
      "provenance": [],
      "include_colab_link": true
    },
    "kernelspec": {
      "name": "python3",
      "display_name": "Python 3"
    }
  },
  "cells": [
    {
      "cell_type": "markdown",
      "metadata": {
        "id": "view-in-github",
        "colab_type": "text"
      },
      "source": [
        "<a href=\"https://colab.research.google.com/github/dipbanik/MyTectraJuly/blob/master/regression/Random_Forest.ipynb\" target=\"_parent\"><img src=\"https://colab.research.google.com/assets/colab-badge.svg\" alt=\"Open In Colab\"/></a>"
      ]
    },
    {
      "cell_type": "markdown",
      "metadata": {
        "id": "tE4jvEUdknuK",
        "colab_type": "text"
      },
      "source": [
        "# Random Forest\n",
        "\n",
        "It is a form of Ensamble Learning.\n",
        "\n",
        "###Ensamble Learning.\n",
        "Ensemble learning is a machine learning paradigm where multiple learners are trained to solve the same problem. In contrast to ordinary machine learning approaches which try to learn one hypothesis from training data, ensemble methods try to construct a set of hypotheses and combine them to use.\n",
        "It helps in decreasing variance, bias and in improving prediction.\n",
        "\n",
        "Further reading -\n",
        " [Link to further reading](https://towardsdatascience.com/simple-guide-for-ensemble-learning-methods-d87cc68705a2)\n",
        "\n",
        "There are multiple other ensemble algorithms example - Gradient Boosting \n"
      ]
    },
    {
      "cell_type": "markdown",
      "metadata": {
        "id": "lLZZiTdTCVQp",
        "colab_type": "text"
      },
      "source": [
        "Step 1 : Pick at random K data points from the Training set.\n",
        "\n",
        "Step 2 : Build a Decision Tree associated to the K data points.\n",
        "\n",
        "Step 3 : Choose the numbwe Ntree of trees you want to build and repeat STEPS 1 & 2\n",
        "\n",
        "Step 4 : For a new data point, make each one of your Ntree trees predict the value of Y to for the data point in question, and assign the new data point the average across all fo the predicted Y values."
      ]
    },
    {
      "cell_type": "code",
      "metadata": {
        "id": "a3FoTJKgfqMO",
        "colab_type": "code",
        "colab": {}
      },
      "source": [
        "# Importing the libraries\n",
        "import numpy as np\n",
        "import matplotlib.pyplot as plt\n",
        "import pandas as pd"
      ],
      "execution_count": 0,
      "outputs": []
    },
    {
      "cell_type": "code",
      "metadata": {
        "id": "92tlMNDsCUpI",
        "colab_type": "code",
        "colab": {}
      },
      "source": [
        "# Importing the dataset\n",
        "dataset = pd.read_csv('https://raw.githubusercontent.com/dipbanik/MyTectraJuly/master/regression/Position_Salaries.csv')\n",
        "X = dataset.iloc[:, 1:2].values\n",
        "y = dataset.iloc[:, 2].values"
      ],
      "execution_count": 0,
      "outputs": []
    },
    {
      "cell_type": "code",
      "metadata": {
        "id": "ataK-gCR164n",
        "colab_type": "code",
        "outputId": "b9ad902f-c967-4ef1-c2f2-e2ad80d8011b",
        "colab": {
          "base_uri": "https://localhost:8080/",
          "height": 136
        }
      },
      "source": [
        "# Fitting Random Forest Regression to the dataset\n",
        "from sklearn.ensemble import RandomForestRegressor\n",
        "regressor = RandomForestRegressor(n_estimators = 10, random_state = 0)\n",
        "#default = 10 trees. You can go as high as you want. \n",
        "#this has a chance of under fitting based on the number of trees that are used.\n",
        "#Lower number of trees tend to underfit.\n",
        "#Random Forests does not overfit. The testing performance of Random Forests \n",
        "#does not decrease (due to overfitting) as the number of trees increases. Hence \n",
        "#after certain number of trees the performance tend to stay in a certain value.\n",
        "#Try with 100 trees and 300 trees after this.\n",
        "regressor.fit(X, y)"
      ],
      "execution_count": 3,
      "outputs": [
        {
          "output_type": "execute_result",
          "data": {
            "text/plain": [
              "RandomForestRegressor(bootstrap=True, criterion='mse', max_depth=None,\n",
              "                      max_features='auto', max_leaf_nodes=None,\n",
              "                      min_impurity_decrease=0.0, min_impurity_split=None,\n",
              "                      min_samples_leaf=1, min_samples_split=2,\n",
              "                      min_weight_fraction_leaf=0.0, n_estimators=10,\n",
              "                      n_jobs=None, oob_score=False, random_state=0, verbose=0,\n",
              "                      warm_start=False)"
            ]
          },
          "metadata": {
            "tags": []
          },
          "execution_count": 3
        }
      ]
    },
    {
      "cell_type": "code",
      "metadata": {
        "id": "VEzrwJw3gfYH",
        "colab_type": "code",
        "colab": {}
      },
      "source": [
        "# Predicting a new result\n",
        "y_pred = regressor.predict([[6.5]])"
      ],
      "execution_count": 0,
      "outputs": []
    },
    {
      "cell_type": "code",
      "metadata": {
        "id": "0tXsI2aKgi3h",
        "colab_type": "code",
        "outputId": "19f40779-4c7a-46ef-e911-76da06ca1471",
        "colab": {
          "base_uri": "https://localhost:8080/",
          "height": 34
        }
      },
      "source": [
        "y_pred"
      ],
      "execution_count": 5,
      "outputs": [
        {
          "output_type": "execute_result",
          "data": {
            "text/plain": [
              "array([167000.])"
            ]
          },
          "metadata": {
            "tags": []
          },
          "execution_count": 5
        }
      ]
    },
    {
      "cell_type": "code",
      "metadata": {
        "id": "cOOPrsHGgp3Z",
        "colab_type": "code",
        "outputId": "342cd0b1-a82f-4bba-b83f-95b5b8dc58f3",
        "colab": {
          "base_uri": "https://localhost:8080/",
          "height": 295
        }
      },
      "source": [
        "# Visualising the Random Forest Regression results (higher resolution)\n",
        "X_grid = np.arange(min(X), max(X), 0.01)\n",
        "X_grid = X_grid.reshape((len(X_grid), 1))\n",
        "plt.scatter(X, y, color = 'red')\n",
        "plt.plot(X_grid, regressor.predict(X_grid), color = 'blue')\n",
        "plt.title('Truth or Bluff (Random Forest Regression)')\n",
        "plt.xlabel('Position level')\n",
        "plt.ylabel('Salary')\n",
        "plt.show()"
      ],
      "execution_count": 6,
      "outputs": [
        {
          "output_type": "display_data",
          "data": {
            "image/png": "[encoded data removed]",
            "text/plain": [
              "<Figure size 432x288 with 1 Axes>"
            ]
          },
          "metadata": {
            "tags": []
          }
        }
      ]
    },
    {
      "cell_type": "code",
      "metadata": {
        "id": "bYkpRsqvQpYz",
        "colab_type": "code",
        "colab": {}
      },
      "source": [
        ""
      ],
      "execution_count": 0,
      "outputs": []
    }
  ]
}