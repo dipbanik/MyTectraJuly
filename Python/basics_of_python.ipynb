{
  "nbformat": 4,
  "nbformat_minor": 0,
  "metadata": {
    "colab": {
      "name": "basics of python.ipynb",
      "version": "0.3.2",
      "provenance": [],
      "collapsed_sections": [],
      "include_colab_link": true
    },
    "kernelspec": {
      "name": "python3",
      "display_name": "Python 3"
    }
  },
  "cells": [
    {
      "cell_type": "markdown",
      "metadata": {
        "id": "view-in-github",
        "colab_type": "text"
      },
      "source": [
        "<a href=\"https://colab.research.google.com/github/dipbanik/MyTectraJuly/blob/develop/basics_of_python.ipynb\" target=\"_parent\"><img src=\"https://colab.research.google.com/assets/colab-badge.svg\" alt=\"Open In Colab\"/></a>"
      ]
    },
    {
      "cell_type": "code",
      "metadata": {
        "id": "kkjY3KGy0uP6",
        "colab_type": "code",
        "colab": {}
      },
      "source": [
        "a = ['str', 1, 2, 3.0]"
      ],
      "execution_count": 0,
      "outputs": []
    },
    {
      "cell_type": "code",
      "metadata": {
        "id": "E75J00nj00gI",
        "colab_type": "code",
        "outputId": "203101f6-0bf3-4f85-9322-314464fb03e1",
        "colab": {
          "base_uri": "https://localhost:8080/",
          "height": 34
        }
      },
      "source": [
        "type(a)"
      ],
      "execution_count": 15,
      "outputs": [
        {
          "output_type": "execute_result",
          "data": {
            "text/plain": [
              "list"
            ]
          },
          "metadata": {
            "tags": []
          },
          "execution_count": 15
        }
      ]
    },
    {
      "cell_type": "code",
      "metadata": {
        "id": "BV7KB-jZ07f3",
        "colab_type": "code",
        "colab": {}
      },
      "source": [
        "a = ()"
      ],
      "execution_count": 0,
      "outputs": []
    },
    {
      "cell_type": "code",
      "metadata": {
        "id": "b7dMg1LG1HVg",
        "colab_type": "code",
        "outputId": "c1aa6c3b-d374-4243-8892-94a050312cf7",
        "colab": {
          "base_uri": "https://localhost:8080/",
          "height": 34
        }
      },
      "source": [
        "type(a)"
      ],
      "execution_count": 17,
      "outputs": [
        {
          "output_type": "execute_result",
          "data": {
            "text/plain": [
              "tuple"
            ]
          },
          "metadata": {
            "tags": []
          },
          "execution_count": 17
        }
      ]
    },
    {
      "cell_type": "markdown",
      "metadata": {
        "id": "FyFCg0SOw2mT",
        "colab_type": "text"
      },
      "source": [
        "Difference between tuple and list?\n",
        "\n",
        "List is mutable in nature while tuples are immutable."
      ]
    },
    {
      "cell_type": "code",
      "metadata": {
        "id": "flnXYBPb1I04",
        "colab_type": "code",
        "colab": {}
      },
      "source": [
        "a = (0,1,2,3,4)"
      ],
      "execution_count": 0,
      "outputs": []
    },
    {
      "cell_type": "code",
      "metadata": {
        "id": "HZWjc8ls1NrW",
        "colab_type": "code",
        "outputId": "011891be-845f-40c7-8853-8d9084614218",
        "colab": {
          "base_uri": "https://localhost:8080/",
          "height": 34
        }
      },
      "source": [
        "2 in a"
      ],
      "execution_count": 19,
      "outputs": [
        {
          "output_type": "execute_result",
          "data": {
            "text/plain": [
              "True"
            ]
          },
          "metadata": {
            "tags": []
          },
          "execution_count": 19
        }
      ]
    },
    {
      "cell_type": "code",
      "metadata": {
        "id": "_lVxUVTw1X0q",
        "colab_type": "code",
        "outputId": "f8e36063-ce49-413b-f3ff-b39a08271f75",
        "colab": {
          "base_uri": "https://localhost:8080/",
          "height": 34
        }
      },
      "source": [
        "10 in a"
      ],
      "execution_count": 20,
      "outputs": [
        {
          "output_type": "execute_result",
          "data": {
            "text/plain": [
              "False"
            ]
          },
          "metadata": {
            "tags": []
          },
          "execution_count": 20
        }
      ]
    },
    {
      "cell_type": "code",
      "metadata": {
        "id": "GkQ5pQyi1ZVv",
        "colab_type": "code",
        "colab": {}
      },
      "source": [
        "s = 'homework'"
      ],
      "execution_count": 0,
      "outputs": []
    },
    {
      "cell_type": "code",
      "metadata": {
        "id": "YcIeegIf1iEz",
        "colab_type": "code",
        "outputId": "3cac470e-b02d-43b8-e14d-53b106c80783",
        "colab": {
          "base_uri": "https://localhost:8080/",
          "height": 34
        }
      },
      "source": [
        "len(s)\n"
      ],
      "execution_count": 22,
      "outputs": [
        {
          "output_type": "execute_result",
          "data": {
            "text/plain": [
              "8"
            ]
          },
          "metadata": {
            "tags": []
          },
          "execution_count": 22
        }
      ]
    },
    {
      "cell_type": "code",
      "metadata": {
        "id": "Ad0JOfBF1jTD",
        "colab_type": "code",
        "outputId": "39faff6a-004d-41fc-b0f0-e3807bcd8edd",
        "colab": {
          "base_uri": "https://localhost:8080/",
          "height": 34
        }
      },
      "source": [
        "id(s)"
      ],
      "execution_count": 23,
      "outputs": [
        {
          "output_type": "execute_result",
          "data": {
            "text/plain": [
              "140188872746416"
            ]
          },
          "metadata": {
            "tags": []
          },
          "execution_count": 23
        }
      ]
    },
    {
      "cell_type": "code",
      "metadata": {
        "id": "yZN3hFUB1oRY",
        "colab_type": "code",
        "colab": {}
      },
      "source": [
        "s = \"port\""
      ],
      "execution_count": 0,
      "outputs": []
    },
    {
      "cell_type": "code",
      "metadata": {
        "id": "yg-AMyrZ1sh0",
        "colab_type": "code",
        "outputId": "6d950e63-7f07-47fe-cbc2-82a09607816c",
        "colab": {
          "base_uri": "https://localhost:8080/",
          "height": 34
        }
      },
      "source": [
        "id(s)"
      ],
      "execution_count": 25,
      "outputs": [
        {
          "output_type": "execute_result",
          "data": {
            "text/plain": [
              "140189422960120"
            ]
          },
          "metadata": {
            "tags": []
          },
          "execution_count": 25
        }
      ]
    },
    {
      "cell_type": "code",
      "metadata": {
        "id": "KolU4_tb1ts3",
        "colab_type": "code",
        "outputId": "ecea0c6b-0352-413f-b77c-b377f0f37418",
        "colab": {
          "base_uri": "https://localhost:8080/",
          "height": 34
        }
      },
      "source": [
        "id(s)"
      ],
      "execution_count": 26,
      "outputs": [
        {
          "output_type": "execute_result",
          "data": {
            "text/plain": [
              "140189422960120"
            ]
          },
          "metadata": {
            "tags": []
          },
          "execution_count": 26
        }
      ]
    },
    {
      "cell_type": "code",
      "metadata": {
        "id": "n6qYhHhg1xdk",
        "colab_type": "code",
        "colab": {}
      },
      "source": [
        "a = s"
      ],
      "execution_count": 0,
      "outputs": []
    },
    {
      "cell_type": "code",
      "metadata": {
        "id": "m306lgLR19DN",
        "colab_type": "code",
        "outputId": "8e07bf0e-f323-40c1-de33-a68b5630131f",
        "colab": {
          "base_uri": "https://localhost:8080/",
          "height": 34
        }
      },
      "source": [
        "id(s)"
      ],
      "execution_count": 28,
      "outputs": [
        {
          "output_type": "execute_result",
          "data": {
            "text/plain": [
              "140189422960120"
            ]
          },
          "metadata": {
            "tags": []
          },
          "execution_count": 28
        }
      ]
    },
    {
      "cell_type": "code",
      "metadata": {
        "id": "sR27RYqE1_0Z",
        "colab_type": "code",
        "colab": {}
      },
      "source": [
        "s = a"
      ],
      "execution_count": 0,
      "outputs": []
    },
    {
      "cell_type": "code",
      "metadata": {
        "id": "642okZ672B3h",
        "colab_type": "code",
        "outputId": "3ae44d22-f7de-4bcc-e69b-b2f5d19650f5",
        "colab": {
          "base_uri": "https://localhost:8080/",
          "height": 34
        }
      },
      "source": [
        "id(s)"
      ],
      "execution_count": 30,
      "outputs": [
        {
          "output_type": "execute_result",
          "data": {
            "text/plain": [
              "140189422960120"
            ]
          },
          "metadata": {
            "tags": []
          },
          "execution_count": 30
        }
      ]
    },
    {
      "cell_type": "code",
      "metadata": {
        "id": "7bAWzY0w2CuN",
        "colab_type": "code",
        "colab": {}
      },
      "source": [
        "s = \"hello\" + \" world\""
      ],
      "execution_count": 0,
      "outputs": []
    },
    {
      "cell_type": "code",
      "metadata": {
        "id": "tMCKI8iI2XSU",
        "colab_type": "code",
        "outputId": "2bcd7fa4-6604-4865-8f09-64b5232e316a",
        "colab": {
          "base_uri": "https://localhost:8080/",
          "height": 34
        }
      },
      "source": [
        "s"
      ],
      "execution_count": 32,
      "outputs": [
        {
          "output_type": "execute_result",
          "data": {
            "text/plain": [
              "'hello world'"
            ]
          },
          "metadata": {
            "tags": []
          },
          "execution_count": 32
        }
      ]
    },
    {
      "cell_type": "code",
      "metadata": {
        "id": "DLV1hSgO2Xun",
        "colab_type": "code",
        "outputId": "e4d92fba-9b69-4753-a71c-f1b29460f237",
        "colab": {
          "base_uri": "https://localhost:8080/",
          "height": 34
        }
      },
      "source": [
        "s.split(' ')"
      ],
      "execution_count": 33,
      "outputs": [
        {
          "output_type": "execute_result",
          "data": {
            "text/plain": [
              "['hello', 'world']"
            ]
          },
          "metadata": {
            "tags": []
          },
          "execution_count": 33
        }
      ]
    },
    {
      "cell_type": "code",
      "metadata": {
        "id": "1f6xnXkT2q_H",
        "colab_type": "code",
        "outputId": "901a1464-c5c6-4b1b-b881-91cee26099f0",
        "colab": {
          "base_uri": "https://localhost:8080/",
          "height": 34
        }
      },
      "source": [
        "s.split()"
      ],
      "execution_count": 34,
      "outputs": [
        {
          "output_type": "execute_result",
          "data": {
            "text/plain": [
              "['hello', 'world']"
            ]
          },
          "metadata": {
            "tags": []
          },
          "execution_count": 34
        }
      ]
    },
    {
      "cell_type": "code",
      "metadata": {
        "id": "rBC4ls3O2r7z",
        "colab_type": "code",
        "outputId": "88ac6c4c-7582-4425-fe7b-d426909838e4",
        "colab": {
          "base_uri": "https://localhost:8080/",
          "height": 34
        }
      },
      "source": [
        "range(5)"
      ],
      "execution_count": 35,
      "outputs": [
        {
          "output_type": "execute_result",
          "data": {
            "text/plain": [
              "range(0, 5)"
            ]
          },
          "metadata": {
            "tags": []
          },
          "execution_count": 35
        }
      ]
    },
    {
      "cell_type": "code",
      "metadata": {
        "id": "PY578YMZ3qn9",
        "colab_type": "code",
        "outputId": "ba565dc3-f39a-4750-d5f9-213d91b1a947",
        "colab": {
          "base_uri": "https://localhost:8080/",
          "height": 34
        }
      },
      "source": [
        "print(range(5))"
      ],
      "execution_count": 36,
      "outputs": [
        {
          "output_type": "stream",
          "text": [
            "range(0, 5)\n"
          ],
          "name": "stdout"
        }
      ]
    },
    {
      "cell_type": "code",
      "metadata": {
        "id": "Qyjn2V6WynhQ",
        "colab_type": "code",
        "outputId": "ca802579-d925-42db-c71a-78f482837151",
        "colab": {
          "base_uri": "https://localhost:8080/",
          "height": 34
        }
      },
      "source": [
        "a = \"Hello, World!\"\n",
        "print(a.replace(\"H\", \"J\"))"
      ],
      "execution_count": 37,
      "outputs": [
        {
          "output_type": "stream",
          "text": [
            "Jello, World!\n"
          ],
          "name": "stdout"
        }
      ]
    },
    {
      "cell_type": "code",
      "metadata": {
        "id": "lRCLSGT4yuqz",
        "colab_type": "code",
        "outputId": "ef3627aa-d084-4b71-a552-a6801aff1693",
        "colab": {
          "base_uri": "https://localhost:8080/",
          "height": 34
        }
      },
      "source": [
        "a = \"Hello, World!\"\n",
        "print(a.upper())"
      ],
      "execution_count": 38,
      "outputs": [
        {
          "output_type": "stream",
          "text": [
            "HELLO, WORLD!\n"
          ],
          "name": "stdout"
        }
      ]
    },
    {
      "cell_type": "code",
      "metadata": {
        "id": "n9IqxHAjyy8r",
        "colab_type": "code",
        "outputId": "59eea886-239e-41a4-95a8-8f87248fd67d",
        "colab": {
          "base_uri": "https://localhost:8080/",
          "height": 34
        }
      },
      "source": [
        "print(a[2:5])"
      ],
      "execution_count": 39,
      "outputs": [
        {
          "output_type": "stream",
          "text": [
            "llo\n"
          ],
          "name": "stdout"
        }
      ]
    },
    {
      "cell_type": "code",
      "metadata": {
        "id": "whJ3kwkG3wdo",
        "colab_type": "code",
        "colab": {}
      },
      "source": [
        "a = [1,2,3,4,5,5]"
      ],
      "execution_count": 0,
      "outputs": []
    },
    {
      "cell_type": "code",
      "metadata": {
        "id": "NWa74KqL9bsF",
        "colab_type": "code",
        "outputId": "cfc45053-14de-4136-b71e-70c3668455f6",
        "colab": {
          "base_uri": "https://localhost:8080/",
          "height": 34
        }
      },
      "source": [
        "set(a)"
      ],
      "execution_count": 41,
      "outputs": [
        {
          "output_type": "execute_result",
          "data": {
            "text/plain": [
              "{1, 2, 3, 4, 5}"
            ]
          },
          "metadata": {
            "tags": []
          },
          "execution_count": 41
        }
      ]
    },
    {
      "cell_type": "code",
      "metadata": {
        "id": "KL0zgDf69czb",
        "colab_type": "code",
        "colab": {}
      },
      "source": [
        "a = list(set(a))"
      ],
      "execution_count": 0,
      "outputs": []
    },
    {
      "cell_type": "code",
      "metadata": {
        "id": "CZaw17a89gFl",
        "colab_type": "code",
        "outputId": "ac8a5c0d-41fc-443c-fefc-43e8eb009524",
        "colab": {
          "base_uri": "https://localhost:8080/",
          "height": 34
        }
      },
      "source": [
        "a"
      ],
      "execution_count": 43,
      "outputs": [
        {
          "output_type": "execute_result",
          "data": {
            "text/plain": [
              "[1, 2, 3, 4, 5]"
            ]
          },
          "metadata": {
            "tags": []
          },
          "execution_count": 43
        }
      ]
    },
    {
      "cell_type": "code",
      "metadata": {
        "id": "GsLAhE0P9lEJ",
        "colab_type": "code",
        "colab": {}
      },
      "source": [
        "re = ['re']"
      ],
      "execution_count": 0,
      "outputs": []
    },
    {
      "cell_type": "code",
      "metadata": {
        "id": "nGBNR9lnps2c",
        "colab_type": "code",
        "outputId": "126f5d6a-30eb-473b-ccc4-51ccbcc6dc91",
        "colab": {
          "base_uri": "https://localhost:8080/",
          "height": 34
        }
      },
      "source": [
        "print(re*3)"
      ],
      "execution_count": 45,
      "outputs": [
        {
          "output_type": "stream",
          "text": [
            "['re', 're', 're']\n"
          ],
          "name": "stdout"
        }
      ]
    },
    {
      "cell_type": "code",
      "metadata": {
        "id": "3IpHNTxSpuVP",
        "colab_type": "code",
        "outputId": "4312879b-9656-49c9-9e1e-00c6784d8ef7",
        "colab": {
          "base_uri": "https://localhost:8080/",
          "height": 68
        }
      },
      "source": [
        "for fruit in ['banana','apples','grapes'] :\n",
        "  print(\"I like \" + fruit)"
      ],
      "execution_count": 46,
      "outputs": [
        {
          "output_type": "stream",
          "text": [
            "I like banana\n",
            "I like apples\n",
            "I like grapes\n"
          ],
          "name": "stdout"
        }
      ]
    },
    {
      "cell_type": "code",
      "metadata": {
        "id": "27WZcnBrqfkc",
        "colab_type": "code",
        "outputId": "fd0eab69-ddf2-4208-9d54-6aa71503fd1b",
        "colab": {
          "base_uri": "https://localhost:8080/",
          "height": 34
        }
      },
      "source": [
        " new = int(input(\"Enter a number\"))"
      ],
      "execution_count": 47,
      "outputs": [
        {
          "output_type": "stream",
          "text": [
            "Enter a number5\n"
          ],
          "name": "stdout"
        }
      ]
    },
    {
      "cell_type": "code",
      "metadata": {
        "id": "meL6V8TUt7T9",
        "colab_type": "code",
        "outputId": "548b44cd-12e0-4632-bdad-0d3f44f9189a",
        "colab": {
          "base_uri": "https://localhost:8080/",
          "height": 34
        }
      },
      "source": [
        "new\n",
        "\n"
      ],
      "execution_count": 50,
      "outputs": [
        {
          "output_type": "execute_result",
          "data": {
            "text/plain": [
              "5"
            ]
          },
          "metadata": {
            "tags": []
          },
          "execution_count": 50
        }
      ]
    },
    {
      "cell_type": "code",
      "metadata": {
        "id": "oB-6f1UAt9q9",
        "colab_type": "code",
        "colab": {}
      },
      "source": [
        "def record_score(name, score=0) :\n",
        "  print( name + \" scored \" + str(score) )"
      ],
      "execution_count": 0,
      "outputs": []
    },
    {
      "cell_type": "code",
      "metadata": {
        "id": "VT0Cu0dtuUjR",
        "colab_type": "code",
        "outputId": "d9c62a32-fc2b-4dc7-fb29-0bae841d9b6d",
        "colab": {
          "base_uri": "https://localhost:8080/",
          "height": 231
        }
      },
      "source": [
        "record_score('Dip', 100)"
      ],
      "execution_count": 52,
      "outputs": [
        {
          "output_type": "error",
          "ename": "TypeError",
          "evalue": "ignored",
          "traceback": [
            "\u001b[0;31m---------------------------------------------------------------------------\u001b[0m",
            "\u001b[0;31mTypeError\u001b[0m                                 Traceback (most recent call last)",
            "\u001b[0;32m<ipython-input-52-d6a1c798b9de>\u001b[0m in \u001b[0;36m<module>\u001b[0;34m()\u001b[0m\n\u001b[0;32m----> 1\u001b[0;31m \u001b[0mrecord_score\u001b[0m\u001b[0;34m(\u001b[0m\u001b[0;34m'Dip'\u001b[0m\u001b[0;34m,\u001b[0m \u001b[0;36m100\u001b[0m\u001b[0;34m)\u001b[0m\u001b[0;34m\u001b[0m\u001b[0;34m\u001b[0m\u001b[0m\n\u001b[0m",
            "\u001b[0;32m<ipython-input-51-0b9d5c98afa0>\u001b[0m in \u001b[0;36mrecord_score\u001b[0;34m(name, score)\u001b[0m\n\u001b[1;32m      1\u001b[0m \u001b[0;32mdef\u001b[0m \u001b[0mrecord_score\u001b[0m\u001b[0;34m(\u001b[0m\u001b[0mname\u001b[0m\u001b[0;34m,\u001b[0m \u001b[0mscore\u001b[0m\u001b[0;34m=\u001b[0m\u001b[0;36m0\u001b[0m\u001b[0;34m)\u001b[0m \u001b[0;34m:\u001b[0m\u001b[0;34m\u001b[0m\u001b[0;34m\u001b[0m\u001b[0m\n\u001b[0;32m----> 2\u001b[0;31m   \u001b[0mprint\u001b[0m\u001b[0;34m(\u001b[0m \u001b[0mname\u001b[0m \u001b[0;34m+\u001b[0m \u001b[0;34m' scored '\u001b[0m \u001b[0;34m+\u001b[0m \u001b[0mstr\u001b[0m\u001b[0;34m(\u001b[0m\u001b[0mscore\u001b[0m\u001b[0;34m)\u001b[0m\u001b[0;34m)\u001b[0m\u001b[0;34m\u001b[0m\u001b[0;34m\u001b[0m\u001b[0m\n\u001b[0m",
            "\u001b[0;31mTypeError\u001b[0m: 'str' object is not callable"
          ]
        }
      ]
    },
    {
      "cell_type": "code",
      "metadata": {
        "id": "Yo55_S4ZvO2g",
        "colab_type": "code",
        "colab": {}
      },
      "source": [
        "def add_items(new_items, base_items=None):\n",
        "  if base_items is None:\n",
        "    base_items = []\n",
        "  for item in new_items:\n",
        "    base_items.append(item)\n",
        "  return base_items"
      ],
      "execution_count": 0,
      "outputs": []
    },
    {
      "cell_type": "code",
      "metadata": {
        "id": "63Ckb863veq-",
        "colab_type": "code",
        "outputId": "eae3445d-5fa2-4ec7-9d55-18b40e43db3c",
        "colab": {
          "base_uri": "https://localhost:8080/",
          "height": 34
        }
      },
      "source": [
        "add_items((1, 2, 3))"
      ],
      "execution_count": 61,
      "outputs": [
        {
          "output_type": "execute_result",
          "data": {
            "text/plain": [
              "[1, 2, 3]"
            ]
          },
          "metadata": {
            "tags": []
          },
          "execution_count": 61
        }
      ]
    },
    {
      "cell_type": "code",
      "metadata": {
        "id": "wWTWqQuSvjsr",
        "colab_type": "code",
        "outputId": "fb8be857-c558-4d42-a981-f61b67d2f3e1",
        "colab": {
          "base_uri": "https://localhost:8080/",
          "height": 34
        }
      },
      "source": [
        "add_items(())"
      ],
      "execution_count": 62,
      "outputs": [
        {
          "output_type": "execute_result",
          "data": {
            "text/plain": [
              "[]"
            ]
          },
          "metadata": {
            "tags": []
          },
          "execution_count": 62
        }
      ]
    },
    {
      "cell_type": "code",
      "metadata": {
        "id": "IEHUZ5Agvsmm",
        "colab_type": "code",
        "outputId": "a21e6758-97d1-45ee-8481-e09ac57d5933",
        "colab": {
          "base_uri": "https://localhost:8080/",
          "height": 34
        }
      },
      "source": [
        "class Person:\n",
        "  def __init__(mysillyobject, name, age):\n",
        "    mysillyobject.name = name\n",
        "    mysillyobject.age = age\n",
        "\n",
        "  def myfunc(abc):\n",
        "    print(\"Hello my name is \" + abc.name)\n",
        "\n",
        "p1 = Person(\"John\", 36)\n",
        "p1.myfunc()"
      ],
      "execution_count": 63,
      "outputs": [
        {
          "output_type": "stream",
          "text": [
            "Hello my name is John\n"
          ],
          "name": "stdout"
        }
      ]
    },
    {
      "cell_type": "markdown",
      "metadata": {
        "id": "ie5FbZq0zvoh",
        "colab_type": "text"
      },
      "source": [
        "The self parameter is a reference to the current instance of the class, and is used to access variables that belongs to the class.\n",
        "The self parameter can be called anything but self is the more commonly used term."
      ]
    },
    {
      "cell_type": "code",
      "metadata": {
        "id": "FnKMQ_3uwxV4",
        "colab_type": "code",
        "outputId": "cb9a7689-5597-4b9e-a5e7-ba1a8d4e8f82",
        "colab": {
          "base_uri": "https://localhost:8080/",
          "height": 102
        }
      },
      "source": [
        "pip install pandas"
      ],
      "execution_count": 64,
      "outputs": [
        {
          "output_type": "stream",
          "text": [
            "Requirement already satisfied: pandas in /usr/local/lib/python3.6/dist-packages (0.24.2)\n",
            "Requirement already satisfied: numpy>=1.12.0 in /usr/local/lib/python3.6/dist-packages (from pandas) (1.16.4)\n",
            "Requirement already satisfied: pytz>=2011k in /usr/local/lib/python3.6/dist-packages (from pandas) (2018.9)\n",
            "Requirement already satisfied: python-dateutil>=2.5.0 in /usr/local/lib/python3.6/dist-packages (from pandas) (2.5.3)\n",
            "Requirement already satisfied: six>=1.5 in /usr/local/lib/python3.6/dist-packages (from python-dateutil>=2.5.0->pandas) (1.12.0)\n"
          ],
          "name": "stdout"
        }
      ]
    },
    {
      "cell_type": "code",
      "metadata": {
        "id": "-A5y9HIw1RZJ",
        "colab_type": "code",
        "colab": {}
      },
      "source": [
        "import os"
      ],
      "execution_count": 0,
      "outputs": []
    },
    {
      "cell_type": "code",
      "metadata": {
        "id": "MXb5mKG71Uk8",
        "colab_type": "code",
        "colab": {}
      },
      "source": [
        "import pandas as pd"
      ],
      "execution_count": 0,
      "outputs": []
    },
    {
      "cell_type": "code",
      "metadata": {
        "id": "wS2gAKGx1XSw",
        "colab_type": "code",
        "colab": {}
      },
      "source": [
        "#get data from URL\n",
        "!wget -nc https://data.consumerfinance.gov/api/views/s6ew-h6mp/rows.csv?accessType=DOWNLOAD"
      ],
      "execution_count": 0,
      "outputs": []
    },
    {
      "cell_type": "code",
      "metadata": {
        "id": "YA-CYhss4xYP",
        "colab_type": "code",
        "colab": {}
      },
      "source": [
        "# rename the file\n",
        "!mv rows.csv?accessType=DOWNLOAD data.csv"
      ],
      "execution_count": 0,
      "outputs": []
    },
    {
      "cell_type": "code",
      "metadata": {
        "id": "pZ_2Zwdm47ft",
        "colab_type": "code",
        "outputId": "af38511b-e317-44ed-92d2-ff012f73824f",
        "colab": {
          "base_uri": "https://localhost:8080/",
          "height": 170
        }
      },
      "source": [
        "n = 5\n",
        "count = 1\n",
        "k = 2*n - 2\n",
        "for i in range(0, n): \n",
        "    for j in range(0, k): \n",
        "        print(end=\" \") \n",
        "    k = k - 2 \n",
        "    for j in range(0, i+1): \n",
        "      print(\"*\", end=\" \") \n",
        "    print() \n",
        "        \n",
        "k = 2\n",
        "for i in range(n-1, 0, -1):\n",
        "    for j in range(0,k):    \n",
        "        print(end=\" \") \n",
        "    k = k + 2\n",
        "    for j in range(0, i): \n",
        "      print(\"*\", end=\" \") \n",
        "    print()\n",
        "    "
      ],
      "execution_count": 67,
      "outputs": [
        {
          "output_type": "stream",
          "text": [
            "        * \n",
            "      * * \n",
            "    * * * \n",
            "  * * * * \n",
            "* * * * * \n",
            "  * * * * \n",
            "    * * * \n",
            "      * * \n",
            "        * \n"
          ],
          "name": "stdout"
        }
      ]
    },
    {
      "cell_type": "code",
      "metadata": {
        "id": "1YnpMKAJQUfW",
        "colab_type": "code",
        "outputId": "28657d4e-7531-4a46-ae2c-b313d357afad",
        "colab": {
          "base_uri": "https://localhost:8080/",
          "height": 1000
        }
      },
      "source": [
        "def patr(num):\n",
        "  count=0\n",
        "  k=int((num+1)/2)\n",
        "  for i in range (1,num):\n",
        "    if i<=int(num/2):\n",
        "      k=k-1\n",
        "      print(\" \"*(k),\"*\"*i)\n",
        "    else:\n",
        "      count+=2\n",
        "      k=k+1\n",
        "      print(\" \"*(k),\"*\"*(i-count))\n",
        "      \n",
        "val=int(input(\"enter a number\"))\n",
        "patr(val)\n"
      ],
      "execution_count": 68,
      "outputs": [
        {
          "output_type": "stream",
          "text": [
            "enter a number455\n",
            "                                                                                                                                                                                                                                    *\n",
            "                                                                                                                                                                                                                                   **\n",
            "                                                                                                                                                                                                                                  ***\n",
            "                                                                                                                                                                                                                                 ****\n",
            "                                                                                                                                                                                                                                *****\n",
            "                                                                                                                                                                                                                               ******\n",
            "                                                                                                                                                                                                                              *******\n",
            "                                                                                                                                                                                                                             ********\n",
            "                                                                                                                                                                                                                            *********\n",
            "                                                                                                                                                                                                                           **********\n",
            "                                                                                                                                                                                                                          ***********\n",
            "                                                                                                                                                                                                                         ************\n",
            "                                                                                                                                                                                                                        *************\n",
            "                                                                                                                                                                                                                       **************\n",
            "                                                                                                                                                                                                                      ***************\n",
            "                                                                                                                                                                                                                     ****************\n",
            "                                                                                                                                                                                                                    *****************\n",
            "                                                                                                                                                                                                                   ******************\n",
            "                                                                                                                                                                                                                  *******************\n",
            "                                                                                                                                                                                                                 ********************\n",
            "                                                                                                                                                                                                                *********************\n",
            "                                                                                                                                                                                                               **********************\n",
            "                                                                                                                                                                                                              ***********************\n",
            "                                                                                                                                                                                                             ************************\n",
            "                                                                                                                                                                                                            *************************\n",
            "                                                                                                                                                                                                           **************************\n",
            "                                                                                                                                                                                                          ***************************\n",
            "                                                                                                                                                                                                         ****************************\n",
            "                                                                                                                                                                                                        *****************************\n",
            "                                                                                                                                                                                                       ******************************\n",
            "                                                                                                                                                                                                      *******************************\n",
            "                                                                                                                                                                                                     ********************************\n",
            "                                                                                                                                                                                                    *********************************\n",
            "                                                                                                                                                                                                   **********************************\n",
            "                                                                                                                                                                                                  ***********************************\n",
            "                                                                                                                                                                                                 ************************************\n",
            "                                                                                                                                                                                                *************************************\n",
            "                                                                                                                                                                                               **************************************\n",
            "                                                                                                                                                                                              ***************************************\n",
            "                                                                                                                                                                                             ****************************************\n",
            "                                                                                                                                                                                            *****************************************\n",
            "                                                                                                                                                                                           ******************************************\n",
            "                                                                                                                                                                                          *******************************************\n",
            "                                                                                                                                                                                         ********************************************\n",
            "                                                                                                                                                                                        *********************************************\n",
            "                                                                                                                                                                                       **********************************************\n",
            "                                                                                                                                                                                      ***********************************************\n",
            "                                                                                                                                                                                     ************************************************\n",
            "                                                                                                                                                                                    *************************************************\n",
            "                                                                                                                                                                                   **************************************************\n",
            "                                                                                                                                                                                  ***************************************************\n",
            "                                                                                                                                                                                 ****************************************************\n",
            "                                                                                                                                                                                *****************************************************\n",
            "                                                                                                                                                                               ******************************************************\n",
            "                                                                                                                                                                              *******************************************************\n",
            "                                                                                                                                                                             ********************************************************\n",
            "                                                                                                                                                                            *********************************************************\n",
            "                                                                                                                                                                           **********************************************************\n",
            "                                                                                                                                                                          ***********************************************************\n",
            "                                                                                                                                                                         ************************************************************\n",
            "                                                                                                                                                                        *************************************************************\n",
            "                                                                                                                                                                       **************************************************************\n",
            "                                                                                                                                                                      ***************************************************************\n",
            "                                                                                                                                                                     ****************************************************************\n",
            "                                                                                                                                                                    *****************************************************************\n",
            "                                                                                                                                                                   ******************************************************************\n",
            "                                                                                                                                                                  *******************************************************************\n",
            "                                                                                                                                                                 ********************************************************************\n",
            "                                                                                                                                                                *********************************************************************\n",
            "                                                                                                                                                               **********************************************************************\n",
            "                                                                                                                                                              ***********************************************************************\n",
            "                                                                                                                                                             ************************************************************************\n",
            "                                                                                                                                                            *************************************************************************\n",
            "                                                                                                                                                           **************************************************************************\n",
            "                                                                                                                                                          ***************************************************************************\n",
            "                                                                                                                                                         ****************************************************************************\n",
            "                                                                                                                                                        *****************************************************************************\n",
            "                                                                                                                                                       ******************************************************************************\n",
            "                                                                                                                                                      *******************************************************************************\n",
            "                                                                                                                                                     ********************************************************************************\n",
            "                                                                                                                                                    *********************************************************************************\n",
            "                                                                                                                                                   **********************************************************************************\n",
            "                                                                                                                                                  ***********************************************************************************\n",
            "                                                                                                                                                 ************************************************************************************\n",
            "                                                                                                                                                *************************************************************************************\n",
            "                                                                                                                                               **************************************************************************************\n",
            "                                                                                                                                              ***************************************************************************************\n",
            "                                                                                                                                             ****************************************************************************************\n",
            "                                                                                                                                            *****************************************************************************************\n",
            "                                                                                                                                           ******************************************************************************************\n",
            "                                                                                                                                          *******************************************************************************************\n",
            "                                                                                                                                         ********************************************************************************************\n",
            "                                                                                                                                        *********************************************************************************************\n",
            "                                                                                                                                       **********************************************************************************************\n",
            "                                                                                                                                      ***********************************************************************************************\n",
            "                                                                                                                                     ************************************************************************************************\n",
            "                                                                                                                                    *************************************************************************************************\n",
            "                                                                                                                                   **************************************************************************************************\n",
            "                                                                                                                                  ***************************************************************************************************\n",
            "                                                                                                                                 ****************************************************************************************************\n",
            "                                                                                                                                *****************************************************************************************************\n",
            "                                                                                                                               ******************************************************************************************************\n",
            "                                                                                                                              *******************************************************************************************************\n",
            "                                                                                                                             ********************************************************************************************************\n",
            "                                                                                                                            *********************************************************************************************************\n",
            "                                                                                                                           **********************************************************************************************************\n",
            "                                                                                                                          ***********************************************************************************************************\n",
            "                                                                                                                         ************************************************************************************************************\n",
            "                                                                                                                        *************************************************************************************************************\n",
            "                                                                                                                       **************************************************************************************************************\n",
            "                                                                                                                      ***************************************************************************************************************\n",
            "                                                                                                                     ****************************************************************************************************************\n",
            "                                                                                                                    *****************************************************************************************************************\n",
            "                                                                                                                   ******************************************************************************************************************\n",
            "                                                                                                                  *******************************************************************************************************************\n",
            "                                                                                                                 ********************************************************************************************************************\n",
            "                                                                                                                *********************************************************************************************************************\n",
            "                                                                                                               **********************************************************************************************************************\n",
            "                                                                                                              ***********************************************************************************************************************\n",
            "                                                                                                             ************************************************************************************************************************\n",
            "                                                                                                            *************************************************************************************************************************\n",
            "                                                                                                           **************************************************************************************************************************\n",
            "                                                                                                          ***************************************************************************************************************************\n",
            "                                                                                                         ****************************************************************************************************************************\n",
            "                                                                                                        *****************************************************************************************************************************\n",
            "                                                                                                       ******************************************************************************************************************************\n",
            "                                                                                                      *******************************************************************************************************************************\n",
            "                                                                                                     ********************************************************************************************************************************\n",
            "                                                                                                    *********************************************************************************************************************************\n",
            "                                                                                                   **********************************************************************************************************************************\n",
            "                                                                                                  ***********************************************************************************************************************************\n",
            "                                                                                                 ************************************************************************************************************************************\n",
            "                                                                                                *************************************************************************************************************************************\n",
            "                                                                                               **************************************************************************************************************************************\n",
            "                                                                                              ***************************************************************************************************************************************\n",
            "                                                                                             ****************************************************************************************************************************************\n",
            "                                                                                            *****************************************************************************************************************************************\n",
            "                                                                                           ******************************************************************************************************************************************\n",
            "                                                                                          *******************************************************************************************************************************************\n",
            "                                                                                         ********************************************************************************************************************************************\n",
            "                                                                                        *********************************************************************************************************************************************\n",
            "                                                                                       **********************************************************************************************************************************************\n",
            "                                                                                      ***********************************************************************************************************************************************\n",
            "                                                                                     ************************************************************************************************************************************************\n",
            "                                                                                    *************************************************************************************************************************************************\n",
            "                                                                                   **************************************************************************************************************************************************\n",
            "                                                                                  ***************************************************************************************************************************************************\n",
            "                                                                                 ****************************************************************************************************************************************************\n",
            "                                                                                *****************************************************************************************************************************************************\n",
            "                                                                               ******************************************************************************************************************************************************\n",
            "                                                                              *******************************************************************************************************************************************************\n",
            "                                                                             ********************************************************************************************************************************************************\n",
            "                                                                            *********************************************************************************************************************************************************\n",
            "                                                                           **********************************************************************************************************************************************************\n",
            "                                                                          ***********************************************************************************************************************************************************\n",
            "                                                                         ************************************************************************************************************************************************************\n",
            "                                                                        *************************************************************************************************************************************************************\n",
            "                                                                       **************************************************************************************************************************************************************\n",
            "                                                                      ***************************************************************************************************************************************************************\n",
            "                                                                     ****************************************************************************************************************************************************************\n",
            "                                                                    *****************************************************************************************************************************************************************\n",
            "                                                                   ******************************************************************************************************************************************************************\n",
            "                                                                  *******************************************************************************************************************************************************************\n",
            "                                                                 ********************************************************************************************************************************************************************\n",
            "                                                                *********************************************************************************************************************************************************************\n",
            "                                                               **********************************************************************************************************************************************************************\n",
            "                                                              ***********************************************************************************************************************************************************************\n",
            "                                                             ************************************************************************************************************************************************************************\n",
            "                                                            *************************************************************************************************************************************************************************\n",
            "                                                           **************************************************************************************************************************************************************************\n",
            "                                                          ***************************************************************************************************************************************************************************\n",
            "                                                         ****************************************************************************************************************************************************************************\n",
            "                                                        *****************************************************************************************************************************************************************************\n",
            "                                                       ******************************************************************************************************************************************************************************\n",
            "                                                      *******************************************************************************************************************************************************************************\n",
            "                                                     ********************************************************************************************************************************************************************************\n",
            "                                                    *********************************************************************************************************************************************************************************\n",
            "                                                   **********************************************************************************************************************************************************************************\n",
            "                                                  ***********************************************************************************************************************************************************************************\n",
            "                                                 ************************************************************************************************************************************************************************************\n",
            "                                                *************************************************************************************************************************************************************************************\n",
            "                                               **************************************************************************************************************************************************************************************\n",
            "                                              ***************************************************************************************************************************************************************************************\n",
            "                                             ****************************************************************************************************************************************************************************************\n",
            "                                            *****************************************************************************************************************************************************************************************\n",
            "                                           ******************************************************************************************************************************************************************************************\n",
            "                                          *******************************************************************************************************************************************************************************************\n",
            "                                         ********************************************************************************************************************************************************************************************\n",
            "                                        *********************************************************************************************************************************************************************************************\n",
            "                                       **********************************************************************************************************************************************************************************************\n",
            "                                      ***********************************************************************************************************************************************************************************************\n",
            "                                     ************************************************************************************************************************************************************************************************\n",
            "                                    *************************************************************************************************************************************************************************************************\n",
            "                                   **************************************************************************************************************************************************************************************************\n",
            "                                  ***************************************************************************************************************************************************************************************************\n",
            "                                 ****************************************************************************************************************************************************************************************************\n",
            "                                *****************************************************************************************************************************************************************************************************\n",
            "                               ******************************************************************************************************************************************************************************************************\n",
            "                              *******************************************************************************************************************************************************************************************************\n",
            "                             ********************************************************************************************************************************************************************************************************\n",
            "                            *********************************************************************************************************************************************************************************************************\n",
            "                           **********************************************************************************************************************************************************************************************************\n",
            "                          ***********************************************************************************************************************************************************************************************************\n",
            "                         ************************************************************************************************************************************************************************************************************\n",
            "                        *************************************************************************************************************************************************************************************************************\n",
            "                       **************************************************************************************************************************************************************************************************************\n",
            "                      ***************************************************************************************************************************************************************************************************************\n",
            "                     ****************************************************************************************************************************************************************************************************************\n",
            "                    *****************************************************************************************************************************************************************************************************************\n",
            "                   ******************************************************************************************************************************************************************************************************************\n",
            "                  *******************************************************************************************************************************************************************************************************************\n",
            "                 ********************************************************************************************************************************************************************************************************************\n",
            "                *********************************************************************************************************************************************************************************************************************\n",
            "               **********************************************************************************************************************************************************************************************************************\n",
            "              ***********************************************************************************************************************************************************************************************************************\n",
            "             ************************************************************************************************************************************************************************************************************************\n",
            "            *************************************************************************************************************************************************************************************************************************\n",
            "           **************************************************************************************************************************************************************************************************************************\n",
            "          ***************************************************************************************************************************************************************************************************************************\n",
            "         ****************************************************************************************************************************************************************************************************************************\n",
            "        *****************************************************************************************************************************************************************************************************************************\n",
            "       ******************************************************************************************************************************************************************************************************************************\n",
            "      *******************************************************************************************************************************************************************************************************************************\n",
            "     ********************************************************************************************************************************************************************************************************************************\n",
            "    *********************************************************************************************************************************************************************************************************************************\n",
            "   **********************************************************************************************************************************************************************************************************************************\n",
            "  ***********************************************************************************************************************************************************************************************************************************\n",
            "   **********************************************************************************************************************************************************************************************************************************\n",
            "    *********************************************************************************************************************************************************************************************************************************\n",
            "     ********************************************************************************************************************************************************************************************************************************\n",
            "      *******************************************************************************************************************************************************************************************************************************\n",
            "       ******************************************************************************************************************************************************************************************************************************\n",
            "        *****************************************************************************************************************************************************************************************************************************\n",
            "         ****************************************************************************************************************************************************************************************************************************\n",
            "          ***************************************************************************************************************************************************************************************************************************\n",
            "           **************************************************************************************************************************************************************************************************************************\n",
            "            *************************************************************************************************************************************************************************************************************************\n",
            "             ************************************************************************************************************************************************************************************************************************\n",
            "              ***********************************************************************************************************************************************************************************************************************\n",
            "               **********************************************************************************************************************************************************************************************************************\n",
            "                *********************************************************************************************************************************************************************************************************************\n",
            "                 ********************************************************************************************************************************************************************************************************************\n",
            "                  *******************************************************************************************************************************************************************************************************************\n",
            "                   ******************************************************************************************************************************************************************************************************************\n",
            "                    *****************************************************************************************************************************************************************************************************************\n",
            "                     ****************************************************************************************************************************************************************************************************************\n",
            "                      ***************************************************************************************************************************************************************************************************************\n",
            "                       **************************************************************************************************************************************************************************************************************\n",
            "                        *************************************************************************************************************************************************************************************************************\n",
            "                         ************************************************************************************************************************************************************************************************************\n",
            "                          ***********************************************************************************************************************************************************************************************************\n",
            "                           **********************************************************************************************************************************************************************************************************\n",
            "                            *********************************************************************************************************************************************************************************************************\n",
            "                             ********************************************************************************************************************************************************************************************************\n",
            "                              *******************************************************************************************************************************************************************************************************\n",
            "                               ******************************************************************************************************************************************************************************************************\n",
            "                                *****************************************************************************************************************************************************************************************************\n",
            "                                 ****************************************************************************************************************************************************************************************************\n",
            "                                  ***************************************************************************************************************************************************************************************************\n",
            "                                   **************************************************************************************************************************************************************************************************\n",
            "                                    *************************************************************************************************************************************************************************************************\n",
            "                                     ************************************************************************************************************************************************************************************************\n",
            "                                      ***********************************************************************************************************************************************************************************************\n",
            "                                       **********************************************************************************************************************************************************************************************\n",
            "                                        *********************************************************************************************************************************************************************************************\n",
            "                                         ********************************************************************************************************************************************************************************************\n",
            "                                          *******************************************************************************************************************************************************************************************\n",
            "                                           ******************************************************************************************************************************************************************************************\n",
            "                                            *****************************************************************************************************************************************************************************************\n",
            "                                             ****************************************************************************************************************************************************************************************\n",
            "                                              ***************************************************************************************************************************************************************************************\n",
            "                                               **************************************************************************************************************************************************************************************\n",
            "                                                *************************************************************************************************************************************************************************************\n",
            "                                                 ************************************************************************************************************************************************************************************\n",
            "                                                  ***********************************************************************************************************************************************************************************\n",
            "                                                   **********************************************************************************************************************************************************************************\n",
            "                                                    *********************************************************************************************************************************************************************************\n",
            "                                                     ********************************************************************************************************************************************************************************\n",
            "                                                      *******************************************************************************************************************************************************************************\n",
            "                                                       ******************************************************************************************************************************************************************************\n",
            "                                                        *****************************************************************************************************************************************************************************\n",
            "                                                         ****************************************************************************************************************************************************************************\n",
            "                                                          ***************************************************************************************************************************************************************************\n",
            "                                                           **************************************************************************************************************************************************************************\n",
            "                                                            *************************************************************************************************************************************************************************\n",
            "                                                             ************************************************************************************************************************************************************************\n",
            "                                                              ***********************************************************************************************************************************************************************\n",
            "                                                               **********************************************************************************************************************************************************************\n",
            "                                                                *********************************************************************************************************************************************************************\n",
            "                                                                 ********************************************************************************************************************************************************************\n",
            "                                                                  *******************************************************************************************************************************************************************\n",
            "                                                                   ******************************************************************************************************************************************************************\n",
            "                                                                    *****************************************************************************************************************************************************************\n",
            "                                                                     ****************************************************************************************************************************************************************\n",
            "                                                                      ***************************************************************************************************************************************************************\n",
            "                                                                       **************************************************************************************************************************************************************\n",
            "                                                                        *************************************************************************************************************************************************************\n",
            "                                                                         ************************************************************************************************************************************************************\n",
            "                                                                          ***********************************************************************************************************************************************************\n",
            "                                                                           **********************************************************************************************************************************************************\n",
            "                                                                            *********************************************************************************************************************************************************\n",
            "                                                                             ********************************************************************************************************************************************************\n",
            "                                                                              *******************************************************************************************************************************************************\n",
            "                                                                               ******************************************************************************************************************************************************\n",
            "                                                                                *****************************************************************************************************************************************************\n",
            "                                                                                 ****************************************************************************************************************************************************\n",
            "                                                                                  ***************************************************************************************************************************************************\n",
            "                                                                                   **************************************************************************************************************************************************\n",
            "                                                                                    *************************************************************************************************************************************************\n",
            "                                                                                     ************************************************************************************************************************************************\n",
            "                                                                                      ***********************************************************************************************************************************************\n",
            "                                                                                       **********************************************************************************************************************************************\n",
            "                                                                                        *********************************************************************************************************************************************\n",
            "                                                                                         ********************************************************************************************************************************************\n",
            "                                                                                          *******************************************************************************************************************************************\n",
            "                                                                                           ******************************************************************************************************************************************\n",
            "                                                                                            *****************************************************************************************************************************************\n",
            "                                                                                             ****************************************************************************************************************************************\n",
            "                                                                                              ***************************************************************************************************************************************\n",
            "                                                                                               **************************************************************************************************************************************\n",
            "                                                                                                *************************************************************************************************************************************\n",
            "                                                                                                 ************************************************************************************************************************************\n",
            "                                                                                                  ***********************************************************************************************************************************\n",
            "                                                                                                   **********************************************************************************************************************************\n",
            "                                                                                                    *********************************************************************************************************************************\n",
            "                                                                                                     ********************************************************************************************************************************\n",
            "                                                                                                      *******************************************************************************************************************************\n",
            "                                                                                                       ******************************************************************************************************************************\n",
            "                                                                                                        *****************************************************************************************************************************\n",
            "                                                                                                         ****************************************************************************************************************************\n",
            "                                                                                                          ***************************************************************************************************************************\n",
            "                                                                                                           **************************************************************************************************************************\n",
            "                                                                                                            *************************************************************************************************************************\n",
            "                                                                                                             ************************************************************************************************************************\n",
            "                                                                                                              ***********************************************************************************************************************\n",
            "                                                                                                               **********************************************************************************************************************\n",
            "                                                                                                                *********************************************************************************************************************\n",
            "                                                                                                                 ********************************************************************************************************************\n",
            "                                                                                                                  *******************************************************************************************************************\n",
            "                                                                                                                   ******************************************************************************************************************\n",
            "                                                                                                                    *****************************************************************************************************************\n",
            "                                                                                                                     ****************************************************************************************************************\n",
            "                                                                                                                      ***************************************************************************************************************\n",
            "                                                                                                                       **************************************************************************************************************\n",
            "                                                                                                                        *************************************************************************************************************\n",
            "                                                                                                                         ************************************************************************************************************\n",
            "                                                                                                                          ***********************************************************************************************************\n",
            "                                                                                                                           **********************************************************************************************************\n",
            "                                                                                                                            *********************************************************************************************************\n",
            "                                                                                                                             ********************************************************************************************************\n",
            "                                                                                                                              *******************************************************************************************************\n",
            "                                                                                                                               ******************************************************************************************************\n",
            "                                                                                                                                *****************************************************************************************************\n",
            "                                                                                                                                 ****************************************************************************************************\n",
            "                                                                                                                                  ***************************************************************************************************\n",
            "                                                                                                                                   **************************************************************************************************\n",
            "                                                                                                                                    *************************************************************************************************\n",
            "                                                                                                                                     ************************************************************************************************\n",
            "                                                                                                                                      ***********************************************************************************************\n",
            "                                                                                                                                       **********************************************************************************************\n",
            "                                                                                                                                        *********************************************************************************************\n",
            "                                                                                                                                         ********************************************************************************************\n",
            "                                                                                                                                          *******************************************************************************************\n",
            "                                                                                                                                           ******************************************************************************************\n",
            "                                                                                                                                            *****************************************************************************************\n",
            "                                                                                                                                             ****************************************************************************************\n",
            "                                                                                                                                              ***************************************************************************************\n",
            "                                                                                                                                               **************************************************************************************\n",
            "                                                                                                                                                *************************************************************************************\n",
            "                                                                                                                                                 ************************************************************************************\n",
            "                                                                                                                                                  ***********************************************************************************\n",
            "                                                                                                                                                   **********************************************************************************\n",
            "                                                                                                                                                    *********************************************************************************\n",
            "                                                                                                                                                     ********************************************************************************\n",
            "                                                                                                                                                      *******************************************************************************\n",
            "                                                                                                                                                       ******************************************************************************\n",
            "                                                                                                                                                        *****************************************************************************\n",
            "                                                                                                                                                         ****************************************************************************\n",
            "                                                                                                                                                          ***************************************************************************\n",
            "                                                                                                                                                           **************************************************************************\n",
            "                                                                                                                                                            *************************************************************************\n",
            "                                                                                                                                                             ************************************************************************\n",
            "                                                                                                                                                              ***********************************************************************\n",
            "                                                                                                                                                               **********************************************************************\n",
            "                                                                                                                                                                *********************************************************************\n",
            "                                                                                                                                                                 ********************************************************************\n",
            "                                                                                                                                                                  *******************************************************************\n",
            "                                                                                                                                                                   ******************************************************************\n",
            "                                                                                                                                                                    *****************************************************************\n",
            "                                                                                                                                                                     ****************************************************************\n",
            "                                                                                                                                                                      ***************************************************************\n",
            "                                                                                                                                                                       **************************************************************\n",
            "                                                                                                                                                                        *************************************************************\n",
            "                                                                                                                                                                         ************************************************************\n",
            "                                                                                                                                                                          ***********************************************************\n",
            "                                                                                                                                                                           **********************************************************\n",
            "                                                                                                                                                                            *********************************************************\n",
            "                                                                                                                                                                             ********************************************************\n",
            "                                                                                                                                                                              *******************************************************\n",
            "                                                                                                                                                                               ******************************************************\n",
            "                                                                                                                                                                                *****************************************************\n",
            "                                                                                                                                                                                 ****************************************************\n",
            "                                                                                                                                                                                  ***************************************************\n",
            "                                                                                                                                                                                   **************************************************\n",
            "                                                                                                                                                                                    *************************************************\n",
            "                                                                                                                                                                                     ************************************************\n",
            "                                                                                                                                                                                      ***********************************************\n",
            "                                                                                                                                                                                       **********************************************\n",
            "                                                                                                                                                                                        *********************************************\n",
            "                                                                                                                                                                                         ********************************************\n",
            "                                                                                                                                                                                          *******************************************\n",
            "                                                                                                                                                                                           ******************************************\n",
            "                                                                                                                                                                                            *****************************************\n",
            "                                                                                                                                                                                             ****************************************\n",
            "                                                                                                                                                                                              ***************************************\n",
            "                                                                                                                                                                                               **************************************\n",
            "                                                                                                                                                                                                *************************************\n",
            "                                                                                                                                                                                                 ************************************\n",
            "                                                                                                                                                                                                  ***********************************\n",
            "                                                                                                                                                                                                   **********************************\n",
            "                                                                                                                                                                                                    *********************************\n",
            "                                                                                                                                                                                                     ********************************\n",
            "                                                                                                                                                                                                      *******************************\n",
            "                                                                                                                                                                                                       ******************************\n",
            "                                                                                                                                                                                                        *****************************\n",
            "                                                                                                                                                                                                         ****************************\n",
            "                                                                                                                                                                                                          ***************************\n",
            "                                                                                                                                                                                                           **************************\n",
            "                                                                                                                                                                                                            *************************\n",
            "                                                                                                                                                                                                             ************************\n",
            "                                                                                                                                                                                                              ***********************\n",
            "                                                                                                                                                                                                               **********************\n",
            "                                                                                                                                                                                                                *********************\n",
            "                                                                                                                                                                                                                 ********************\n",
            "                                                                                                                                                                                                                  *******************\n",
            "                                                                                                                                                                                                                   ******************\n",
            "                                                                                                                                                                                                                    *****************\n",
            "                                                                                                                                                                                                                     ****************\n",
            "                                                                                                                                                                                                                      ***************\n",
            "                                                                                                                                                                                                                       **************\n",
            "                                                                                                                                                                                                                        *************\n",
            "                                                                                                                                                                                                                         ************\n",
            "                                                                                                                                                                                                                          ***********\n",
            "                                                                                                                                                                                                                           **********\n",
            "                                                                                                                                                                                                                            *********\n",
            "                                                                                                                                                                                                                             ********\n",
            "                                                                                                                                                                                                                              *******\n",
            "                                                                                                                                                                                                                               ******\n",
            "                                                                                                                                                                                                                                *****\n",
            "                                                                                                                                                                                                                                 ****\n",
            "                                                                                                                                                                                                                                  ***\n",
            "                                                                                                                                                                                                                                   **\n",
            "                                                                                                                                                                                                                                    *\n",
            "                                                                                                                                                                                                                                     \n"
          ],
          "name": "stdout"
        }
      ]
    },
    {
      "cell_type": "code",
      "metadata": {
        "id": "0ZuZxJl7ReOt",
        "colab_type": "code",
        "outputId": "9fa854d3-fbd8-4d3a-e697-ba7688c02490",
        "colab": {
          "base_uri": "https://localhost:8080/",
          "height": 51
        }
      },
      "source": [
        "num = int(input(\"Enter a number: \"))\n",
        "if num > 1:\n",
        "   for i in range(2,num):\n",
        "       if (num % i) == 0:\n",
        "           print(num,\"is not a prime number\")\n",
        "           break\n",
        "   else:\n",
        "    print(num,\"is a prime number\")\n",
        "else:  \n",
        "   print(num,\"is not a prime number\")"
      ],
      "execution_count": 69,
      "outputs": [
        {
          "output_type": "stream",
          "text": [
            "Enter a number: 56\n",
            "56 is not a prime number\n"
          ],
          "name": "stdout"
        }
      ]
    },
    {
      "cell_type": "code",
      "metadata": {
        "id": "aU22959FVm_W",
        "colab_type": "code",
        "outputId": "65503f0c-de10-456c-aefd-a9876d70614f",
        "colab": {
          "base_uri": "https://localhost:8080/",
          "height": 34
        }
      },
      "source": [
        "#reverse a string\n",
        "a = '271'\n",
        "a = a[::-1]\n",
        "a"
      ],
      "execution_count": 70,
      "outputs": [
        {
          "output_type": "execute_result",
          "data": {
            "text/plain": [
              "'172'"
            ]
          },
          "metadata": {
            "tags": []
          },
          "execution_count": 70
        }
      ]
    },
    {
      "cell_type": "code",
      "metadata": {
        "id": "pzh6YcmFdV68",
        "colab_type": "code",
        "colab": {}
      },
      "source": [
        "n = [1,2,3,4]\n",
        "z = [5,6,7,8]\n",
        "n = n+z\n",
        "#n.append(z)"
      ],
      "execution_count": 0,
      "outputs": []
    },
    {
      "cell_type": "code",
      "metadata": {
        "id": "8SDh7VRZd6Yx",
        "colab_type": "code",
        "outputId": "dc3aa7e8-8a0a-4842-cf70-535fa26fe23b",
        "colab": {
          "base_uri": "https://localhost:8080/",
          "height": 34
        }
      },
      "source": [
        "n"
      ],
      "execution_count": 72,
      "outputs": [
        {
          "output_type": "execute_result",
          "data": {
            "text/plain": [
              "[1, 2, 3, 4, 5, 6, 7, 8]"
            ]
          },
          "metadata": {
            "tags": []
          },
          "execution_count": 72
        }
      ]
    },
    {
      "cell_type": "code",
      "metadata": {
        "id": "fbuQVVdRm2Rf",
        "colab_type": "code",
        "colab": {}
      },
      "source": [
        ""
      ],
      "execution_count": 0,
      "outputs": []
    },
    {
      "cell_type": "markdown",
      "metadata": {
        "id": "Lo0aVhZQm-ik",
        "colab_type": "text"
      },
      "source": [
        "## List comprehension\n",
        "* A common pattern is to iterate through the elements of the list and generate a new list\n",
        "  * e.g. \n",
        "  ```python\n",
        "  x = [1, 2, 3]\n",
        "  y = []\n",
        "  for element in x: \n",
        "      y.append(element * element)\n",
        "  print(x)\n",
        "  print(y)\n",
        "  ```\n",
        "* Python provides list comprehension to accomplish the same\n",
        "using less code\n",
        "```python\n",
        "  # Note syntax\n",
        "  # y is a new list with elements being derived from x\n",
        "  y = [element * element for element in x]\n",
        "```\n",
        "\n"
      ]
    },
    {
      "cell_type": "code",
      "metadata": {
        "id": "Un4foC5ym8-U",
        "colab_type": "code",
        "colab": {
          "base_uri": "https://localhost:8080/",
          "height": 102
        },
        "outputId": "cdd2ceb7-2c01-4001-9302-2ec69526fb1b"
      },
      "source": [
        "x = [1, 2, 3]\n",
        "y = list()\n",
        "for element in x: \n",
        "    y.append(element * element)\n",
        "print(x)\n",
        "print(\"Using for loop\")\n",
        "print(y)\n",
        "\n",
        "\n",
        "y = [element * element for element in x]\n",
        "print(\"Using list comprehension\")\n",
        "print(y)"
      ],
      "execution_count": 73,
      "outputs": [
        {
          "output_type": "stream",
          "text": [
            "[1, 2, 3]\n",
            "Using for loop\n",
            "[1, 4, 9]\n",
            "Using list comprehension\n",
            "[1, 4, 9]\n"
          ],
          "name": "stdout"
        }
      ]
    },
    {
      "cell_type": "markdown",
      "metadata": {
        "id": "53gWAa3mnHeu",
        "colab_type": "text"
      },
      "source": [
        "# lambdas \n",
        "\n",
        "* Lambdas are a way to write\n",
        "  * Nameless functions\n",
        "  * inline functions\n",
        "* Example  \n",
        "\n",
        "```python\n",
        "def square(x):\n",
        "    return x * x\n",
        "\n",
        "sqr_fn = lambda x: x * x\n",
        "\n",
        "x = [1, 2, 3]\n",
        "y = [square(elem) for elem in x]\n",
        "y = map(lambda elem: elem * elem , x)\n",
        "\n",
        "print square(10)\n",
        "print sqr_fn(10)\n",
        "```"
      ]
    },
    {
      "cell_type": "code",
      "metadata": {
        "id": "ww4tI_CwnII9",
        "colab_type": "code",
        "colab": {
          "base_uri": "https://localhost:8080/",
          "height": 51
        },
        "outputId": "a577bde9-c761-4616-98a1-710c990b3676"
      },
      "source": [
        "def square(x):\n",
        "    return x * x\n",
        "\n",
        "sqr_fn = lambda x: x * x\n",
        "\n",
        "print(square(10))\n",
        "print( sqr_fn(10))"
      ],
      "execution_count": 74,
      "outputs": [
        {
          "output_type": "stream",
          "text": [
            "100\n",
            "100\n"
          ],
          "name": "stdout"
        }
      ]
    },
    {
      "cell_type": "code",
      "metadata": {
        "id": "8kZ9PpOnnOrS",
        "colab_type": "code",
        "colab": {
          "base_uri": "https://localhost:8080/",
          "height": 102
        },
        "outputId": "7b60378f-562d-472c-d0b7-aa1eaf099d4f"
      },
      "source": [
        "# (a) Using a for loop, iterate through the list x\n",
        "# and print an item if its divisible by 2 and less than 6\n",
        "# (b) Using a for loop, iterate through the dictionary y\n",
        "# and print a single string of the form \"company, ceo\"\n",
        "# e.g. \"CEO: Apple, Name: Tim Cook\" will be the third entry\n",
        "x = [1, 2, 3, 4, 5, 6, 7, 8, 9, 10]\n",
        "y = {\n",
        "    'Satya Nadella': 'Microsoft',\n",
        "    'Jeff Bezos': 'Amazon',\n",
        "    'Tim Cook': 'Apple'\n",
        "}\n",
        "\n",
        "for item in x:\n",
        "    if(item % 2 == 0)  & (item < 6):\n",
        "        print(item)\n",
        "\n",
        "for ceo,company in y.items():\n",
        "    print('CEO: {:10}, Name: {:15}'.format(company,ceo))"
      ],
      "execution_count": 75,
      "outputs": [
        {
          "output_type": "stream",
          "text": [
            "2\n",
            "4\n",
            "CEO: Microsoft , Name: Satya Nadella  \n",
            "CEO: Amazon    , Name: Jeff Bezos     \n",
            "CEO: Apple     , Name: Tim Cook       \n"
          ],
          "name": "stdout"
        }
      ]
    },
    {
      "cell_type": "markdown",
      "metadata": {
        "id": "Odvz3pcdrQaU",
        "colab_type": "text"
      },
      "source": [
        "# Numpy \n",
        "* Numpy is a python library for numeric processing\n",
        "  * Efficient way to deal with arrays and matrices\n",
        "  * Allows operation on entire arrays, matrices\n",
        "* Implemented in C and uses optimized math instructions for speed\n",
        "* Pandas is built on top of Numpy. \n",
        "  * Pandas objects usually accept Numpy arrays\n",
        "* Resources\n",
        "  * https://docs.scipy.org/doc/numpy-dev/user/quickstart.html"
      ]
    },
    {
      "cell_type": "markdown",
      "metadata": {
        "id": "0frA9srHrV-t",
        "colab_type": "text"
      },
      "source": [
        "## Example\n",
        "\n",
        "```python\n",
        "import numpy as np\n",
        "x = [1, 2, 3]\n",
        "dx = [ 2 * x for x in x]\n",
        "print(dx)\n",
        "\n",
        "# Same operation in numpy\n",
        "npx = np.array(x) # First convert x into numeric array\n",
        "dx  = 2 * npx  # Note lack of list comprehension\n",
        "print(dx)\n",
        "```"
      ]
    },
    {
      "cell_type": "code",
      "metadata": {
        "id": "g3L-UfjgrlR1",
        "colab_type": "code",
        "colab": {
          "base_uri": "https://localhost:8080/",
          "height": 85
        },
        "outputId": "f2e1d7fd-13ab-4e1c-9283-1cfd11bd1260"
      },
      "source": [
        "import numpy as np\n",
        "x = [1, 2, 3]\n",
        "dx = [ 2 * elem for elem in x]\n",
        "print(dx)\n",
        "print(type(dx))\n",
        "\n",
        "\n",
        "# Same operation in numpy\n",
        "npx = np.array(x) # First convert x into numeric array\n",
        "dx  = npx * 2  # Note lack of list comprehension\n",
        "print(dx)\n",
        "print(type(dx))"
      ],
      "execution_count": 76,
      "outputs": [
        {
          "output_type": "stream",
          "text": [
            "[2, 4, 6]\n",
            "<class 'list'>\n",
            "[2 4 6]\n",
            "<class 'numpy.ndarray'>\n"
          ],
          "name": "stdout"
        }
      ]
    },
    {
      "cell_type": "markdown",
      "metadata": {
        "id": "ZsNaXdLEtU1H",
        "colab_type": "text"
      },
      "source": [
        "# Pandas\n",
        "\n",
        "<img src=https://pandas.pydata.org/_static/pandas_logo.png>\n",
        "\n",
        "* Pandas is a python library for analyzing data\n",
        "* Provides classes to read, manipulate and analyze *tabular data* \n",
        "  * Tabular or relational data is organized into rows and columns\n",
        "  * Rows contain individual elements\n",
        "  * Columns contain properties of each element\n",
        "* Using pandas in your code\n",
        "\n",
        "```python\n",
        "import pandas as pd\n",
        "```"
      ]
    },
    {
      "cell_type": "markdown",
      "metadata": {
        "id": "mXCn06ncvXGt",
        "colab_type": "text"
      },
      "source": [
        "# Pandas data structure\n",
        "* Pandas is built around two collection objects\n",
        "  * DataFrame\n",
        "    * Tabular data structure\n",
        "    * Consists of \n",
        "       * columns (each of which is a series)\n",
        "       * index: name(s) attached to rows\n",
        "       * Can be accessed as collection of rows and/or columns\n",
        "  * Series  \n",
        "    * Similar to a Numpy array\n",
        "    * Consists of a name, values and *index* \n",
        "      * Numpy arrays do not have an index\n",
        "    * The values and indices are themselves Numpy arrays\n",
        "      "
      ]
    },
    {
      "cell_type": "code",
      "metadata": {
        "id": "Bm7_OG9BtThV",
        "colab_type": "code",
        "colab": {
          "base_uri": "https://localhost:8080/",
          "height": 238
        },
        "outputId": "80235b7e-71b2-4300-9b6e-a22d2df6110c"
      },
      "source": [
        "import pandas as pd\n",
        "\n",
        "# implicit index\n",
        "series = pd.Series([10, 20, 30])\n",
        "print(series)\n",
        "print\n",
        "\n",
        "# explicit index\n",
        "series = pd.Series([0, 1, 2, 3], index=[\"zero\", \"one\", \"two\", \"three\"])\n",
        "print(series)\n",
        "print\n",
        "\n",
        "# implicit index\n",
        "capitals = pd.Series({\n",
        "      'France': 'Paris',\n",
        "      'Japan': 'Tokyo', \n",
        "      'Germany': 'Berlin'})\n",
        "print(capitals)"
      ],
      "execution_count": 77,
      "outputs": [
        {
          "output_type": "stream",
          "text": [
            "0    10\n",
            "1    20\n",
            "2    30\n",
            "dtype: int64\n",
            "zero     0\n",
            "one      1\n",
            "two      2\n",
            "three    3\n",
            "dtype: int64\n",
            "France      Paris\n",
            "Japan       Tokyo\n",
            "Germany    Berlin\n",
            "dtype: object\n"
          ],
          "name": "stdout"
        }
      ]
    },
    {
      "cell_type": "code",
      "metadata": {
        "id": "1Y2gpMWavqMl",
        "colab_type": "code",
        "colab": {}
      },
      "source": [
        ""
      ],
      "execution_count": 0,
      "outputs": []
    }
  ]
}