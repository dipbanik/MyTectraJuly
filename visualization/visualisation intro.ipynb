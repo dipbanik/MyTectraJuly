{
  "nbformat": 4,
  "nbformat_minor": 0,
  "metadata": {
    "colab": {
      "name": "visualisation intro.ipynb",
      "version": "0.3.2",
      "provenance": [],
      "collapsed_sections": [],
      "toc_visible": true
    },
    "kernelspec": {
      "name": "python3",
      "display_name": "Python 3"
    }
  },
  "cells": [
    {
      "cell_type": "code",
      "metadata": {
        "id": "w-djGQbZAMvP",
        "colab_type": "code",
        "colab": {}
      },
      "source": [
        "from matplotlib import pyplot  as plt"
      ],
      "execution_count": 0,
      "outputs": []
    },
    {
      "cell_type": "markdown",
      "metadata": {
        "id": "HpwRqS8jiDVu",
        "colab_type": "text"
      },
      "source": [
        "Add as many plots to a fgure by using the plot function"
      ]
    },
    {
      "cell_type": "code",
      "metadata": {
        "id": "3AiAFVamATYO",
        "colab_type": "code",
        "outputId": "a2973eae-c7fb-4ccd-973b-c1d81defa6bf",
        "colab": {
          "base_uri": "https://localhost:8080/",
          "height": 300
        }
      },
      "source": [
        "plt.plot([1,2,3],[1,4,9])\n",
        "plt.plot([1,2,3],[10,20,30])\n",
        "plt.xlabel('this is x axis')\n",
        "plt.ylabel('this is y axis')\n",
        "plt.legend(['Data Set 1', 'Data Set 2'])\n",
        "plt.show()\n",
        "plt.savefig('exported_image')"
      ],
      "execution_count": 0,
      "outputs": [
        {
          "output_type": "display_data",
          "data": {
            "image/png": "[encoded data removed]",
            "text/plain": [
              "<Figure size 432x288 with 1 Axes>"
            ]
          },
          "metadata": {
            "tags": []
          }
        },
        {
          "output_type": "display_data",
          "data": {
            "text/plain": [
              "<Figure size 432x288 with 0 Axes>"
            ]
          },
          "metadata": {
            "tags": []
          }
        }
      ]
    },
    {
      "cell_type": "code",
      "metadata": {
        "id": "H0wj_P36AlxM",
        "colab_type": "code",
        "outputId": "02014a5f-3863-405a-d671-68cda2bdb7cb",
        "colab": {
          "base_uri": "https://localhost:8080/",
          "height": 34
        }
      },
      "source": [
        "import pandas as pd\n",
        "data = { 'year' : [2008, 2012, 2016],\n",
        "       'attendees' : [112,321,729],\n",
        "       'average age' : [24, 43, 31]}\n",
        "print(type(data))\n",
        "df = pd.DataFrame(data)"
      ],
      "execution_count": 0,
      "outputs": [
        {
          "output_type": "stream",
          "text": [
            "<class 'dict'>\n"
          ],
          "name": "stdout"
        }
      ]
    },
    {
      "cell_type": "code",
      "metadata": {
        "id": "J9RCEvLlIq-l",
        "colab_type": "code",
        "outputId": "5bbaac6f-0b6f-43c4-aba6-7bd6358e1c09",
        "colab": {
          "base_uri": "https://localhost:8080/",
          "height": 136
        }
      },
      "source": [
        "df"
      ],
      "execution_count": 0,
      "outputs": [
        {
          "output_type": "execute_result",
          "data": {
            "text/html": [
              "<div>\n",
              "<style scoped>\n",
              "    .dataframe tbody tr th:only-of-type {\n",
              "        vertical-align: middle;\n",
              "    }\n",
              "\n",
              "    .dataframe tbody tr th {\n",
              "        vertical-align: top;\n",
              "    }\n",
              "\n",
              "    .dataframe thead th {\n",
              "        text-align: right;\n",
              "    }\n",
              "</style>\n",
              "<table border=\"1\" class=\"dataframe\">\n",
              "  <thead>\n",
              "    <tr style=\"text-align: right;\">\n",
              "      <th></th>\n",
              "      <th>year</th>\n",
              "      <th>attendees</th>\n",
              "      <th>average age</th>\n",
              "    </tr>\n",
              "  </thead>\n",
              "  <tbody>\n",
              "    <tr>\n",
              "      <th>0</th>\n",
              "      <td>2008</td>\n",
              "      <td>112</td>\n",
              "      <td>24</td>\n",
              "    </tr>\n",
              "    <tr>\n",
              "      <th>1</th>\n",
              "      <td>2012</td>\n",
              "      <td>321</td>\n",
              "      <td>43</td>\n",
              "    </tr>\n",
              "    <tr>\n",
              "      <th>2</th>\n",
              "      <td>2016</td>\n",
              "      <td>729</td>\n",
              "      <td>31</td>\n",
              "    </tr>\n",
              "  </tbody>\n",
              "</table>\n",
              "</div>"
            ],
            "text/plain": [
              "   year  attendees  average age\n",
              "0  2008        112           24\n",
              "1  2012        321           43\n",
              "2  2016        729           31"
            ]
          },
          "metadata": {
            "tags": []
          },
          "execution_count": 8
        }
      ]
    },
    {
      "cell_type": "code",
      "metadata": {
        "id": "gx_rsms2Isp1",
        "colab_type": "code",
        "outputId": "7b7a3e82-477b-48c5-acee-541920a2c7f1",
        "colab": {
          "base_uri": "https://localhost:8080/",
          "height": 84
        }
      },
      "source": [
        "df['year']"
      ],
      "execution_count": 0,
      "outputs": [
        {
          "output_type": "execute_result",
          "data": {
            "text/plain": [
              "0    2008\n",
              "1    2012\n",
              "2    2016\n",
              "Name: year, dtype: int64"
            ]
          },
          "metadata": {
            "tags": []
          },
          "execution_count": 9
        }
      ]
    },
    {
      "cell_type": "code",
      "metadata": {
        "id": "55XdxR4oI0ld",
        "colab_type": "code",
        "outputId": "6e5e3e72-99f3-4f05-d7c6-78cf327d83d0",
        "colab": {
          "base_uri": "https://localhost:8080/",
          "height": 84
        }
      },
      "source": [
        "df['year'] < 2013"
      ],
      "execution_count": 0,
      "outputs": [
        {
          "output_type": "execute_result",
          "data": {
            "text/plain": [
              "0     True\n",
              "1     True\n",
              "2    False\n",
              "Name: year, dtype: bool"
            ]
          },
          "metadata": {
            "tags": []
          },
          "execution_count": 10
        }
      ]
    },
    {
      "cell_type": "code",
      "metadata": {
        "id": "4-elgZPRI3-l",
        "colab_type": "code",
        "colab": {}
      },
      "source": [
        "earlier_than_2013 = df['year'] < 2013\n",
        "# storing the data in a variable for future use"
      ],
      "execution_count": 0,
      "outputs": []
    },
    {
      "cell_type": "code",
      "metadata": {
        "id": "wu8FQff_JAGX",
        "colab_type": "code",
        "outputId": "f84d9b96-af55-4f22-9af4-e99dbea6928e",
        "colab": {
          "base_uri": "https://localhost:8080/",
          "height": 106
        }
      },
      "source": [
        "df[earlier_than_2013]\n",
        "#select only the data where the year is earlier than 2013\n",
        "# this is called boolean indexing"
      ],
      "execution_count": 0,
      "outputs": [
        {
          "output_type": "execute_result",
          "data": {
            "text/html": [
              "<div>\n",
              "<style scoped>\n",
              "    .dataframe tbody tr th:only-of-type {\n",
              "        vertical-align: middle;\n",
              "    }\n",
              "\n",
              "    .dataframe tbody tr th {\n",
              "        vertical-align: top;\n",
              "    }\n",
              "\n",
              "    .dataframe thead th {\n",
              "        text-align: right;\n",
              "    }\n",
              "</style>\n",
              "<table border=\"1\" class=\"dataframe\">\n",
              "  <thead>\n",
              "    <tr style=\"text-align: right;\">\n",
              "      <th></th>\n",
              "      <th>year</th>\n",
              "      <th>attendees</th>\n",
              "      <th>average age</th>\n",
              "    </tr>\n",
              "  </thead>\n",
              "  <tbody>\n",
              "    <tr>\n",
              "      <th>0</th>\n",
              "      <td>2008</td>\n",
              "      <td>112</td>\n",
              "      <td>24</td>\n",
              "    </tr>\n",
              "    <tr>\n",
              "      <th>1</th>\n",
              "      <td>2012</td>\n",
              "      <td>321</td>\n",
              "      <td>43</td>\n",
              "    </tr>\n",
              "  </tbody>\n",
              "</table>\n",
              "</div>"
            ],
            "text/plain": [
              "   year  attendees  average age\n",
              "0  2008        112           24\n",
              "1  2012        321           43"
            ]
          },
          "metadata": {
            "tags": []
          },
          "execution_count": 13
        }
      ]
    },
    {
      "cell_type": "markdown",
      "metadata": {
        "id": "9_5w904DJgSd",
        "colab_type": "text"
      },
      "source": [
        "Problem : How the number of attendees has changes over the last three events\n"
      ]
    },
    {
      "cell_type": "code",
      "metadata": {
        "id": "BdIwbhC6Jjpd",
        "colab_type": "code",
        "outputId": "77522686-ac1a-4c92-c2a2-d3cd82370898",
        "colab": {
          "base_uri": "https://localhost:8080/",
          "height": 269
        }
      },
      "source": [
        "plt.plot(df['year'], df['attendees'])\n",
        "# if i want to plot multiple graphs on the same plot,\n",
        "#just call plt.plot multiple times\n",
        "plt.plot(df['year'], df['average age'])\n",
        "\n",
        "plt.legend(['attendees', 'average age'])\n",
        "plt.show()"
      ],
      "execution_count": 0,
      "outputs": [
        {
          "output_type": "display_data",
          "data": {
            "image/png": "[encoded data removed]",
            "text/plain": [
              "<Figure size 432x288 with 1 Axes>"
            ]
          },
          "metadata": {
            "tags": []
          }
        }
      ]
    },
    {
      "cell_type": "markdown",
      "metadata": {
        "id": "-oLT3SGFKfNS",
        "colab_type": "text"
      },
      "source": [
        "##import data into pandas from csv"
      ]
    },
    {
      "cell_type": "code",
      "metadata": {
        "id": "c_4SOyAZKWJL",
        "colab_type": "code",
        "colab": {}
      },
      "source": [
        "import pandas as pd\n",
        "from matplotlib import pyplot as plt"
      ],
      "execution_count": 0,
      "outputs": []
    },
    {
      "cell_type": "code",
      "metadata": {
        "id": "gy2pkT8dccB0",
        "colab_type": "code",
        "colab": {
          "base_uri": "https://localhost:8080/",
          "height": 222
        },
        "outputId": "fe17d5a9-eb18-48b3-fd5b-f73a27c3424a"
      },
      "source": [
        "!wget -nc https://raw.githubusercontent.com/dipbanik/MyTectraJuly/master/visualization/countries.csv"
      ],
      "execution_count": 5,
      "outputs": [
        {
          "output_type": "stream",
          "text": [
            "--2019-07-26 04:04:31--  https://raw.githubusercontent.com/dipbanik/MyTectraJuly/master/visualization/countries.csv\n",
            "Resolving raw.githubusercontent.com (raw.githubusercontent.com)... 151.101.0.133, 151.101.64.133, 151.101.128.133, ...\n",
            "Connecting to raw.githubusercontent.com (raw.githubusercontent.com)|151.101.0.133|:443... connected.\n",
            "HTTP request sent, awaiting response... 200 OK\n",
            "Length: 82092 (80K) [text/plain]\n",
            "Saving to: ‘countries.csv’\n",
            "\n",
            "\rcountries.csv         0%[                    ]       0  --.-KB/s               \rcountries.csv       100%[===================>]  80.17K  --.-KB/s    in 0.02s   \n",
            "\n",
            "2019-07-26 04:04:31 (5.19 MB/s) - ‘countries.csv’ saved [82092/82092]\n",
            "\n"
          ],
          "name": "stdout"
        }
      ]
    },
    {
      "cell_type": "code",
      "metadata": {
        "id": "orqfUxKHdIAu",
        "colab_type": "code",
        "outputId": "175553da-b192-42cd-ad7a-ce3b3a81c1c6",
        "colab": {
          "base_uri": "https://localhost:8080/",
          "height": 195
        }
      },
      "source": [
        "data = pd.read_csv('countries.csv')\n",
        "data.head()\n",
        "#print(len(set(data.country)))"
      ],
      "execution_count": 6,
      "outputs": [
        {
          "output_type": "execute_result",
          "data": {
            "text/html": [
              "<div>\n",
              "<style scoped>\n",
              "    .dataframe tbody tr th:only-of-type {\n",
              "        vertical-align: middle;\n",
              "    }\n",
              "\n",
              "    .dataframe tbody tr th {\n",
              "        vertical-align: top;\n",
              "    }\n",
              "\n",
              "    .dataframe thead th {\n",
              "        text-align: right;\n",
              "    }\n",
              "</style>\n",
              "<table border=\"1\" class=\"dataframe\">\n",
              "  <thead>\n",
              "    <tr style=\"text-align: right;\">\n",
              "      <th></th>\n",
              "      <th>country</th>\n",
              "      <th>continent</th>\n",
              "      <th>year</th>\n",
              "      <th>lifeExpectancy</th>\n",
              "      <th>population</th>\n",
              "      <th>gdpPerCapita</th>\n",
              "    </tr>\n",
              "  </thead>\n",
              "  <tbody>\n",
              "    <tr>\n",
              "      <th>0</th>\n",
              "      <td>Afghanistan</td>\n",
              "      <td>Asia</td>\n",
              "      <td>1952</td>\n",
              "      <td>28.801</td>\n",
              "      <td>8425333</td>\n",
              "      <td>779.445314</td>\n",
              "    </tr>\n",
              "    <tr>\n",
              "      <th>1</th>\n",
              "      <td>Afghanistan</td>\n",
              "      <td>Asia</td>\n",
              "      <td>1957</td>\n",
              "      <td>30.332</td>\n",
              "      <td>9240934</td>\n",
              "      <td>820.853030</td>\n",
              "    </tr>\n",
              "    <tr>\n",
              "      <th>2</th>\n",
              "      <td>Afghanistan</td>\n",
              "      <td>Asia</td>\n",
              "      <td>1962</td>\n",
              "      <td>31.997</td>\n",
              "      <td>10267083</td>\n",
              "      <td>853.100710</td>\n",
              "    </tr>\n",
              "    <tr>\n",
              "      <th>3</th>\n",
              "      <td>Afghanistan</td>\n",
              "      <td>Asia</td>\n",
              "      <td>1967</td>\n",
              "      <td>34.020</td>\n",
              "      <td>11537966</td>\n",
              "      <td>836.197138</td>\n",
              "    </tr>\n",
              "    <tr>\n",
              "      <th>4</th>\n",
              "      <td>Afghanistan</td>\n",
              "      <td>Asia</td>\n",
              "      <td>1972</td>\n",
              "      <td>36.088</td>\n",
              "      <td>13079460</td>\n",
              "      <td>739.981106</td>\n",
              "    </tr>\n",
              "  </tbody>\n",
              "</table>\n",
              "</div>"
            ],
            "text/plain": [
              "       country continent  year  lifeExpectancy  population  gdpPerCapita\n",
              "0  Afghanistan      Asia  1952          28.801     8425333    779.445314\n",
              "1  Afghanistan      Asia  1957          30.332     9240934    820.853030\n",
              "2  Afghanistan      Asia  1962          31.997    10267083    853.100710\n",
              "3  Afghanistan      Asia  1967          34.020    11537966    836.197138\n",
              "4  Afghanistan      Asia  1972          36.088    13079460    739.981106"
            ]
          },
          "metadata": {
            "tags": []
          },
          "execution_count": 6
        }
      ]
    },
    {
      "cell_type": "code",
      "metadata": {
        "id": "twNdn2pldLAU",
        "colab_type": "code",
        "outputId": "632835dd-4e94-4974-b22c-2067360941d2",
        "colab": {
          "base_uri": "https://localhost:8080/",
          "height": 34
        }
      },
      "source": [
        "# data['country']  and data.country are the same thing to represent a column.\n",
        "data.country\n",
        "set(data.country)\n",
        "len(set(data.country))"
      ],
      "execution_count": 0,
      "outputs": [
        {
          "output_type": "execute_result",
          "data": {
            "text/plain": [
              "142"
            ]
          },
          "metadata": {
            "tags": []
          },
          "execution_count": 19
        }
      ]
    },
    {
      "cell_type": "markdown",
      "metadata": {
        "id": "gEvq67MMPUz9",
        "colab_type": "text"
      },
      "source": [
        "##Show the change in GDP Per Capita of Afghanistan over the years"
      ]
    },
    {
      "cell_type": "code",
      "metadata": {
        "id": "UC4yWTWLdesW",
        "colab_type": "code",
        "outputId": "936c1a92-205b-4ed1-db1c-01a4a09b1f6f",
        "colab": {
          "base_uri": "https://localhost:8080/",
          "height": 34
        }
      },
      "source": [
        "afghanistan = data[data.country == 'Afghanistan']\n",
        "afghanistan.shape"
      ],
      "execution_count": 0,
      "outputs": [
        {
          "output_type": "execute_result",
          "data": {
            "text/plain": [
              "(12, 6)"
            ]
          },
          "metadata": {
            "tags": []
          },
          "execution_count": 20
        }
      ]
    },
    {
      "cell_type": "code",
      "metadata": {
        "id": "FYpg7GJ5diU0",
        "colab_type": "code",
        "outputId": "187e0a57-907f-493a-a52b-3b519df42e4b",
        "colab": {
          "base_uri": "https://localhost:8080/",
          "height": 281
        }
      },
      "source": [
        "plt.plot(afghanistan.year, afghanistan.gdpPerCapita)\n",
        "plt.title(\"Afghanistan's GDP per capita\")\n",
        "plt.show()"
      ],
      "execution_count": 0,
      "outputs": [
        {
          "output_type": "display_data",
          "data": {
            "image/png": "[encoded data removed]",
            "text/plain": [
              "<Figure size 432x288 with 1 Axes>"
            ]
          },
          "metadata": {
            "tags": []
          }
        }
      ]
    },
    {
      "cell_type": "code",
      "metadata": {
        "id": "gQxaxgcFd16R",
        "colab_type": "code",
        "colab": {}
      },
      "source": [
        ""
      ],
      "execution_count": 0,
      "outputs": []
    },
    {
      "cell_type": "markdown",
      "metadata": {
        "id": "WP1epoMdfFIz",
        "colab_type": "text"
      },
      "source": [
        "##Compare Asia and Europe's GDP Per Capita in 2007 using histograms.\n",
        "GDP per capita is the annual GDP of a country divided by the total population.\n"
      ]
    },
    {
      "cell_type": "code",
      "metadata": {
        "id": "ny1NiBNNfLNn",
        "colab_type": "code",
        "outputId": "31e35b52-cc63-4bea-ad0f-4e2b2378a867",
        "colab": {
          "base_uri": "https://localhost:8080/",
          "height": 195
        }
      },
      "source": [
        "data = pd.read_csv('countries.csv')\n",
        "data.head()"
      ],
      "execution_count": 0,
      "outputs": [
        {
          "output_type": "execute_result",
          "data": {
            "text/html": [
              "<div>\n",
              "<style scoped>\n",
              "    .dataframe tbody tr th:only-of-type {\n",
              "        vertical-align: middle;\n",
              "    }\n",
              "\n",
              "    .dataframe tbody tr th {\n",
              "        vertical-align: top;\n",
              "    }\n",
              "\n",
              "    .dataframe thead th {\n",
              "        text-align: right;\n",
              "    }\n",
              "</style>\n",
              "<table border=\"1\" class=\"dataframe\">\n",
              "  <thead>\n",
              "    <tr style=\"text-align: right;\">\n",
              "      <th></th>\n",
              "      <th>country</th>\n",
              "      <th>continent</th>\n",
              "      <th>year</th>\n",
              "      <th>lifeExpectancy</th>\n",
              "      <th>population</th>\n",
              "      <th>gdpPerCapita</th>\n",
              "    </tr>\n",
              "  </thead>\n",
              "  <tbody>\n",
              "    <tr>\n",
              "      <th>0</th>\n",
              "      <td>Afghanistan</td>\n",
              "      <td>Asia</td>\n",
              "      <td>1952</td>\n",
              "      <td>28.801</td>\n",
              "      <td>8425333</td>\n",
              "      <td>779.445314</td>\n",
              "    </tr>\n",
              "    <tr>\n",
              "      <th>1</th>\n",
              "      <td>Afghanistan</td>\n",
              "      <td>Asia</td>\n",
              "      <td>1957</td>\n",
              "      <td>30.332</td>\n",
              "      <td>9240934</td>\n",
              "      <td>820.853030</td>\n",
              "    </tr>\n",
              "    <tr>\n",
              "      <th>2</th>\n",
              "      <td>Afghanistan</td>\n",
              "      <td>Asia</td>\n",
              "      <td>1962</td>\n",
              "      <td>31.997</td>\n",
              "      <td>10267083</td>\n",
              "      <td>853.100710</td>\n",
              "    </tr>\n",
              "    <tr>\n",
              "      <th>3</th>\n",
              "      <td>Afghanistan</td>\n",
              "      <td>Asia</td>\n",
              "      <td>1967</td>\n",
              "      <td>34.020</td>\n",
              "      <td>11537966</td>\n",
              "      <td>836.197138</td>\n",
              "    </tr>\n",
              "    <tr>\n",
              "      <th>4</th>\n",
              "      <td>Afghanistan</td>\n",
              "      <td>Asia</td>\n",
              "      <td>1972</td>\n",
              "      <td>36.088</td>\n",
              "      <td>13079460</td>\n",
              "      <td>739.981106</td>\n",
              "    </tr>\n",
              "  </tbody>\n",
              "</table>\n",
              "</div>"
            ],
            "text/plain": [
              "       country continent  year  lifeExpectancy  population  gdpPerCapita\n",
              "0  Afghanistan      Asia  1952          28.801     8425333    779.445314\n",
              "1  Afghanistan      Asia  1957          30.332     9240934    820.853030\n",
              "2  Afghanistan      Asia  1962          31.997    10267083    853.100710\n",
              "3  Afghanistan      Asia  1967          34.020    11537966    836.197138\n",
              "4  Afghanistan      Asia  1972          36.088    13079460    739.981106"
            ]
          },
          "metadata": {
            "tags": []
          },
          "execution_count": 23
        }
      ]
    },
    {
      "cell_type": "markdown",
      "metadata": {
        "id": "xyhaJ62CfvdQ",
        "colab_type": "text"
      },
      "source": [
        "check which continents are included in the data - use set function"
      ]
    },
    {
      "cell_type": "code",
      "metadata": {
        "id": "fFK5UFAMfkh1",
        "colab_type": "code",
        "outputId": "6581aab2-eeea-46de-b4b2-c843ea334ba7",
        "colab": {
          "base_uri": "https://localhost:8080/",
          "height": 34
        }
      },
      "source": [
        "set(data.continent)"
      ],
      "execution_count": 0,
      "outputs": [
        {
          "output_type": "execute_result",
          "data": {
            "text/plain": [
              "{'Africa', 'Americas', 'Asia', 'Europe', 'Oceania'}"
            ]
          },
          "metadata": {
            "tags": []
          },
          "execution_count": 24
        }
      ]
    },
    {
      "cell_type": "markdown",
      "metadata": {
        "id": "JVq7ndg0f_pC",
        "colab_type": "text"
      },
      "source": [
        "we want to select the data of Asia and Europe from the list"
      ]
    },
    {
      "cell_type": "code",
      "metadata": {
        "id": "m2C65pDdf6ED",
        "colab_type": "code",
        "colab": {}
      },
      "source": [
        "data_2007 = data[data.year == 2007]\n",
        "data_2007_Asia = data_2007[data_2007.continent == 'Asia']\n",
        "data_2007_Europe = data_2007[data_2007.continent == 'Europe']"
      ],
      "execution_count": 0,
      "outputs": []
    },
    {
      "cell_type": "code",
      "metadata": {
        "id": "tYSDiZ-WfzcM",
        "colab_type": "code",
        "outputId": "09b3ace5-5217-447a-881c-ce05f10679ff",
        "colab": {
          "base_uri": "https://localhost:8080/",
          "height": 195
        }
      },
      "source": [
        "data_2007_Asia.head()"
      ],
      "execution_count": 0,
      "outputs": [
        {
          "output_type": "execute_result",
          "data": {
            "text/html": [
              "<div>\n",
              "<style scoped>\n",
              "    .dataframe tbody tr th:only-of-type {\n",
              "        vertical-align: middle;\n",
              "    }\n",
              "\n",
              "    .dataframe tbody tr th {\n",
              "        vertical-align: top;\n",
              "    }\n",
              "\n",
              "    .dataframe thead th {\n",
              "        text-align: right;\n",
              "    }\n",
              "</style>\n",
              "<table border=\"1\" class=\"dataframe\">\n",
              "  <thead>\n",
              "    <tr style=\"text-align: right;\">\n",
              "      <th></th>\n",
              "      <th>country</th>\n",
              "      <th>continent</th>\n",
              "      <th>year</th>\n",
              "      <th>lifeExpectancy</th>\n",
              "      <th>population</th>\n",
              "      <th>gdpPerCapita</th>\n",
              "    </tr>\n",
              "  </thead>\n",
              "  <tbody>\n",
              "    <tr>\n",
              "      <th>11</th>\n",
              "      <td>Afghanistan</td>\n",
              "      <td>Asia</td>\n",
              "      <td>2007</td>\n",
              "      <td>43.828</td>\n",
              "      <td>31889923</td>\n",
              "      <td>974.580338</td>\n",
              "    </tr>\n",
              "    <tr>\n",
              "      <th>95</th>\n",
              "      <td>Bahrain</td>\n",
              "      <td>Asia</td>\n",
              "      <td>2007</td>\n",
              "      <td>75.635</td>\n",
              "      <td>708573</td>\n",
              "      <td>29796.048340</td>\n",
              "    </tr>\n",
              "    <tr>\n",
              "      <th>107</th>\n",
              "      <td>Bangladesh</td>\n",
              "      <td>Asia</td>\n",
              "      <td>2007</td>\n",
              "      <td>64.062</td>\n",
              "      <td>150448339</td>\n",
              "      <td>1391.253792</td>\n",
              "    </tr>\n",
              "    <tr>\n",
              "      <th>227</th>\n",
              "      <td>Cambodia</td>\n",
              "      <td>Asia</td>\n",
              "      <td>2007</td>\n",
              "      <td>59.723</td>\n",
              "      <td>14131858</td>\n",
              "      <td>1713.778686</td>\n",
              "    </tr>\n",
              "    <tr>\n",
              "      <th>299</th>\n",
              "      <td>China</td>\n",
              "      <td>Asia</td>\n",
              "      <td>2007</td>\n",
              "      <td>72.961</td>\n",
              "      <td>1318683096</td>\n",
              "      <td>4959.114854</td>\n",
              "    </tr>\n",
              "  </tbody>\n",
              "</table>\n",
              "</div>"
            ],
            "text/plain": [
              "         country continent  year  lifeExpectancy  population  gdpPerCapita\n",
              "11   Afghanistan      Asia  2007          43.828    31889923    974.580338\n",
              "95       Bahrain      Asia  2007          75.635      708573  29796.048340\n",
              "107   Bangladesh      Asia  2007          64.062   150448339   1391.253792\n",
              "227     Cambodia      Asia  2007          59.723    14131858   1713.778686\n",
              "299        China      Asia  2007          72.961  1318683096   4959.114854"
            ]
          },
          "metadata": {
            "tags": []
          },
          "execution_count": 28
        }
      ]
    },
    {
      "cell_type": "code",
      "metadata": {
        "id": "GayfIKkYgj_l",
        "colab_type": "code",
        "outputId": "06ae21f0-ad3f-4dd6-c132-97b99f14da2e",
        "colab": {
          "base_uri": "https://localhost:8080/",
          "height": 212
        }
      },
      "source": [
        "data_2007_Europe.head()"
      ],
      "execution_count": 0,
      "outputs": [
        {
          "output_type": "execute_result",
          "data": {
            "text/html": [
              "<div>\n",
              "<style scoped>\n",
              "    .dataframe tbody tr th:only-of-type {\n",
              "        vertical-align: middle;\n",
              "    }\n",
              "\n",
              "    .dataframe tbody tr th {\n",
              "        vertical-align: top;\n",
              "    }\n",
              "\n",
              "    .dataframe thead th {\n",
              "        text-align: right;\n",
              "    }\n",
              "</style>\n",
              "<table border=\"1\" class=\"dataframe\">\n",
              "  <thead>\n",
              "    <tr style=\"text-align: right;\">\n",
              "      <th></th>\n",
              "      <th>country</th>\n",
              "      <th>continent</th>\n",
              "      <th>year</th>\n",
              "      <th>lifeExpectancy</th>\n",
              "      <th>population</th>\n",
              "      <th>gdpPerCapita</th>\n",
              "    </tr>\n",
              "  </thead>\n",
              "  <tbody>\n",
              "    <tr>\n",
              "      <th>23</th>\n",
              "      <td>Albania</td>\n",
              "      <td>Europe</td>\n",
              "      <td>2007</td>\n",
              "      <td>76.423</td>\n",
              "      <td>3600523</td>\n",
              "      <td>5937.029526</td>\n",
              "    </tr>\n",
              "    <tr>\n",
              "      <th>83</th>\n",
              "      <td>Austria</td>\n",
              "      <td>Europe</td>\n",
              "      <td>2007</td>\n",
              "      <td>79.829</td>\n",
              "      <td>8199783</td>\n",
              "      <td>36126.492700</td>\n",
              "    </tr>\n",
              "    <tr>\n",
              "      <th>119</th>\n",
              "      <td>Belgium</td>\n",
              "      <td>Europe</td>\n",
              "      <td>2007</td>\n",
              "      <td>79.441</td>\n",
              "      <td>10392226</td>\n",
              "      <td>33692.605080</td>\n",
              "    </tr>\n",
              "    <tr>\n",
              "      <th>155</th>\n",
              "      <td>Bosnia and Herzegovina</td>\n",
              "      <td>Europe</td>\n",
              "      <td>2007</td>\n",
              "      <td>74.852</td>\n",
              "      <td>4552198</td>\n",
              "      <td>7446.298803</td>\n",
              "    </tr>\n",
              "    <tr>\n",
              "      <th>191</th>\n",
              "      <td>Bulgaria</td>\n",
              "      <td>Europe</td>\n",
              "      <td>2007</td>\n",
              "      <td>73.005</td>\n",
              "      <td>7322858</td>\n",
              "      <td>10680.792820</td>\n",
              "    </tr>\n",
              "  </tbody>\n",
              "</table>\n",
              "</div>"
            ],
            "text/plain": [
              "                    country continent  ...  population  gdpPerCapita\n",
              "23                  Albania    Europe  ...     3600523   5937.029526\n",
              "83                  Austria    Europe  ...     8199783  36126.492700\n",
              "119                 Belgium    Europe  ...    10392226  33692.605080\n",
              "155  Bosnia and Herzegovina    Europe  ...     4552198   7446.298803\n",
              "191                Bulgaria    Europe  ...     7322858  10680.792820\n",
              "\n",
              "[5 rows x 6 columns]"
            ]
          },
          "metadata": {
            "tags": []
          },
          "execution_count": 29
        }
      ]
    },
    {
      "cell_type": "markdown",
      "metadata": {
        "id": "x94hYEWFgyR4",
        "colab_type": "text"
      },
      "source": [
        "Check the number of countries in each continent"
      ]
    },
    {
      "cell_type": "code",
      "metadata": {
        "id": "gYWsTF9ogpjB",
        "colab_type": "code",
        "outputId": "ee3c7d5f-ffa1-4cb2-96bf-b76fb2c4649f",
        "colab": {
          "base_uri": "https://localhost:8080/",
          "height": 50
        }
      },
      "source": [
        "print(len(set(data_2007_Europe.country)))\n",
        "print(len(set(data_2007_Asia.country)))"
      ],
      "execution_count": 0,
      "outputs": [
        {
          "output_type": "stream",
          "text": [
            "30\n",
            "33\n"
          ],
          "name": "stdout"
        }
      ]
    },
    {
      "cell_type": "markdown",
      "metadata": {
        "id": "cntYnx8HhBR4",
        "colab_type": "text"
      },
      "source": [
        "Having roughly the same number of countries in each continent makes it easier to compare the distribution of GDP per capita."
      ]
    },
    {
      "cell_type": "code",
      "metadata": {
        "id": "TaTGhD0ag9Jd",
        "colab_type": "code",
        "outputId": "32b33883-87a9-4bef-ffa0-6c8c0ed99c16",
        "colab": {
          "base_uri": "https://localhost:8080/",
          "height": 84
        }
      },
      "source": [
        "print('Mean GDP Per Capita in Asia:')\n",
        "print(data_2007_Asia.gdpPerCapita.mean())\n",
        "print('Median GDP Per Capita in Asia:')\n",
        "print(data_2007_Asia.gdpPerCapita.median())"
      ],
      "execution_count": 0,
      "outputs": [
        {
          "output_type": "stream",
          "text": [
            "Mean GDP Per Capita in Asia:\n",
            "12473.02687013333\n",
            "Median GDP Per Capita in Asia:\n",
            "4471.061906\n"
          ],
          "name": "stdout"
        }
      ]
    },
    {
      "cell_type": "code",
      "metadata": {
        "id": "tOULIYJWaZpE",
        "colab_type": "code",
        "outputId": "1354690f-cb12-4057-f64d-e476c468e71b",
        "colab": {
          "base_uri": "https://localhost:8080/",
          "height": 571
        }
      },
      "source": [
        "set(data_2007_Asia.country)"
      ],
      "execution_count": 0,
      "outputs": [
        {
          "output_type": "execute_result",
          "data": {
            "text/plain": [
              "{'Afghanistan',\n",
              " 'Bahrain',\n",
              " 'Bangladesh',\n",
              " 'Cambodia',\n",
              " 'China',\n",
              " 'Hong Kong, China',\n",
              " 'India',\n",
              " 'Indonesia',\n",
              " 'Iran',\n",
              " 'Iraq',\n",
              " 'Israel',\n",
              " 'Japan',\n",
              " 'Jordan',\n",
              " 'Korea, Dem. Rep.',\n",
              " 'Korea, Rep.',\n",
              " 'Kuwait',\n",
              " 'Lebanon',\n",
              " 'Malaysia',\n",
              " 'Mongolia',\n",
              " 'Myanmar',\n",
              " 'Nepal',\n",
              " 'Oman',\n",
              " 'Pakistan',\n",
              " 'Philippines',\n",
              " 'Saudi Arabia',\n",
              " 'Singapore',\n",
              " 'Sri Lanka',\n",
              " 'Syria',\n",
              " 'Taiwan',\n",
              " 'Thailand',\n",
              " 'Vietnam',\n",
              " 'West Bank and Gaza',\n",
              " 'Yemen, Rep.'}"
            ]
          },
          "metadata": {
            "tags": []
          },
          "execution_count": 32
        }
      ]
    },
    {
      "cell_type": "code",
      "metadata": {
        "id": "L6FTq5DHajCp",
        "colab_type": "code",
        "outputId": "a5ea7d55-7770-43dd-9031-80d904aef01f",
        "colab": {
          "base_uri": "https://localhost:8080/",
          "height": 77
        }
      },
      "source": [
        "data_2007_Asia[data_2007_Asia.country == 'Kuwait']"
      ],
      "execution_count": 0,
      "outputs": [
        {
          "output_type": "execute_result",
          "data": {
            "text/html": [
              "<div>\n",
              "<style scoped>\n",
              "    .dataframe tbody tr th:only-of-type {\n",
              "        vertical-align: middle;\n",
              "    }\n",
              "\n",
              "    .dataframe tbody tr th {\n",
              "        vertical-align: top;\n",
              "    }\n",
              "\n",
              "    .dataframe thead th {\n",
              "        text-align: right;\n",
              "    }\n",
              "</style>\n",
              "<table border=\"1\" class=\"dataframe\">\n",
              "  <thead>\n",
              "    <tr style=\"text-align: right;\">\n",
              "      <th></th>\n",
              "      <th>country</th>\n",
              "      <th>continent</th>\n",
              "      <th>year</th>\n",
              "      <th>lifeExpectancy</th>\n",
              "      <th>population</th>\n",
              "      <th>gdpPerCapita</th>\n",
              "    </tr>\n",
              "  </thead>\n",
              "  <tbody>\n",
              "    <tr>\n",
              "      <th>863</th>\n",
              "      <td>Kuwait</td>\n",
              "      <td>Asia</td>\n",
              "      <td>2007</td>\n",
              "      <td>77.588</td>\n",
              "      <td>2505559</td>\n",
              "      <td>47306.98978</td>\n",
              "    </tr>\n",
              "  </tbody>\n",
              "</table>\n",
              "</div>"
            ],
            "text/plain": [
              "    country continent  year  lifeExpectancy  population  gdpPerCapita\n",
              "863  Kuwait      Asia  2007          77.588     2505559   47306.98978"
            ]
          },
          "metadata": {
            "tags": []
          },
          "execution_count": 33
        }
      ]
    },
    {
      "cell_type": "code",
      "metadata": {
        "id": "t8QRbmyya45x",
        "colab_type": "code",
        "outputId": "2729548a-9326-4ac0-c879-eb3830998779",
        "colab": {
          "base_uri": "https://localhost:8080/",
          "height": 77
        }
      },
      "source": [
        "data_2007_Asia[data_2007_Asia.country == 'India']"
      ],
      "execution_count": 0,
      "outputs": [
        {
          "output_type": "execute_result",
          "data": {
            "text/html": [
              "<div>\n",
              "<style scoped>\n",
              "    .dataframe tbody tr th:only-of-type {\n",
              "        vertical-align: middle;\n",
              "    }\n",
              "\n",
              "    .dataframe tbody tr th {\n",
              "        vertical-align: top;\n",
              "    }\n",
              "\n",
              "    .dataframe thead th {\n",
              "        text-align: right;\n",
              "    }\n",
              "</style>\n",
              "<table border=\"1\" class=\"dataframe\">\n",
              "  <thead>\n",
              "    <tr style=\"text-align: right;\">\n",
              "      <th></th>\n",
              "      <th>country</th>\n",
              "      <th>continent</th>\n",
              "      <th>year</th>\n",
              "      <th>lifeExpectancy</th>\n",
              "      <th>population</th>\n",
              "      <th>gdpPerCapita</th>\n",
              "    </tr>\n",
              "  </thead>\n",
              "  <tbody>\n",
              "    <tr>\n",
              "      <th>707</th>\n",
              "      <td>India</td>\n",
              "      <td>Asia</td>\n",
              "      <td>2007</td>\n",
              "      <td>64.698</td>\n",
              "      <td>1110396331</td>\n",
              "      <td>2452.210407</td>\n",
              "    </tr>\n",
              "  </tbody>\n",
              "</table>\n",
              "</div>"
            ],
            "text/plain": [
              "    country continent  year  lifeExpectancy  population  gdpPerCapita\n",
              "707   India      Asia  2007          64.698  1110396331   2452.210407"
            ]
          },
          "metadata": {
            "tags": []
          },
          "execution_count": 34
        }
      ]
    },
    {
      "cell_type": "code",
      "metadata": {
        "id": "ozw9LBxMhUhZ",
        "colab_type": "code",
        "outputId": "982c060e-76f2-4c50-fe29-f8cd62a6803a",
        "colab": {
          "base_uri": "https://localhost:8080/",
          "height": 84
        }
      },
      "source": [
        "print('Mean GDP Per Capita in Europe:')\n",
        "print(data_2007_Europe.gdpPerCapita.mean())\n",
        "print('Median GDP Per Capita in Europe:')\n",
        "print(data_2007_Europe.gdpPerCapita.median())"
      ],
      "execution_count": 0,
      "outputs": [
        {
          "output_type": "stream",
          "text": [
            "Mean GDP Per Capita in Europe:\n",
            "25054.481635933327\n",
            "Median GDP Per Capita in Europe:\n",
            "28054.06579\n"
          ],
          "name": "stdout"
        }
      ]
    },
    {
      "cell_type": "markdown",
      "metadata": {
        "id": "qQOYaXxYh3fw",
        "colab_type": "text"
      },
      "source": [
        "It is difficult to tell the distribution from mean and median alone.\n",
        "Let's try some histograms."
      ]
    },
    {
      "cell_type": "code",
      "metadata": {
        "id": "IKo9eGUKhxDZ",
        "colab_type": "code",
        "outputId": "5d36d4e9-126d-4325-922e-fd16ced0f60d",
        "colab": {
          "base_uri": "https://localhost:8080/",
          "height": 269
        }
      },
      "source": [
        "plt.subplot(2,1, 1) #subplot(211)\n",
        "#2 rows and 1 column 3rd element is the index where we want to start.\n",
        "#plt.title('Distributioin of GDP per Capita - Asia')\n",
        "plt.hist(data_2007_Asia.gdpPerCapita, 20, range=(0,50000), edgecolor = 'black')\n",
        "plt.ylabel('Asia')\n",
        "# 20 is the number of bind, which means that there are 20 bins\n",
        "#into which GDP Per Capita can fall.\n",
        "\n",
        "# we provide a range so that we can compare europe and asia for the same range. \n",
        "# try to remove the range parameter and see what happens.\n",
        "plt.subplot(212)\n",
        "#plt.title('Distributioin of GDP per Capita - Europe')\n",
        "plt.hist(data_2007_Europe.gdpPerCapita, 20, range=(0,50000), edgecolor = 'black')\n",
        "plt.ylabel('Europe')\n",
        "plt.show()"
      ],
      "execution_count": 0,
      "outputs": [
        {
          "output_type": "display_data",
          "data": {
            "image/png": "[encoded data removed]",
            "text/plain": [
              "<Figure size 432x288 with 2 Axes>"
            ]
          },
          "metadata": {
            "tags": []
          }
        }
      ]
    },
    {
      "cell_type": "markdown",
      "metadata": {
        "id": "UNGkD_DGkepR",
        "colab_type": "text"
      },
      "source": [
        "#Practice Problem : Compare Europe and Americas' Life Expectancy in 1997\n",
        "\n",
        "Use hist() function to draw histograms and subplot() to compare them."
      ]
    },
    {
      "cell_type": "code",
      "metadata": {
        "id": "DmGzEjDWiuHR",
        "colab_type": "code",
        "colab": {}
      },
      "source": [
        ""
      ],
      "execution_count": 0,
      "outputs": []
    }
  ]
}