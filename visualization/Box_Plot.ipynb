{
  "nbformat": 4,
  "nbformat_minor": 0,
  "metadata": {
    "colab": {
      "name": "Box Plot.ipynb",
      "version": "0.3.2",
      "provenance": [],
      "include_colab_link": true
    },
    "kernelspec": {
      "name": "python3",
      "display_name": "Python 3"
    }
  },
  "cells": [
    {
      "cell_type": "markdown",
      "metadata": {
        "id": "view-in-github",
        "colab_type": "text"
      },
      "source": [
        "<a href=\"https://colab.research.google.com/github/dipbanik/MyTectraJuly/blob/master/visualization/Box_Plot.ipynb\" target=\"_parent\"><img src=\"https://colab.research.google.com/assets/colab-badge.svg\" alt=\"Open In Colab\"/></a>"
      ]
    },
    {
      "cell_type": "markdown",
      "metadata": {
        "id": "A0qLEwlCBq6_",
        "colab_type": "text"
      },
      "source": [
        "# Box Plot\n",
        "also known as a box and whisker plot"
      ]
    },
    {
      "cell_type": "code",
      "metadata": {
        "id": "mhaM-HuKAvpT",
        "colab_type": "code",
        "colab": {}
      },
      "source": [
        "import matplotlib.pyplot as plt \n"
      ],
      "execution_count": 0,
      "outputs": []
    },
    {
      "cell_type": "code",
      "metadata": {
        "id": "CBJeVokuA1Zz",
        "colab_type": "code",
        "colab": {}
      },
      "source": [
        "value1 = [82,76,24,40,67,62,75,78,71,32,98,89,78,67,72,82,87,66,56,52]\n",
        "value2=[62,5,91,25,36,32,96,95,3,90,95,32,27,55,100,15,71,11,37,21]\n",
        "value3=[23,89,12,78,72,89,25,69,68,86,19,49,15,16,16,75,65,31,25,52]\n",
        "value4=[59,73,70,16,81,61,88,98,10,87,29,72,16,23,72,88,78,99,75,30]\n",
        " \n"
      ],
      "execution_count": 0,
      "outputs": []
    },
    {
      "cell_type": "code",
      "metadata": {
        "id": "0YVB9uRHBQK-",
        "colab_type": "code",
        "colab": {}
      },
      "source": [
        "box_plot_data=[value1,value2,value3,value4]\n"
      ],
      "execution_count": 0,
      "outputs": []
    },
    {
      "cell_type": "markdown",
      "metadata": {
        "id": "paX6o9m_Bji3",
        "colab_type": "text"
      },
      "source": [
        "# BoxPlot\n",
        "\n",
        "Four arrays are passed to an array named box_plot_data and it is plotted with boxplot function"
      ]
    },
    {
      "cell_type": "code",
      "metadata": {
        "id": "a0yK7OKfBSF_",
        "colab_type": "code",
        "colab": {
          "base_uri": "https://localhost:8080/",
          "height": 269
        },
        "outputId": "4163458d-bfce-4fff-878d-81cfd61e77b4"
      },
      "source": [
        "plt.boxplot(box_plot_data,patch_artist=True,labels=['course1','course2','course3','course4'])\n",
        "plt.show()"
      ],
      "execution_count": 7,
      "outputs": [
        {
          "output_type": "display_data",
          "data": {
            "image/png": "[encoded data removed]",
            "text/plain": [
              "<Figure size 432x288 with 1 Axes>"
            ]
          },
          "metadata": {
            "tags": []
          }
        }
      ]
    },
    {
      "cell_type": "markdown",
      "metadata": {
        "id": "wM3rabc3B3Bl",
        "colab_type": "text"
      },
      "source": [
        "boxplot() function takes the data array to be plotted as input in first argument, second argument patch_artist=True , fills the boxplot and third argument takes the label to be plotted."
      ]
    },
    {
      "cell_type": "markdown",
      "metadata": {
        "id": "eE2ynVo5Cy5K",
        "colab_type": "text"
      },
      "source": [
        "Lower Extreme - \n",
        "Lower Quartile - \n",
        "Median - \n",
        "Upper Quartile -\n",
        "Upper Extreme - \n",
        "\n",
        "thus creating Q1, Q2, Q3, Q4."
      ]
    },
    {
      "cell_type": "code",
      "metadata": {
        "id": "q5TO66MpBUiV",
        "colab_type": "code",
        "colab": {}
      },
      "source": [
        "\n"
      ],
      "execution_count": 0,
      "outputs": []
    }
  ]
}