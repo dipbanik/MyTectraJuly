{
  "nbformat": 4,
  "nbformat_minor": 0,
  "metadata": {
    "colab": {
      "name": "TimeSeries&LineCharts.ipynb",
      "version": "0.3.2",
      "provenance": [],
      "collapsed_sections": [],
      "toc_visible": true
    },
    "kernelspec": {
      "name": "python3",
      "display_name": "Python 3"
    }
  },
  "cells": [
    {
      "cell_type": "code",
      "metadata": {
        "id": "0PdQ6cE0H6xV",
        "colab_type": "code",
        "colab": {}
      },
      "source": [
        ""
      ],
      "execution_count": 0,
      "outputs": []
    },
    {
      "cell_type": "markdown",
      "metadata": {
        "id": "A-oUfvqOISkq",
        "colab_type": "text"
      },
      "source": [
        "Time Series and Line Charts can help manage misinterpretation.\n",
        "IF the total sales of a product is more for males, it does not necessarily mean that the product is usually brought more often by males. It might be that on one particular day the number of purchases by male was more. \n",
        "To get a better view of our hypothesys, it is better that we plot it using time series and line charts. It will help us get a better view of our hypothesis. "
      ]
    },
    {
      "cell_type": "markdown",
      "metadata": {
        "id": "X_gej6MbI-p2",
        "colab_type": "text"
      },
      "source": [
        "##Problem : Compare GDP Per Capita Growth in the U.S. and China"
      ]
    },
    {
      "cell_type": "code",
      "metadata": {
        "id": "v6ijrD6wI9UF",
        "colab_type": "code",
        "colab": {}
      },
      "source": [
        "from matplotlib import pyplot as plt\n",
        "import pandas as pd\n",
        "\n"
      ],
      "execution_count": 0,
      "outputs": []
    },
    {
      "cell_type": "code",
      "metadata": {
        "id": "2naC9yTJJEOF",
        "colab_type": "code",
        "colab": {}
      },
      "source": [
        "data = pd.read_csv('https://raw.githubusercontent.com/dipbanik/MyTectraJuly/master/visualization/countries.csv')"
      ],
      "execution_count": 0,
      "outputs": []
    },
    {
      "cell_type": "code",
      "metadata": {
        "id": "cH8mGs6gI0yz",
        "colab_type": "code",
        "outputId": "e3143546-412b-492e-baac-1408a37381e0",
        "colab": {
          "base_uri": "https://localhost:8080/",
          "height": 195
        }
      },
      "source": [
        "data.head()"
      ],
      "execution_count": 3,
      "outputs": [
        {
          "output_type": "execute_result",
          "data": {
            "text/html": [
              "<div>\n",
              "<style scoped>\n",
              "    .dataframe tbody tr th:only-of-type {\n",
              "        vertical-align: middle;\n",
              "    }\n",
              "\n",
              "    .dataframe tbody tr th {\n",
              "        vertical-align: top;\n",
              "    }\n",
              "\n",
              "    .dataframe thead th {\n",
              "        text-align: right;\n",
              "    }\n",
              "</style>\n",
              "<table border=\"1\" class=\"dataframe\">\n",
              "  <thead>\n",
              "    <tr style=\"text-align: right;\">\n",
              "      <th></th>\n",
              "      <th>country</th>\n",
              "      <th>continent</th>\n",
              "      <th>year</th>\n",
              "      <th>lifeExpectancy</th>\n",
              "      <th>population</th>\n",
              "      <th>gdpPerCapita</th>\n",
              "    </tr>\n",
              "  </thead>\n",
              "  <tbody>\n",
              "    <tr>\n",
              "      <th>0</th>\n",
              "      <td>Afghanistan</td>\n",
              "      <td>Asia</td>\n",
              "      <td>1952</td>\n",
              "      <td>28.801</td>\n",
              "      <td>8425333</td>\n",
              "      <td>779.445314</td>\n",
              "    </tr>\n",
              "    <tr>\n",
              "      <th>1</th>\n",
              "      <td>Afghanistan</td>\n",
              "      <td>Asia</td>\n",
              "      <td>1957</td>\n",
              "      <td>30.332</td>\n",
              "      <td>9240934</td>\n",
              "      <td>820.853030</td>\n",
              "    </tr>\n",
              "    <tr>\n",
              "      <th>2</th>\n",
              "      <td>Afghanistan</td>\n",
              "      <td>Asia</td>\n",
              "      <td>1962</td>\n",
              "      <td>31.997</td>\n",
              "      <td>10267083</td>\n",
              "      <td>853.100710</td>\n",
              "    </tr>\n",
              "    <tr>\n",
              "      <th>3</th>\n",
              "      <td>Afghanistan</td>\n",
              "      <td>Asia</td>\n",
              "      <td>1967</td>\n",
              "      <td>34.020</td>\n",
              "      <td>11537966</td>\n",
              "      <td>836.197138</td>\n",
              "    </tr>\n",
              "    <tr>\n",
              "      <th>4</th>\n",
              "      <td>Afghanistan</td>\n",
              "      <td>Asia</td>\n",
              "      <td>1972</td>\n",
              "      <td>36.088</td>\n",
              "      <td>13079460</td>\n",
              "      <td>739.981106</td>\n",
              "    </tr>\n",
              "  </tbody>\n",
              "</table>\n",
              "</div>"
            ],
            "text/plain": [
              "       country continent  year  lifeExpectancy  population  gdpPerCapita\n",
              "0  Afghanistan      Asia  1952          28.801     8425333    779.445314\n",
              "1  Afghanistan      Asia  1957          30.332     9240934    820.853030\n",
              "2  Afghanistan      Asia  1962          31.997    10267083    853.100710\n",
              "3  Afghanistan      Asia  1967          34.020    11537966    836.197138\n",
              "4  Afghanistan      Asia  1972          36.088    13079460    739.981106"
            ]
          },
          "metadata": {
            "tags": []
          },
          "execution_count": 3
        }
      ]
    },
    {
      "cell_type": "code",
      "metadata": {
        "id": "0Ow7vDu5Je9B",
        "colab_type": "code",
        "outputId": "eca0d35b-f355-4f4a-fb38-549315697b23",
        "colab": {
          "base_uri": "https://localhost:8080/",
          "height": 195
        }
      },
      "source": [
        "#select data for US\n",
        "us = data[data.country == 'United States']\n",
        "us.head()"
      ],
      "execution_count": 4,
      "outputs": [
        {
          "output_type": "execute_result",
          "data": {
            "text/html": [
              "<div>\n",
              "<style scoped>\n",
              "    .dataframe tbody tr th:only-of-type {\n",
              "        vertical-align: middle;\n",
              "    }\n",
              "\n",
              "    .dataframe tbody tr th {\n",
              "        vertical-align: top;\n",
              "    }\n",
              "\n",
              "    .dataframe thead th {\n",
              "        text-align: right;\n",
              "    }\n",
              "</style>\n",
              "<table border=\"1\" class=\"dataframe\">\n",
              "  <thead>\n",
              "    <tr style=\"text-align: right;\">\n",
              "      <th></th>\n",
              "      <th>country</th>\n",
              "      <th>continent</th>\n",
              "      <th>year</th>\n",
              "      <th>lifeExpectancy</th>\n",
              "      <th>population</th>\n",
              "      <th>gdpPerCapita</th>\n",
              "    </tr>\n",
              "  </thead>\n",
              "  <tbody>\n",
              "    <tr>\n",
              "      <th>1608</th>\n",
              "      <td>United States</td>\n",
              "      <td>Americas</td>\n",
              "      <td>1952</td>\n",
              "      <td>68.44</td>\n",
              "      <td>157553000</td>\n",
              "      <td>13990.48208</td>\n",
              "    </tr>\n",
              "    <tr>\n",
              "      <th>1609</th>\n",
              "      <td>United States</td>\n",
              "      <td>Americas</td>\n",
              "      <td>1957</td>\n",
              "      <td>69.49</td>\n",
              "      <td>171984000</td>\n",
              "      <td>14847.12712</td>\n",
              "    </tr>\n",
              "    <tr>\n",
              "      <th>1610</th>\n",
              "      <td>United States</td>\n",
              "      <td>Americas</td>\n",
              "      <td>1962</td>\n",
              "      <td>70.21</td>\n",
              "      <td>186538000</td>\n",
              "      <td>16173.14586</td>\n",
              "    </tr>\n",
              "    <tr>\n",
              "      <th>1611</th>\n",
              "      <td>United States</td>\n",
              "      <td>Americas</td>\n",
              "      <td>1967</td>\n",
              "      <td>70.76</td>\n",
              "      <td>198712000</td>\n",
              "      <td>19530.36557</td>\n",
              "    </tr>\n",
              "    <tr>\n",
              "      <th>1612</th>\n",
              "      <td>United States</td>\n",
              "      <td>Americas</td>\n",
              "      <td>1972</td>\n",
              "      <td>71.34</td>\n",
              "      <td>209896000</td>\n",
              "      <td>21806.03594</td>\n",
              "    </tr>\n",
              "  </tbody>\n",
              "</table>\n",
              "</div>"
            ],
            "text/plain": [
              "            country continent  year  lifeExpectancy  population  gdpPerCapita\n",
              "1608  United States  Americas  1952           68.44   157553000   13990.48208\n",
              "1609  United States  Americas  1957           69.49   171984000   14847.12712\n",
              "1610  United States  Americas  1962           70.21   186538000   16173.14586\n",
              "1611  United States  Americas  1967           70.76   198712000   19530.36557\n",
              "1612  United States  Americas  1972           71.34   209896000   21806.03594"
            ]
          },
          "metadata": {
            "tags": []
          },
          "execution_count": 4
        }
      ]
    },
    {
      "cell_type": "code",
      "metadata": {
        "id": "2JqtsJ0yJ19r",
        "colab_type": "code",
        "outputId": "a637b705-2e55-4a1e-f1e5-6853dabf16d6",
        "colab": {
          "base_uri": "https://localhost:8080/",
          "height": 295
        }
      },
      "source": [
        "plt.plot(us.year, us.gdpPerCapita)\n",
        "plt.xlabel('Year')\n",
        "plt.ylabel('GDP Per Capita')\n",
        "plt.title('GDP Per Capita Growth in US')\n",
        "plt.show()"
      ],
      "execution_count": 5,
      "outputs": [
        {
          "output_type": "display_data",
          "data": {
            "image/png": "[encoded data removed]",
            "text/plain": [
              "<Figure size 432x288 with 1 Axes>"
            ]
          },
          "metadata": {
            "tags": []
          }
        }
      ]
    },
    {
      "cell_type": "code",
      "metadata": {
        "id": "sDoeyC7LJ-14",
        "colab_type": "code",
        "outputId": "6ed5487b-cecc-4e23-afe5-cca1a1be93d0",
        "colab": {
          "base_uri": "https://localhost:8080/",
          "height": 195
        }
      },
      "source": [
        "# select data for China\n",
        "china = data[data.country == 'China']\n",
        "china.head()"
      ],
      "execution_count": 6,
      "outputs": [
        {
          "output_type": "execute_result",
          "data": {
            "text/html": [
              "<div>\n",
              "<style scoped>\n",
              "    .dataframe tbody tr th:only-of-type {\n",
              "        vertical-align: middle;\n",
              "    }\n",
              "\n",
              "    .dataframe tbody tr th {\n",
              "        vertical-align: top;\n",
              "    }\n",
              "\n",
              "    .dataframe thead th {\n",
              "        text-align: right;\n",
              "    }\n",
              "</style>\n",
              "<table border=\"1\" class=\"dataframe\">\n",
              "  <thead>\n",
              "    <tr style=\"text-align: right;\">\n",
              "      <th></th>\n",
              "      <th>country</th>\n",
              "      <th>continent</th>\n",
              "      <th>year</th>\n",
              "      <th>lifeExpectancy</th>\n",
              "      <th>population</th>\n",
              "      <th>gdpPerCapita</th>\n",
              "    </tr>\n",
              "  </thead>\n",
              "  <tbody>\n",
              "    <tr>\n",
              "      <th>288</th>\n",
              "      <td>China</td>\n",
              "      <td>Asia</td>\n",
              "      <td>1952</td>\n",
              "      <td>44.00000</td>\n",
              "      <td>556263527</td>\n",
              "      <td>400.448611</td>\n",
              "    </tr>\n",
              "    <tr>\n",
              "      <th>289</th>\n",
              "      <td>China</td>\n",
              "      <td>Asia</td>\n",
              "      <td>1957</td>\n",
              "      <td>50.54896</td>\n",
              "      <td>637408000</td>\n",
              "      <td>575.987001</td>\n",
              "    </tr>\n",
              "    <tr>\n",
              "      <th>290</th>\n",
              "      <td>China</td>\n",
              "      <td>Asia</td>\n",
              "      <td>1962</td>\n",
              "      <td>44.50136</td>\n",
              "      <td>665770000</td>\n",
              "      <td>487.674018</td>\n",
              "    </tr>\n",
              "    <tr>\n",
              "      <th>291</th>\n",
              "      <td>China</td>\n",
              "      <td>Asia</td>\n",
              "      <td>1967</td>\n",
              "      <td>58.38112</td>\n",
              "      <td>754550000</td>\n",
              "      <td>612.705693</td>\n",
              "    </tr>\n",
              "    <tr>\n",
              "      <th>292</th>\n",
              "      <td>China</td>\n",
              "      <td>Asia</td>\n",
              "      <td>1972</td>\n",
              "      <td>63.11888</td>\n",
              "      <td>862030000</td>\n",
              "      <td>676.900092</td>\n",
              "    </tr>\n",
              "  </tbody>\n",
              "</table>\n",
              "</div>"
            ],
            "text/plain": [
              "    country continent  year  lifeExpectancy  population  gdpPerCapita\n",
              "288   China      Asia  1952        44.00000   556263527    400.448611\n",
              "289   China      Asia  1957        50.54896   637408000    575.987001\n",
              "290   China      Asia  1962        44.50136   665770000    487.674018\n",
              "291   China      Asia  1967        58.38112   754550000    612.705693\n",
              "292   China      Asia  1972        63.11888   862030000    676.900092"
            ]
          },
          "metadata": {
            "tags": []
          },
          "execution_count": 6
        }
      ]
    },
    {
      "cell_type": "code",
      "metadata": {
        "id": "cZZQsr5iLg_O",
        "colab_type": "code",
        "outputId": "f779cb42-3944-49fb-da69-1fe264acbe7d",
        "colab": {
          "base_uri": "https://localhost:8080/",
          "height": 295
        }
      },
      "source": [
        "plt.plot(china.year, china.gdpPerCapita)\n",
        "plt.xlabel('year')\n",
        "plt.ylabel('gdpPerCapita')\n",
        "plt.title('GDP per Capita of China over the years')\n",
        "plt.show()"
      ],
      "execution_count": 7,
      "outputs": [
        {
          "output_type": "display_data",
          "data": {
            "image/png": "[encoded data removed]",
            "text/plain": [
              "<Figure size 432x288 with 1 Axes>"
            ]
          },
          "metadata": {
            "tags": []
          }
        }
      ]
    },
    {
      "cell_type": "code",
      "metadata": {
        "id": "um2Fi1WsMNwR",
        "colab_type": "code",
        "outputId": "3475e68f-68c7-4f9d-c5a9-c0d755b9ce0e",
        "colab": {
          "base_uri": "https://localhost:8080/",
          "height": 295
        }
      },
      "source": [
        "# show both the country's GDp Per Capita together\n",
        "plt.plot(us.year, us.gdpPerCapita)\n",
        "plt.plot(china.year, china.gdpPerCapita)\n",
        "plt.xlabel('Year')\n",
        "plt.ylabel('GDP Per Capita')\n",
        "plt.title('GDP Per Capita Growth in US and China')\n",
        "plt.legend(['GDP Per Capita in US', 'GDP Per Capita in China'])\n",
        "plt.show()"
      ],
      "execution_count": 8,
      "outputs": [
        {
          "output_type": "display_data",
          "data": {
            "image/png": "[encoded data removed]",
            "text/plain": [
              "<Figure size 432x288 with 1 Axes>"
            ]
          },
          "metadata": {
            "tags": []
          }
        }
      ]
    },
    {
      "cell_type": "markdown",
      "metadata": {
        "id": "NQmvF0uiM_XF",
        "colab_type": "text"
      },
      "source": [
        "From this graph we can see how the GDP Per Capita has grown in both US and China but it is hard to know which one has grown faster on a relative term because the absolute values are so different. \n",
        "\n",
        "What if we instead compare the growth?\n",
        "\n",
        "For this let us set the GDp per Capita in the first available year to 100 and compare how it has grown in US and China wrt the year.\n",
        "\n",
        "So we need to divide the GDP per capita by the first year's GDP per Capita and multiply by 100."
      ]
    },
    {
      "cell_type": "code",
      "metadata": {
        "id": "0wTXzNXrM1UC",
        "colab_type": "code",
        "outputId": "81fcfbbf-0677-43cc-fcbd-cccfdfaac176",
        "colab": {
          "base_uri": "https://localhost:8080/",
          "height": 34
        }
      },
      "source": [
        "us.gdpPerCapita.iloc[0] # panda series's first value."
      ],
      "execution_count": 9,
      "outputs": [
        {
          "output_type": "execute_result",
          "data": {
            "text/plain": [
              "13990.482080000002"
            ]
          },
          "metadata": {
            "tags": []
          },
          "execution_count": 9
        }
      ]
    },
    {
      "cell_type": "code",
      "metadata": {
        "id": "YmjD3k2jN_sz",
        "colab_type": "code",
        "colab": {}
      },
      "source": [
        "us_growth = us.gdpPerCapita / us.gdpPerCapita.iloc[0] * 100\n",
        "china_growth = china.gdpPerCapita / china.gdpPerCapita.iloc[0] * 100\n"
      ],
      "execution_count": 0,
      "outputs": []
    },
    {
      "cell_type": "code",
      "metadata": {
        "id": "Bq13HhWIAdIq",
        "colab_type": "code",
        "colab": {
          "base_uri": "https://localhost:8080/",
          "height": 118
        },
        "outputId": "93a23f87-2ebe-4c64-c6aa-a00532a1f3e3"
      },
      "source": [
        "us_growth.head()"
      ],
      "execution_count": 11,
      "outputs": [
        {
          "output_type": "execute_result",
          "data": {
            "text/plain": [
              "1608    100.000000\n",
              "1609    106.123056\n",
              "1610    115.601062\n",
              "1611    139.597517\n",
              "1612    155.863364\n",
              "Name: gdpPerCapita, dtype: float64"
            ]
          },
          "metadata": {
            "tags": []
          },
          "execution_count": 11
        }
      ]
    },
    {
      "cell_type": "code",
      "metadata": {
        "id": "j26BS0y9Ajqd",
        "colab_type": "code",
        "colab": {
          "base_uri": "https://localhost:8080/",
          "height": 118
        },
        "outputId": "263dc1da-92d2-49b3-85c4-ec7bfe1a3569"
      },
      "source": [
        "china_growth.head()"
      ],
      "execution_count": 12,
      "outputs": [
        {
          "output_type": "execute_result",
          "data": {
            "text/plain": [
              "288    100.000000\n",
              "289    143.835435\n",
              "290    121.781923\n",
              "291    153.004824\n",
              "292    169.035445\n",
              "Name: gdpPerCapita, dtype: float64"
            ]
          },
          "metadata": {
            "tags": []
          },
          "execution_count": 12
        }
      ]
    },
    {
      "cell_type": "code",
      "metadata": {
        "id": "hue2r7GaOPWx",
        "colab_type": "code",
        "outputId": "6549ea17-231a-4279-b871-2b4a2ac1b720",
        "colab": {
          "base_uri": "https://localhost:8080/",
          "height": 295
        }
      },
      "source": [
        "plt.plot(us.year, us_growth)\n",
        "plt.plot(china.year, china_growth)\n",
        "plt.xlabel('Year')\n",
        "plt.ylabel('GDP Per Capita growth')\n",
        "plt.title('GDP Per Capita Growth in US and China (first Year = 100)')\n",
        "plt.legend(['GDP Per Capita growth in US', 'GDP Per Capita growth in China'])\n",
        "plt.show()"
      ],
      "execution_count": 13,
      "outputs": [
        {
          "output_type": "display_data",
          "data": {
            "image/png": "[encoded data removed]",
            "text/plain": [
              "<Figure size 432x288 with 1 Axes>"
            ]
          },
          "metadata": {
            "tags": []
          }
        }
      ]
    },
    {
      "cell_type": "markdown",
      "metadata": {
        "id": "6q2hd9kiP0cf",
        "colab_type": "text"
      },
      "source": [
        "This graph clearly shows that the GDP Per Capita in China has grown much faster than the GDP per Capita in US (relatively)"
      ]
    },
    {
      "cell_type": "code",
      "metadata": {
        "id": "PZZL6q5jPrN1",
        "colab_type": "code",
        "colab": {}
      },
      "source": [
        ""
      ],
      "execution_count": 0,
      "outputs": []
    },
    {
      "cell_type": "markdown",
      "metadata": {
        "id": "H424AVWDP-ZM",
        "colab_type": "text"
      },
      "source": [
        "## Compare Polulation Growth in US and China\n",
        "\n",
        "us ethe population column in the countries.csv data\n",
        "\n",
        "try comparing both the absolute numbers and the relative growth\n",
        "\n",
        "Hint : Divide the population by 1 million (10^6) so that we can get the number in millions instead.\n"
      ]
    },
    {
      "cell_type": "code",
      "metadata": {
        "id": "AKePpAkYQOMU",
        "colab_type": "code",
        "colab": {}
      },
      "source": [
        ""
      ],
      "execution_count": 0,
      "outputs": []
    },
    {
      "cell_type": "code",
      "metadata": {
        "id": "5fq5p2xRQCXD",
        "colab_type": "code",
        "colab": {}
      },
      "source": [
        ""
      ],
      "execution_count": 0,
      "outputs": []
    }
  ]
}